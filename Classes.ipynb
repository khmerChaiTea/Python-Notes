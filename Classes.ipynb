{
 "cells": [
  {
   "cell_type": "markdown",
   "id": "7b77c1ed",
   "metadata": {},
   "source": [
    "Classes"
   ]
  },
  {
   "cell_type": "code",
   "execution_count": 1,
   "id": "5c785a7b",
   "metadata": {},
   "outputs": [],
   "source": [
    "class counter:\n",
    "    \n",
    "    def __init__(self):\n",
    "        self.count = 0\n",
    "    \n",
    "    def increment(self):\n",
    "        self.count += 1\n",
    "     \n",
    "    def decrement(self):\n",
    "        self.count -= 1\n",
    "    \n",
    "    def get(self):\n",
    "        print(\"Ther current value of count is\",self.count)"
   ]
  },
  {
   "cell_type": "code",
   "execution_count": 2,
   "id": "7e7727b1",
   "metadata": {},
   "outputs": [
    {
     "name": "stdout",
     "output_type": "stream",
     "text": [
      "Ther current value of count is 0\n"
     ]
    }
   ],
   "source": [
    "joe = counter()\n",
    "joe.get()"
   ]
  },
  {
   "cell_type": "code",
   "execution_count": 3,
   "id": "ba554780",
   "metadata": {},
   "outputs": [
    {
     "name": "stdout",
     "output_type": "stream",
     "text": [
      "Ther current value of count is 1\n"
     ]
    }
   ],
   "source": [
    "joe.increment()\n",
    "joe.get()"
   ]
  },
  {
   "cell_type": "code",
   "execution_count": 4,
   "id": "828bbf72",
   "metadata": {},
   "outputs": [
    {
     "name": "stdout",
     "output_type": "stream",
     "text": [
      "Ther current value of count is 26\n"
     ]
    }
   ],
   "source": [
    "for i in range(25):\n",
    "    joe.increment()\n",
    "    \n",
    "joe.get()"
   ]
  },
  {
   "cell_type": "code",
   "execution_count": 5,
   "id": "91893276",
   "metadata": {},
   "outputs": [
    {
     "name": "stdout",
     "output_type": "stream",
     "text": [
      "Ther current value of count is 25\n"
     ]
    }
   ],
   "source": [
    "joe.decrement()\n",
    "joe.get()"
   ]
  },
  {
   "cell_type": "code",
   "execution_count": 6,
   "id": "353698ab",
   "metadata": {},
   "outputs": [
    {
     "name": "stdout",
     "output_type": "stream",
     "text": [
      "x-coordinate = 0\n",
      "y-coordinate = 0\n"
     ]
    }
   ],
   "source": [
    "class Point:\n",
    "    \n",
    "    def __init__(self):\n",
    "        self.x = 0\n",
    "        self.y = 0\n",
    "        \n",
    "    def coordinates(self):\n",
    "        print(f'x-coordinate = {self.x}')\n",
    "        print(f'y-coordinate = {self.y}')\n",
    "\n",
    "P1 = Point()\n",
    "P1.coordinates()"
   ]
  },
  {
   "cell_type": "code",
   "execution_count": 7,
   "id": "3d58ed07",
   "metadata": {},
   "outputs": [
    {
     "name": "stdout",
     "output_type": "stream",
     "text": [
      "x-coordinate = 1\n",
      "y-coordinate = 3\n"
     ]
    }
   ],
   "source": [
    "class Point:\n",
    "    \n",
    "    def __init__(self):\n",
    "        self.x = 0\n",
    "        self.y = 0\n",
    "        \n",
    "    def coordinates(self):\n",
    "        print(f'x-coordinate = {self.x}')\n",
    "        print(f'y-coordinate = {self.y}')\n",
    "        \n",
    "    def move(self, delta_x, delta_y):\n",
    "        self.x = self.x + delta_x\n",
    "        self.y = self.y + delta_y\n",
    "\n",
    "P1 = Point()\n",
    "P1.move(1,3)\n",
    "P1.coordinates()"
   ]
  },
  {
   "cell_type": "code",
   "execution_count": 8,
   "id": "4e1fa141",
   "metadata": {},
   "outputs": [
    {
     "name": "stdout",
     "output_type": "stream",
     "text": [
      "x-coordinate = 2\n",
      "y-coordinate = 4\n",
      "x-coordinate = 3\n",
      "y-coordinate = 5\n"
     ]
    }
   ],
   "source": [
    "class Point:\n",
    "    \n",
    "    def __init__(self,x = 0, y = 0):\n",
    "        self.x = x\n",
    "        self.y = y\n",
    "        \n",
    "    def coordinates(self):\n",
    "        print(f'x-coordinate = {self.x}')\n",
    "        print(f'y-coordinate = {self.y}')\n",
    "        \n",
    "    def move(self, delta_x, delta_y):\n",
    "        self.x = self.x + delta_x\n",
    "        self.y = self.y + delta_y\n",
    "\n",
    "p1 = Point(2,4)\n",
    "p1.coordinates()\n",
    "p1.move(1,1)\n",
    "p1.coordinates()"
   ]
  },
  {
   "cell_type": "code",
   "execution_count": 9,
   "id": "b13605e8",
   "metadata": {},
   "outputs": [
    {
     "name": "stdout",
     "output_type": "stream",
     "text": [
      "1.4142135623730951\n"
     ]
    }
   ],
   "source": [
    "import math\n",
    "\n",
    "class Point:\n",
    "   \n",
    "    def __init__(self, x = 0, y = 0):\n",
    "        # Create a new point at the origin \n",
    "        self.x = x\n",
    "        self.y = y\n",
    "        \n",
    "    def coordinates(self):\n",
    "        print(f'x-coordinate = {self.x}')\n",
    "        print(f'y-coordinate = {self.y}')\n",
    "        \n",
    "    def move(self, delta_x, delta_y):\n",
    "        self.x = self.x + delta_x\n",
    "        self.y = self.y + delta_y\n",
    "        \n",
    "    def distance(self, other):\n",
    "        ssq = (self.x - other.x)**2 + (self.y - other.y)**2\n",
    "        return math.sqrt(ssq)\n",
    "    \n",
    "p1 = Point()       \n",
    "p2 = Point(1,1)\n",
    "\n",
    "print(p1.distance(p2))"
   ]
  },
  {
   "cell_type": "code",
   "execution_count": 11,
   "id": "cdd0da24",
   "metadata": {},
   "outputs": [
    {
     "name": "stdout",
     "output_type": "stream",
     "text": [
      "True\n",
      "False\n"
     ]
    }
   ],
   "source": [
    "class Point:\n",
    "    \n",
    "    def __init__(self, x = 0, y = 0):\n",
    "        self.x = x\n",
    "        self.y = y\n",
    "        \n",
    "    def coordinates(self):\n",
    "        print(f'x-coordinate = {self.x}')\n",
    "        print(f'y-coordinate = {self.y}')\n",
    "        \n",
    "    def move(self, delta_x, delta_y):\n",
    "        self.x = self.x + delta_x\n",
    "        self.y = self.y + delta_y\n",
    "        \n",
    "    def __eq__(self, other):\n",
    "        return self.x == other.x and self.y == other.y\n",
    "\n",
    "p1 = Point(1,1)\n",
    "p2 = Point(1,1)\n",
    "p3 = Point(1,2)\n",
    "\n",
    "print(p1 == p2)\n",
    "print(p1 == p3)"
   ]
  },
  {
   "cell_type": "code",
   "execution_count": null,
   "id": "c7df9ab4",
   "metadata": {},
   "outputs": [],
   "source": []
  }
 ],
 "metadata": {
  "kernelspec": {
   "display_name": "Python 3 (ipykernel)",
   "language": "python",
   "name": "python3"
  },
  "language_info": {
   "codemirror_mode": {
    "name": "ipython",
    "version": 3
   },
   "file_extension": ".py",
   "mimetype": "text/x-python",
   "name": "python",
   "nbconvert_exporter": "python",
   "pygments_lexer": "ipython3",
   "version": "3.11.7"
  }
 },
 "nbformat": 4,
 "nbformat_minor": 5
}
