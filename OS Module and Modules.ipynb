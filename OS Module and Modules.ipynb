{
 "cells": [
  {
   "cell_type": "raw",
   "id": "7d44f32e",
   "metadata": {},
   "source": [
    "+ os.getcwd()                            => get current working directory\n",
    "+ os.chdir(<path>)                       => change directory \n",
    "+ os.listdir()\t                         => list directory\n",
    "+ os.mkdir(<dirname>)                    => create a directory\n",
    "+ os.makedirs(<dirname>)                 => make directories recursively\n",
    "+ os.rmdir(<dirname>)\t                 => remove directory\n",
    "+ os.removedirs(<dirname>)               => remove directory recursively\n",
    "+ os.rename(<from>, <to>)                => rename file\n",
    "+ os.stat(<filename>)                    => print all info of a file\n",
    "+ os.walk(<path>)\t                     => traverse directory recursively\n",
    "+ os.environ\t\t                     => get environment variables\n",
    "+ os.path.join(<path>, <file>)           => join path without worrying about /\n",
    "+ os.path.basename(<filename>)           => get basename\n",
    "+ os.path.dirname(<filename>)            => get dirname\n",
    "+ os.path.exists(<path-to-file>)         => check if the path exists or not\n",
    "+ os.path.splitext(<path-to-file>)       => split path and file extension\n",
    "+ dir(os)\t\t\t                     => check what methods exists"
   ]
  },
  {
   "cell_type": "raw",
   "id": "5ac9bea7",
   "metadata": {},
   "source": [
    "Modules\n",
    "The Agenda\n",
    "Demonstrate the most common usage: Use a module in the standard library or builtins.\n",
    "\n",
    "import xxxx versus from xxxx import yyyy.\n",
    "\n",
    "What is in the standard library?\n",
    "\n",
    "The sys module\n",
    "\n",
    "The os module\n",
    "\n",
    "PyPi\n",
    "\n",
    "Get familiar with ChatGPT\n",
    "\n",
    "Use chatGPT to get information about a package."
   ]
  },
  {
   "cell_type": "raw",
   "id": "58360101",
   "metadata": {},
   "source": [
    "Accessing a math Function\n",
    "There are three ways. All assume that you have imported the math module."
   ]
  },
  {
   "cell_type": "code",
   "execution_count": 1,
   "id": "0b918b37",
   "metadata": {},
   "outputs": [],
   "source": [
    "import math"
   ]
  },
  {
   "cell_type": "raw",
   "id": "e6f53e4b",
   "metadata": {},
   "source": [
    "Method 1\n",
    "Precede the name of the function with math."
   ]
  },
  {
   "cell_type": "code",
   "execution_count": 2,
   "id": "681712cd",
   "metadata": {},
   "outputs": [
    {
     "name": "stdout",
     "output_type": "stream",
     "text": [
      "1.4142135623730951\n"
     ]
    }
   ],
   "source": [
    "print(math.sqrt(2))"
   ]
  },
  {
   "cell_type": "raw",
   "id": "40d89e28",
   "metadata": {},
   "source": [
    "Method 2\n",
    "Give the module an alias when you import it, such as m. Then use m. instead of math."
   ]
  },
  {
   "cell_type": "code",
   "execution_count": 3,
   "id": "7a563cef",
   "metadata": {},
   "outputs": [
    {
     "name": "stdout",
     "output_type": "stream",
     "text": [
      "1.4142135623730951\n"
     ]
    }
   ],
   "source": [
    "import math as m\n",
    "print(m.sqrt(2))"
   ]
  },
  {
   "cell_type": "raw",
   "id": "0903c4ab",
   "metadata": {},
   "source": [
    "Method 3\n",
    "Use the syntax \"from module name import function name\". Then use the name of the function by itself."
   ]
  },
  {
   "cell_type": "code",
   "execution_count": 4,
   "id": "4f4e6b23",
   "metadata": {},
   "outputs": [
    {
     "name": "stdout",
     "output_type": "stream",
     "text": [
      "1.4142135623730951\n"
     ]
    }
   ],
   "source": [
    "from math import sqrt\n",
    "print(sqrt(2))"
   ]
  },
  {
   "cell_type": "raw",
   "id": "20dbbd5a",
   "metadata": {},
   "source": [
    "What's in the math Module?"
   ]
  },
  {
   "cell_type": "code",
   "execution_count": 5,
   "id": "000be587",
   "metadata": {},
   "outputs": [
    {
     "name": "stdout",
     "output_type": "stream",
     "text": [
      "There are 65 functions and/or constants in math\n",
      " \n",
      "['__doc__', '__loader__', '__name__', '__package__', '__spec__', 'acos', 'acosh', 'asin', 'asinh', 'atan', 'atan2', 'atanh', 'cbrt', 'ceil', 'comb', 'copysign', 'cos', 'cosh', 'degrees', 'dist', 'e', 'erf', 'erfc', 'exp', 'exp2', 'expm1', 'fabs', 'factorial', 'floor', 'fmod', 'frexp', 'fsum', 'gamma', 'gcd', 'hypot', 'inf', 'isclose', 'isfinite', 'isinf', 'isnan', 'isqrt', 'lcm', 'ldexp', 'lgamma', 'log', 'log10', 'log1p', 'log2', 'modf', 'nan', 'nextafter', 'perm', 'pi', 'pow', 'prod', 'radians', 'remainder', 'sin', 'sinh', 'sqrt', 'tan', 'tanh', 'tau', 'trunc', 'ulp']\n"
     ]
    }
   ],
   "source": [
    "import math\n",
    "math_list = dir(math)\n",
    "print(f'There are {len(math_list)} functions and/or constants in math')\n",
    "print(' ')\n",
    "print(math_list)"
   ]
  },
  {
   "cell_type": "raw",
   "id": "7213c082",
   "metadata": {},
   "source": [
    "What's in the Standard Library?\n",
    "https://docs.python.org/3/library/index.html"
   ]
  },
  {
   "cell_type": "raw",
   "id": "ea7a4753",
   "metadata": {},
   "source": [
    "Seaching for a name\n",
    "When you run the command import name, where does python search for name? Examine the contents of sys.path."
   ]
  },
  {
   "cell_type": "code",
   "execution_count": 6,
   "id": "5a347232",
   "metadata": {},
   "outputs": [
    {
     "name": "stdout",
     "output_type": "stream",
     "text": [
      "There are 10 folders in the search path\n",
      "C:\\Users\\premp\\Documents\\Python Files\\Python Study Notes\n",
      "C:\\Users\\premp\\anaconda3\\python311.zip\n",
      "C:\\Users\\premp\\anaconda3\\DLLs\n",
      "C:\\Users\\premp\\anaconda3\\Lib\n",
      "C:\\Users\\premp\\anaconda3\n",
      "\n",
      "C:\\Users\\premp\\anaconda3\\Lib\\site-packages\n",
      "C:\\Users\\premp\\anaconda3\\Lib\\site-packages\\win32\n",
      "C:\\Users\\premp\\anaconda3\\Lib\\site-packages\\win32\\lib\n",
      "C:\\Users\\premp\\anaconda3\\Lib\\site-packages\\Pythonwin\n"
     ]
    }
   ],
   "source": [
    "import sys\n",
    "the_list = sys.path\n",
    "print(f'There are {len(the_list)} folders in the search path' )\n",
    "\n",
    "for i in the_list:\n",
    "    print(i)"
   ]
  },
  {
   "cell_type": "raw",
   "id": "aab494af",
   "metadata": {},
   "source": [
    "See https://sharegpt.com/c/oWDWerV"
   ]
  },
  {
   "cell_type": "code",
   "execution_count": 7,
   "id": "74a1b3a8",
   "metadata": {},
   "outputs": [
    {
     "name": "stdout",
     "output_type": "stream",
     "text": [
      "['C:\\\\Users\\\\premp\\\\Documents\\\\Python Files\\\\Python Study Notes', 'C:\\\\Users\\\\premp\\\\anaconda3\\\\python311.zip', 'C:\\\\Users\\\\premp\\\\anaconda3\\\\DLLs', 'C:\\\\Users\\\\premp\\\\anaconda3\\\\Lib', 'C:\\\\Users\\\\premp\\\\anaconda3', '', 'C:\\\\Users\\\\premp\\\\anaconda3\\\\Lib\\\\site-packages', 'C:\\\\Users\\\\premp\\\\anaconda3\\\\Lib\\\\site-packages\\\\win32', 'C:\\\\Users\\\\premp\\\\anaconda3\\\\Lib\\\\site-packages\\\\win32\\\\lib', 'C:\\\\Users\\\\premp\\\\anaconda3\\\\Lib\\\\site-packages\\\\Pythonwin']\n"
     ]
    }
   ],
   "source": [
    "print(repr(sys.path))"
   ]
  },
  {
   "cell_type": "raw",
   "id": "6321c99d",
   "metadata": {},
   "source": [
    "Watch\n",
    "Corey Schafer on the os module.\n",
    "\n",
    "https://www.youtube.com/watch?v=tJxcKyFMTGo&t=718s"
   ]
  },
  {
   "cell_type": "raw",
   "id": "f7a88870",
   "metadata": {},
   "source": [
    "Where are you?\n",
    "Locate your current working directory."
   ]
  },
  {
   "cell_type": "code",
   "execution_count": 8,
   "id": "012bd5bf",
   "metadata": {},
   "outputs": [
    {
     "name": "stdout",
     "output_type": "stream",
     "text": [
      "C:\\Users\\premp\\Documents\\Python Files\\Python Study Notes\n"
     ]
    }
   ],
   "source": [
    "import os\n",
    "print(os.getcwd())"
   ]
  },
  {
   "cell_type": "raw",
   "id": "524a75c8",
   "metadata": {},
   "source": [
    "Examine site-packages\n",
    "Use the commands in the os module."
   ]
  },
  {
   "cell_type": "raw",
   "id": "01deb9bd",
   "metadata": {},
   "source": [
    "print(the_list[5])\n",
    "os.chdir(the_list[5])\n",
    "os.getcwd()\n",
    "os.listdir()"
   ]
  },
  {
   "cell_type": "raw",
   "id": "cc4b0f94",
   "metadata": {},
   "source": [
    "/Library/Frameworks/Python.framework/Versions/3.10/lib/python3.10/site-packages\n",
    "['fastjsonschema',\n",
    " 'appnope',\n",
    " 'packaging',\n",
    " 'appnope-0.1.3.dist-info',\n",
    " 'decorator-5.1.1.dist-info',\n",
    " 'terminado-0.15.0.dist-info',\n",
    " 'beautifulsoup4-4.11.1.dist-info',\n",
    " 'wcwidth',\n",
    " 'numpy-1.23.5.dist-info',\n",
    " 'Jinja2-3.1.2.dist-info',\n",
    " 'markupsafe',\n",
    " 'jupyter_core',\n",
    " 'psutil-5.9.1.dist-info',\n",
    " 'pandocfilters-1.5.0.dist-info',\n",
    " 'pyfiglet-0.8.post1.dist-info',\n",
    " 'ptyprocess-0.7.0.dist-info',\n",
    " 'widgetsnbextension',\n",
    " 'Pygments-2.13.0.dist-info',\n",
    " 'webencodings',\n",
    " 'nbformat-5.4.0.dist-info',\n",
    " 'backcall',\n",
    " 'jupyterlab_widgets-3.0.2.dist-info',\n",
    " 'defusedxml',\n",
    " 'nbformat',\n",
    " 'mistune',\n",
    " 'webencodings-0.5.1.dist-info',\n",
    " 'attrs',\n",
    " 'pyrsistent',\n",
    " 'python_dateutil-2.8.2.dist-info',\n",
    " 'bleach',\n",
    " 'pygments',\n",
    " 'pure_eval',\n",
    " 'entrypoints-0.4.dist-info',\n",
    " 'pycparser',\n",
    " 'soupsieve-2.3.2.post1.dist-info',\n",
    " 'pylab.py',\n",
    " 'defusedxml-0.7.1.dist-info',\n",
    " 'ipywidgets',\n",
    " 'notebook-6.4.12.dist-info',\n",
    " 'argon2',\n",
    " 'jedi-0.18.1.dist-info',\n",
    " 'pyrsistent-0.18.1.dist-info',\n",
    " 'prompt_toolkit-3.0.30.dist-info',\n",
    " 'pyparsing',\n",
    " 'debugpy',\n",
    " 'pickleshare-0.7.5.dist-info',\n",
    " 'stack_data',\n",
    " 'seaborn-0.12.1.dist-info',\n",
    " 'jinja2',\n",
    " 'Pillow-9.3.0.dist-info',\n",
    " 'IPython',\n",
    " 'soupsieve',\n",
    " 'asttokens-2.0.8.dist-info',\n",
    " 'Send2Trash-1.8.0.dist-info',\n",
    " 'jupyter_client',\n",
    " 'parso-0.8.3.dist-info',\n",
    " 'pandas-1.5.1.dist-info',\n",
    " 'seaborn',\n",
    " 'six-1.16.0.dist-info',\n",
    " 'decorator.py',\n",
    " '_cffi_backend.cpython-310-darwin.so',\n",
    " 'kiwisolver-1.4.4.dist-info',\n",
    " 'jsonschema-4.14.0.dist-info',\n",
    " 'setuptools-63.2.0.dist-info',\n",
    " 'cffi',\n",
    " 'bleach-5.0.1.dist-info',\n",
    " 'executing',\n",
    " 'matplotlib-3.6.2.dist-info',\n",
    " 'ipykernel_launcher.py',\n",
    " 'pyfiglet',\n",
    " 'matplotlib_inline',\n",
    " 'jedi',\n",
    " 'fastjsonschema-2.16.1.dist-info',\n",
    " 'certifi-2022.6.15.dist-info',\n",
    " 'send2trash',\n",
    " 'QtPy-2.2.0.dist-info',\n",
    " 'fonttools-4.38.0.dist-info',\n",
    " 'ipython_genutils',\n",
    " 'tinycss2-1.1.1.dist-info',\n",
    " 'matplotlib-3.6.2-py3.10-nspkg.pth',\n",
    " 'fontTools',\n",
    " 'argon2_cffi-21.3.0.dist-info',\n",
    " 'jupyter_core-4.11.1.dist-info',\n",
    " '_argon2_cffi_bindings',\n",
    " 'bs4',\n",
    " 'MarkupSafe-2.1.1.dist-info',\n",
    " 'pickleshare.py',\n",
    " 'ipykernel-6.15.2.dist-info',\n",
    " 'nbclient-0.6.7.dist-info',\n",
    " 'mpl_toolkits',\n",
    " 'pytz',\n",
    " 'pytz-2022.6.dist-info',\n",
    " '__pycache__',\n",
    " 'nbclient',\n",
    " 'numpy',\n",
    " 'jupyterlab_pygments',\n",
    " 'pycparser-2.21.dist-info',\n",
    " 'executing-1.0.0.dist-info',\n",
    " 'PIL',\n",
    " 'pure_eval-0.2.2.dist-info',\n",
    " 'backcall-0.2.0.dist-info',\n",
    " 'pip',\n",
    " 'cycler-0.11.0.dist-info',\n",
    " 'tornado',\n",
    " 'pvectorc.cpython-310-darwin.so',\n",
    " 'nest_asyncio-1.5.5.dist-info',\n",
    " 'contourpy',\n",
    " 'traitlets-5.3.0.dist-info',\n",
    " 'matplotlib_inline-0.1.6.dist-info',\n",
    " 'nbconvert-7.0.0.dist-info',\n",
    " 'certifi',\n",
    " 'prompt_toolkit',\n",
    " 'pandocfilters.py',\n",
    " 'distutils-precedence.pth',\n",
    " 'ipython_genutils-0.2.0.dist-info',\n",
    " 'attr',\n",
    " 'pexpect',\n",
    " 'jsonschema',\n",
    " 'jupyter_console',\n",
    " 'mistune-2.0.4.dist-info',\n",
    " 'widgetsnbextension-4.0.2.dist-info',\n",
    " 'jupyterlab_pygments-0.2.2.dist-info',\n",
    " 'kiwisolver',\n",
    " 'jupyter-1.0.0.dist-info',\n",
    " 'entrypoints.py',\n",
    " 'ipywidgets-8.0.1.dist-info',\n",
    " 'ptyprocess',\n",
    " 'six.py',\n",
    " 'tinycss2',\n",
    " 'pexpect-4.8.0.dist-info',\n",
    " 'cycler.py',\n",
    " 'cffi-1.15.1.dist-info',\n",
    " 'matplotlib',\n",
    " 'pip-22.2.2.dist-info',\n",
    " 'prometheus_client',\n",
    " 'qtconsole',\n",
    " 'README.txt',\n",
    " 'attrs-22.1.0.dist-info',\n",
    " 'wcwidth-0.2.5.dist-info',\n",
    " 'pyzmq-23.2.1.dist-info',\n",
    " 'nbconvert',\n",
    " 'stack_data-0.5.0.dist-info',\n",
    " 'debugpy-1.6.3.dist-info',\n",
    " 'asttokens',\n",
    " 'argon2_cffi_bindings-21.2.0.dist-info',\n",
    " 'setuptools',\n",
    " 'pkg_resources',\n",
    " 'notebook',\n",
    " '_distutils_hack',\n",
    " '_pyrsistent_version.py',\n",
    " 'terminado',\n",
    " 'tornado-6.2.dist-info',\n",
    " 'jupyter_client-7.3.5.dist-info',\n",
    " 'parso',\n",
    " 'ipython-8.4.0.dist-info',\n",
    " 'contourpy-1.0.6.dist-info',\n",
    " 'psutil',\n",
    " 'traitlets',\n",
    " 'lxml-4.9.1-py3.10.egg-info',\n",
    " 'jupyter_console-6.4.4.dist-info',\n",
    " 'prometheus_client-0.14.1.dist-info',\n",
    " 'lxml',\n",
    " 'zmq',\n",
    " 'packaging-21.3.dist-info',\n",
    " 'qtpy',\n",
    " 'pyparsing-3.0.9.dist-info',\n",
    " 'ipykernel',\n",
    " 'qtconsole-5.3.2.dist-info',\n",
    " 'pandas',\n",
    " 'dateutil',\n",
    " 'nest_asyncio.py',\n",
    " 'jupyterlab_widgets',\n",
    " 'jupyter.py']"
   ]
  },
  {
   "cell_type": "raw",
   "id": "30cd5237",
   "metadata": {},
   "source": [
    "Popular in PyPi\n",
    "https://pypistats.org/top\n",
    "\n",
    "Pick a Package\n",
    "Then use ChatGPT to learn about it. Be prepared to show what you learned.\n",
    "Popular in PyPi\n",
    "https://pypistats.org/top"
   ]
  },
  {
   "cell_type": "raw",
   "id": "425f93af",
   "metadata": {},
   "source": [
    "numpy\n",
    "I selected numpy, and this is the conversation with ChatGPT.\n",
    "\n",
    "https://sharegpt.com/c/stpcwOz"
   ]
  },
  {
   "cell_type": "code",
   "execution_count": null,
   "id": "8f5529fc",
   "metadata": {},
   "outputs": [],
   "source": []
  }
 ],
 "metadata": {
  "kernelspec": {
   "display_name": "Python 3 (ipykernel)",
   "language": "python",
   "name": "python3"
  },
  "language_info": {
   "codemirror_mode": {
    "name": "ipython",
    "version": 3
   },
   "file_extension": ".py",
   "mimetype": "text/x-python",
   "name": "python",
   "nbconvert_exporter": "python",
   "pygments_lexer": "ipython3",
   "version": "3.11.7"
  }
 },
 "nbformat": 4,
 "nbformat_minor": 5
}
