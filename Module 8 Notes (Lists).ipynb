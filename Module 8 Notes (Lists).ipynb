{
 "cells": [
  {
   "cell_type": "markdown",
   "id": "dd6661c3",
   "metadata": {},
   "source": [
    "Lists"
   ]
  },
  {
   "cell_type": "markdown",
   "id": "fdcf6722",
   "metadata": {},
   "source": [
    "Exercise Append and Concatenate\n",
    "What is the difference between appending to a list and concatenation? To answer this question combine two lists in two different ways.\n",
    "\n",
    "Concatenate them using \"+\".\n",
    "Combine them by appending one list to the other."
   ]
  },
  {
   "cell_type": "code",
   "execution_count": 1,
   "id": "e8055dea",
   "metadata": {},
   "outputs": [
    {
     "name": "stdout",
     "output_type": "stream",
     "text": [
      "[1, 2, 3, 4, 5, 6]\n",
      "[1, 2, 3, [4, 5, 6]]\n"
     ]
    }
   ],
   "source": [
    "l1 = [1,2,3]\n",
    "l2 = [4,5,6]\n",
    "\n",
    "l3c = l1 + l2\n",
    "print(l3c)\n",
    "\n",
    "l1.append(l2)\n",
    "print(l1)"
   ]
  },
  {
   "cell_type": "markdown",
   "id": "b6d59b10",
   "metadata": {},
   "source": [
    "Using concatenation, the result (l3c) was a new list containing all of the members of the two lists.\n",
    "\n",
    "The second list became a member of the first list when the second was appended to the first."
   ]
  },
  {
   "cell_type": "markdown",
   "id": "541064cd",
   "metadata": {},
   "source": [
    "Exercise\n",
    "If a list contains another list, what does the len() function return? Does it add up the len() values of the component lists?"
   ]
  },
  {
   "cell_type": "code",
   "execution_count": 2,
   "id": "a56ff17c",
   "metadata": {
    "scrolled": true
   },
   "outputs": [
    {
     "name": "stdout",
     "output_type": "stream",
     "text": [
      "[1, 2, 3, [4, 5, 6]]\n",
      "4\n"
     ]
    }
   ],
   "source": [
    "print(l1)\n",
    "print(len(l1))"
   ]
  },
  {
   "cell_type": "markdown",
   "id": "c2c67e44",
   "metadata": {},
   "source": [
    "Exercise\n",
    "Write a function undup(l). The parameter l is a list. It returns an unduplicated list. In the result, there is one instance of every item in the input list. Test your function with the list [1,2,3,3,4,1,5,5,5]"
   ]
  },
  {
   "cell_type": "code",
   "execution_count": 3,
   "id": "d3150105",
   "metadata": {},
   "outputs": [
    {
     "name": "stdout",
     "output_type": "stream",
     "text": [
      "[1, 2, 3, 4, 5]\n"
     ]
    }
   ],
   "source": [
    "def undup(l):\n",
    "    res = []\n",
    "    for item in l:\n",
    "        if item not in res:\n",
    "            res.append(item)\n",
    "    return res\n",
    "    \n",
    "test_list = [1,2,3,3,4,1,5,5,5]\n",
    "print(undup(test_list))"
   ]
  },
  {
   "cell_type": "markdown",
   "id": "42258d5d",
   "metadata": {},
   "source": [
    "Question\n",
    "What happens if I call undup() on a string instead of a list?"
   ]
  },
  {
   "cell_type": "code",
   "execution_count": 4,
   "id": "b6c27ecb",
   "metadata": {},
   "outputs": [
    {
     "name": "stdout",
     "output_type": "stream",
     "text": [
      "['M', 'a', 'r', 'y', ' ', 'h', 'd', 'l', 'i', 't', 'e', 'm', 'b', '.']\n"
     ]
    }
   ],
   "source": [
    "s = \"Mary had a little lamb.\"\n",
    "\n",
    "print(undup(s))"
   ]
  },
  {
   "cell_type": "markdown",
   "id": "5c7db136",
   "metadata": {},
   "source": [
    "Exercise\n",
    "Write a function numres(nl). It's single parameter is a list of numbers. It returns a list of numbers. The first item in the output list is the count of numbers in the input. The second number is the sum. The third number is the mean."
   ]
  },
  {
   "cell_type": "code",
   "execution_count": 5,
   "id": "f91bc812",
   "metadata": {},
   "outputs": [
    {
     "name": "stdout",
     "output_type": "stream",
     "text": [
      "[5, 15, 3.0]\n"
     ]
    }
   ],
   "source": [
    "def numres(nl):\n",
    "    sum = 0\n",
    "    for n in nl:\n",
    "        sum = sum + n\n",
    "    mean =  sum/len(nl)\n",
    "    return [len(nl),sum, mean]\n",
    "    \n",
    "test_list = [1,2,3,4,5]\n",
    "print(numres(test_list))"
   ]
  },
  {
   "cell_type": "markdown",
   "id": "8f8814fb",
   "metadata": {},
   "source": [
    "Exercise\n",
    "Create a list, xlist. The first item in the list is the number 1. The second item in the list is a list [\"a\",\"b\",[\"x\",\"y\"]]. Print your list to make sure it's OK."
   ]
  },
  {
   "cell_type": "code",
   "execution_count": 6,
   "id": "bada0cf7",
   "metadata": {},
   "outputs": [
    {
     "name": "stdout",
     "output_type": "stream",
     "text": [
      "[1, ['a', 'b', ['x', 'y']]]\n"
     ]
    }
   ],
   "source": [
    "xlist = [1,[\"a\",\"b\",[\"x\",\"y\"]]]\n",
    "\n",
    "print(xlist)"
   ]
  },
  {
   "cell_type": "markdown",
   "id": "e9abc486",
   "metadata": {},
   "source": [
    "Exercise\n",
    "Write code which gets the number 1 from this list and prints it."
   ]
  },
  {
   "cell_type": "code",
   "execution_count": 7,
   "id": "2cba97ac",
   "metadata": {},
   "outputs": [
    {
     "name": "stdout",
     "output_type": "stream",
     "text": [
      "1\n"
     ]
    }
   ],
   "source": [
    "print(xlist[0])"
   ]
  },
  {
   "cell_type": "markdown",
   "id": "8ef2547c",
   "metadata": {},
   "source": [
    "Exercise\n",
    "Write code which gets the letter 'b' from this list and prints it."
   ]
  },
  {
   "cell_type": "code",
   "execution_count": 8,
   "id": "020284a6",
   "metadata": {},
   "outputs": [
    {
     "name": "stdout",
     "output_type": "stream",
     "text": [
      "[1, ['a', 'b', ['x', 'y']]]\n",
      "b\n"
     ]
    }
   ],
   "source": [
    "print(xlist)\n",
    "print(xlist[1][1])"
   ]
  },
  {
   "cell_type": "markdown",
   "id": "b6b79916",
   "metadata": {},
   "source": [
    "Exercise\n",
    "Write code which gets the letter 'y' from this list and prints it."
   ]
  },
  {
   "cell_type": "code",
   "execution_count": 9,
   "id": "735e9ab8",
   "metadata": {},
   "outputs": [
    {
     "name": "stdout",
     "output_type": "stream",
     "text": [
      "[1, ['a', 'b', ['x', 'y']]]\n",
      "y\n"
     ]
    }
   ],
   "source": [
    "print(xlist)\n",
    "print(xlist[1][2][1])"
   ]
  },
  {
   "cell_type": "markdown",
   "id": "efa6df2f",
   "metadata": {},
   "source": [
    "Exercise\n",
    "Google for help on the randint() function and use it to get and print a single random integer between 0 and 100."
   ]
  },
  {
   "cell_type": "code",
   "execution_count": 10,
   "id": "9e08987b",
   "metadata": {},
   "outputs": [
    {
     "name": "stdout",
     "output_type": "stream",
     "text": [
      "40\n"
     ]
    }
   ],
   "source": [
    "import random\n",
    "x = random.randint(0,100)\n",
    "print(x)"
   ]
  },
  {
   "cell_type": "markdown",
   "id": "853ae2cc",
   "metadata": {},
   "source": [
    "Exercise\n",
    "Use randint() to create a list of 20 random integers between 0 and 100. Name the list \"randlist\"."
   ]
  },
  {
   "cell_type": "code",
   "execution_count": 11,
   "id": "319236cd",
   "metadata": {},
   "outputs": [
    {
     "name": "stdout",
     "output_type": "stream",
     "text": [
      "[55, 21, 53, 40, 44, 7, 10, 41, 47, 83, 73, 99, 9, 11, 93, 70, 52, 64, 66, 60]\n"
     ]
    }
   ],
   "source": [
    "randlist = []\n",
    "for i in range(20):\n",
    "    randlist.append(random.randint(0,100))\n",
    "print(randlist)"
   ]
  },
  {
   "cell_type": "markdown",
   "id": "ca4b4c60",
   "metadata": {},
   "source": [
    "Exercise\n",
    "Sort and print the list you created in the last problem. Use the list method sort()."
   ]
  },
  {
   "cell_type": "code",
   "execution_count": 12,
   "id": "7a343525",
   "metadata": {},
   "outputs": [
    {
     "name": "stdout",
     "output_type": "stream",
     "text": [
      "[7, 9, 10, 11, 21, 40, 41, 44, 47, 52, 53, 55, 60, 64, 66, 70, 73, 83, 93, 99]\n"
     ]
    }
   ],
   "source": [
    "randlist.sort()\n",
    "print(randlist)"
   ]
  },
  {
   "cell_type": "markdown",
   "id": "8374fe34",
   "metadata": {},
   "source": [
    "Exercise\n",
    "What happens if you use the sort() method on the right side of an assignment statement?"
   ]
  },
  {
   "cell_type": "code",
   "execution_count": 13,
   "id": "2da72468",
   "metadata": {},
   "outputs": [
    {
     "name": "stdout",
     "output_type": "stream",
     "text": [
      "None\n"
     ]
    }
   ],
   "source": [
    "sorted_list = randlist.sort()\n",
    "print(sorted_list)"
   ]
  },
  {
   "cell_type": "markdown",
   "id": "07a6b447",
   "metadata": {},
   "source": [
    "The sort method is void."
   ]
  },
  {
   "cell_type": "markdown",
   "id": "91058122",
   "metadata": {},
   "source": [
    "Exercise\n",
    "What about append()?"
   ]
  },
  {
   "cell_type": "code",
   "execution_count": 14,
   "id": "3b60588a",
   "metadata": {},
   "outputs": [
    {
     "name": "stdout",
     "output_type": "stream",
     "text": [
      "None\n",
      "[7, 9, 10, 11, 21, 40, 41, 44, 47, 52, 53, 55, 60, 64, 66, 70, 73, 83, 93, 99, 150]\n"
     ]
    }
   ],
   "source": [
    "bigger = randlist.append(150)\n",
    "print(bigger)\n",
    "print(randlist)"
   ]
  },
  {
   "cell_type": "markdown",
   "id": "3772966e",
   "metadata": {},
   "source": [
    "Note that the append actually succeeded, but on randlist itself."
   ]
  },
  {
   "cell_type": "markdown",
   "id": "0820a8ac",
   "metadata": {},
   "source": [
    "Exercise\n",
    "Create a function how_many_a_in_li with two parameters a and li. The parameter a is a single object of any type. The parameter li is a list. The function returns the number of times the object a is found in the list li. Test your function by setting li equal to [1,2,2,3,2,4] and a to 2."
   ]
  },
  {
   "cell_type": "code",
   "execution_count": 15,
   "id": "0cc343f8",
   "metadata": {},
   "outputs": [],
   "source": [
    "def how_many_a_in_li(a,li):\n",
    "    count = 0\n",
    "    for item in li:\n",
    "        if a == item:\n",
    "            count = count + 1\n",
    "    return count"
   ]
  },
  {
   "cell_type": "code",
   "execution_count": 16,
   "id": "ce363542",
   "metadata": {},
   "outputs": [
    {
     "data": {
      "text/plain": [
       "3"
      ]
     },
     "execution_count": 16,
     "metadata": {},
     "output_type": "execute_result"
    }
   ],
   "source": [
    "# Test\n",
    "\n",
    "test_list = [1,2,2,3,2,4]\n",
    "look_for = 2\n",
    "\n",
    "how_many_a_in_li(look_for,test_list)"
   ]
  },
  {
   "cell_type": "markdown",
   "id": "3de20d34",
   "metadata": {},
   "source": [
    "Exercise\n",
    "Test the function again using the string \"Mary had a little lamb\" as the second argument. Count the number of times the letter 'a' appeared in this string. Does it matter that the second argument is a string, not a list?"
   ]
  },
  {
   "cell_type": "code",
   "execution_count": 17,
   "id": "e7d44768",
   "metadata": {},
   "outputs": [
    {
     "name": "stdout",
     "output_type": "stream",
     "text": [
      "4\n"
     ]
    }
   ],
   "source": [
    "s = \"Mary had a little lamb\"\n",
    "print(how_many_a_in_li(\"a\",s))"
   ]
  },
  {
   "cell_type": "markdown",
   "id": "94482177",
   "metadata": {},
   "source": [
    "No. I wrote the function thinking of b as a list, but the only restrictions on argument types are imposed by the usage of the parameter within the body of the function."
   ]
  },
  {
   "cell_type": "markdown",
   "id": "a6d6d44c",
   "metadata": {},
   "source": [
    "Task 1\n",
    "Use a for loop to create the following list of tuples.\n",
    "\n",
    "[\n",
    "(\n",
    "1\n",
    ",\n",
    "1\n",
    ")\n",
    ",\n",
    "(\n",
    "2.4\n",
    ")\n",
    ",\n",
    ".\n",
    ".\n",
    ".\n",
    ",\n",
    "(\n",
    "10\n",
    ",\n",
    "100\n",
    ")\n",
    "]"
   ]
  },
  {
   "cell_type": "code",
   "execution_count": 18,
   "id": "a688c242",
   "metadata": {},
   "outputs": [
    {
     "name": "stdout",
     "output_type": "stream",
     "text": [
      "[(1, 1), (2, 4), (3, 9), (4, 16), (5, 25), (6, 36), (7, 49), (8, 64), (9, 81), (10, 100)]\n"
     ]
    }
   ],
   "source": [
    "the_list = []\n",
    "for i in range(10):\n",
    "    the_list.append((i + 1, (i + 1)**2))\n",
    "\n",
    "print(the_list)"
   ]
  },
  {
   "cell_type": "markdown",
   "id": "4e194710",
   "metadata": {},
   "source": [
    "Task 2\n",
    "Repeat Task 1 using a list comprehension."
   ]
  },
  {
   "cell_type": "code",
   "execution_count": 19,
   "id": "0c593f81",
   "metadata": {},
   "outputs": [
    {
     "name": "stdout",
     "output_type": "stream",
     "text": [
      "[(1, 1), (2, 4), (3, 9), (4, 16), (5, 25), (6, 36), (7, 49), (8, 64), (9, 81), (10, 100)]\n"
     ]
    }
   ],
   "source": [
    "the_list = [(i + 1, (i + 1)**2) for i in range(10)]\n",
    "print(the_list)"
   ]
  },
  {
   "cell_type": "markdown",
   "id": "9bcd01cf",
   "metadata": {},
   "source": [
    "Task 3\n",
    "You have a list of lists, lol. Produce a list of tuples, lot. The first item in each tuple is the first item in the corresponding list. The second item in each tuple is the last item in the corresponding list.\n",
    "\n",
    "Test your code with the following list.\n",
    "\n",
    "[\n",
    "[\n",
    "1\n",
    ",\n",
    "2\n",
    ",\n",
    "3\n",
    "]\n",
    ",\n",
    "[\n",
    "4\n",
    ",\n",
    "5\n",
    ",\n",
    "6\n",
    "]\n",
    ",\n",
    "[\n",
    "7\n",
    "]\n",
    ",\n",
    "[\n",
    "8\n",
    ",\n",
    "9\n",
    ",\n",
    "10\n",
    ",\n",
    "11\n",
    "]\n",
    "]"
   ]
  },
  {
   "cell_type": "code",
   "execution_count": 20,
   "id": "0036deb7",
   "metadata": {},
   "outputs": [
    {
     "name": "stdout",
     "output_type": "stream",
     "text": [
      "[(1, 3), (4, 6), (7, 7), (8, 11)]\n"
     ]
    }
   ],
   "source": [
    "lol = [[1,2,3],[4,5,6], [7], [8,9,10,11]]\n",
    "\n",
    "lot = []\n",
    "for li in lol:\n",
    "    lot.append((li[0], li[-1]))\n",
    "    \n",
    "print(lot)"
   ]
  },
  {
   "cell_type": "markdown",
   "id": "9c78d3f0",
   "metadata": {},
   "source": [
    "Task 4\n",
    "Repeat Task 3 with a comprehension."
   ]
  },
  {
   "cell_type": "code",
   "execution_count": 21,
   "id": "21f379c1",
   "metadata": {},
   "outputs": [
    {
     "name": "stdout",
     "output_type": "stream",
     "text": [
      "[(1, 3), (4, 6), (7, 7), (8, 11)]\n"
     ]
    }
   ],
   "source": [
    "lot = [(li[0], li[-1]) for li in lol]\n",
    "print(lot)"
   ]
  },
  {
   "cell_type": "markdown",
   "id": "4c11889f",
   "metadata": {},
   "source": [
    "Task 5\n",
    "Use the split() and join methods to replace every blank space in the string \"Mary had a little lamb\" with an asterisk."
   ]
  },
  {
   "cell_type": "code",
   "execution_count": 22,
   "id": "f8755478",
   "metadata": {},
   "outputs": [
    {
     "name": "stdout",
     "output_type": "stream",
     "text": [
      "Mary*had*a*little*lamb\n"
     ]
    }
   ],
   "source": [
    "s = \"Mary had a little lamb\"\n",
    "list_of_words = s.split()\n",
    "new_string = \"*\".join(list_of_words)\n",
    "print(new_string)"
   ]
  },
  {
   "cell_type": "markdown",
   "id": "b9df7557",
   "metadata": {},
   "source": [
    "Task 6\n",
    "Repeat Task 5 using the string method replace()."
   ]
  },
  {
   "cell_type": "code",
   "execution_count": 23,
   "id": "f68be7ae",
   "metadata": {},
   "outputs": [
    {
     "name": "stdout",
     "output_type": "stream",
     "text": [
      "Mary*had*a*little*lamb\n"
     ]
    }
   ],
   "source": [
    "new_string = s.replace(\" \",\"*\")\n",
    "print(new_string)"
   ]
  },
  {
   "cell_type": "code",
   "execution_count": null,
   "id": "0a3375a6",
   "metadata": {},
   "outputs": [],
   "source": []
  }
 ],
 "metadata": {
  "kernelspec": {
   "display_name": "Python 3 (ipykernel)",
   "language": "python",
   "name": "python3"
  },
  "language_info": {
   "codemirror_mode": {
    "name": "ipython",
    "version": 3
   },
   "file_extension": ".py",
   "mimetype": "text/x-python",
   "name": "python",
   "nbconvert_exporter": "python",
   "pygments_lexer": "ipython3",
   "version": "3.11.7"
  }
 },
 "nbformat": 4,
 "nbformat_minor": 5
}
