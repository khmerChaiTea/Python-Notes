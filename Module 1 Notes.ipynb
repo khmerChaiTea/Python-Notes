{
 "cells": [
  {
   "cell_type": "markdown",
   "id": "4390618d",
   "metadata": {},
   "source": [
    "Strings: \n",
    "Strings are enclosed in quotes, either single or double will work, but they must match. If a string includes one type of quote mark, you must use the other type to define it."
   ]
  },
  {
   "cell_type": "code",
   "execution_count": 1,
   "id": "5d426190",
   "metadata": {},
   "outputs": [
    {
     "name": "stdout",
     "output_type": "stream",
     "text": [
      "This is a string\n",
      "This is also a string\n",
      "This string includes \"A quote inside a string\"\n"
     ]
    }
   ],
   "source": [
    "s = \"This is a string\"\n",
    "s1 = 'This is also a string'\n",
    "s2 = 'This string includes \"A quote inside a string\"'\n",
    "\n",
    "print(s)\n",
    "print(s1)\n",
    "print(s2)"
   ]
  },
  {
   "cell_type": "markdown",
   "id": "cfe6ea5f",
   "metadata": {},
   "source": [
    "Ending print()\n",
    "The print function by default includes a newline (\\n) character as the last item. You may override this with an end = anything in your call to print."
   ]
  },
  {
   "cell_type": "code",
   "execution_count": 2,
   "id": "b95e9566",
   "metadata": {},
   "outputs": [
    {
     "name": "stdout",
     "output_type": "stream",
     "text": [
      "This is a stringThis is also a string\n"
     ]
    }
   ],
   "source": [
    "print(s, end = '')\n",
    "print(s1)"
   ]
  },
  {
   "cell_type": "code",
   "execution_count": 3,
   "id": "42633559",
   "metadata": {},
   "outputs": [
    {
     "name": "stdout",
     "output_type": "stream",
     "text": [
      "This is a string This is also a string\n"
     ]
    }
   ],
   "source": [
    "print(s, end = ' ')\n",
    "print(s1)"
   ]
  },
  {
   "cell_type": "code",
   "execution_count": 4,
   "id": "20b55ce9",
   "metadata": {},
   "outputs": [
    {
     "name": "stdout",
     "output_type": "stream",
     "text": [
      "This is a string END This is also a string\n"
     ]
    }
   ],
   "source": [
    "print(s, end = ' END ')\n",
    "print(s1)"
   ]
  },
  {
   "cell_type": "markdown",
   "id": "f2e5ccd5",
   "metadata": {},
   "source": [
    "Multiple Arguments in print()\n",
    "You can include multiple arguments in a call to print separated by commas. print() will insert a single blank space between them in the output."
   ]
  },
  {
   "cell_type": "code",
   "execution_count": 5,
   "id": "724ff928",
   "metadata": {},
   "outputs": [
    {
     "name": "stdout",
     "output_type": "stream",
     "text": [
      "Your wage rate is 20 .\n",
      "Your hours worked are 40 .\n",
      "Your earnings are 800 .\n"
     ]
    }
   ],
   "source": [
    "wage = 20\n",
    "hours = 40\n",
    "w = \"Your wage rate is\"\n",
    "h = \"Your hours worked are\"\n",
    "earnings = wage * hours\n",
    "e = \"Your earnings are\"\n",
    "p = \".\"\n",
    "\n",
    "print(w, wage, p)\n",
    "print(h, hours, p)\n",
    "print(e, earnings, p)"
   ]
  },
  {
   "cell_type": "markdown",
   "id": "ac42ce3b",
   "metadata": {},
   "source": [
    "Exercise\n",
    "Fix that annoying space ahead of the period in the lines above."
   ]
  },
  {
   "cell_type": "code",
   "execution_count": 6,
   "id": "4f782e39",
   "metadata": {},
   "outputs": [
    {
     "name": "stdout",
     "output_type": "stream",
     "text": [
      "Your wage rate is 20.\n",
      "Your hours worked are 40.\n",
      "Your earnings are 800.\n"
     ]
    }
   ],
   "source": [
    "print(w, wage, end = '')\n",
    "print(p)\n",
    "print(h, hours, end = '')\n",
    "print(p)\n",
    "print(e, earnings, end = '')\n",
    "print(p)"
   ]
  },
  {
   "cell_type": "markdown",
   "id": "653bdeaa",
   "metadata": {},
   "source": [
    "Problem\n",
    "Use one print statement to print the letters A, B and C on three separate lines"
   ]
  },
  {
   "cell_type": "code",
   "execution_count": 7,
   "id": "854446de",
   "metadata": {},
   "outputs": [
    {
     "name": "stdout",
     "output_type": "stream",
     "text": [
      "A\n",
      "B\n",
      "C\n"
     ]
    }
   ],
   "source": [
    "print(\"A\\nB\\nC\")"
   ]
  },
  {
   "cell_type": "markdown",
   "id": "dc840546",
   "metadata": {},
   "source": [
    "Problem\n",
    "Write a program which does the following:\n",
    "\n",
    "1. Ask for the name of a person's pet\n",
    "2. Wait for the answer.\n",
    "3. Print the name of the pet with a comment."
   ]
  },
  {
   "cell_type": "code",
   "execution_count": 8,
   "id": "442412a0",
   "metadata": {},
   "outputs": [
    {
     "name": "stdout",
     "output_type": "stream",
     "text": [
      "What is your pet's name? Prem\n",
      "Hi there, Prem\n"
     ]
    }
   ],
   "source": [
    "print(\"What is your pet's name?\",end = ' ')\n",
    "pet_name = input()\n",
    "print(\"Hi there,\",pet_name)"
   ]
  },
  {
   "cell_type": "markdown",
   "id": "57667880",
   "metadata": {},
   "source": [
    "Problem\n",
    "Write a program to do the following:\n",
    "\n",
    "1. Request an integer\n",
    "2. Multiply the integer by 2\n",
    "3. Print the result"
   ]
  },
  {
   "cell_type": "code",
   "execution_count": 9,
   "id": "72149d4d",
   "metadata": {},
   "outputs": [
    {
     "name": "stdout",
     "output_type": "stream",
     "text": [
      "Give me an integer 5\n",
      "The result is 10\n"
     ]
    }
   ],
   "source": [
    "the_string = input(\"Give me an integer \")\n",
    "the_integer = int(the_string)\n",
    "result = 2 * the_integer\n",
    "print(\"The result is\",result)"
   ]
  },
  {
   "cell_type": "markdown",
   "id": "a831dbc0",
   "metadata": {},
   "source": [
    "Errors\n",
    "There are three kinds of error.\n",
    "\n",
    "1. Syntax\n",
    "2. Runtime\n",
    "3. Logic"
   ]
  },
  {
   "cell_type": "code",
   "execution_count": 10,
   "id": "21f08cff",
   "metadata": {},
   "outputs": [
    {
     "ename": "SyntaxError",
     "evalue": "invalid syntax (4022288041.py, line 1)",
     "output_type": "error",
     "traceback": [
      "\u001b[1;36m  Cell \u001b[1;32mIn[10], line 1\u001b[1;36m\u001b[0m\n\u001b[1;33m    earnings = wage X hours\u001b[0m\n\u001b[1;37m                    ^\u001b[0m\n\u001b[1;31mSyntaxError\u001b[0m\u001b[1;31m:\u001b[0m invalid syntax\n"
     ]
    }
   ],
   "source": [
    "earnings = wage X hours"
   ]
  },
  {
   "cell_type": "markdown",
   "id": "2ac0d59d",
   "metadata": {},
   "source": [
    "A Runtime Error"
   ]
  },
  {
   "cell_type": "code",
   "execution_count": 11,
   "id": "baa24754",
   "metadata": {},
   "outputs": [
    {
     "ename": "TypeError",
     "evalue": "can only concatenate str (not \"int\") to str",
     "output_type": "error",
     "traceback": [
      "\u001b[1;31m---------------------------------------------------------------------------\u001b[0m",
      "\u001b[1;31mTypeError\u001b[0m                                 Traceback (most recent call last)",
      "Cell \u001b[1;32mIn[11], line 2\u001b[0m\n\u001b[0;32m      1\u001b[0m x \u001b[38;5;241m=\u001b[39m \u001b[38;5;124m\"\u001b[39m\u001b[38;5;124m3\u001b[39m\u001b[38;5;124m\"\u001b[39m\n\u001b[1;32m----> 2\u001b[0m y \u001b[38;5;241m=\u001b[39m x \u001b[38;5;241m+\u001b[39m \u001b[38;5;241m2\u001b[39m\n",
      "\u001b[1;31mTypeError\u001b[0m: can only concatenate str (not \"int\") to str"
     ]
    }
   ],
   "source": [
    "x = \"3\"\n",
    "y = x + 2"
   ]
  },
  {
   "cell_type": "markdown",
   "id": "c65ef7b1",
   "metadata": {},
   "source": [
    "A Logic Error"
   ]
  },
  {
   "cell_type": "code",
   "execution_count": 12,
   "id": "3764f6a4",
   "metadata": {},
   "outputs": [
    {
     "name": "stdout",
     "output_type": "stream",
     "text": [
      "60\n"
     ]
    }
   ],
   "source": [
    "earnings = wage + hours\n",
    "print(earnings)"
   ]
  },
  {
   "cell_type": "markdown",
   "id": "21912789",
   "metadata": {},
   "source": [
    "Python is not Excel\n",
    "What will the following code print?\n",
    "\n",
    "x = 2\n",
    "y = 3 * x\n",
    "print(y)\n",
    "x = 3\n",
    "print(y)"
   ]
  },
  {
   "cell_type": "code",
   "execution_count": 13,
   "id": "229de2bb",
   "metadata": {},
   "outputs": [
    {
     "name": "stdout",
     "output_type": "stream",
     "text": [
      "6\n",
      "6\n"
     ]
    }
   ],
   "source": [
    "x = 2\n",
    "y = 3 * x\n",
    "print(y)\n",
    "x = 3\n",
    "print(y)"
   ]
  },
  {
   "cell_type": "code",
   "execution_count": null,
   "id": "488c4d1e",
   "metadata": {},
   "outputs": [],
   "source": []
  }
 ],
 "metadata": {
  "kernelspec": {
   "display_name": "Python 3 (ipykernel)",
   "language": "python",
   "name": "python3"
  },
  "language_info": {
   "codemirror_mode": {
    "name": "ipython",
    "version": 3
   },
   "file_extension": ".py",
   "mimetype": "text/x-python",
   "name": "python",
   "nbconvert_exporter": "python",
   "pygments_lexer": "ipython3",
   "version": "3.11.7"
  }
 },
 "nbformat": 4,
 "nbformat_minor": 5
}
