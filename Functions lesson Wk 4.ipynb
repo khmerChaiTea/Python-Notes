{
 "cells": [
  {
   "cell_type": "code",
   "execution_count": 2,
   "id": "a4b9d6b3",
   "metadata": {},
   "outputs": [],
   "source": [
    "def print_lyrics():\n",
    "    print(\"I'm a lumberjack, and I'm okay.\")\n",
    "    print(\"I sleep all night and I work all day.\")"
   ]
  },
  {
   "cell_type": "markdown",
   "id": "f78ac0e9",
   "metadata": {},
   "source": [
    "above: defining a fuction does not execute it."
   ]
  },
  {
   "cell_type": "code",
   "execution_count": 64,
   "id": "2eb7c68a",
   "metadata": {},
   "outputs": [
    {
     "name": "stdout",
     "output_type": "stream",
     "text": [
      "I'm a lumberjack, and I'm okay.\n",
      "I sleep all night and I work all day.\n",
      "I'm a lumberjack, and I'm okay.\n",
      "I sleep all night and I work all day.\n"
     ]
    }
   ],
   "source": [
    "print_lyrics()\n",
    "print_lyrics()"
   ]
  },
  {
   "cell_type": "code",
   "execution_count": 12,
   "id": "0402f08b",
   "metadata": {},
   "outputs": [],
   "source": [
    "def circle_area(r):\n",
    "    area = pi * r**2\n",
    "    return area"
   ]
  },
  {
   "cell_type": "code",
   "execution_count": 65,
   "id": "1905fc90",
   "metadata": {},
   "outputs": [],
   "source": [
    "def circle_area(r):\n",
    "    area = math.pi * r**2\n",
    "    return area"
   ]
  },
  {
   "cell_type": "code",
   "execution_count": 66,
   "id": "51d36686",
   "metadata": {},
   "outputs": [
    {
     "name": "stdout",
     "output_type": "stream",
     "text": [
      "12.566370614359172\n"
     ]
    }
   ],
   "source": [
    "import math\n",
    "\n",
    "def circle_area(r):\n",
    "    area = math.pi * r**2\n",
    "    return area\n",
    "\n",
    "print(circle_area(2))"
   ]
  },
  {
   "cell_type": "code",
   "execution_count": 67,
   "id": "7560c390",
   "metadata": {},
   "outputs": [
    {
     "data": {
      "text/plain": [
       "12.566370614359172"
      ]
     },
     "execution_count": 67,
     "metadata": {},
     "output_type": "execute_result"
    }
   ],
   "source": [
    "circle_area(2)"
   ]
  },
  {
   "cell_type": "code",
   "execution_count": 68,
   "id": "b0175574",
   "metadata": {},
   "outputs": [],
   "source": [
    "area_2 = circle_area(2)\n",
    "\n",
    "# Note that the result is not displayed."
   ]
  },
  {
   "cell_type": "code",
   "execution_count": 69,
   "id": "940213b2",
   "metadata": {},
   "outputs": [
    {
     "name": "stdout",
     "output_type": "stream",
     "text": [
      "12.566370614359172\n"
     ]
    }
   ],
   "source": [
    "def circle_area(r):\n",
    "    area = math.pi * r**2\n",
    "    print(area)\n",
    "    \n",
    "circle_area(2)"
   ]
  },
  {
   "cell_type": "code",
   "execution_count": 22,
   "id": "687eec4f",
   "metadata": {},
   "outputs": [
    {
     "name": "stdout",
     "output_type": "stream",
     "text": [
      "12.566370614359172\n",
      "<class 'float'>\n"
     ]
    }
   ],
   "source": [
    "x = circle_area(2)\n",
    "\n",
    "print(x)\n",
    "print(type(x))"
   ]
  },
  {
   "cell_type": "code",
   "execution_count": 70,
   "id": "2504c169",
   "metadata": {},
   "outputs": [
    {
     "name": "stdout",
     "output_type": "stream",
     "text": [
      "12.566370614359172\n",
      "None\n",
      "<class 'NoneType'>\n"
     ]
    }
   ],
   "source": [
    "x = circle_area(2)\n",
    "\n",
    "print(x)\n",
    "print(type(x))"
   ]
  },
  {
   "cell_type": "code",
   "execution_count": 24,
   "id": "e38c12d9",
   "metadata": {},
   "outputs": [
    {
     "name": "stdout",
     "output_type": "stream",
     "text": [
      "6\n",
      "2\n",
      "0\n",
      "0\n",
      "2\n"
     ]
    }
   ],
   "source": [
    "def quad (a, b, c, x):\n",
    "    formula = a * x**2 + b * x + c\n",
    "    return formula\n",
    "\n",
    "res = quad(1, -7, 12, 1)\n",
    "print(res)\n",
    "\n",
    "res = quad(1, -7, 12, 2)\n",
    "print(res)\n",
    "\n",
    "res = quad(1, -7, 12, 3)\n",
    "print(res)\n",
    "\n",
    "res = quad(1, -7, 12, 4)\n",
    "print(res)\n",
    "\n",
    "res = quad(1, -7, 12, 5)\n",
    "print(res)\n",
    "    "
   ]
  },
  {
   "cell_type": "code",
   "execution_count": 73,
   "id": "e5584fad",
   "metadata": {},
   "outputs": [
    {
     "name": "stdout",
     "output_type": "stream",
     "text": [
      "6\n",
      "2\n",
      "0\n",
      "0\n",
      "2\n"
     ]
    }
   ],
   "source": [
    "def quad(a,b,c,x):\n",
    "    result = a*x**2 + b*x + c\n",
    "    return result\n",
    "\n",
    "res = quad(1, -7, 12, 1)  \n",
    "print(res)\n",
    "\n",
    "res = quad(1, -7, 12, 2)  \n",
    "print(res)\n",
    "\n",
    "res = quad(1, -7, 12, 3)  \n",
    "print(res)\n",
    "\n",
    "\n",
    "res = quad(1, -7, 12, 4)  \n",
    "print(res)\n",
    "\n",
    "\n",
    "res = quad(1, -7, 12, 5)  \n",
    "print(res)"
   ]
  },
  {
   "cell_type": "code",
   "execution_count": 74,
   "id": "a67f91eb",
   "metadata": {},
   "outputs": [
    {
     "name": "stdout",
     "output_type": "stream",
     "text": [
      "a is 1\n",
      "b is -7\n",
      "c is 12\n",
      "x is 1\n",
      "\n",
      "The result is 6\n"
     ]
    }
   ],
   "source": [
    "def quadv(a,b,c,x):\n",
    "    result = a*x**2 + b*x + c\n",
    "    print(\"a is\",a)\n",
    "    print(\"b is\",b)\n",
    "    print(\"c is\",c)\n",
    "    print(\"x is\",x)\n",
    "    print(\"\")\n",
    "    print(\"The result is\",result)\n",
    "    \n",
    "quadv(1,-7,12,1) "
   ]
  },
  {
   "cell_type": "code",
   "execution_count": 33,
   "id": "c15bbdc6",
   "metadata": {},
   "outputs": [
    {
     "name": "stdout",
     "output_type": "stream",
     "text": [
      "True\n",
      "False\n"
     ]
    }
   ],
   "source": [
    "def divisible(m,n):\n",
    "    return m % n == 0\n",
    "        \n",
    "print(divisible(4,2))\n",
    "print(divisible(5,3))"
   ]
  },
  {
   "cell_type": "markdown",
   "id": "91812a31",
   "metadata": {},
   "source": [
    "Below is my version"
   ]
  },
  {
   "cell_type": "code",
   "execution_count": 82,
   "id": "ece1af32",
   "metadata": {},
   "outputs": [
    {
     "name": "stdout",
     "output_type": "stream",
     "text": [
      "True\n",
      "False\n"
     ]
    }
   ],
   "source": [
    "def fruitful(m,n):\n",
    "    if m % n == 0:\n",
    "        return True\n",
    "    else:\n",
    "        return False\n",
    "        \n",
    "test = fruitful(4,2)\n",
    "print(test)\n",
    "\n",
    "test = fruitful(5,3)\n",
    "print(test)"
   ]
  },
  {
   "cell_type": "code",
   "execution_count": 86,
   "id": "8edcecc4",
   "metadata": {},
   "outputs": [
    {
     "name": "stdout",
     "output_type": "stream",
     "text": [
      "fizz\n",
      "shuck\n",
      "buzz\n",
      "fizzbuzz\n"
     ]
    }
   ],
   "source": [
    "def divisible(n):\n",
    "    if n % 5 == 0 and n % 3 == 0:\n",
    "        return (\"fizzbuzz\")\n",
    "    elif n % 3 == 0:\n",
    "        return (\"fizz\")\n",
    "    elif n % 5 == 0:\n",
    "        return (\"buzz\")\n",
    "    else:\n",
    "        return (\"shuck\")\n",
    "        \n",
    "print(divisible(6))\n",
    "print(divisible(7))\n",
    "print(divisible(10))\n",
    "print(divisible(15))"
   ]
  },
  {
   "cell_type": "code",
   "execution_count": 90,
   "id": "e8dbb286",
   "metadata": {},
   "outputs": [
    {
     "name": "stdout",
     "output_type": "stream",
     "text": [
      "fizz\n",
      "shuck\n",
      "buzz\n",
      "fizzbuzz\n"
     ]
    }
   ],
   "source": [
    "def divisible(m,n):\n",
    "    return m % n == 0\n",
    "def fb(n):\n",
    "    if divisible(n,3) and divisible(n,5):\n",
    "        return (\"fizzbuzz\")\n",
    "    elif divisible(n,3):\n",
    "        return (\"fizz\")\n",
    "    elif divisible(n,5):\n",
    "        return (\"buzz\")\n",
    "    else:\n",
    "        return (\"shuck\")\n",
    "        \n",
    "print(fb(6))\n",
    "print(fb(7))\n",
    "print(fb(10))\n",
    "print(fb(15))"
   ]
  },
  {
   "cell_type": "markdown",
   "id": "b6726468",
   "metadata": {},
   "source": [
    "Above: Need definition function for divisible for the if statement to work\n",
    "Below: Also used the divisible fuction"
   ]
  },
  {
   "cell_type": "code",
   "execution_count": 92,
   "id": "49f2a0d9",
   "metadata": {},
   "outputs": [
    {
     "name": "stdout",
     "output_type": "stream",
     "text": [
      "fizz\n",
      "shucks\n",
      "buzz\n",
      "fizzbuzz\n"
     ]
    }
   ],
   "source": [
    "def fba(n):\n",
    "    if divisible(n,3) and not divisible(n,5):\n",
    "        return(\"fizz\")\n",
    "  \n",
    "    if divisible(n,5) and not divisible(n,3):\n",
    "        return(\"buzz\")\n",
    "  \n",
    "    if divisible(n,3) and divisible(n,5):\n",
    "        return(\"fizzbuzz\")\n",
    "  \n",
    "    if not divisible(n,3) and not divisible(n,5):\n",
    "        return(\"shucks\")\n",
    "\n",
    "print(fba(6))\n",
    "print(fba(7))\n",
    "print(fba(10))\n",
    "print(fba(15))"
   ]
  },
  {
   "cell_type": "code",
   "execution_count": 93,
   "id": "6532f56d",
   "metadata": {},
   "outputs": [
    {
     "name": "stdout",
     "output_type": "stream",
     "text": [
      "True\n",
      "False\n",
      "True\n",
      "True\n"
     ]
    }
   ],
   "source": [
    "def sleep_in(weekday, vacation):\n",
    "    if (not weekday) or vacation:\n",
    "        return True\n",
    "    else:\n",
    "        return False\n",
    "\n",
    "print(sleep_in(True, True))\n",
    "print(sleep_in(True, False))\n",
    "print(sleep_in(False, True))\n",
    "print(sleep_in(False, False))"
   ]
  },
  {
   "cell_type": "code",
   "execution_count": 94,
   "id": "d7bd723d",
   "metadata": {},
   "outputs": [
    {
     "name": "stdout",
     "output_type": "stream",
     "text": [
      "True\n",
      "False\n",
      "True\n",
      "True\n"
     ]
    }
   ],
   "source": [
    "def sleep_in(weekday, vacation):\n",
    "    return (not weekday) or vacation\n",
    "\n",
    "\n",
    "print(sleep_in(True, True))\n",
    "print(sleep_in(True, False))\n",
    "print(sleep_in(False, True))\n",
    "print(sleep_in(False, False))"
   ]
  },
  {
   "cell_type": "code",
   "execution_count": 95,
   "id": "8442a1e1",
   "metadata": {},
   "outputs": [
    {
     "name": "stdout",
     "output_type": "stream",
     "text": [
      "True\n",
      "False\n",
      "False\n",
      "True\n"
     ]
    }
   ],
   "source": [
    "def monkey_trouble(a_smile,b_smile):\n",
    "    if (not a_smile) and (not b_smile):\n",
    "        return True\n",
    "    elif a_smile and b_smile:\n",
    "        return True\n",
    "    else:\n",
    "        return False    \n",
    "\n",
    "print(monkey_trouble(True, True))\n",
    "print(monkey_trouble(True, False))\n",
    "print(monkey_trouble(False, True))\n",
    "print(monkey_trouble(False, False))"
   ]
  },
  {
   "cell_type": "code",
   "execution_count": 96,
   "id": "142ec405",
   "metadata": {},
   "outputs": [
    {
     "name": "stdout",
     "output_type": "stream",
     "text": [
      "True\n",
      "False\n",
      "False\n",
      "True\n"
     ]
    }
   ],
   "source": [
    "def monkey_trouble(a_smile,b_smile):\n",
    "    if (not a_smile) and (not b_smile):\n",
    "        return True\n",
    "    if a_smile and b_smile:\n",
    "        return True\n",
    "    return False    \n",
    "\n",
    "print(monkey_trouble(True, True))\n",
    "print(monkey_trouble(True, False))\n",
    "print(monkey_trouble(False, True))\n",
    "print(monkey_trouble(False, False))"
   ]
  },
  {
   "cell_type": "code",
   "execution_count": 97,
   "id": "6dbf8646",
   "metadata": {},
   "outputs": [
    {
     "name": "stdout",
     "output_type": "stream",
     "text": [
      "True\n",
      "False\n",
      "False\n",
      "True\n"
     ]
    }
   ],
   "source": [
    "def monkey_trouble(a_smile,b_smile):\n",
    "    return ((not a_smile) and (not b_smile)) or (a_smile and b_smile)\n",
    "\n",
    "print(monkey_trouble(True, True))\n",
    "print(monkey_trouble(True, False))\n",
    "print(monkey_trouble(False, True))\n",
    "print(monkey_trouble(False, False))"
   ]
  },
  {
   "cell_type": "code",
   "execution_count": 98,
   "id": "616d9e41",
   "metadata": {},
   "outputs": [
    {
     "name": "stdout",
     "output_type": "stream",
     "text": [
      "True\n",
      "False\n",
      "False\n",
      "True\n"
     ]
    }
   ],
   "source": [
    "def monkey_trouble(a_smile,b_smile):\n",
    "    return ((not a_smile) and (not b_smile)) != (a_smile and b_smile)\n",
    "\n",
    "print(monkey_trouble(True, True))\n",
    "print(monkey_trouble(True, False))\n",
    "print(monkey_trouble(False, True))\n",
    "print(monkey_trouble(False, False))"
   ]
  },
  {
   "cell_type": "code",
   "execution_count": 89,
   "id": "79e9af18",
   "metadata": {},
   "outputs": [
    {
     "name": "stdout",
     "output_type": "stream",
     "text": [
      "True\n",
      "False\n",
      "False\n",
      "True\n"
     ]
    }
   ],
   "source": [
    "def monkey_trouble(a_smile,b_smile):\n",
    "    return a_smile == b_smile\n",
    "\n",
    "print(monkey_trouble(True, True))\n",
    "print(monkey_trouble(True, False))\n",
    "print(monkey_trouble(False, True))\n",
    "print(monkey_trouble(False, False))"
   ]
  },
  {
   "cell_type": "code",
   "execution_count": 99,
   "id": "94e1005a",
   "metadata": {},
   "outputs": [
    {
     "name": "stdout",
     "output_type": "stream",
     "text": [
      "3\n",
      "5\n",
      "8\n"
     ]
    }
   ],
   "source": [
    "def sum_double(a, b):\n",
    "    # Store the sum in a local variable\n",
    "    sum = a + b\n",
    "  \n",
    "    # Double it if a and b are the same\n",
    "    if a == b:\n",
    "        sum = sum * 2\n",
    "    return sum\n",
    "\n",
    "print(sum_double(1,2))\n",
    "print(sum_double(3,2))\n",
    "print(sum_double(2,2))http://localhost:8888/notebooks/Documents/CSC160/Functions%20lesson%20Wk%204.ipynb#"
   ]
  },
  {
   "cell_type": "code",
   "execution_count": 100,
   "id": "d6d286a8",
   "metadata": {},
   "outputs": [
    {
     "name": "stdout",
     "output_type": "stream",
     "text": [
      "2\n",
      "11\n",
      "0\n",
      "6\n"
     ]
    }
   ],
   "source": [
    "def diff21(n):\n",
    "    if n <= 21:\n",
    "        return 21 - n\n",
    "    else:\n",
    "        return (n - 21) * 2\n",
    "\n",
    "print(diff21(19))\n",
    "print(diff21(10))\n",
    "print(diff21(21))\n",
    "print(diff21(24))"
   ]
  },
  {
   "cell_type": "code",
   "execution_count": 101,
   "id": "28ee9a4d",
   "metadata": {},
   "outputs": [
    {
     "name": "stdout",
     "output_type": "stream",
     "text": [
      "True\n",
      "False\n",
      "False\n",
      "True\n"
     ]
    }
   ],
   "source": [
    "def parrot_trouble(talking, hour):\n",
    "    return (talking and (hour < 7 or hour > 20))\n",
    "    # Need extra parenthesis around the or clause\n",
    "    # since and binds more tightly than or.\n",
    "    # and is like arithmetic *, or is like arithmetic +\n",
    "    \n",
    "print(parrot_trouble(True, 6)) \n",
    "print(parrot_trouble(True, 7)) \n",
    "print(parrot_trouble(False, 6)) \n",
    "print(parrot_trouble(True, 22))"
   ]
  },
  {
   "cell_type": "code",
   "execution_count": null,
   "id": "6cf97a1e",
   "metadata": {},
   "outputs": [],
   "source": []
  }
 ],
 "metadata": {
  "kernelspec": {
   "display_name": "Python 3 (ipykernel)",
   "language": "python",
   "name": "python3"
  },
  "language_info": {
   "codemirror_mode": {
    "name": "ipython",
    "version": 3
   },
   "file_extension": ".py",
   "mimetype": "text/x-python",
   "name": "python",
   "nbconvert_exporter": "python",
   "pygments_lexer": "ipython3",
   "version": "3.11.7"
  }
 },
 "nbformat": 4,
 "nbformat_minor": 5
}
