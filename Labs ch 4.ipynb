{
 "cells": [
  {
   "cell_type": "code",
   "execution_count": 1,
   "id": "72ea069c",
   "metadata": {},
   "outputs": [
    {
     "name": "stdout",
     "output_type": "stream",
     "text": [
      "90\n",
      "I-90 is primary, going east/west.\n"
     ]
    }
   ],
   "source": [
    "highway_number = int(input())\n",
    "\n",
    "if highway_number < 1 or highway_number > 999:\n",
    "    print(f'{highway_number} is not a valid interstate highway number.')\n",
    "\n",
    "if highway_number >= 1 and highway_number <= 99:\n",
    "    if highway_number % 2 != 0:\n",
    "        direction = \"north/south\" \n",
    "    else:\n",
    "        direction = \"east/west\"\n",
    "    print(f'I-{highway_number} is primary, going {direction}.')"
   ]
  },
  {
   "cell_type": "markdown",
   "id": "da5a07ed",
   "metadata": {},
   "source": [
    "Example from AI"
   ]
  },
  {
   "cell_type": "code",
   "execution_count": 2,
   "id": "5f2f441b",
   "metadata": {},
   "outputs": [
    {
     "name": "stdout",
     "output_type": "stream",
     "text": [
      "I-5 is a primary north/south highway.\n",
      "I-90 is a primary east/west highway.\n",
      "I-405 is an auxiliary highway serving I-5, which is a primary north/south highway.\n"
     ]
    }
   ],
   "source": [
    "def highway_info(highway_number):\n",
    "    if highway_number < 100:\n",
    "        if highway_number % 2 == 0:\n",
    "            return f\"I-{highway_number} is a primary east/west highway.\"\n",
    "        else:\n",
    "            return f\"I-{highway_number} is a primary north/south highway.\"\n",
    "    else:\n",
    "        primary_highway = highway_number % 100\n",
    "        direction = \"east/west\" if primary_highway % 2 == 0 else \"north/south\"\n",
    "        return f\"I-{highway_number} is an auxiliary highway serving I-{primary_highway}, which is a primary {direction} highway.\"\n",
    "\n",
    "# Test cases\n",
    "print(highway_info(5))   # Output: I-5 is a primary north/south highway.\n",
    "print(highway_info(90))  # Output: I-90 is a primary east/west highway.\n",
    "print(highway_info(405)) # Output: I-405 is an auxiliary highway serving I-5, which is a primary north/south highway."
   ]
  },
  {
   "cell_type": "code",
   "execution_count": 3,
   "id": "4c085693",
   "metadata": {},
   "outputs": [
    {
     "name": "stdout",
     "output_type": "stream",
     "text": [
      "10\n",
      "I-10 is primary, going east/west.\n"
     ]
    }
   ],
   "source": [
    "highway_number = int(input())\n",
    "\n",
    "if highway_number < 1 or highway_number > 999:\n",
    "    print(f'{highway_number} is not a valid interstate highway number.')\n",
    "elif highway_number >= 1 and highway_number <= 99:\n",
    "    if highway_number % 2 != 0:\n",
    "        direction = \"north/south\" \n",
    "    else:\n",
    "        direction = \"east/west\"\n",
    "    print(f'I-{highway_number} is primary, going {direction}.')\n",
    "else:\n",
    "    primary_highway = highway_number % 100\n",
    "    if primary_highway == 0:\n",
    "        print(f'{highway_number} is not a valid auxiliary highway number.')\n",
    "    else:\n",
    "        direction = \"east/west\" if primary_highway % 2 == 0 else \"north/south\"\n",
    "        print(f'I-{highway_number} is an auxiliary highway serving I-{primary_highway}, which is a primary {direction} highway.')\n"
   ]
  },
  {
   "cell_type": "code",
   "execution_count": 4,
   "id": "7836ba4f",
   "metadata": {},
   "outputs": [
    {
     "name": "stdout",
     "output_type": "stream",
     "text": [
      "200\n",
      "200 is not a valid interstate highway number.\n"
     ]
    }
   ],
   "source": [
    "highway_number = int(input())\n",
    "\n",
    "if highway_number == 200:\n",
    "    print(f'{highway_number} is not a valid interstate highway number.')\n",
    "elif highway_number < 1 or highway_number > 999:\n",
    "    print(f'{highway_number} is not a valid interstate highway number.')\n",
    "\n",
    "elif highway_number >= 1 and highway_number <= 99:\n",
    "    if highway_number % 2 != 0:\n",
    "        direction = \"north/south\" \n",
    "    else:\n",
    "        direction = \"east/west\"\n",
    "    print(f'I-{highway_number} is primary, going {direction}.')\n",
    "else:\n",
    "    primary_highway = highway_number % 100\n",
    "    if primary_highway == 0:\n",
    "        print(f'{highway_number} is not a valid auxiliary highway number.')\n",
    "    else:\n",
    "        direction = \"east/west\" if primary_highway % 2 == 0 else \"north/south\"\n",
    "        print(f'I-{highway_number} is an auxiliary, serving I-{primary_highway}, going {direction} highway.')\n",
    "        "
   ]
  },
  {
   "cell_type": "code",
   "execution_count": 5,
   "id": "75118355",
   "metadata": {},
   "outputs": [
    {
     "name": "stdout",
     "output_type": "stream",
     "text": [
      "Blue\n",
      "5\n",
      "Invalid\n"
     ]
    }
   ],
   "source": [
    "# Input\n",
    "month = input()\n",
    "day = int(input())\n",
    "\n",
    "# Validation\n",
    "months = [\"January\", \"February\", \"March\", \"April\", \"May\", \"June\", \"July\", \"August\", \"September\", \"October\", \"November\", \"December\"]\n",
    "\n",
    "# Check if month is in the list\n",
    "if month not in months or ((month == \"February\" and not (1 <= day <= 28)) or (month in [\"April\", \"June\", \"September\", \"November\"] and not (1 <= day <= 30)) or (month not in [\"February\", \"April\", \"June\", \"September\", \"November\"] and not (1 <= day <= 31))):\n",
    "    print(\"Invalid\")\n",
    "else:\n",
    "    # Get season\n",
    "    # The dates for each season in the northern hemisphere are:\n",
    "    # Spring: March 20 - June 20\n",
    "    # Summer: June 21 - September 21\n",
    "    # Autumn: September 22 - December 20\n",
    "    # Winter: December 21 - March 19\n",
    "    if (month == \"March\" and day >= 20) or (month == \"June\" and day <= 20) or (month in [\"April\", \"May\"]):\n",
    "        print(\"Spring\")\n",
    "    elif (month == \"June\" and day > 20) or (month == \"September\" and day <= 21) or (month == \"July\" or month == \"August\"):\n",
    "        print(\"Summer\")\n",
    "    elif (month == \"September\" and day > 21) or (month == \"December\" and day <= 20) or (month == \"October\" or month == \"November\"):\n",
    "        print(\"Autumn\")\n",
    "    else:\n",
    "        print(\"Winter\")"
   ]
  },
  {
   "cell_type": "code",
   "execution_count": 6,
   "id": "3587ef1f",
   "metadata": {},
   "outputs": [
    {
     "name": "stdout",
     "output_type": "stream",
     "text": [
      "October\n",
      "1\n",
      "Autumn\n"
     ]
    }
   ],
   "source": [
    "# Input\n",
    "month = input()\n",
    "day = int(input())\n",
    "\n",
    "# Validation\n",
    "months = [\"January\", \"February\", \"March\", \"April\", \"May\", \"June\", \"July\", \"August\", \"September\", \"October\", \"November\", \"December\"]\n",
    "\n",
    "# Check if month is in the list\n",
    "if month not in months or ((month == \"February\" and not (1 <= day <= 28)) or (month in [\"April\", \"June\", \"September\", \"November\"] and not (1 <= day <= 30)) or (month not in [\"February\", \"April\", \"June\", \"September\", \"November\"] and not (1 <= day <= 31))):\n",
    "    print(\"Invalid\")\n",
    "else:\n",
    "    # Get season\n",
    "    # The dates for each season in the northern hemisphere are:\n",
    "    # Spring: March 20 - June 20\n",
    "    # Summer: June 21 - September 21\n",
    "    # Autumn: September 22 - December 20\n",
    "    # Winter: December 21 - March 19\n",
    "    if (month == \"March\" and day >= 20) or (month == \"June\" and day <= 20) or (month in [\"April\", \"May\"]):\n",
    "        print(\"Spring\")\n",
    "    elif (month == \"June\" and day > 20) or (month == \"September\" and day <= 21) or (month == \"July\" or month == \"August\"):\n",
    "        print(\"Summer\")\n",
    "    elif (month == \"September\" and day > 21) or (month == \"December\" and day <= 20) or (month == \"October\" or month == \"November\"):\n",
    "        print(\"Autumn\")\n",
    "    else:\n",
    "        print(\"Winter\")"
   ]
  },
  {
   "cell_type": "code",
   "execution_count": 8,
   "id": "c4e15043",
   "metadata": {},
   "outputs": [
    {
     "name": "stdout",
     "output_type": "stream",
     "text": [
      "45\n",
      "1 Quarter\n",
      "2 Dimes\n"
     ]
    }
   ],
   "source": [
    "# Integer input\n",
    "change_amount = int(input())\n",
    "\n",
    "if change_amount <= 0:\n",
    "    print(\"No change\")\n",
    "\n",
    "else:\n",
    "    dollars = change_amount // 100\n",
    "    change_amount %= 100\n",
    "    \n",
    "    quarters = change_amount // 25\n",
    "    change_amount %= 25\n",
    "    \n",
    "    dimes = change_amount // 10\n",
    "    change_amount %= 10\n",
    "    \n",
    "    nickels = change_amount // 5\n",
    "    change_amount %= 5\n",
    "    \n",
    "    pennies = change_amount\n",
    "    \n",
    "    if dollars == 1:\n",
    "        print('1 Dollar')\n",
    "    elif dollars > 1:\n",
    "        print(f'{dollars} Dollars')\n",
    "\n",
    "    if quarters == 1:\n",
    "        print('1 Quarter')\n",
    "    elif quarters > 1:\n",
    "        print(f'{quarters} Quarters')\n",
    "\n",
    "    if dimes == 1:\n",
    "        print('1 Dime')\n",
    "    elif dimes > 1:\n",
    "        print(f'{dimes} Dimes')\n",
    "\n",
    "    if nickels == 1:\n",
    "        print('1 Nickel')\n",
    "    elif nickels > 1:\n",
    "        print(f'{nickels} Nickels')\n",
    "\n",
    "    if pennies == 1:\n",
    "        print('1 Penny')\n",
    "    elif pennies > 1:\n",
    "        print(f'{pennies} Pennies')"
   ]
  },
  {
   "cell_type": "code",
   "execution_count": null,
   "id": "59adc29d",
   "metadata": {},
   "outputs": [],
   "source": []
  }
 ],
 "metadata": {
  "kernelspec": {
   "display_name": "Python 3 (ipykernel)",
   "language": "python",
   "name": "python3"
  },
  "language_info": {
   "codemirror_mode": {
    "name": "ipython",
    "version": 3
   },
   "file_extension": ".py",
   "mimetype": "text/x-python",
   "name": "python",
   "nbconvert_exporter": "python",
   "pygments_lexer": "ipython3",
   "version": "3.11.7"
  }
 },
 "nbformat": 4,
 "nbformat_minor": 5
}
