{
 "cells": [
  {
   "cell_type": "markdown",
   "id": "c5382d0d",
   "metadata": {},
   "source": [
    "Lab 3.12.1"
   ]
  },
  {
   "cell_type": "code",
   "execution_count": 1,
   "id": "d9800e5a",
   "metadata": {},
   "outputs": [
    {
     "name": "stdout",
     "output_type": "stream",
     "text": [
      "rose\n",
      "peony\n",
      "lily\n",
      "rose\n",
      "daisy\n",
      "aster\n",
      "['rose', 'peony', 'lily', 'rose', 'daisy']\n",
      "['rose', 'peony', 'lily', 'rose', 'daisy', 'aster']\n",
      "['rose', 'aster', 'lily', 'rose', 'daisy', 'aster']\n",
      "['rose', 'lily', 'rose', 'daisy', 'aster']\n",
      "['rose', 'rose', 'daisy', 'aster']\n"
     ]
    }
   ],
   "source": [
    "my_flower1 = input()\n",
    "my_flower2 = input()\n",
    "my_flower3 = input()\n",
    "\n",
    "your_flower1 = input()\n",
    "your_flower2 = input()\n",
    "\n",
    "their_flower = input()\n",
    "\n",
    "# 1. TODO: Define my_list containing my_flower1, my_flower2, and my_flower3\n",
    "# in that order\n",
    "my_list = [my_flower1, my_flower2, my_flower3]\n",
    "\n",
    "# 2. TODO: Define your_list containing your_flower1 and your_flower2\n",
    "# in that order\n",
    "your_list = [your_flower1, your_flower2]\n",
    "\n",
    "# 3. TODO: Define our_list by concatenating my_list and your_list\n",
    "our_list = my_list + your_list\n",
    "print(our_list)\n",
    "\n",
    "# 4. TODO: Append their_flower to the end of our_list\n",
    "our_list.append(their_flower)\n",
    "print(our_list)\n",
    "\n",
    "# 5. TODO: Replace my_flower2 in our_list with their_flower\n",
    "our_list[my_list.index(my_flower2)] = their_flower\n",
    "print(our_list)\n",
    "\n",
    "# 6. TODO: Remove the first occurrence of their_flower from\n",
    "# our_list without using index()\n",
    "our_list.remove(their_flower)\n",
    "print(our_list)\n",
    "\n",
    "# 7. TODO: Remove the second element of our_list\n",
    "del our_list[1]\n",
    "print(our_list)"
   ]
  },
  {
   "cell_type": "markdown",
   "id": "8bdb3a66",
   "metadata": {},
   "source": [
    "Lab 3.13.1"
   ]
  },
  {
   "cell_type": "code",
   "execution_count": 2,
   "id": "d0a2dc08",
   "metadata": {},
   "outputs": [
    {
     "name": "stdout",
     "output_type": "stream",
     "text": [
      "apple\n",
      "peach\n",
      "lemon\n",
      "apple\n",
      "pear\n",
      "plum\n",
      "['apple', 'lemon', 'peach']\n",
      "['apple', 'lemon', 'peach', 'pear']\n",
      "['apple', 'lemon', 'peach', 'pear', 'plum']\n",
      "['apple', 'lemon', 'peach', 'pear', 'plum']\n",
      "['lemon', 'peach', 'pear', 'plum']\n"
     ]
    }
   ],
   "source": [
    "my_fruit1 = input()\n",
    "my_fruit2 = input()\n",
    "my_fruit3 = input()\n",
    "\n",
    "your_fruit1 = input()\n",
    "your_fruit2 = input()\n",
    "\n",
    "their_fruit = input()\n",
    "\n",
    "# 1. TODO: Define a set, fruits, containing my_fruit1, my_fruit2, and my_fruit3\n",
    "fruits = {my_fruit1, my_fruit2, my_fruit3}\n",
    "print(sorted(fruits))\n",
    "\n",
    "# 2. TODO: Add your_fruit1 and your_fruit2 to fruits\n",
    "fruits.add(your_fruit1)\n",
    "fruits.add(your_fruit2)\n",
    "print(sorted(fruits))\n",
    "\n",
    "# 3. TODO: Add their_fruit to fruits\n",
    "fruits.add(their_fruit)\n",
    "print(sorted(fruits))\n",
    "\n",
    "# 4. TODO: Add your_fruit1 to fruits\n",
    "fruits.add(your_fruit1)\n",
    "print(sorted(fruits))\n",
    "\n",
    "# 5. TODO: Remove my_fruit1 from fruits\n",
    "fruits.discard(my_fruit1)\n",
    "print(sorted(fruits))"
   ]
  },
  {
   "cell_type": "markdown",
   "id": "5927bb77",
   "metadata": {},
   "source": [
    "Lab "
   ]
  },
  {
   "cell_type": "code",
   "execution_count": null,
   "id": "f342c1a7",
   "metadata": {},
   "outputs": [],
   "source": []
  }
 ],
 "metadata": {
  "kernelspec": {
   "display_name": "Python 3 (ipykernel)",
   "language": "python",
   "name": "python3"
  },
  "language_info": {
   "codemirror_mode": {
    "name": "ipython",
    "version": 3
   },
   "file_extension": ".py",
   "mimetype": "text/x-python",
   "name": "python",
   "nbconvert_exporter": "python",
   "pygments_lexer": "ipython3",
   "version": "3.11.7"
  }
 },
 "nbformat": 4,
 "nbformat_minor": 5
}
