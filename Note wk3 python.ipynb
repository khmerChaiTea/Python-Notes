{
 "cells": [
  {
   "cell_type": "markdown",
   "id": "55f066ff",
   "metadata": {},
   "source": [
    "Boolean Operator\n",
    "4 == 2 *2 True\n",
    "3 <= 4, 3 < 4 , 3 != 4 True\n",
    "12 % 2 == 0 True\n",
    "3 < 4 and 3 > 4 False\n",
    "3 <4 or 3 > 4 True\n",
    "3 <4 or not (3 > 4) True\n",
    "not (3 <4 or not (3 > 4)) False\n",
    "x = 5, 0 < x < 4 False"
   ]
  },
  {
   "cell_type": "code",
   "execution_count": 20,
   "id": "50225a44",
   "metadata": {},
   "outputs": [
    {
     "name": "stdout",
     "output_type": "stream",
     "text": [
      "Point A\n",
      "Point B\n",
      "Point C\n",
      "Point D\n"
     ]
    }
   ],
   "source": [
    "# Code Snippet 1\n",
    "\n",
    "cond1 = True\n",
    "cond2 = True\n",
    "\n",
    "if cond1:\n",
    "    print('Point A')\n",
    "    \n",
    "    if cond2:\n",
    "        print('Point B')\n",
    "    \n",
    "    print('Point C')\n",
    "    \n",
    "print('Point D')"
   ]
  },
  {
   "cell_type": "code",
   "execution_count": 5,
   "id": "5b19dabf",
   "metadata": {},
   "outputs": [
    {
     "name": "stdout",
     "output_type": "stream",
     "text": [
      "Point A\n",
      "Point C\n",
      "Point D\n"
     ]
    }
   ],
   "source": [
    "cond1 = True\n",
    "cond2 = False\n",
    "\n",
    "if cond1:\n",
    "    print('Point A')\n",
    "    \n",
    "    if cond2:\n",
    "        print('Point B')\n",
    "    \n",
    "    print('Point C')\n",
    "    \n",
    "print('Point D')"
   ]
  },
  {
   "cell_type": "code",
   "execution_count": 6,
   "id": "1c3ef67e",
   "metadata": {},
   "outputs": [
    {
     "name": "stdout",
     "output_type": "stream",
     "text": [
      "Point D\n"
     ]
    }
   ],
   "source": [
    "cond1 = False\n",
    "cond2 = False\n",
    "\n",
    "if cond1:\n",
    "    print('Point A')\n",
    "    \n",
    "    if cond2:\n",
    "        print('Point B')\n",
    "    \n",
    "    print('Point C')\n",
    "    \n",
    "print('Point D')"
   ]
  },
  {
   "cell_type": "code",
   "execution_count": 4,
   "id": "5c09e4b9",
   "metadata": {},
   "outputs": [
    {
     "name": "stdout",
     "output_type": "stream",
     "text": [
      "Point C\n",
      "Point D\n"
     ]
    }
   ],
   "source": [
    "cond1 = False\n",
    "cond2 = True\n",
    "\n",
    "if cond1:\n",
    "    print('Point A')\n",
    "    \n",
    "    if cond2:\n",
    "        print('Point B')\n",
    "        \n",
    "    print('Point C')\n",
    "    \n",
    "print('Point D')"
   ]
  },
  {
   "cell_type": "code",
   "execution_count": 8,
   "id": "6d75e2a5",
   "metadata": {},
   "outputs": [
    {
     "name": "stdout",
     "output_type": "stream",
     "text": [
      "Point A\n",
      "Point B\n",
      "Point c\n",
      "Point D\n",
      "Point E\n"
     ]
    }
   ],
   "source": [
    "# Code Snippet 1b\n",
    "\n",
    "cond1 = True\n",
    "cond2 = True\n",
    "cond3 = True\n",
    "\n",
    "if cond1:\n",
    "\n",
    "    print(\"Point A\")\n",
    "    \n",
    "    if cond2:\n",
    "    \n",
    "        print(\"Point B\")\n",
    "        \n",
    "        if cond3:\n",
    "            print(\"Point c\")\n",
    "        \n",
    "    print(\"Point D\")    \n",
    "        \n",
    "print(\"Point E\")"
   ]
  },
  {
   "cell_type": "code",
   "execution_count": 10,
   "id": "7b95d5e1",
   "metadata": {},
   "outputs": [
    {
     "name": "stdout",
     "output_type": "stream",
     "text": [
      "Point A\n",
      "Point D\n",
      "Point E\n"
     ]
    }
   ],
   "source": [
    "# Code Snippet 1b\n",
    "\n",
    "cond1 = True\n",
    "cond2 = False\n",
    "cond3 = True\n",
    "\n",
    "if cond1:\n",
    "\n",
    "    print(\"Point A\")\n",
    "    \n",
    "    if cond2:\n",
    "    \n",
    "        print(\"Point B\")\n",
    "        \n",
    "        if cond3:\n",
    "            print(\"Point c\")\n",
    "        \n",
    "    print(\"Point D\")    \n",
    "        \n",
    "print(\"Point E\")"
   ]
  },
  {
   "cell_type": "code",
   "execution_count": 11,
   "id": "31927d17",
   "metadata": {},
   "outputs": [
    {
     "name": "stdout",
     "output_type": "stream",
     "text": [
      "Point E\n"
     ]
    }
   ],
   "source": [
    "# Code Snippet 1b\n",
    "\n",
    "cond1 = False\n",
    "cond2 = True\n",
    "cond3 = True\n",
    "\n",
    "if cond1:\n",
    "\n",
    "    print(\"Point A\")\n",
    "    \n",
    "    if cond2:\n",
    "    \n",
    "        print(\"Point B\")\n",
    "        \n",
    "        if cond3:\n",
    "            print(\"Point c\")\n",
    "        \n",
    "    print(\"Point D\")    \n",
    "        \n",
    "print(\"Point E\")"
   ]
  },
  {
   "cell_type": "code",
   "execution_count": 12,
   "id": "8d82a160",
   "metadata": {},
   "outputs": [
    {
     "name": "stdout",
     "output_type": "stream",
     "text": [
      "Point A\n",
      "Point c\n",
      "Point D\n",
      "Point E\n"
     ]
    }
   ],
   "source": [
    "cond1 = True\n",
    "cond2 = False\n",
    "cond3 = True\n",
    "\n",
    "if cond1:\n",
    "\n",
    "    print(\"Point A\")\n",
    "    \n",
    "    if cond2:\n",
    "    \n",
    "        print(\"Point B\")\n",
    "        \n",
    "    if cond3:\n",
    "        print(\"Point C\")\n",
    "        \n",
    "    print(\"Point D\")    \n",
    "        \n",
    "print(\"Point E\")"
   ]
  },
  {
   "cell_type": "code",
   "execution_count": 14,
   "id": "8b293404",
   "metadata": {},
   "outputs": [
    {
     "name": "stdout",
     "output_type": "stream",
     "text": [
      "Point A\n",
      "Point C\n"
     ]
    }
   ],
   "source": [
    "cond1 = True\n",
    "\n",
    "if cond1:\n",
    "    print('Point A')\n",
    "    \n",
    "else:\n",
    "    print ('Point B')\n",
    "    \n",
    "print ('Point C')"
   ]
  },
  {
   "cell_type": "code",
   "execution_count": 15,
   "id": "a69fcc29",
   "metadata": {},
   "outputs": [
    {
     "name": "stdout",
     "output_type": "stream",
     "text": [
      "Point A\n",
      "Point D\n"
     ]
    }
   ],
   "source": [
    "# Code Snippet 2b\n",
    "\n",
    "cond1 = True\n",
    "cond2 = True\n",
    "\n",
    "if cond1:\n",
    "\n",
    "    print(\"Point A\")\n",
    "    \n",
    "else:\n",
    "\n",
    "    print(\"Point B\")\n",
    "    \n",
    "    if cond2:\n",
    "        \n",
    "        print(\"Point C\")\n",
    "    \n",
    "print(\"Point D\")    "
   ]
  },
  {
   "cell_type": "code",
   "execution_count": 16,
   "id": "360530e7",
   "metadata": {},
   "outputs": [
    {
     "name": "stdout",
     "output_type": "stream",
     "text": [
      "Point B\n",
      "Point C\n",
      "Point D\n"
     ]
    }
   ],
   "source": [
    "# Code Snippet 2b\n",
    "\n",
    "cond1 = False\n",
    "cond2 = True\n",
    "\n",
    "if cond1:\n",
    "\n",
    "    print(\"Point A\")\n",
    "    \n",
    "else:\n",
    "\n",
    "    print(\"Point B\")\n",
    "    \n",
    "    if cond2:\n",
    "        \n",
    "        print(\"Point C\")\n",
    "    \n",
    "print(\"Point D\")   "
   ]
  },
  {
   "cell_type": "code",
   "execution_count": 18,
   "id": "b692197e",
   "metadata": {},
   "outputs": [
    {
     "name": "stdout",
     "output_type": "stream",
     "text": [
      "Point B\n",
      "Point D\n"
     ]
    }
   ],
   "source": [
    "# Code Snippet 2b\n",
    "\n",
    "cond1 = False\n",
    "cond2 = False\n",
    "\n",
    "if cond1:\n",
    "\n",
    "    print(\"Point A\")\n",
    "    \n",
    "else:\n",
    "\n",
    "    print(\"Point B\")\n",
    "    \n",
    "    if cond2:\n",
    "        \n",
    "        print(\"Point C\")\n",
    "    \n",
    "print(\"Point D\")"
   ]
  },
  {
   "cell_type": "code",
   "execution_count": 19,
   "id": "feb11c10",
   "metadata": {},
   "outputs": [
    {
     "name": "stdout",
     "output_type": "stream",
     "text": [
      "Point A\n",
      "Point D\n"
     ]
    }
   ],
   "source": [
    "# Code Snippet 2b\n",
    "\n",
    "cond1 = True\n",
    "cond2 = False\n",
    "\n",
    "if cond1:\n",
    "\n",
    "    print(\"Point A\")\n",
    "    \n",
    "else:\n",
    "\n",
    "    print(\"Point B\")\n",
    "    \n",
    "    if cond2:\n",
    "        \n",
    "        print(\"Point C\")\n",
    "    \n",
    "print(\"Point D\")"
   ]
  },
  {
   "cell_type": "code",
   "execution_count": 21,
   "id": "fa18920f",
   "metadata": {},
   "outputs": [
    {
     "name": "stdout",
     "output_type": "stream",
     "text": [
      "Point A\n",
      "Point D\n"
     ]
    }
   ],
   "source": [
    "# Code Snippet 3\n",
    "\n",
    "cond1 = True\n",
    "cond2 = True\n",
    "cond3 = True\n",
    "\n",
    "if cond1:\n",
    "\n",
    "    print(\"Point A\")\n",
    "    \n",
    "elif cond2:\n",
    "\n",
    "    print(\"Point B\")\n",
    "    \n",
    "elif cond3:\n",
    "\n",
    "    print(\"Point C\")\n",
    "    \n",
    "print(\"Point D\")  "
   ]
  },
  {
   "cell_type": "code",
   "execution_count": 22,
   "id": "ce079d65",
   "metadata": {},
   "outputs": [
    {
     "name": "stdout",
     "output_type": "stream",
     "text": [
      "Point A\n",
      "Point D\n"
     ]
    }
   ],
   "source": [
    "cond1 = True\n",
    "cond2 = False\n",
    "cond3 = True\n",
    "\n",
    "if cond1:\n",
    "\n",
    "    print(\"Point A\")\n",
    "    \n",
    "elif cond2:\n",
    "\n",
    "    print(\"Point B\")\n",
    "    \n",
    "elif cond3:\n",
    "\n",
    "    print(\"Point C\")\n",
    "    \n",
    "print(\"Point D\")"
   ]
  },
  {
   "cell_type": "code",
   "execution_count": 23,
   "id": "3c5cf5dc",
   "metadata": {},
   "outputs": [
    {
     "name": "stdout",
     "output_type": "stream",
     "text": [
      "Point B\n",
      "Point D\n"
     ]
    }
   ],
   "source": [
    "cond1 = False\n",
    "cond2 = True\n",
    "cond3 = True\n",
    "\n",
    "if cond1:\n",
    "\n",
    "    print(\"Point A\")\n",
    "    \n",
    "elif cond2:\n",
    "\n",
    "    print(\"Point B\")\n",
    "    \n",
    "elif cond3:\n",
    "\n",
    "    print(\"Point C\")\n",
    "    \n",
    "print(\"Point D\")"
   ]
  },
  {
   "cell_type": "code",
   "execution_count": 24,
   "id": "f1fc2849",
   "metadata": {},
   "outputs": [
    {
     "name": "stdout",
     "output_type": "stream",
     "text": [
      "Point D\n"
     ]
    }
   ],
   "source": [
    "cond1 = False\n",
    "cond2 = False\n",
    "cond3 = False\n",
    "\n",
    "if cond1:\n",
    "\n",
    "    print(\"Point A\")\n",
    "    \n",
    "elif cond2:\n",
    "\n",
    "    print(\"Point B\")\n",
    "    \n",
    "elif cond3:\n",
    "\n",
    "    print(\"Point C\")\n",
    "    \n",
    "print(\"Point D\")"
   ]
  },
  {
   "cell_type": "code",
   "execution_count": 25,
   "id": "14fe5466",
   "metadata": {},
   "outputs": [
    {
     "name": "stdout",
     "output_type": "stream",
     "text": [
      "Point A\n"
     ]
    }
   ],
   "source": [
    "# Code Snippet 4\n",
    "\n",
    "cond1 = True\n",
    "cond2 = True\n",
    "cond3 = True\n",
    "\n",
    "if cond1:\n",
    "\n",
    "    print(\"Point A\")\n",
    "    \n",
    "elif cond2:\n",
    "\n",
    "    print(\"Point B\")\n",
    "    \n",
    "elif cond3:\n",
    "\n",
    "    print(\"Point C\")\n",
    "    \n",
    "else:\n",
    "\n",
    "    print(\"Point D\")"
   ]
  },
  {
   "cell_type": "code",
   "execution_count": 27,
   "id": "a30cdf43",
   "metadata": {},
   "outputs": [
    {
     "name": "stdout",
     "output_type": "stream",
     "text": [
      "Point D\n"
     ]
    }
   ],
   "source": [
    "cond1 = False\n",
    "cond2 = False\n",
    "cond3 = False\n",
    "\n",
    "if cond1:\n",
    "\n",
    "    print(\"Point A\")\n",
    "    \n",
    "elif cond2:\n",
    "\n",
    "    print(\"Point B\")\n",
    "    \n",
    "elif cond3:\n",
    "\n",
    "    print(\"Point C\")\n",
    "    \n",
    "else:\n",
    "\n",
    "    print(\"Point D\")"
   ]
  },
  {
   "cell_type": "code",
   "execution_count": 29,
   "id": "78b72f4b",
   "metadata": {},
   "outputs": [
    {
     "name": "stdout",
     "output_type": "stream",
     "text": [
      "Point B\n",
      "Point E\n"
     ]
    }
   ],
   "source": [
    "cond1 = False\n",
    "cond2 = True\n",
    "cond3 = False\n",
    "\n",
    "if cond1:\n",
    "\n",
    "    print(\"Point A\")\n",
    "    \n",
    "elif cond2:\n",
    "\n",
    "    print(\"Point B\")\n",
    "    \n",
    "elif cond3:\n",
    "\n",
    "    print(\"Point C\")\n",
    "    \n",
    "else:\n",
    "\n",
    "    print(\"Point D\")\n",
    "\n",
    "print(\"Point E\")"
   ]
  },
  {
   "cell_type": "code",
   "execution_count": 31,
   "id": "ee6c2cbc",
   "metadata": {},
   "outputs": [
    {
     "name": "stdout",
     "output_type": "stream",
     "text": [
      "3\n",
      "7\n"
     ]
    }
   ],
   "source": [
    "#Ternary Assignment\n",
    "\n",
    "x = 5\n",
    "y = 3 if x < 10 else 4\n",
    "z = 6 if x < 4 else 7\n",
    "print(y)\n",
    "print(z)"
   ]
  },
  {
   "cell_type": "code",
   "execution_count": 44,
   "id": "431756d8",
   "metadata": {},
   "outputs": [
    {
     "name": "stdout",
     "output_type": "stream",
     "text": [
      "What percentage is your grade?: 76\n",
      "Your got an C+.\n"
     ]
    }
   ],
   "source": [
    "#Letter grade assignment\n",
    "\n",
    "x = int(input(f\"What percentage is your grade?: \"))\n",
    "\n",
    "if 95 <= x <= 100:\n",
    "    print(f\"Your got an A.\")\n",
    "    \n",
    "elif 90 <= x < 95:\n",
    "    print(f\"Your got an A-.\")\n",
    "    \n",
    "elif 86 <= x < 90:\n",
    "    print(f\"Your got an B+.\")\n",
    "    \n",
    "elif 83 <= x < 86:\n",
    "    print(f\"Your got an B.\")\n",
    "    \n",
    "elif 80 <= x < 83:\n",
    "    print(f\"Your got an B-.\")\n",
    "\n",
    "elif 76 <= x < 80:\n",
    "    print(f\"Your got an C+.\")\n",
    "    \n",
    "elif 73 <= x < 76:\n",
    "    print(f\"Your got an C.\")\n",
    "    \n",
    "elif 70 <= x < 73:\n",
    "    print(f\"Your got an C-.\")\n",
    "    \n",
    "elif 65 <= x < 70:\n",
    "    print(f\"Your got an D+.\")\n",
    "    \n",
    "elif 60 <= x < 65:\n",
    "    print(f\"Your got an D.\")\n",
    "\n",
    "else:\n",
    "    print(f\"Your got an F.\")"
   ]
  },
  {
   "cell_type": "code",
   "execution_count": 46,
   "id": "d0214b3e",
   "metadata": {},
   "outputs": [
    {
     "name": "stdout",
     "output_type": "stream",
     "text": [
      "What percentage is your grade?: 7.6\n",
      "Please enter a valid integer value.\n"
     ]
    }
   ],
   "source": [
    "try:\n",
    "    x = int(input(\"What percentage is your grade?: \"))\n",
    "except ValueError:\n",
    "    print(\"Please enter a valid integer value.\")\n",
    "else:\n",
    "    if 95 <= x <= 100:\n",
    "        print(\"Your got an A.\")\n",
    "    elif 90 <= x < 95:\n",
    "        print(\"Your got an A-.\")\n",
    "    elif 86 <= x < 90:\n",
    "        print(\"Your got an B+.\")\n",
    "    elif 83 <= x < 86:\n",
    "        print(\"Your got an B.\")\n",
    "    elif 80 <= x < 83:\n",
    "        print(\"Your got an B-.\")\n",
    "    elif 76 <= x < 80:\n",
    "        print(\"Your got an C+.\")\n",
    "    elif 73 <= x < 76:\n",
    "        print(\"Your got an C.\")\n",
    "    elif 70 <= x < 73:\n",
    "        print(\"Your got an C-.\")\n",
    "    elif 65 <= x < 70:\n",
    "        print(\"Your got an D+.\")\n",
    "    elif 60 <= x < 65:\n",
    "        print(\"Your got an D.\")\n",
    "    else:\n",
    "        print(\"Your got an F.\")\n"
   ]
  },
  {
   "cell_type": "code",
   "execution_count": 48,
   "id": "142879da",
   "metadata": {},
   "outputs": [
    {
     "name": "stdout",
     "output_type": "stream",
     "text": [
      "What percentage is your grade?: 90\n",
      "Your got an A-.\n"
     ]
    }
   ],
   "source": [
    "x = float(input(\"What percentage is your grade?: \"))\n",
    "   \n",
    "if x >= 95:\n",
    "    print(\"Your got an A.\")\n",
    "elif x >= 90:\n",
    "    print(\"Your got an A-.\")\n",
    "elif x >= 86:\n",
    "    print(\"Your got an B+.\")\n",
    "elif x >= 83:\n",
    "    print(\"Your got an B.\")\n",
    "elif x >= 80:\n",
    "    print(\"Your got an B-.\")\n",
    "elif x >= 76:\n",
    "    print(\"Your got an C+.\")\n",
    "elif x >= 73:\n",
    "    print(\"Your got an C.\")\n",
    "elif x >= 70:\n",
    "    print(\"Your got an C-.\")\n",
    "elif x >= 65:\n",
    "    print(\"Your got an D+.\")\n",
    "elif x >= 60:\n",
    "    print(\"Your got an D.\")\n",
    "else:\n",
    "    print(\"Your got an F.\")"
   ]
  },
  {
   "cell_type": "code",
   "execution_count": 51,
   "id": "97eed34c",
   "metadata": {},
   "outputs": [
    {
     "name": "stdout",
     "output_type": "stream",
     "text": [
      "What percentage is your grade?: 60.99999\n",
      "Your got an D.\n"
     ]
    }
   ],
   "source": [
    "while True:\n",
    "    try:\n",
    "        x = float(input(\"What percentage is your grade?: \"))\n",
    "        if x < 0 or x > 100:\n",
    "            raise ValueError(\"Grade percentage must be between 0 and 100.\")\n",
    "        break  # If input is valid, break out of the loop\n",
    "    except ValueError:\n",
    "        print(\"Please enter a valid grade percentage between 0 and 100.\")\n",
    "\n",
    "# Grading based on the percentage\n",
    "if x >= 95:\n",
    "    print(\"Your got an A.\")\n",
    "elif x >= 90:\n",
    "    print(\"Your got an A-.\")\n",
    "elif x >= 86:\n",
    "    print(\"Your got an B+.\")\n",
    "elif x >= 83:\n",
    "    print(\"Your got an B.\")\n",
    "elif x >= 80:\n",
    "    print(\"Your got an B-.\")\n",
    "elif x >= 76:\n",
    "    print(\"Your got an C+.\")\n",
    "elif x >= 73:\n",
    "    print(\"Your got an C.\")\n",
    "elif x >= 70:\n",
    "    print(\"Your got an C-.\")\n",
    "elif x >= 65:\n",
    "    print(\"Your got an D+.\")\n",
    "elif x >= 60:\n",
    "    print(\"Your got an D.\")\n",
    "else:\n",
    "    print(\"Your got an F.\")"
   ]
  },
  {
   "cell_type": "code",
   "execution_count": 52,
   "id": "719101b9",
   "metadata": {},
   "outputs": [
    {
     "name": "stdout",
     "output_type": "stream",
     "text": [
      "The numerical grade is 83 so the letter_grade is B.\n"
     ]
    }
   ],
   "source": [
    "# Test Value\n",
    "numerical_grade = 83\n",
    "if numerical_grade >= 95:\n",
    "    letter_grade = \"A\"\n",
    "elif numerical_grade >= 90:\n",
    "    letter_grade = \"A-\"\n",
    "elif numerical_grade >= 86:\n",
    "    letter_grade = \"B+\"\n",
    "elif numerical_grade >= 83:\n",
    "    letter_grade = \"B\"\n",
    "elif numerical_grade >= 80:\n",
    "    letter_grade = \"B-\"\n",
    "elif numerical_grade >= 76:\n",
    "    letter_grade = \"C+\"\n",
    "elif numerical_grade >= 73:\n",
    "    letter_grade = \"C\"\n",
    "elif numerical_grade >= 70:\n",
    "    letter_grade = \"C-\"\n",
    "elif numerical_grade >= 65:\n",
    "    letter_grade = \"D+\"\n",
    "elif numerical_grade >= 60:\n",
    "    letter_grade = \"D\"\n",
    "else:\n",
    "    letter_grade = \"F\"\n",
    "    \n",
    "result = f'The numerical grade is {numerical_grade} so the letter_grade is {letter_grade}.'\n",
    "\n",
    "print(result)"
   ]
  },
  {
   "cell_type": "code",
   "execution_count": 53,
   "id": "90e3841f",
   "metadata": {},
   "outputs": [
    {
     "name": "stdout",
     "output_type": "stream",
     "text": [
      "Enter your numerical grade: 1.0\n",
      "The numerical grade is 1.0 so the letter grade is F.\n"
     ]
    }
   ],
   "source": [
    "while True:\n",
    "    try:\n",
    "        numerical_grade = float(input(\"Enter your numerical grade: \"))\n",
    "        if numerical_grade < 0 or numerical_grade > 100:\n",
    "            raise ValueError(\"Grade must be between 0 and 100.\")\n",
    "        break  # If input is valid, break out of the loop\n",
    "    except ValueError:\n",
    "        print(\"Please enter a valid numerical grade between 0 and 100.\")\n",
    "\n",
    "# Grading based on the numerical grade\n",
    "if numerical_grade >= 95:\n",
    "    letter_grade = \"A\"\n",
    "elif numerical_grade >= 90:\n",
    "    letter_grade = \"A-\"\n",
    "elif numerical_grade >= 86:\n",
    "    letter_grade = \"B+\"\n",
    "elif numerical_grade >= 83:\n",
    "    letter_grade = \"B\"\n",
    "elif numerical_grade >= 80:\n",
    "    letter_grade = \"B-\"\n",
    "elif numerical_grade >= 76:\n",
    "    letter_grade = \"C+\"\n",
    "elif numerical_grade >= 73:\n",
    "    letter_grade = \"C\"\n",
    "elif numerical_grade >= 70:\n",
    "    letter_grade = \"C-\"\n",
    "elif numerical_grade >= 65:\n",
    "    letter_grade = \"D+\"\n",
    "elif numerical_grade >= 60:\n",
    "    letter_grade = \"D\"\n",
    "else:\n",
    "    letter_grade = \"F\"\n",
    "\n",
    "result = f'The numerical grade is {numerical_grade} so the letter grade is {letter_grade}.'\n",
    "\n",
    "print(result)"
   ]
  },
  {
   "cell_type": "code",
   "execution_count": null,
   "id": "5946295e",
   "metadata": {},
   "outputs": [],
   "source": [
    "\n"
   ]
  }
 ],
 "metadata": {
  "kernelspec": {
   "display_name": "Python 3 (ipykernel)",
   "language": "python",
   "name": "python3"
  },
  "language_info": {
   "codemirror_mode": {
    "name": "ipython",
    "version": 3
   },
   "file_extension": ".py",
   "mimetype": "text/x-python",
   "name": "python",
   "nbconvert_exporter": "python",
   "pygments_lexer": "ipython3",
   "version": "3.11.7"
  }
 },
 "nbformat": 4,
 "nbformat_minor": 5
}
