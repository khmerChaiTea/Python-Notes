{
 "cells": [
  {
   "cell_type": "code",
   "execution_count": 1,
   "id": "f21b3f84",
   "metadata": {},
   "outputs": [
    {
     "name": "stdout",
     "output_type": "stream",
     "text": [
      "Ann is 18 years.\n"
     ]
    }
   ],
   "source": [
    "person_age = 18\n",
    "print('Ann is', person_age, 'years.')"
   ]
  },
  {
   "cell_type": "markdown",
   "id": "57897775",
   "metadata": {},
   "source": [
    "I set \"person_age\" equal to 18  \n",
    "I printed \"Ane is 18 years.\""
   ]
  },
  {
   "cell_type": "code",
   "execution_count": 4,
   "id": "c9b34e09",
   "metadata": {},
   "outputs": [
    {
     "name": "stdout",
     "output_type": "stream",
     "text": [
      "Enter wage: 8\n",
      "New wage: 18\n"
     ]
    }
   ],
   "source": [
    "print('Enter wage:', end=' ')\n",
    "wage = int(input())\n",
    "\n",
    "\n",
    "new_wage = wage + 10\n",
    "print('New wage:', new_wage)"
   ]
  },
  {
   "cell_type": "markdown",
   "id": "5a38f044",
   "metadata": {},
   "source": [
    "I printed \"Enter Wage:\" asking for wage input  \n",
    "I input \"8\" for \"Enter Wage:\"  \n",
    "New wage \"8\" was added to 10 and become \"18\"  \n",
    "I printed \"New Wage: 18\""
   ]
  },
  {
   "cell_type": "code",
   "execution_count": 4,
   "id": "976455ff",
   "metadata": {},
   "outputs": [
    {
     "name": "stdout",
     "output_type": "stream",
     "text": [
      "Your wage rate is 20 .\n",
      "Your hours worked are 40 .\n",
      "Your earnings are 800 .\n"
     ]
    }
   ],
   "source": [
    "wage = 20\n",
    "hours= 40\n",
    "w = \"Your wage rate is\"\n",
    "h = \"Your hours worked are\"\n",
    "earnings = wage * hours\n",
    "e = \"Your earnings are\"\n",
    "p = \".\"\n",
    "\n",
    "print(w, wage, p)\n",
    "print(h, hours, p)\n",
    "print(e, earnings, p)"
   ]
  },
  {
   "cell_type": "markdown",
   "id": "01318833",
   "metadata": {},
   "source": [
    "Remove the space before the period."
   ]
  },
  {
   "cell_type": "code",
   "execution_count": 5,
   "id": "0bf2826d",
   "metadata": {},
   "outputs": [
    {
     "name": "stdout",
     "output_type": "stream",
     "text": [
      "Your wage rate is 20.\n",
      "Your hours worked are 40.\n",
      "Your earnings are 800.\n"
     ]
    }
   ],
   "source": [
    "wage = 20\n",
    "hours= 40\n",
    "w = \"Your wage rate is\"\n",
    "h = \"Your hours worked are\"\n",
    "earnings = wage * hours\n",
    "e = \"Your earnings are\"\n",
    "p = \".\"\n",
    "\n",
    "print(w, wage, end=\"\")\n",
    "print(p)\n",
    "print(h, hours, end=\"\")\n",
    "print(p)\n",
    "print(e, earnings, end=\"\")\n",
    "print(p)"
   ]
  },
  {
   "cell_type": "markdown",
   "id": "2b7f717d",
   "metadata": {},
   "source": [
    "Print ABC on three separate lines\n"
   ]
  },
  {
   "cell_type": "code",
   "execution_count": 10,
   "id": "716b754b",
   "metadata": {},
   "outputs": [
    {
     "name": "stdout",
     "output_type": "stream",
     "text": [
      "A\n",
      "B\n",
      "C\n"
     ]
    }
   ],
   "source": [
    "print('A\\nB\\nC')"
   ]
  },
  {
   "cell_type": "markdown",
   "id": "6721bc2a",
   "metadata": {},
   "source": [
    "1. Ask for the name of a person's pet\n",
    "2. Wait for the answer.\n",
    "3. Print the name of the pet with a comment"
   ]
  },
  {
   "cell_type": "code",
   "execution_count": 29,
   "id": "c3f297d0",
   "metadata": {},
   "outputs": [
    {
     "name": "stdout",
     "output_type": "stream",
     "text": [
      "What is your pet's name? Dan\n",
      "Your pet's name is Dan.\n"
     ]
    }
   ],
   "source": [
    "pet_name = input(\"What is your pet's name? \")\n",
    "print('Your pet\\'s name is', pet_name, end= '')\n",
    "print('.')\n"
   ]
  },
  {
   "cell_type": "markdown",
   "id": "f44c00e7",
   "metadata": {},
   "source": [
    "1. Request an integer\n",
    "2. Multiply the integer by 2\n",
    "3. Print the result"
   ]
  },
  {
   "cell_type": "code",
   "execution_count": 20,
   "id": "75a4fbba",
   "metadata": {},
   "outputs": [
    {
     "name": "stdout",
     "output_type": "stream",
     "text": [
      "Give an integer: 5\n",
      "The result is  10\n"
     ]
    }
   ],
   "source": [
    "num = int(input(\"Give an integer: \"))\n",
    "num = num * 2\n",
    "print('The result is ', num)"
   ]
  },
  {
   "cell_type": "code",
   "execution_count": 23,
   "id": "0a727abf",
   "metadata": {},
   "outputs": [
    {
     "name": "stdout",
     "output_type": "stream",
     "text": [
      "6\n",
      "6\n",
      "3\n"
     ]
    }
   ],
   "source": [
    "x = 2\n",
    "y = 3 * x\n",
    "print(y)\n",
    "x = 3\n",
    "print(y)"
   ]
  },
  {
   "cell_type": "code",
   "execution_count": 30,
   "id": "1feefaf0",
   "metadata": {},
   "outputs": [
    {
     "name": "stdout",
     "output_type": "stream",
     "text": [
      "11\n",
      "14\n"
     ]
    }
   ],
   "source": [
    "x = 3 + 4 * 2\n",
    "y = 2 * (3 + 4)\n",
    "print(x)\n",
    "print(y)"
   ]
  },
  {
   "cell_type": "code",
   "execution_count": 32,
   "id": "47dc3823",
   "metadata": {},
   "outputs": [
    {
     "name": "stdout",
     "output_type": "stream",
     "text": [
      "0\n",
      "0\n",
      "4\n"
     ]
    }
   ],
   "source": [
    "print(5 - 3 - 2)\n",
    "print((5 - 3) - 2)\n",
    "print(5 - (3 - 2))"
   ]
  },
  {
   "cell_type": "code",
   "execution_count": 34,
   "id": "4c7b7ebf",
   "metadata": {},
   "outputs": [
    {
     "name": "stdout",
     "output_type": "stream",
     "text": [
      "1953125\n",
      "15625\n",
      "1953125\n"
     ]
    }
   ],
   "source": [
    "print(5 ** 3 ** 2)\n",
    "print((5 ** 3) ** 2)\n",
    "print(5 **(3 ** 2))"
   ]
  },
  {
   "cell_type": "code",
   "execution_count": 37,
   "id": "a0eb0e35",
   "metadata": {},
   "outputs": [
    {
     "name": "stdout",
     "output_type": "stream",
     "text": [
      "-1\n",
      "1\n"
     ]
    }
   ],
   "source": [
    "print(-1 ** 2)\n",
    "print((-1) * (-1))"
   ]
  },
  {
   "cell_type": "code",
   "execution_count": 38,
   "id": "b7deea96",
   "metadata": {},
   "outputs": [
    {
     "name": "stdout",
     "output_type": "stream",
     "text": [
      "Enter a numer with decimal point: 1.22\n"
     ]
    },
    {
     "ename": "ValueError",
     "evalue": "invalid literal for int() with base 10: '1.22'",
     "output_type": "error",
     "traceback": [
      "\u001b[1;31m---------------------------------------------------------------------------\u001b[0m",
      "\u001b[1;31mValueError\u001b[0m                                Traceback (most recent call last)",
      "Cell \u001b[1;32mIn[38], line 1\u001b[0m\n\u001b[1;32m----> 1\u001b[0m num \u001b[38;5;241m=\u001b[39m \u001b[38;5;28mint\u001b[39m(\u001b[38;5;28minput\u001b[39m(\u001b[38;5;124m'\u001b[39m\u001b[38;5;124mEnter a numer with decimal point: \u001b[39m\u001b[38;5;124m'\u001b[39m))\n",
      "\u001b[1;31mValueError\u001b[0m: invalid literal for int() with base 10: '1.22'"
     ]
    }
   ],
   "source": [
    "num = int(input('Enter a numer with decimal point: '))"
   ]
  },
  {
   "cell_type": "code",
   "execution_count": 40,
   "id": "c1f81dcb",
   "metadata": {},
   "outputs": [
    {
     "name": "stdout",
     "output_type": "stream",
     "text": [
      "Enter a numer with decimal point: 1.0\n"
     ]
    },
    {
     "ename": "ValueError",
     "evalue": "invalid literal for int() with base 10: '1.0'",
     "output_type": "error",
     "traceback": [
      "\u001b[1;31m---------------------------------------------------------------------------\u001b[0m",
      "\u001b[1;31mValueError\u001b[0m                                Traceback (most recent call last)",
      "Cell \u001b[1;32mIn[40], line 1\u001b[0m\n\u001b[1;32m----> 1\u001b[0m \u001b[38;5;28mprint\u001b[39m(\u001b[38;5;28mint\u001b[39m(\u001b[38;5;28minput\u001b[39m(\u001b[38;5;124m'\u001b[39m\u001b[38;5;124mEnter a numer with decimal point: \u001b[39m\u001b[38;5;124m'\u001b[39m)))\n",
      "\u001b[1;31mValueError\u001b[0m: invalid literal for int() with base 10: '1.0'"
     ]
    }
   ],
   "source": [
    "print(int(input('Enter a numer with decimal point: ')))"
   ]
  },
  {
   "cell_type": "code",
   "execution_count": 44,
   "id": "ff2c3fa5",
   "metadata": {},
   "outputs": [
    {
     "name": "stdout",
     "output_type": "stream",
     "text": [
      "Enter a numer with decimal point: 2.0\n",
      "2.0\n"
     ]
    }
   ],
   "source": [
    "print(float(input('Enter a numer with decimal point: ')))"
   ]
  },
  {
   "cell_type": "markdown",
   "id": "f0cffe16",
   "metadata": {},
   "source": [
    "Add decimal to integer number"
   ]
  },
  {
   "cell_type": "code",
   "execution_count": 43,
   "id": "68116b31",
   "metadata": {},
   "outputs": [
    {
     "name": "stdout",
     "output_type": "stream",
     "text": [
      "Enter a numer with decimal point: 5\n",
      "5.0\n"
     ]
    }
   ],
   "source": [
    "print(float(input('Enter a numer with decimal point: ')))"
   ]
  },
  {
   "cell_type": "code",
   "execution_count": 45,
   "id": "02fd3d17",
   "metadata": {},
   "outputs": [
    {
     "name": "stdout",
     "output_type": "stream",
     "text": [
      "100.0\n",
      "11.0\n",
      "-19.0\n",
      "0.5\n",
      "1.0\n"
     ]
    }
   ],
   "source": [
    "x = 1.0\n",
    "print(x * 100)\n",
    "print(x + 10)\n",
    "print(x - 20)\n",
    "print(x / 2)\n",
    "print(x ** .5)"
   ]
  },
  {
   "cell_type": "code",
   "execution_count": 48,
   "id": "db3090cd",
   "metadata": {},
   "outputs": [
    {
     "name": "stdout",
     "output_type": "stream",
     "text": [
      "100.0\n",
      "110.0\n",
      "90.0\n",
      "45.0\n",
      "1.209652495414788\n"
     ]
    }
   ],
   "source": [
    "x = 1.0\n",
    "x *= 100\n",
    "print(x)\n",
    "x += 10\n",
    "print(x)\n",
    "x -= 20\n",
    "print(x)\n",
    "x /= 2\n",
    "print(x)\n",
    "x **= .05\n",
    "print(x)"
   ]
  },
  {
   "cell_type": "code",
   "execution_count": 47,
   "id": "19be3e07",
   "metadata": {},
   "outputs": [
    {
     "name": "stdout",
     "output_type": "stream",
     "text": [
      "1.6666666666666667\n",
      "1\n",
      "2\n"
     ]
    }
   ],
   "source": [
    "x = 5 / 3\n",
    "print(x)\n",
    "\n",
    "x = 5 // 3\n",
    "print(x)\n",
    "\n",
    "x = 5 % 3\n",
    "print(x)"
   ]
  },
  {
   "cell_type": "code",
   "execution_count": 49,
   "id": "4fac4507",
   "metadata": {
    "scrolled": true
   },
   "outputs": [
    {
     "ename": "NameError",
     "evalue": "name 'sqrt' is not defined",
     "output_type": "error",
     "traceback": [
      "\u001b[1;31m---------------------------------------------------------------------------\u001b[0m",
      "\u001b[1;31mNameError\u001b[0m                                 Traceback (most recent call last)",
      "Cell \u001b[1;32mIn[49], line 1\u001b[0m\n\u001b[1;32m----> 1\u001b[0m x \u001b[38;5;241m=\u001b[39m sqrt(\u001b[38;5;241m2\u001b[39m)\n",
      "\u001b[1;31mNameError\u001b[0m: name 'sqrt' is not defined"
     ]
    }
   ],
   "source": [
    "x = sqrt(2)"
   ]
  },
  {
   "cell_type": "code",
   "execution_count": 50,
   "id": "0dffd1ec",
   "metadata": {},
   "outputs": [
    {
     "ename": "NameError",
     "evalue": "name 'sqrt' is not defined",
     "output_type": "error",
     "traceback": [
      "\u001b[1;31m---------------------------------------------------------------------------\u001b[0m",
      "\u001b[1;31mNameError\u001b[0m                                 Traceback (most recent call last)",
      "Cell \u001b[1;32mIn[50], line 2\u001b[0m\n\u001b[0;32m      1\u001b[0m \u001b[38;5;28;01mimport\u001b[39;00m \u001b[38;5;21;01mmath\u001b[39;00m\n\u001b[1;32m----> 2\u001b[0m x \u001b[38;5;241m=\u001b[39m sqrt(\u001b[38;5;241m2\u001b[39m)\n",
      "\u001b[1;31mNameError\u001b[0m: name 'sqrt' is not defined"
     ]
    }
   ],
   "source": [
    "import math\n",
    "x = sqrt(2)"
   ]
  },
  {
   "cell_type": "code",
   "execution_count": 53,
   "id": "2e9b9e40",
   "metadata": {},
   "outputs": [
    {
     "name": "stdout",
     "output_type": "stream",
     "text": [
      "1.4142135623730951\n"
     ]
    }
   ],
   "source": [
    "import math\n",
    "x = math.sqrt(2)\n",
    "print(x)"
   ]
  },
  {
   "cell_type": "code",
   "execution_count": 57,
   "id": "25991928",
   "metadata": {},
   "outputs": [
    {
     "name": "stdout",
     "output_type": "stream",
     "text": [
      "TomDickHarry\n",
      "Tom\n",
      "Dick\n",
      "Harry\n",
      "Tom\\nDick\\nHarry\n",
      "Tom\\\n",
      "Dick\\\n",
      "Harry\n"
     ]
    }
   ],
   "source": [
    "print(\"TomDickHarry\")\n",
    "print(\"Tom\\nDick\\nHarry\")\n",
    "print(\"Tom\\\\nDick\\\\nHarry\")\n",
    "print(\"Tom\\\\\\nDick\\\\\\nHarry\")\n"
   ]
  },
  {
   "cell_type": "code",
   "execution_count": 6,
   "id": "e1be9200",
   "metadata": {
    "scrolled": false
   },
   "outputs": [
    {
     "name": "stdout",
     "output_type": "stream",
     "text": [
      "WA\n",
      "SD\n",
      "Washington to South Dakota\n"
     ]
    }
   ],
   "source": [
    "state_codes_names = {\n",
    "\t'WA': 'Washington', 'SD': 'South Dakota', 'NE': 'Nebraska', 'RI': 'Rhode Island',\n",
    "\t'DE': 'Delaware', 'MO': 'Missouri', 'HI': 'Hawaii', 'PA': 'Pennsylvania',\n",
    "\t'CO': 'Colorado'\n",
    "}\n",
    "\n",
    "start_from = input()\n",
    "end_at = input()\n",
    " \n",
    "print(state_codes_names[start_from], 'to', state_codes_names[end_at])\n"
   ]
  },
  {
   "cell_type": "code",
   "execution_count": 1,
   "id": "1c219eed",
   "metadata": {},
   "outputs": [
    {
     "data": {
      "text/plain": [
       "247"
      ]
     },
     "execution_count": 1,
     "metadata": {},
     "output_type": "execute_result"
    }
   ],
   "source": [
    "3 * 8**2 + 6 * 8**1 + 7 * 8**0"
   ]
  },
  {
   "cell_type": "code",
   "execution_count": 2,
   "id": "eff414ac",
   "metadata": {},
   "outputs": [
    {
     "data": {
      "text/plain": [
       "11"
      ]
     },
     "execution_count": 2,
     "metadata": {},
     "output_type": "execute_result"
    }
   ],
   "source": [
    "1 * 2**3 + 0 * 2**2 + 1 * 2**1 + 1 * 2**0"
   ]
  },
  {
   "cell_type": "markdown",
   "id": "f0daa3a9",
   "metadata": {},
   "source": [
    "hexadecimal = base 16; we can't use '10' we use ABCDEF; A = '10'"
   ]
  },
  {
   "cell_type": "markdown",
   "id": "c95901ca",
   "metadata": {},
   "source": [
    "0b = we are using binary; 0x = hexadecimal"
   ]
  },
  {
   "cell_type": "code",
   "execution_count": 3,
   "id": "e576ad0e",
   "metadata": {},
   "outputs": [
    {
     "name": "stdout",
     "output_type": "stream",
     "text": [
      "243\n"
     ]
    }
   ],
   "source": [
    "x=0xf3\n",
    "print(x)"
   ]
  },
  {
   "cell_type": "code",
   "execution_count": 5,
   "id": "c3ecd1e4",
   "metadata": {},
   "outputs": [
    {
     "name": "stdout",
     "output_type": "stream",
     "text": [
      "413\n",
      "0x19d\n"
     ]
    }
   ],
   "source": [
    "x = int('110011101',2)\n",
    "print(x)\n",
    "y= hex(int('110011101',2))\n",
    "print(y)"
   ]
  },
  {
   "cell_type": "code",
   "execution_count": 8,
   "id": "428da051",
   "metadata": {},
   "outputs": [
    {
     "data": {
      "text/plain": [
       "2812"
      ]
     },
     "execution_count": 8,
     "metadata": {},
     "output_type": "execute_result"
    }
   ],
   "source": [
    "int('afc',16)"
   ]
  },
  {
   "cell_type": "code",
   "execution_count": 9,
   "id": "ee5ec127",
   "metadata": {},
   "outputs": [
    {
     "data": {
      "text/plain": [
       "'0b101011111100'"
      ]
     },
     "execution_count": 9,
     "metadata": {},
     "output_type": "execute_result"
    }
   ],
   "source": [
    "bin(int('afc',16))"
   ]
  },
  {
   "cell_type": "code",
   "execution_count": 18,
   "id": "aa396a59",
   "metadata": {},
   "outputs": [
    {
     "name": "stdout",
     "output_type": "stream",
     "text": [
      "['Tom', 'Dick', 'Harry']\n"
     ]
    }
   ],
   "source": [
    "names = ['Tom', 'Dick','Harry']\n",
    "print(names)"
   ]
  },
  {
   "cell_type": "code",
   "execution_count": 24,
   "id": "9c4cc457",
   "metadata": {},
   "outputs": [
    {
     "name": "stdout",
     "output_type": "stream",
     "text": [
      "['Susan', 'Alice', 'Beth']\n",
      "['Tom', 'Dick', 'Harry', 'Susan', 'Alice', 'Beth']\n"
     ]
    }
   ],
   "source": [
    "names2 = ['Susan', 'Alice', 'Beth']\n",
    "print(names2)\n",
    "namesb = names + names2\n",
    "print(namesb)"
   ]
  },
  {
   "cell_type": "code",
   "execution_count": 25,
   "id": "850fc8bc",
   "metadata": {},
   "outputs": [
    {
     "name": "stdout",
     "output_type": "stream",
     "text": [
      "None\n",
      "['Tom', 'Dick', 'Harry', ['Susan', 'Alice', 'Beth']]\n"
     ]
    }
   ],
   "source": [
    "namesc = names.append(names2)\n",
    "print(namesc)\n",
    "print(names)"
   ]
  },
  {
   "cell_type": "code",
   "execution_count": 26,
   "id": "3497da3b",
   "metadata": {},
   "outputs": [
    {
     "name": "stdout",
     "output_type": "stream",
     "text": [
      "(1, 2, 3)\n",
      "(1, 2, 3)\n"
     ]
    }
   ],
   "source": [
    "t1 = 1, 2, 3\n",
    "t2 = (1, 2, 3)\n",
    "\n",
    "print(t1)\n",
    "print(t2)"
   ]
  },
  {
   "cell_type": "code",
   "execution_count": 27,
   "id": "50e66436",
   "metadata": {},
   "outputs": [
    {
     "name": "stdout",
     "output_type": "stream",
     "text": [
      "1\n",
      "3\n"
     ]
    }
   ],
   "source": [
    "x =t1[0]\n",
    "print(x)\n",
    "\n",
    "z = t1[-1]\n",
    "print(z)"
   ]
  },
  {
   "cell_type": "code",
   "execution_count": 28,
   "id": "48c95fa3",
   "metadata": {},
   "outputs": [
    {
     "ename": "TypeError",
     "evalue": "'tuple' object does not support item assignment",
     "output_type": "error",
     "traceback": [
      "\u001b[1;31m---------------------------------------------------------------------------\u001b[0m",
      "\u001b[1;31mTypeError\u001b[0m                                 Traceback (most recent call last)",
      "Cell \u001b[1;32mIn[28], line 1\u001b[0m\n\u001b[1;32m----> 1\u001b[0m t1[\u001b[38;5;241m0\u001b[39m] \u001b[38;5;241m=\u001b[39m \u001b[38;5;241m4\u001b[39m\n\u001b[0;32m      2\u001b[0m \u001b[38;5;28mprint\u001b[39m(t1)\n",
      "\u001b[1;31mTypeError\u001b[0m: 'tuple' object does not support item assignment"
     ]
    }
   ],
   "source": [
    "t1[0] = 4\n",
    "print(t1)"
   ]
  },
  {
   "cell_type": "code",
   "execution_count": 31,
   "id": "c7eb1f3b",
   "metadata": {},
   "outputs": [
    {
     "name": "stdout",
     "output_type": "stream",
     "text": [
      "{'dog', 'parrot', 'cat'}\n",
      "['cat', 'dog', 'parrot']\n",
      "('cat', 'dog', 'parrot')\n",
      "<class 'set'>\n",
      "<class 'list'>\n",
      "<class 'tuple'>\n"
     ]
    }
   ],
   "source": [
    "ASet = {\"cat\", \"dog\", \"parrot\"}\n",
    "AList = [\"cat\", \"dog\", \"parrot\"]\n",
    "ATuple = (\"cat\", \"dog\", \"parrot\")\n",
    "print(ASet)\n",
    "print(AList)\n",
    "print(ATuple)\n",
    "print(type(ASet))\n",
    "print(type(AList))\n",
    "print(type(ATuple))"
   ]
  },
  {
   "cell_type": "code",
   "execution_count": 34,
   "id": "275aca18",
   "metadata": {},
   "outputs": [
    {
     "ename": "TypeError",
     "evalue": "'set' object is not subscriptable",
     "output_type": "error",
     "traceback": [
      "\u001b[1;31m---------------------------------------------------------------------------\u001b[0m",
      "\u001b[1;31mTypeError\u001b[0m                                 Traceback (most recent call last)",
      "Cell \u001b[1;32mIn[34], line 1\u001b[0m\n\u001b[1;32m----> 1\u001b[0m \u001b[38;5;28mprint\u001b[39m(ASet[\u001b[38;5;241m0\u001b[39m])\n",
      "\u001b[1;31mTypeError\u001b[0m: 'set' object is not subscriptable"
     ]
    }
   ],
   "source": [
    "print(ASet[0])"
   ]
  },
  {
   "cell_type": "code",
   "execution_count": 33,
   "id": "f5dfe9cf",
   "metadata": {},
   "outputs": [
    {
     "name": "stdout",
     "output_type": "stream",
     "text": [
      "cat\n"
     ]
    }
   ],
   "source": [
    "print(AList[0])"
   ]
  },
  {
   "cell_type": "code",
   "execution_count": 35,
   "id": "456fe5b2",
   "metadata": {},
   "outputs": [
    {
     "name": "stdout",
     "output_type": "stream",
     "text": [
      "cat\n"
     ]
    }
   ],
   "source": [
    "print(ATuple[0])"
   ]
  },
  {
   "cell_type": "code",
   "execution_count": 49,
   "id": "c266f446",
   "metadata": {},
   "outputs": [
    {
     "name": "stdout",
     "output_type": "stream",
     "text": [
      "{'Joe': 175, 'Tom': 190, 'Dick': 150}\n"
     ]
    }
   ],
   "source": [
    "adict = {\"Joe\": 175,\"Tom\": 190,\"Dick\": 150}\n",
    "print(adict)"
   ]
  },
  {
   "cell_type": "code",
   "execution_count": 50,
   "id": "9c043bac",
   "metadata": {},
   "outputs": [
    {
     "name": "stdout",
     "output_type": "stream",
     "text": [
      "{'Joe': 175, 'Tom': 190, 'Dick': 150, 'Harry': 180}\n"
     ]
    }
   ],
   "source": [
    "adict[\"Harry\"] = 180\n",
    "print(adict)"
   ]
  },
  {
   "cell_type": "code",
   "execution_count": 52,
   "id": "caaa523f",
   "metadata": {},
   "outputs": [
    {
     "name": "stdout",
     "output_type": "stream",
     "text": [
      "{'Tom': 190, 'Dick': 150, 'Harry': 180}\n"
     ]
    }
   ],
   "source": [
    "del adict[\"Joe\"]\n",
    "print(adict)"
   ]
  },
  {
   "cell_type": "code",
   "execution_count": 53,
   "id": "c31ac32d",
   "metadata": {},
   "outputs": [
    {
     "ename": "KeyError",
     "evalue": "0",
     "output_type": "error",
     "traceback": [
      "\u001b[1;31m---------------------------------------------------------------------------\u001b[0m",
      "\u001b[1;31mKeyError\u001b[0m                                  Traceback (most recent call last)",
      "Cell \u001b[1;32mIn[53], line 1\u001b[0m\n\u001b[1;32m----> 1\u001b[0m entry1 \u001b[38;5;241m=\u001b[39m adict[\u001b[38;5;241m0\u001b[39m]\n\u001b[0;32m      2\u001b[0m \u001b[38;5;28mprint\u001b[39m(entry1)\n",
      "\u001b[1;31mKeyError\u001b[0m: 0"
     ]
    }
   ],
   "source": [
    "entry1 = adict[0]\n",
    "print(entry1)"
   ]
  },
  {
   "cell_type": "code",
   "execution_count": 1,
   "id": "90ce165e",
   "metadata": {},
   "outputs": [
    {
     "ename": "NameError",
     "evalue": "name 'adict' is not defined",
     "output_type": "error",
     "traceback": [
      "\u001b[1;31m---------------------------------------------------------------------------\u001b[0m",
      "\u001b[1;31mNameError\u001b[0m                                 Traceback (most recent call last)",
      "Cell \u001b[1;32mIn[1], line 1\u001b[0m\n\u001b[1;32m----> 1\u001b[0m \u001b[38;5;28mprint\u001b[39m(adict[\u001b[38;5;124m\"\u001b[39m\u001b[38;5;124mDick\u001b[39m\u001b[38;5;124m\"\u001b[39m])\n",
      "\u001b[1;31mNameError\u001b[0m: name 'adict' is not defined"
     ]
    }
   ],
   "source": [
    "print(adict[\"Dick\"])"
   ]
  },
  {
   "cell_type": "code",
   "execution_count": 2,
   "id": "12471754",
   "metadata": {},
   "outputs": [
    {
     "name": "stdout",
     "output_type": "stream",
     "text": [
      "rose\n",
      "peony\n",
      "lily\n",
      "rose\n",
      "daisy\n",
      "['rose', 'peony', 'lily', 'rose', 'daisy']\n",
      "aster\n",
      "['rose', 'aster', 'lily', 'rose', 'daisy', 'aster']\n",
      "['rose', 'lily', 'rose', 'daisy', 'aster']\n",
      "['rose', 'rose', 'daisy', 'aster']\n"
     ]
    }
   ],
   "source": [
    "# 1. TODO: Define my_list containing my_flower1, my_flower2, and my_flower3\n",
    "# in that order\n",
    "my_flower1 = input()\n",
    "my_flower2 = input()\n",
    "my_flower3 = input()\n",
    "my_list = [my_flower1, my_flower2, my_flower3]\n",
    "\n",
    "# 2. TODO: Define your_list containing your_flower1 and your_flower2\n",
    "# in that order\n",
    "your_flower1 = input()\n",
    "your_flower2 = input()\n",
    "your_list = [your_flower1, your_flower2]\n",
    "\n",
    "# 3. TODO: Define our_list by concatenating my_list and your_list\n",
    "our_list = my_list + your_list\n",
    "print(our_list)\n",
    "\n",
    "# 4. TODO: Append their_flower to the end of our_list\n",
    "their_flower = input()\n",
    "our_list.append(their_flower)\n",
    "\n",
    "# 5. TODO: Replace my_flower2 in our_list with their_flower\n",
    "our_list[my_list.index(my_flower2)] = their_flower\n",
    "print(our_list)\n",
    "\n",
    "# 6. TODO: Remove the first occurrence of their_flower from\n",
    "# our_list without using index()\n",
    "our_list.remove(their_flower)\n",
    "print(our_list)\n",
    "\n",
    "# 7. TODO: Remove the second element of our_list\n",
    "del our_list[1]\n",
    "print(our_list)"
   ]
  },
  {
   "cell_type": "code",
   "execution_count": 1,
   "id": "04a13408",
   "metadata": {},
   "outputs": [
    {
     "name": "stdout",
     "output_type": "stream",
     "text": [
      "Enter desired name:\n",
      "Bjork\n",
      "Bjork is an acceptable Danish name. Congratulations.\n",
      "Goodbye.\n"
     ]
    }
   ],
   "source": [
    "#A few legal, acceptable Danish names\n",
    "legal_names = ['Thor', 'Bjork', 'Bailey', 'Anders', 'Bent', 'Bjarne', 'Bjorn', \n",
    "    'Claus', 'Emil', 'Finn', 'Jakob', 'Karen', 'Julie', 'Johanne', 'Anna', 'Anne', \n",
    "    'Bente', 'Eva', 'Helene', 'Ida', 'Inge', 'Susanne', 'Sofie', 'Rikkie', 'Pia', \n",
    "    'Torben', 'Soren', 'Rune', 'Rasmus', 'Per', 'Michael', 'Mads', 'Hanne', \n",
    "    'Dorte'\n",
    "]\n",
    "\n",
    "user_name = input('Enter desired name:\\n')\n",
    "if user_name in legal_names:\n",
    "    print(f'{user_name} is an acceptable Danish name. Congratulations.')\n",
    "else:\n",
    "    print(f'{user_name} is not acceptable.')\n",
    "    for name in legal_names:\n",
    "        if user_name[0] == name[0]:\n",
    "            print(f'You might consider: {name},', end=' ')\n",
    "            break\n",
    "    else:\n",
    "        print('No close matches were found.')\n",
    "print('Goodbye.')\n"
   ]
  },
  {
   "cell_type": "code",
   "execution_count": 2,
   "id": "cca97a24",
   "metadata": {},
   "outputs": [
    {
     "name": "stdout",
     "output_type": "stream",
     "text": [
      "Enter desired name:\n",
      "Michaal\n",
      "Michaal is not acceptable.\n",
      "You might consider: Michael, Goodbye.\n"
     ]
    }
   ],
   "source": [
    "#A few legal, acceptable Danish names\n",
    "legal_names = ['Thor', 'Bjork', 'Bailey', 'Anders', 'Bent', 'Bjarne', 'Bjorn', \n",
    "    'Claus', 'Emil', 'Finn', 'Jakob', 'Karen', 'Julie', 'Johanne', 'Anna', 'Anne', \n",
    "    'Bente', 'Eva', 'Helene', 'Ida', 'Inge', 'Susanne', 'Sofie', 'Rikkie', 'Pia', \n",
    "    'Torben', 'Soren', 'Rune', 'Rasmus', 'Per', 'Michael', 'Mads', 'Hanne', \n",
    "    'Dorte'\n",
    "]\n",
    "\n",
    "user_name = input('Enter desired name:\\n')\n",
    "if user_name in legal_names:\n",
    "    print(f'{user_name} is an acceptable Danish name. Congratulations.')\n",
    "else:\n",
    "    print(f'{user_name} is not acceptable.')\n",
    "    for name in legal_names:\n",
    "        if user_name[0] == name[0]:\n",
    "            print(f'You might consider: {name},', end=' ')\n",
    "            break\n",
    "    else:\n",
    "        print('No close matches were found.')\n",
    "print('Goodbye.')\n"
   ]
  },
  {
   "cell_type": "code",
   "execution_count": 3,
   "id": "402dfc8d",
   "metadata": {},
   "outputs": [
    {
     "name": "stdout",
     "output_type": "stream",
     "text": [
      "Enter desired name:\n",
      "Zoidberg\n",
      "Zoidberg is not acceptable.\n",
      "No close matches were found.\n",
      "Goodbye.\n"
     ]
    }
   ],
   "source": [
    "#A few legal, acceptable Danish names\n",
    "legal_names = ['Thor', 'Bjork', 'Bailey', 'Anders', 'Bent', 'Bjarne', 'Bjorn', \n",
    "    'Claus', 'Emil', 'Finn', 'Jakob', 'Karen', 'Julie', 'Johanne', 'Anna', 'Anne', \n",
    "    'Bente', 'Eva', 'Helene', 'Ida', 'Inge', 'Susanne', 'Sofie', 'Rikkie', 'Pia', \n",
    "    'Torben', 'Soren', 'Rune', 'Rasmus', 'Per', 'Michael', 'Mads', 'Hanne', \n",
    "    'Dorte'\n",
    "]\n",
    "\n",
    "user_name = input('Enter desired name:\\n')\n",
    "if user_name in legal_names:\n",
    "    print(f'{user_name} is an acceptable Danish name. Congratulations.')\n",
    "else:\n",
    "    print(f'{user_name} is not acceptable.')\n",
    "    for name in legal_names:\n",
    "        if user_name[0] == name[0]:\n",
    "            print(f'You might consider: {name},', end=' ')\n",
    "            break\n",
    "    else:\n",
    "        print('No close matches were found.')\n",
    "print('Goodbye.')\n"
   ]
  },
  {
   "cell_type": "code",
   "execution_count": null,
   "id": "9205a424",
   "metadata": {},
   "outputs": [],
   "source": []
  }
 ],
 "metadata": {
  "kernelspec": {
   "display_name": "Python 3 (ipykernel)",
   "language": "python",
   "name": "python3"
  },
  "language_info": {
   "codemirror_mode": {
    "name": "ipython",
    "version": 3
   },
   "file_extension": ".py",
   "mimetype": "text/x-python",
   "name": "python",
   "nbconvert_exporter": "python",
   "pygments_lexer": "ipython3",
   "version": "3.11.7"
  }
 },
 "nbformat": 4,
 "nbformat_minor": 5
}
