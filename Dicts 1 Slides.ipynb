{
 "cells": [
  {
   "cell_type": "raw",
   "id": "c638b4d6",
   "metadata": {},
   "source": [
    "Exercise\n",
    "Create a dictionary to record the weights of Joe (175), Tom (190), and Dick (150). Print the dictionary."
   ]
  },
  {
   "cell_type": "code",
   "execution_count": 1,
   "id": "4b2d9e1b",
   "metadata": {},
   "outputs": [
    {
     "name": "stdout",
     "output_type": "stream",
     "text": [
      "{'Joe': 175, 'Tom': 190, 'Dick': 150}\n"
     ]
    }
   ],
   "source": [
    "adict = {\"Joe\":175,\"Tom\":190,\"Dick\":150}\n",
    "print(adict)"
   ]
  },
  {
   "cell_type": "raw",
   "id": "dfcec746",
   "metadata": {},
   "source": [
    "Exercise\n",
    "Add Harry, who weighs 180 pounds to the dictionary and print the new dictionary."
   ]
  },
  {
   "cell_type": "code",
   "execution_count": 2,
   "id": "71023b6b",
   "metadata": {},
   "outputs": [
    {
     "name": "stdout",
     "output_type": "stream",
     "text": [
      "{'Joe': 175, 'Tom': 190, 'Dick': 150, 'harry': 180.0}\n"
     ]
    }
   ],
   "source": [
    "adict[\"harry\"] = 180.\n",
    "print(adict)"
   ]
  },
  {
   "cell_type": "raw",
   "id": "ae484a13",
   "metadata": {},
   "source": [
    "Exercise\n",
    "Remove Joe from the dictionary and print the new dictionary."
   ]
  },
  {
   "cell_type": "code",
   "execution_count": 3,
   "id": "a8aa5602",
   "metadata": {},
   "outputs": [
    {
     "name": "stdout",
     "output_type": "stream",
     "text": [
      "{'Tom': 190, 'Dick': 150, 'harry': 180.0}\n"
     ]
    }
   ],
   "source": [
    "del adict[\"Joe\"]\n",
    "print(adict)"
   ]
  },
  {
   "cell_type": "raw",
   "id": "40b36ea2",
   "metadata": {},
   "source": [
    "Exercise\n",
    "Use the dict to look up Dick’s weight and print it."
   ]
  },
  {
   "cell_type": "code",
   "execution_count": 4,
   "id": "9ab52960",
   "metadata": {},
   "outputs": [
    {
     "name": "stdout",
     "output_type": "stream",
     "text": [
      "150\n"
     ]
    }
   ],
   "source": [
    "\n",
    "print(adict[\"Dick\"])"
   ]
  },
  {
   "cell_type": "raw",
   "id": "a0f512e7",
   "metadata": {},
   "source": [
    "Exercise\n",
    "Iterate over the items in the dictionary and calculate the sum of the weights. Print the sum."
   ]
  },
  {
   "cell_type": "code",
   "execution_count": 5,
   "id": "3571d4cb",
   "metadata": {},
   "outputs": [
    {
     "name": "stdout",
     "output_type": "stream",
     "text": [
      "520.0\n"
     ]
    }
   ],
   "source": [
    "sum = 0 \n",
    "for x in adict.values():\n",
    "    sum += x\n",
    "print(sum)    "
   ]
  },
  {
   "cell_type": "raw",
   "id": "41eb9a6f",
   "metadata": {},
   "source": [
    "Exercise\n",
    "Use the method items() to get the items in adict as returned_items. Print the object returned by the items() method. What is the type of this object?"
   ]
  },
  {
   "cell_type": "code",
   "execution_count": 6,
   "id": "1b5fae29",
   "metadata": {},
   "outputs": [
    {
     "name": "stdout",
     "output_type": "stream",
     "text": [
      "dict_items([('Tom', 190), ('Dick', 150), ('harry', 180.0)])\n",
      "<class 'dict_items'>\n"
     ]
    }
   ],
   "source": [
    "returned_items = adict.items()\n",
    "print(returned_items)\n",
    "print(type(returned_items))"
   ]
  },
  {
   "cell_type": "raw",
   "id": "e57d9ae4",
   "metadata": {},
   "source": [
    "Exercise\n",
    "Can you iterate over returned_items?"
   ]
  },
  {
   "cell_type": "code",
   "execution_count": 7,
   "id": "3fc13079",
   "metadata": {},
   "outputs": [
    {
     "name": "stdout",
     "output_type": "stream",
     "text": [
      "('Tom', 190)\n",
      "<class 'tuple'>\n",
      "('Dick', 150)\n",
      "<class 'tuple'>\n",
      "('harry', 180.0)\n",
      "<class 'tuple'>\n"
     ]
    }
   ],
   "source": [
    "for i in returned_items:\n",
    "    print(i)\n",
    "    print(type(i))"
   ]
  },
  {
   "cell_type": "raw",
   "id": "b738d1d4",
   "metadata": {},
   "source": [
    "Exercise\n",
    "Can you use an integer index to obtain one of the things in returned_items?"
   ]
  },
  {
   "cell_type": "code",
   "execution_count": 8,
   "id": "3b48a4c7",
   "metadata": {},
   "outputs": [
    {
     "ename": "TypeError",
     "evalue": "'dict_items' object is not subscriptable",
     "output_type": "error",
     "traceback": [
      "\u001b[1;31m---------------------------------------------------------------------------\u001b[0m",
      "\u001b[1;31mTypeError\u001b[0m                                 Traceback (most recent call last)",
      "Cell \u001b[1;32mIn[8], line 1\u001b[0m\n\u001b[1;32m----> 1\u001b[0m \u001b[38;5;28mprint\u001b[39m(returned_items[\u001b[38;5;241m0\u001b[39m])\n",
      "\u001b[1;31mTypeError\u001b[0m: 'dict_items' object is not subscriptable"
     ]
    }
   ],
   "source": [
    "print(returned_items[0])"
   ]
  },
  {
   "cell_type": "raw",
   "id": "8c5d1a98",
   "metadata": {},
   "source": [
    "Exercise\n",
    "Could you convert the object to a list and use an integer index. How about sorting."
   ]
  },
  {
   "cell_type": "code",
   "execution_count": 9,
   "id": "38e4ef9d",
   "metadata": {},
   "outputs": [
    {
     "name": "stdout",
     "output_type": "stream",
     "text": [
      "('Tom', 190)\n"
     ]
    }
   ],
   "source": [
    "print(list(returned_items)[0])"
   ]
  },
  {
   "cell_type": "code",
   "execution_count": 10,
   "id": "3c1b940e",
   "metadata": {},
   "outputs": [
    {
     "name": "stdout",
     "output_type": "stream",
     "text": [
      "<class 'list'>\n",
      "[('Dick', 150), ('Tom', 190), ('harry', 180.0)]\n"
     ]
    }
   ],
   "source": [
    "sorted_items = (sorted(returned_items))\n",
    "print(type(sorted_items))\n",
    "print(sorted_items)"
   ]
  },
  {
   "cell_type": "raw",
   "id": "367a0f6f",
   "metadata": {},
   "source": [
    "Swapping\n",
    "How would you swap the keys and values in a dictionary? Try it with this dictionary."
   ]
  },
  {
   "cell_type": "code",
   "execution_count": 11,
   "id": "6cf18661",
   "metadata": {},
   "outputs": [
    {
     "name": "stdout",
     "output_type": "stream",
     "text": [
      "{150: 'Dick', 190: 'Tom', 180.0: 'harry'}\n"
     ]
    }
   ],
   "source": [
    "new_dict = {}\n",
    "for key, value in sorted(adict.items()):\n",
    "    new_dict[value] = key\n",
    "\n",
    "print(new_dict)"
   ]
  },
  {
   "cell_type": "raw",
   "id": "83139655",
   "metadata": {},
   "source": [
    "Duplicate Values\n",
    "What happens if we do this and the same value occurs twice. Add Jerry with a weight of 150 and run the process again."
   ]
  },
  {
   "cell_type": "code",
   "execution_count": 12,
   "id": "9216005c",
   "metadata": {},
   "outputs": [
    {
     "name": "stdout",
     "output_type": "stream",
     "text": [
      "{150: 'Jerry', 190: 'Tom', 180.0: 'harry'}\n"
     ]
    }
   ],
   "source": [
    "adict[\"Jerry\"] = 150\n",
    "new_dict = {}\n",
    "for key, value in sorted(adict.items()):\n",
    "    new_dict[value] = key\n",
    "    \n",
    "print(new_dict)"
   ]
  },
  {
   "cell_type": "code",
   "execution_count": null,
   "id": "84270369",
   "metadata": {},
   "outputs": [],
   "source": []
  }
 ],
 "metadata": {
  "kernelspec": {
   "display_name": "Python 3 (ipykernel)",
   "language": "python",
   "name": "python3"
  },
  "language_info": {
   "codemirror_mode": {
    "name": "ipython",
    "version": 3
   },
   "file_extension": ".py",
   "mimetype": "text/x-python",
   "name": "python",
   "nbconvert_exporter": "python",
   "pygments_lexer": "ipython3",
   "version": "3.11.7"
  }
 },
 "nbformat": 4,
 "nbformat_minor": 5
}
