{
 "cells": [
  {
   "cell_type": "markdown",
   "id": "a97ac215",
   "metadata": {},
   "source": [
    "Keywords Description\n",
    "\n",
    "and\t--This is a logical operator which returns true if both the operands are true else returns false.\n",
    "or\t--This is also a logical operator which returns true if anyone operand is true else returns false.\n",
    "not\t--This is again a logical operator it returns True if the operand is false else returns false.\n",
    "if\t--This is used to make a conditional statement.\n",
    "elif\t--Elif is a condition statement used with an if statement. The elif statement is executed if the previous conditions were not true.\n",
    "else\t--Else is used with if and elif conditional statements. The else block is executed if the given condition is not true.\n",
    "for\tThis is used to create a loop.\n",
    "while\t--This keyword is used to create a while loop.\n",
    "break\t--This is used to terminate the loop.\n",
    "as\t--This is used to create an alternative.\n",
    "def\t--It helps us to define functions.\n",
    "lambda\t--It is used to define the anonymous function.\n",
    "pass\t--This is a null statement which means it will do nothing.\n",
    "return\t--It will return a value and exit the function.\n",
    "True\t--This is a boolean value.\n",
    "False\t--This is also a boolean value.\n",
    "try\t--It makes a try-except statement.\n",
    "with\t--The with keyword is used to simplify exception handling.\n",
    "assert\t--This function is used for debugging purposes. Usually used to check the correctness of code\n",
    "class\t--It helps us to define a class.\n",
    "continue\t--It continues to the next iteration of a loop\n",
    "del\t--It deletes a reference to an object.\n",
    "except\t--Used with exceptions, what to do when an exception occurs\n",
    "finally\t--Finally is used with exceptions, a block of code that will be executed no matter if there is an exception or not.\n",
    "from\t--It is used to import specific parts of any module.\n",
    "global\t--This declares a global variable.\n",
    "import\t--This is used to import a module.\n",
    "in\t--It’s used to check whether a value is present in a list, range, tuple, etc.\n",
    "is\t--This is used to check if the two variables are equal or not.\n",
    "none\t--This is a special constant used to denote a null value or avoid. It’s important to remember, 0, any empty container(e.g empty list) do not compute to None\n",
    "nonlocal\t--It’s declared a non-local variable.\n",
    "raise\t--This raises an exception.\n",
    "yield\t--It ends a function and returns a generator.\n",
    "async\t--It is used to create asynchronous coroutine.\n",
    "await\t--It releases the flow of control back to the event loop."
   ]
  }
 ],
 "metadata": {
  "kernelspec": {
   "display_name": "Python 3 (ipykernel)",
   "language": "python",
   "name": "python3"
  },
  "language_info": {
   "codemirror_mode": {
    "name": "ipython",
    "version": 3
   },
   "file_extension": ".py",
   "mimetype": "text/x-python",
   "name": "python",
   "nbconvert_exporter": "python",
   "pygments_lexer": "ipython3",
   "version": "3.11.7"
  }
 },
 "nbformat": 4,
 "nbformat_minor": 5
}
