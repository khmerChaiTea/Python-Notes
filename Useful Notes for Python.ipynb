{
 "cells": [
  {
   "cell_type": "markdown",
   "id": "a97ac215",
   "metadata": {},
   "source": [
    "Keywords Description\n",
    "\n",
    "and\tThis is a logical operator which returns true if both the operands are true else returns false.\n",
    "or\tThis is also a logical operator which returns true if anyone operand is true else returns false.\n",
    "not\tThis is again a logical operator it returns True if the operand is false else returns false.\n",
    "if\tThis is used to make a conditional statement.\n",
    "elif\tElif is a condition statement used with an if statement. The elif statement is executed if the previous conditions were not true.\n",
    "else\tElse is used with if and elif conditional statements. The else block is executed if the given condition is not true.\n",
    "for\tThis is used to create a loop.\n",
    "while\tThis keyword is used to create a while loop.\n",
    "break\tThis is used to terminate the loop.\n",
    "as\tThis is used to create an alternative.\n",
    "def\tIt helps us to define functions.\n",
    "lambda\tIt is used to define the anonymous function.\n",
    "pass\tThis is a null statement which means it will do nothing.\n",
    "return\tIt will return a value and exit the function.\n",
    "True\tThis is a boolean value.\n",
    "False\tThis is also a boolean value.\n",
    "try\tIt makes a try-except statement.\n",
    "with\tThe with keyword is used to simplify exception handling.\n",
    "assert\tThis function is used for debugging purposes. Usually used to check the correctness of code\n",
    "class\tIt helps us to define a class.\n",
    "continue\tIt continues to the next iteration of a loop\n",
    "del\tIt deletes a reference to an object.\n",
    "except\tUsed with exceptions, what to do when an exception occurs\n",
    "finally\tFinally is used with exceptions, a block of code that will be executed no matter if there is an exception or not.\n",
    "from\tIt is used to import specific parts of any module.\n",
    "global\tThis declares a global variable.\n",
    "import\tThis is used to import a module.\n",
    "in\tIt’s used to check whether a value is present in a list, range, tuple, etc.\n",
    "is\tThis is used to check if the two variables are equal or not.\n",
    "none\tThis is a special constant used to denote a null value or avoid. It’s important to remember, 0, any empty container(e.g empty list) do not compute to None\n",
    "nonlocal\tIt’s declared a non-local variable.\n",
    "raise\tThis raises an exception.\n",
    "yield\tIt ends a function and returns a generator.\n",
    "async\tIt is used to create asynchronous coroutine.\n",
    "await\tIt releases the flow of control back to the event loop."
   ]
  }
 ],
 "metadata": {
  "kernelspec": {
   "display_name": "Python 3 (ipykernel)",
   "language": "python",
   "name": "python3"
  },
  "language_info": {
   "codemirror_mode": {
    "name": "ipython",
    "version": 3
   },
   "file_extension": ".py",
   "mimetype": "text/x-python",
   "name": "python",
   "nbconvert_exporter": "python",
   "pygments_lexer": "ipython3",
   "version": "3.11.7"
  }
 },
 "nbformat": 4,
 "nbformat_minor": 5
}
