{
 "cells": [
  {
   "cell_type": "markdown",
   "id": "b44dae0c",
   "metadata": {},
   "source": [
    "lyric = 99 + \"bottles of pop on the wall\" <= TypeError\n",
    "\n",
    "    print(\"Friday,Friday\") <= IndentationError\n",
    "    \n",
    "int(\"Thursday\") <= ValueError\n",
    "\n",
    "day_of_the_week = Friday <= NameError\n",
    "\n",
    "print('Today is Monday\") <= SyntaxError"
   ]
  },
  {
   "cell_type": "code",
   "execution_count": 3,
   "id": "07855361",
   "metadata": {},
   "outputs": [
    {
     "name": "stdout",
     "output_type": "stream",
     "text": [
      "250\n",
      "0.71429\n"
     ]
    }
   ],
   "source": [
    "wall_area = float(input())\n",
    "print(f'{(wall_area/350.0):.5f}')"
   ]
  },
  {
   "cell_type": "code",
   "execution_count": 4,
   "id": "fccbdec6",
   "metadata": {},
   "outputs": [
    {
     "name": "stdout",
     "output_type": "stream",
     "text": [
      "3.4\n",
      "0.003 micrometers\n"
     ]
    }
   ],
   "source": [
    "length_nano = float(input())\n",
    "length_micro = length_nano / 1000\n",
    "print(f'{length_micro:.3f} micrometers')"
   ]
  },
  {
   "cell_type": "code",
   "execution_count": 6,
   "id": "497c7f95",
   "metadata": {},
   "outputs": [
    {
     "name": "stdout",
     "output_type": "stream",
     "text": [
      "49\n",
      "Circumference of a circle: 307.88\n"
     ]
    }
   ],
   "source": [
    "PI = 3.14159\n",
    "radius_of_circle = float(input())\n",
    "circum_of_circle = 2 * radius_of_circle * PI\n",
    "print(f'Circumference of a circle: {circum_of_circle:.2f}')"
   ]
  },
  {
   "cell_type": "code",
   "execution_count": 7,
   "id": "fb47d6ed",
   "metadata": {},
   "outputs": [
    {
     "name": "stdout",
     "output_type": "stream",
     "text": [
      "5\n",
      "10\n",
      "Average weight: 630.00\n"
     ]
    }
   ],
   "source": [
    "bison_pounds = 660\n",
    "zebra_pounds = 615\n",
    "num_bison = int(input())\n",
    "num_zebras = int(input())\n",
    "average_weight = ((bison_pounds * num_bison) + (zebra_pounds * num_zebras)) / (num_bison + num_zebras)\n",
    "print(f'Average weight: {average_weight:.2f}')"
   ]
  },
  {
   "cell_type": "code",
   "execution_count": null,
   "id": "77449b15",
   "metadata": {},
   "outputs": [],
   "source": []
  }
 ],
 "metadata": {
  "kernelspec": {
   "display_name": "Python 3 (ipykernel)",
   "language": "python",
   "name": "python3"
  },
  "language_info": {
   "codemirror_mode": {
    "name": "ipython",
    "version": 3
   },
   "file_extension": ".py",
   "mimetype": "text/x-python",
   "name": "python",
   "nbconvert_exporter": "python",
   "pygments_lexer": "ipython3",
   "version": "3.11.7"
  }
 },
 "nbformat": 4,
 "nbformat_minor": 5
}
