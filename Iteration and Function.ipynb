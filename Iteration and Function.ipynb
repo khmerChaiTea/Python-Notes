{
 "cells": [
  {
   "cell_type": "markdown",
   "id": "09571067",
   "metadata": {},
   "source": [
    "Iteration"
   ]
  },
  {
   "cell_type": "code",
   "execution_count": 1,
   "id": "117149cc",
   "metadata": {},
   "outputs": [
    {
     "name": "stdout",
     "output_type": "stream",
     "text": [
      "1\n",
      "2\n",
      "3\n",
      "4\n",
      "5\n",
      "6\n",
      "7\n"
     ]
    }
   ],
   "source": [
    "j = 0\n",
    "while j < 7:\n",
    "    j = j + 1\n",
    "    print(j)"
   ]
  },
  {
   "cell_type": "code",
   "execution_count": 2,
   "id": "a41505f3",
   "metadata": {},
   "outputs": [
    {
     "name": "stdout",
     "output_type": "stream",
     "text": [
      "4\n",
      "5\n",
      "6\n",
      "7\n",
      "8\n",
      "9\n",
      "10\n",
      "11\n"
     ]
    }
   ],
   "source": [
    "k = 3\n",
    "while k <= 10:\n",
    "    k = k + 1\n",
    "    print(k)"
   ]
  },
  {
   "cell_type": "code",
   "execution_count": 3,
   "id": "cd1c5cd5",
   "metadata": {},
   "outputs": [
    {
     "name": "stdout",
     "output_type": "stream",
     "text": [
      "0\n",
      "1\n",
      "2\n",
      "3\n",
      "4\n",
      "5\n",
      "6\n",
      "7\n",
      "8\n",
      "9\n"
     ]
    }
   ],
   "source": [
    "for k in range(10):\n",
    "    print(k)"
   ]
  },
  {
   "cell_type": "code",
   "execution_count": 4,
   "id": "ea9f7bbb",
   "metadata": {},
   "outputs": [
    {
     "name": "stdout",
     "output_type": "stream",
     "text": [
      "1\n",
      "2\n",
      "3\n",
      "4\n",
      "5\n",
      "6\n",
      "7\n",
      "8\n",
      "9\n",
      "10\n"
     ]
    }
   ],
   "source": [
    "for k in range(10):\n",
    "    k = k + 1\n",
    "    print(k)"
   ]
  },
  {
   "cell_type": "code",
   "execution_count": 5,
   "id": "16c0aea4",
   "metadata": {},
   "outputs": [
    {
     "name": "stdout",
     "output_type": "stream",
     "text": [
      "1\n",
      "2\n",
      "3\n",
      "4\n",
      "5\n",
      "6\n",
      "7\n",
      "8\n",
      "9\n",
      "10\n"
     ]
    }
   ],
   "source": [
    "for k in range(1,11):\n",
    "    print(k)"
   ]
  },
  {
   "cell_type": "code",
   "execution_count": 6,
   "id": "3ebdc05a",
   "metadata": {},
   "outputs": [
    {
     "name": "stdout",
     "output_type": "stream",
     "text": [
      "0 0\n",
      "1 1\n",
      "2 4\n",
      "3 9\n"
     ]
    }
   ],
   "source": [
    "for k in range(7):\n",
    "    l = k**2\n",
    "    if k == 4:\n",
    "        break\n",
    "    print(k,l)"
   ]
  },
  {
   "cell_type": "code",
   "execution_count": 7,
   "id": "5fe253c7",
   "metadata": {},
   "outputs": [
    {
     "name": "stdout",
     "output_type": "stream",
     "text": [
      "0 0\n",
      "1 1\n",
      "2 4\n",
      "3 9\n",
      "5 25\n",
      "6 36\n"
     ]
    }
   ],
   "source": [
    "for k in range(7):\n",
    "    l = k**2\n",
    "    if k == 4:\n",
    "        continue\n",
    "    print(k,l)"
   ]
  },
  {
   "cell_type": "code",
   "execution_count": 8,
   "id": "0c6ee961",
   "metadata": {},
   "outputs": [
    {
     "name": "stdout",
     "output_type": "stream",
     "text": [
      "4.6\n"
     ]
    }
   ],
   "source": [
    "my_list = [2,3,4,5,9]\n",
    "\n",
    "sum = 0\n",
    "n = 0\n",
    "for i in my_list:\n",
    "    sum = sum + i\n",
    "    n = n + 1\n",
    "mean = sum/n\n",
    "print(mean)"
   ]
  },
  {
   "cell_type": "code",
   "execution_count": 9,
   "id": "8fbb8553",
   "metadata": {},
   "outputs": [
    {
     "name": "stdout",
     "output_type": "stream",
     "text": [
      "5.666666666666667\n"
     ]
    }
   ],
   "source": [
    "my_list = [2,3,4,5,9]\n",
    "\n",
    "sum = 0\n",
    "n = 0\n",
    "for i in my_list:\n",
    "    if i%2 != 0:\n",
    "        sum = sum + i\n",
    "        n = n + 1\n",
    "mean = sum/n\n",
    "print(mean)"
   ]
  },
  {
   "cell_type": "code",
   "execution_count": 10,
   "id": "e78a86c4",
   "metadata": {},
   "outputs": [
    {
     "name": "stdout",
     "output_type": "stream",
     "text": [
      "127\n"
     ]
    }
   ],
   "source": [
    "n_list = [1,-5,16,76,127,4]\n",
    "lrgv = n_list[0]\n",
    "for i in n_list:\n",
    "    if i > lrgv:\n",
    "        lrgv = i\n",
    "print(lrgv)"
   ]
  },
  {
   "cell_type": "code",
   "execution_count": 11,
   "id": "7b9b3eb2",
   "metadata": {},
   "outputs": [
    {
     "name": "stdout",
     "output_type": "stream",
     "text": [
      "-5\n"
     ]
    }
   ],
   "source": [
    "n_list = [1,-5,16,76,127,4]\n",
    "smlv = n_list[0]\n",
    "for i in n_list:\n",
    "    if i < smlv:\n",
    "        smlv = i\n",
    "print(smlv)"
   ]
  },
  {
   "cell_type": "code",
   "execution_count": 12,
   "id": "da762304",
   "metadata": {},
   "outputs": [
    {
     "name": "stdout",
     "output_type": "stream",
     "text": [
      "<enumerate object at 0x0000028AFB8A4BD0>\n"
     ]
    }
   ],
   "source": [
    "alist = [\"Tom\", \"Dick\", \"Harry\"]\n",
    "print(enumerate(alist))"
   ]
  },
  {
   "cell_type": "code",
   "execution_count": 13,
   "id": "db174e6b",
   "metadata": {},
   "outputs": [
    {
     "name": "stdout",
     "output_type": "stream",
     "text": [
      "(0, 'Tom') <class 'tuple'>\n",
      "(1, 'Dick') <class 'tuple'>\n",
      "(2, 'Harry') <class 'tuple'>\n"
     ]
    }
   ],
   "source": [
    "for item in enumerate(alist):\n",
    "    print(item, type(item))"
   ]
  },
  {
   "cell_type": "code",
   "execution_count": 14,
   "id": "12c83b0e",
   "metadata": {},
   "outputs": [
    {
     "name": "stdout",
     "output_type": "stream",
     "text": [
      "(0, 'Tom') 0 Tom\n",
      "(1, 'Dick') 1 Dick\n",
      "(2, 'Harry') 2 Harry\n"
     ]
    }
   ],
   "source": [
    "for item in enumerate(alist):\n",
    "    index, value = item\n",
    "    print(item, index, value)"
   ]
  },
  {
   "cell_type": "code",
   "execution_count": 16,
   "id": "a7bdab11",
   "metadata": {},
   "outputs": [
    {
     "name": "stdout",
     "output_type": "stream",
     "text": [
      "True\n",
      "False\n"
     ]
    }
   ],
   "source": [
    "def s(m,n):\n",
    "    return m%n == 0\n",
    "print(s(6,2))\n",
    "print(s(7,2))"
   ]
  },
  {
   "cell_type": "code",
   "execution_count": 17,
   "id": "c00a65db",
   "metadata": {},
   "outputs": [
    {
     "name": "stdout",
     "output_type": "stream",
     "text": [
      "9\n",
      "None\n"
     ]
    }
   ],
   "source": [
    "def s(m):\n",
    "    print(m * m)\n",
    "a = s(3)\n",
    "print(a)"
   ]
  },
  {
   "cell_type": "code",
   "execution_count": null,
   "id": "fda4c99d",
   "metadata": {},
   "outputs": [],
   "source": []
  }
 ],
 "metadata": {
  "kernelspec": {
   "display_name": "Python 3 (ipykernel)",
   "language": "python",
   "name": "python3"
  },
  "language_info": {
   "codemirror_mode": {
    "name": "ipython",
    "version": 3
   },
   "file_extension": ".py",
   "mimetype": "text/x-python",
   "name": "python",
   "nbconvert_exporter": "python",
   "pygments_lexer": "ipython3",
   "version": "3.11.7"
  }
 },
 "nbformat": 4,
 "nbformat_minor": 5
}
