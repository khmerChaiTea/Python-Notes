{
 "cells": [
  {
   "cell_type": "markdown",
   "id": "f75615b3",
   "metadata": {},
   "source": [
    "Strings"
   ]
  },
  {
   "cell_type": "markdown",
   "id": "f3bcc727",
   "metadata": {},
   "source": [
    "Exercise\n",
    "Create a string, my_name, containing your name including your first name and last name separated by a single blank space. Then put the second character of your name in the variable second and print second."
   ]
  },
  {
   "cell_type": "code",
   "execution_count": 1,
   "id": "f190fee3",
   "metadata": {},
   "outputs": [
    {
     "name": "stdout",
     "output_type": "stream",
     "text": [
      "a\n"
     ]
    }
   ],
   "source": [
    "my_name = \"Harold Nelson\"\n",
    "second = my_name[1]\n",
    "print(second)"
   ]
  },
  {
   "cell_type": "markdown",
   "id": "e0287271",
   "metadata": {},
   "source": [
    "Exercise\n",
    "Compute and print the length of the string my_name."
   ]
  },
  {
   "cell_type": "code",
   "execution_count": 2,
   "id": "50b1b186",
   "metadata": {},
   "outputs": [
    {
     "name": "stdout",
     "output_type": "stream",
     "text": [
      "13\n"
     ]
    }
   ],
   "source": [
    "print(len(my_name))"
   ]
  },
  {
   "cell_type": "markdown",
   "id": "edc617a7",
   "metadata": {},
   "source": [
    "Exercise\n",
    "Extract the last character of my_name and print it. Use a positive index."
   ]
  },
  {
   "cell_type": "code",
   "execution_count": 3,
   "id": "cd8b3ccf",
   "metadata": {},
   "outputs": [
    {
     "name": "stdout",
     "output_type": "stream",
     "text": [
      "n\n"
     ]
    }
   ],
   "source": [
    "print(my_name[12])"
   ]
  },
  {
   "cell_type": "markdown",
   "id": "7cde40fe",
   "metadata": {},
   "source": [
    "Note that you need to use one less than the length of the string to reference its last character. This is a consequence of indexing from 0."
   ]
  },
  {
   "cell_type": "markdown",
   "id": "56c6d0af",
   "metadata": {},
   "source": [
    "Exercise\n",
    "Use a while loop to print each character of my_name."
   ]
  },
  {
   "cell_type": "code",
   "execution_count": 4,
   "id": "659cc100",
   "metadata": {},
   "outputs": [
    {
     "name": "stdout",
     "output_type": "stream",
     "text": [
      "H\n",
      "a\n",
      "r\n",
      "o\n",
      "l\n",
      "d\n",
      " \n",
      "N\n",
      "e\n",
      "l\n",
      "s\n",
      "o\n",
      "n\n"
     ]
    }
   ],
   "source": [
    "length = len(my_name)\n",
    "pos = 0\n",
    "while pos <  length:\n",
    "    print(my_name[pos])\n",
    "    pos = pos + 1"
   ]
  },
  {
   "cell_type": "markdown",
   "id": "9dec2b53",
   "metadata": {},
   "source": [
    "Exercise\n",
    "Use a for loop and the in operator to repeat the exercise above."
   ]
  },
  {
   "cell_type": "code",
   "execution_count": 5,
   "id": "dfe33141",
   "metadata": {},
   "outputs": [
    {
     "name": "stdout",
     "output_type": "stream",
     "text": [
      "H\n",
      "a\n",
      "r\n",
      "o\n",
      "l\n",
      "d\n",
      " \n",
      "N\n",
      "e\n",
      "l\n",
      "s\n",
      "o\n",
      "n\n"
     ]
    }
   ],
   "source": [
    "for letter in my_name:\n",
    "     print(letter)"
   ]
  },
  {
   "cell_type": "markdown",
   "id": "ace26931",
   "metadata": {},
   "source": [
    "Note that the definite loop is much easier since you don't need to think about indexing."
   ]
  },
  {
   "cell_type": "markdown",
   "id": "a8969bc0",
   "metadata": {},
   "source": [
    "Exercise\n",
    "Create a and print a string \"straddle\" consisting of the last character of your first name, the blank space, and the first character of your last name. Use slicing."
   ]
  },
  {
   "cell_type": "code",
   "execution_count": 6,
   "id": "05ea49d7",
   "metadata": {},
   "outputs": [
    {
     "name": "stdout",
     "output_type": "stream",
     "text": [
      "d N\n"
     ]
    }
   ],
   "source": [
    "straddle = my_name[5:8]\n",
    "print(straddle)"
   ]
  },
  {
   "cell_type": "markdown",
   "id": "07b19fc6",
   "metadata": {},
   "source": [
    "Exercise\n",
    "Manually locate the index of the blank space and call it blank_pos. Use this variable to get strings first_name and last_name using slice specifications with only one number. Print the values of blank_pos, first_name and last_name."
   ]
  },
  {
   "cell_type": "code",
   "execution_count": 7,
   "id": "ef64b599",
   "metadata": {},
   "outputs": [
    {
     "name": "stdout",
     "output_type": "stream",
     "text": [
      "6\n",
      "Harold\n",
      "Nelson\n"
     ]
    }
   ],
   "source": [
    "blank_pos = 6\n",
    "first_name = my_name[:blank_pos]\n",
    "last_name = my_name[blank_pos + 1:]\n",
    "print(blank_pos)\n",
    "print(first_name)\n",
    "print(last_name)"
   ]
  },
  {
   "cell_type": "markdown",
   "id": "e47b2225",
   "metadata": {},
   "source": [
    "Exercise\n",
    "Used find() to locate the position of the blank space in my_name as blank_pos_2. Test for the equality of blank_pos and blank_pos_2."
   ]
  },
  {
   "cell_type": "code",
   "execution_count": 8,
   "id": "a4b667d6",
   "metadata": {},
   "outputs": [
    {
     "name": "stdout",
     "output_type": "stream",
     "text": [
      "True\n"
     ]
    }
   ],
   "source": [
    "blank_pos_2 = my_name.find(' ')\n",
    "print(blank_pos == blank_pos_2)"
   ]
  },
  {
   "cell_type": "markdown",
   "id": "edbf01d5",
   "metadata": {},
   "source": [
    "Exercise\n",
    "Use string functions to do each of the following and print the results.\n",
    "\n",
    "Create lower_name, your name in lower case letters.\n",
    "\n",
    "Create cap_name, your name capitalized, starting from name_lower.\n",
    "\n",
    "Create both_caps, both your first and last names are capitalized.\n",
    "\n",
    "create upper_name, your name in upper case, starting from lower_name.\n",
    "\n",
    "Create devoweled, your name with every vowel replaced with 'x'."
   ]
  },
  {
   "cell_type": "code",
   "execution_count": 9,
   "id": "305a7dd1",
   "metadata": {},
   "outputs": [
    {
     "name": "stdout",
     "output_type": "stream",
     "text": [
      "harold nelson\n",
      "Harold nelson\n",
      "Harold Nelson\n",
      "HAROLD NELSON\n",
      "Hxrxld Nxlsxn\n"
     ]
    }
   ],
   "source": [
    "lower_name = my_name.lower()\n",
    "print(lower_name)\n",
    "\n",
    "cap_name = lower_name.capitalize()\n",
    "print(cap_name)\n",
    "\n",
    "both_caps = lower_name.title()\n",
    "print(both_caps)\n",
    "\n",
    "upper_name = lower_name.upper()\n",
    "print(upper_name)\n",
    "\n",
    "devoweled = my_name.replace(\"a\",\"x\")\n",
    "devoweled = devoweled.replace(\"e\",\"x\")\n",
    "devoweled = devoweled.replace(\"i\",\"x\")\n",
    "devoweled = devoweled.replace(\"o\",\"x\")\n",
    "devoweled = devoweled.replace(\"u\",\"x\")\n",
    "\n",
    "print(devoweled)"
   ]
  },
  {
   "cell_type": "markdown",
   "id": "62cffc97",
   "metadata": {},
   "source": [
    "Exercise\n",
    "Create a function check which returns True if a name ends with 'sen' or 'son' and returns False otherwise. Test your function with the names Johnson, Smith and Andersen."
   ]
  },
  {
   "cell_type": "code",
   "execution_count": 10,
   "id": "4f2fada5",
   "metadata": {},
   "outputs": [
    {
     "name": "stdout",
     "output_type": "stream",
     "text": [
      "True\n",
      "False\n",
      "True\n"
     ]
    }
   ],
   "source": [
    "\n",
    "def check(name):\n",
    "    return name.endswith('son') or name.endswith('sen')\n",
    "\n",
    "print(check(\"Johnson\"))  \n",
    "print(check(\"Smith\"))\n",
    "print(check(\"Andersen\"))"
   ]
  },
  {
   "cell_type": "markdown",
   "id": "f60ef1ba",
   "metadata": {},
   "source": [
    "Comment on Immutability\n",
    "One salient characteristic of strings is that they are immutable. Once a string is created, it's value can't be changed.\n",
    "\n",
    "Exercise\n",
    "Try the following code and observe what happens. It attempts to capitalize a string."
   ]
  },
  {
   "cell_type": "code",
   "execution_count": 11,
   "id": "994ad351",
   "metadata": {},
   "outputs": [
    {
     "ename": "TypeError",
     "evalue": "'str' object does not support item assignment",
     "output_type": "error",
     "traceback": [
      "\u001b[1;31m---------------------------------------------------------------------------\u001b[0m",
      "\u001b[1;31mTypeError\u001b[0m                                 Traceback (most recent call last)",
      "Cell \u001b[1;32mIn[11], line 2\u001b[0m\n\u001b[0;32m      1\u001b[0m s \u001b[38;5;241m=\u001b[39m \u001b[38;5;124m\"\u001b[39m\u001b[38;5;124mabc\u001b[39m\u001b[38;5;124m\"\u001b[39m\n\u001b[1;32m----> 2\u001b[0m s[\u001b[38;5;241m0\u001b[39m] \u001b[38;5;241m=\u001b[39m \u001b[38;5;124m\"\u001b[39m\u001b[38;5;124mA\u001b[39m\u001b[38;5;124m\"\u001b[39m\n\u001b[0;32m      3\u001b[0m \u001b[38;5;28mprint\u001b[39m(s)\n",
      "\u001b[1;31mTypeError\u001b[0m: 'str' object does not support item assignment"
     ]
    }
   ],
   "source": [
    "s = \"abc\"\n",
    "s[0] = \"A\"\n",
    "print(s)"
   ]
  },
  {
   "cell_type": "markdown",
   "id": "2ae66e10",
   "metadata": {},
   "source": [
    "Exercise\n",
    "Try the following code and see what it does."
   ]
  },
  {
   "cell_type": "code",
   "execution_count": 12,
   "id": "6dfcea1e",
   "metadata": {},
   "outputs": [
    {
     "name": "stdout",
     "output_type": "stream",
     "text": [
      "Abc\n"
     ]
    }
   ],
   "source": [
    "s = \"abc\"\n",
    "s = s.capitalize()\n",
    "print(s)"
   ]
  },
  {
   "cell_type": "markdown",
   "id": "f83cc344",
   "metadata": {},
   "source": [
    "Huh??\n",
    "Did I get away with violating immutability?\n",
    "\n",
    "https://realpython.com/python-variables/ is worth reading.\n",
    "\n",
    "Here's the bottom line. There are three distinct things.\n",
    "\n",
    "Name\n",
    "Object\n",
    "Value\n",
    "You can't change a string object.\n",
    "\n",
    "You can re-use a name to point to a different object."
   ]
  },
  {
   "cell_type": "code",
   "execution_count": 13,
   "id": "eb1693da",
   "metadata": {},
   "outputs": [
    {
     "name": "stdout",
     "output_type": "stream",
     "text": [
      "140717666232112\n",
      "140717666232112\n",
      "Abc\n",
      "2997215976112\n",
      "abc\n"
     ]
    }
   ],
   "source": [
    "s = \"abc\"\n",
    "t = s\n",
    "print(id(s))\n",
    "print(id(t))\n",
    "s = s.capitalize()\n",
    "print(s)\n",
    "print(id(s))\n",
    "print(t)"
   ]
  },
  {
   "cell_type": "markdown",
   "id": "cfb24565",
   "metadata": {},
   "source": [
    "Exercise\n",
    "We can use our accumulation pattern to build a string by starting with an empty string and adding to it by concatenation. Use this fact to write a program to start with the string \"Use this fact\" and build a string consisting of all the vowels in the original string.\n",
    "\n",
    "Note: Start by creating a string consisting of all the vowels, both uppercase and lowercase. Remember that the operator \"in\" can test for the presence of a character in a string."
   ]
  },
  {
   "cell_type": "code",
   "execution_count": 14,
   "id": "2a5a26ca",
   "metadata": {},
   "outputs": [
    {
     "name": "stdout",
     "output_type": "stream",
     "text": [
      "Ueia\n"
     ]
    }
   ],
   "source": [
    "vowels = \"aeiouAEIOU\"\n",
    "s = \"Use this fact\"\n",
    "res = \"\"\n",
    "for i in s:\n",
    "    if i in vowels:\n",
    "        res = res + i\n",
    "print(res)"
   ]
  },
  {
   "cell_type": "markdown",
   "id": "27aade41",
   "metadata": {},
   "source": [
    "Exercise\n",
    "Repeat the previous exercise with a little twist. In addition to accepting only vowels, require that the index of the character be even."
   ]
  },
  {
   "cell_type": "code",
   "execution_count": 15,
   "id": "505033fe",
   "metadata": {},
   "outputs": [
    {
     "name": "stdout",
     "output_type": "stream",
     "text": [
      "Ueia\n"
     ]
    }
   ],
   "source": [
    "vowels = \"aeiouAEIOU\"\n",
    "s = \"Use this fact\"\n",
    "res = \"\"\n",
    "for index, character in enumerate(s):\n",
    "    if index % 2 == 0 and character in vowels:\n",
    "        res = res + character\n",
    "print(res)"
   ]
  },
  {
   "cell_type": "markdown",
   "id": "7d10e2ef",
   "metadata": {},
   "source": [
    "Exercise\n",
    "Write a program that prompts the user for the name of a file and then outputs that file’s type (docx, html, etc.) case-insensitively. Assume that the name includes only one \".\"."
   ]
  },
  {
   "cell_type": "code",
   "execution_count": 16,
   "id": "e170075d",
   "metadata": {},
   "outputs": [
    {
     "name": "stdout",
     "output_type": "stream",
     "text": [
      "Name of file? x.jpg\n",
      "jpg\n"
     ]
    }
   ],
   "source": [
    "fn = input(\"Name of file? \")\n",
    "dot_loc = fn.find(\".\")\n",
    "ftype = fn[dot_loc +1:]\n",
    "print(ftype)"
   ]
  },
  {
   "cell_type": "code",
   "execution_count": null,
   "id": "5e042494",
   "metadata": {},
   "outputs": [],
   "source": []
  }
 ],
 "metadata": {
  "kernelspec": {
   "display_name": "Python 3 (ipykernel)",
   "language": "python",
   "name": "python3"
  },
  "language_info": {
   "codemirror_mode": {
    "name": "ipython",
    "version": 3
   },
   "file_extension": ".py",
   "mimetype": "text/x-python",
   "name": "python",
   "nbconvert_exporter": "python",
   "pygments_lexer": "ipython3",
   "version": "3.11.7"
  }
 },
 "nbformat": 4,
 "nbformat_minor": 5
}
