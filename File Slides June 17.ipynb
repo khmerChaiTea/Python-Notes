{
 "cells": [
  {
   "cell_type": "code",
   "execution_count": 1,
   "id": "00061a87",
   "metadata": {},
   "outputs": [
    {
     "name": "stdout",
     "output_type": "stream",
     "text": [
      "A BC D\n"
     ]
    }
   ],
   "source": [
    "sample = open(\"sample.txt\",'w')\n",
    "sample.write(\"A B\")\n",
    "sample.write(\"C D\")\n",
    "sample.close()\n",
    "\n",
    "sample = open(\"sample.txt\",\"r\")\n",
    "data = sample.read()\n",
    "print(data)"
   ]
  },
  {
   "cell_type": "code",
   "execution_count": 2,
   "id": "0e7b386d",
   "metadata": {},
   "outputs": [
    {
     "name": "stdout",
     "output_type": "stream",
     "text": [
      "C D\n"
     ]
    }
   ],
   "source": [
    "sample = open(\"sample.txt\",'w')\n",
    "sample.write(\"A B\")\n",
    "sample.close()\n",
    "sample = open(\"sample.txt\",'w')\n",
    "sample.write(\"C D\")\n",
    "sample.close()\n",
    "\n",
    "sample = open(\"sample.txt\",\"r\")\n",
    "data = sample.read()\n",
    "print(data)"
   ]
  },
  {
   "cell_type": "code",
   "execution_count": 3,
   "id": "487df5ba",
   "metadata": {},
   "outputs": [
    {
     "name": "stdout",
     "output_type": "stream",
     "text": [
      "A BC D\n"
     ]
    }
   ],
   "source": [
    "sample = open(\"sample.txt\",'w')\n",
    "sample.write(\"A B\")\n",
    "sample.close()\n",
    "sample = open(\"sample.txt\",'a')\n",
    "sample.write(\"C D\")\n",
    "sample.close()\n",
    "\n",
    "sample = open(\"sample.txt\",\"r\")\n",
    "data = sample.read()\n",
    "print(data)"
   ]
  },
  {
   "cell_type": "code",
   "execution_count": 4,
   "id": "40396597",
   "metadata": {},
   "outputs": [
    {
     "name": "stdout",
     "output_type": "stream",
     "text": [
      "A BC D\n"
     ]
    }
   ],
   "source": [
    "sample = open(\"sample.txt\",'w')\n",
    "sample.writelines([\"A B\"])\n",
    "sample.close()\n",
    "sample = open(\"sample.txt\",'a')\n",
    "sample.writelines([\"C D\"])\n",
    "sample.close()\n",
    "\n",
    "sample = open(\"sample.txt\",\"r\")\n",
    "data = sample.read()\n",
    "print(data)"
   ]
  },
  {
   "cell_type": "code",
   "execution_count": 5,
   "id": "45a5bfc0",
   "metadata": {},
   "outputs": [
    {
     "name": "stdout",
     "output_type": "stream",
     "text": [
      "A B\n",
      "C D\n"
     ]
    }
   ],
   "source": [
    "sample = open(\"sample.txt\",'w')\n",
    "sample.writelines([\"A B\\n\"])\n",
    "sample.close()\n",
    "sample = open(\"sample.txt\",'a')\n",
    "sample.writelines([\"C D\"])\n",
    "sample.close()\n",
    "\n",
    "sample = open(\"sample.txt\",\"r\")\n",
    "data = sample.read()\n",
    "print(data)"
   ]
  },
  {
   "cell_type": "code",
   "execution_count": 6,
   "id": "eead2676",
   "metadata": {},
   "outputs": [
    {
     "name": "stdout",
     "output_type": "stream",
     "text": [
      "A B\n",
      "C D\n"
     ]
    }
   ],
   "source": [
    "# Writing \"A B\" with a newline character\n",
    "sample = open(\"sample.txt\", 'w')\n",
    "sample.write(\"A B\\n\")  # Using write instead of writelines\n",
    "sample.close()\n",
    "\n",
    "# Appending \"C D\"\n",
    "sample = open(\"sample.txt\", 'a')\n",
    "sample.write(\"C D\")  # Using write here as well\n",
    "sample.close()\n",
    "\n",
    "# Reading the file\n",
    "sample = open(\"sample.txt\", \"r\")\n",
    "data = sample.read()\n",
    "sample.close()\n",
    "\n",
    "print(data) "
   ]
  },
  {
   "cell_type": "raw",
   "id": "304d6d15",
   "metadata": {},
   "source": [
    "Exercise\n",
    "You have a file \"Pride and Prejudice.txt\" in Moodle. Move the file to your working directory and write a program to read the contents of the file line by line into a list called lines. Iterate over the file handle to do this. In the reading loop, count the number of lines you read. Compare this with the length of the list you get from the len() function. Don't forget to close the file."
   ]
  },
  {
   "cell_type": "code",
   "execution_count": 7,
   "id": "e4efcb01",
   "metadata": {},
   "outputs": [
    {
     "name": "stdout",
     "output_type": "stream",
     "text": [
      "13035\n",
      "13035\n"
     ]
    }
   ],
   "source": [
    "count = 0\n",
    "lines = []\n",
    "fh = open(\"Pride and Prejudice.txt\",\"r\", encoding='utf-8')\n",
    "for line in fh:\n",
    "    lines.append(line)\n",
    "    count = count + 1\n",
    "print(len(lines)) \n",
    "print(count)\n",
    "fh.close()"
   ]
  },
  {
   "cell_type": "raw",
   "id": "9703a964",
   "metadata": {},
   "source": [
    "Exercise\n",
    "What is the type of the objects in the list lines?"
   ]
  },
  {
   "cell_type": "code",
   "execution_count": 8,
   "id": "e8087149",
   "metadata": {},
   "outputs": [
    {
     "data": {
      "text/plain": [
       "str"
      ]
     },
     "execution_count": 8,
     "metadata": {},
     "output_type": "execute_result"
    }
   ],
   "source": [
    "type(lines[0])"
   ]
  },
  {
   "cell_type": "raw",
   "id": "9ed6b97d",
   "metadata": {},
   "source": [
    "Open the file for reading again and read it using readlines() to create lines2. Test to see if lines and lines 2 are identical. Don't forget to close the file."
   ]
  },
  {
   "cell_type": "code",
   "execution_count": 9,
   "id": "cf8009d2",
   "metadata": {},
   "outputs": [
    {
     "name": "stdout",
     "output_type": "stream",
     "text": [
      "True\n"
     ]
    }
   ],
   "source": [
    "fh = open(\"Pride and Prejudice.txt\", \"r\", encoding='utf-8')\n",
    "lines2 = fh.readlines()\n",
    "print(lines2 == lines)\n",
    "fh.close()"
   ]
  },
  {
   "cell_type": "raw",
   "id": "47ec1060",
   "metadata": {},
   "source": [
    "Why\n",
    "Why might you want to use the iteration method?"
   ]
  },
  {
   "cell_type": "markdown",
   "id": "03953327",
   "metadata": {},
   "source": [
    "You might want to be selective about which lines to keep."
   ]
  },
  {
   "cell_type": "raw",
   "id": "a5f2c939",
   "metadata": {},
   "source": [
    "Selecting Lines\n",
    "Use the iteration method to build lines3. It contains only lines with a length greater than 1."
   ]
  },
  {
   "cell_type": "code",
   "execution_count": 10,
   "id": "31c9cc54",
   "metadata": {},
   "outputs": [
    {
     "name": "stdout",
     "output_type": "stream",
     "text": [
      "10721\n",
      "10721\n"
     ]
    }
   ],
   "source": [
    "count = 0\n",
    "lines3 = []\n",
    "fh = open(\"Pride and Prejudice.txt\", \"r\", encoding='utf-8')\n",
    "for line in fh:\n",
    "    if len(line) > 1:\n",
    "        lines3.append(line)\n",
    "        count += 1\n",
    "print(len(lines3)) \n",
    "print(count)\n",
    "fh.close()"
   ]
  },
  {
   "cell_type": "raw",
   "id": "7a9462ff",
   "metadata": {},
   "source": [
    "Exercise\n",
    "What is the average length of a line in lines?"
   ]
  },
  {
   "cell_type": "code",
   "execution_count": 11,
   "id": "9c7153d7",
   "metadata": {},
   "outputs": [
    {
     "name": "stdout",
     "output_type": "stream",
     "text": [
      "52.534407364787114\n"
     ]
    }
   ],
   "source": [
    "total = 0\n",
    "for line in lines:\n",
    "    total = total + len(line)\n",
    "avg_length = total/len(lines)\n",
    "print(avg_length)"
   ]
  },
  {
   "cell_type": "raw",
   "id": "8e316fb3",
   "metadata": {},
   "source": [
    "Lines 3?"
   ]
  },
  {
   "cell_type": "code",
   "execution_count": 12,
   "id": "b28d0696",
   "metadata": {},
   "outputs": [
    {
     "name": "stdout",
     "output_type": "stream",
     "text": [
      "63.65749463669434\n"
     ]
    }
   ],
   "source": [
    "total = 0\n",
    "for line in lines3:\n",
    "    total = total + len(line)\n",
    "avg_length = total/len(lines3)\n",
    "print(avg_length)"
   ]
  },
  {
   "cell_type": "raw",
   "id": "10f230d0",
   "metadata": {},
   "source": [
    "Exercise\n",
    "How many lines in lines have length 0?"
   ]
  },
  {
   "cell_type": "code",
   "execution_count": 13,
   "id": "51e5afdd",
   "metadata": {},
   "outputs": [
    {
     "name": "stdout",
     "output_type": "stream",
     "text": [
      "0\n"
     ]
    }
   ],
   "source": [
    "count_0 = 0\n",
    "for line in lines:\n",
    "    if len(line) == 0:\n",
    "        count_0 += 1\n",
    "print(count_0) "
   ]
  },
  {
   "cell_type": "raw",
   "id": "7f410be3",
   "metadata": {},
   "source": [
    "Exercise\n",
    "How many lines in lines have length 1?"
   ]
  },
  {
   "cell_type": "code",
   "execution_count": 14,
   "id": "849083f1",
   "metadata": {},
   "outputs": [
    {
     "name": "stdout",
     "output_type": "stream",
     "text": [
      "2314\n"
     ]
    }
   ],
   "source": [
    "count_1 = 0\n",
    "for line in lines:\n",
    "    if len(line) == 1:\n",
    "        count_1 += 1\n",
    "print(count_1)"
   ]
  },
  {
   "cell_type": "raw",
   "id": "7c75a1ec",
   "metadata": {},
   "source": [
    "Exercise\n",
    "Create a list \"short_lines\" of all the lines with length 1 using comprehension. What is in these lines? Look at the first 3."
   ]
  },
  {
   "cell_type": "code",
   "execution_count": 15,
   "id": "a2d40511",
   "metadata": {},
   "outputs": [
    {
     "name": "stdout",
     "output_type": "stream",
     "text": [
      "line 0\n",
      "\n",
      "\n",
      "line 1\n",
      "\n",
      "\n",
      "line 2\n",
      "\n",
      "\n"
     ]
    }
   ],
   "source": [
    "short_lines = [line for line in lines if len(line) == 1]\n",
    "\n",
    "for i in range(3):\n",
    "    print(\"line\", i)\n",
    "    print(short_lines[i])"
   ]
  },
  {
   "cell_type": "raw",
   "id": "24b6e67d",
   "metadata": {},
   "source": [
    "Exercise\n",
    "Examine the contents of short_lines[0] using ord()."
   ]
  },
  {
   "cell_type": "code",
   "execution_count": 16,
   "id": "2af16f38",
   "metadata": {},
   "outputs": [
    {
     "name": "stdout",
     "output_type": "stream",
     "text": [
      "\n",
      " 10\n"
     ]
    }
   ],
   "source": [
    "for c in short_lines[0]:\n",
    "    print(c, ord(c))"
   ]
  },
  {
   "cell_type": "raw",
   "id": "16240850",
   "metadata": {},
   "source": [
    "What is this?\n",
    "ASCII Character 10 is the newline \\n."
   ]
  },
  {
   "cell_type": "raw",
   "id": "693b822e",
   "metadata": {},
   "source": [
    "Exercise\n",
    "Consider a word to be defined as any sequence of non-blank characters separated by whitespace. Create a list of all of the words in the file. Use the string method split(). Print out the first 20 words in the list of words. Print the length of the list of words."
   ]
  },
  {
   "cell_type": "code",
   "execution_count": 17,
   "id": "c7eeffb0",
   "metadata": {},
   "outputs": [
    {
     "name": "stdout",
     "output_type": "stream",
     "text": [
      "PRIDE\n",
      "AND\n",
      "PREJUDICE\n",
      "By\n",
      "Jane\n",
      "Austen\n",
      "Chapter\n",
      "1\n",
      "It\n",
      "is\n",
      "a\n",
      "truth\n",
      "universally\n",
      "acknowledged,\n",
      "that\n",
      "a\n",
      "single\n",
      "man\n",
      "in\n",
      "possession\n"
     ]
    }
   ],
   "source": [
    "words = []\n",
    "for line in lines:\n",
    "    lwords = line.split()\n",
    "    for word in lwords:\n",
    "        words.append(word)\n",
    "for i in range(20):\n",
    "    print(words[i])"
   ]
  },
  {
   "cell_type": "raw",
   "id": "46306df6",
   "metadata": {},
   "source": [
    "Exercise\n",
    "How many \"words\" are there?"
   ]
  },
  {
   "cell_type": "code",
   "execution_count": 18,
   "id": "e743727c",
   "metadata": {},
   "outputs": [
    {
     "name": "stdout",
     "output_type": "stream",
     "text": [
      "121567\n"
     ]
    }
   ],
   "source": [
    "print(len(words))"
   ]
  },
  {
   "cell_type": "raw",
   "id": "2dbcd83f",
   "metadata": {},
   "source": [
    "Exercise\n",
    "How many unique words are there?"
   ]
  },
  {
   "cell_type": "code",
   "execution_count": 19,
   "id": "50c78e39",
   "metadata": {},
   "outputs": [
    {
     "name": "stdout",
     "output_type": "stream",
     "text": [
      "13059\n"
     ]
    }
   ],
   "source": [
    "print(len(set(words)))"
   ]
  },
  {
   "cell_type": "raw",
   "id": "00bac170",
   "metadata": {},
   "source": [
    "Exercise\n",
    "How many times is the typical unique word used?"
   ]
  },
  {
   "cell_type": "code",
   "execution_count": 20,
   "id": "10d84a2f",
   "metadata": {},
   "outputs": [
    {
     "name": "stdout",
     "output_type": "stream",
     "text": [
      "9.309058886591624\n"
     ]
    }
   ],
   "source": [
    "print(len(words)/len(set(words)))"
   ]
  },
  {
   "cell_type": "raw",
   "id": "a9f32fdf",
   "metadata": {},
   "source": [
    "Exercise\n",
    "Count the number of occurrences of the word \"and\" in the list of words. What fraction of all the words is this?"
   ]
  },
  {
   "cell_type": "code",
   "execution_count": 21,
   "id": "b8441fb0",
   "metadata": {},
   "outputs": [
    {
     "name": "stdout",
     "output_type": "stream",
     "text": [
      "Number of ands is 3326\n",
      "Fraction of ands is 0.0273593985209802\n"
     ]
    }
   ],
   "source": [
    "count = 0\n",
    "for word in words:\n",
    "    if word.lower() == \"and\":\n",
    "        count += 1\n",
    "print(\"Number of ands is\",count)\n",
    "\n",
    "print(\"Fraction of ands is\", count/len(words))"
   ]
  },
  {
   "cell_type": "raw",
   "id": "bcc546b6",
   "metadata": {},
   "source": [
    "Exercise\n",
    "Count the number of occurrences of each word in words. Test your code by finding the count of \"and\"."
   ]
  },
  {
   "cell_type": "code",
   "execution_count": 22,
   "id": "374f3afd",
   "metadata": {},
   "outputs": [
    {
     "name": "stdout",
     "output_type": "stream",
     "text": [
      "3240\n"
     ]
    }
   ],
   "source": [
    "count_dict = {}\n",
    "for word in words:\n",
    "    count_dict[word] = count_dict.get(word,0) + 1\n",
    "\n",
    "print(count_dict['and'])"
   ]
  },
  {
   "cell_type": "raw",
   "id": "2a7304d6",
   "metadata": {},
   "source": [
    "Exercise\n",
    "Find and print the 50 least common words."
   ]
  },
  {
   "cell_type": "code",
   "execution_count": 23,
   "id": "b27182cb",
   "metadata": {},
   "outputs": [
    {
     "name": "stdout",
     "output_type": "stream",
     "text": [
      "(1, \"'Ah!\")\n",
      "(1, \"'Bingley,\")\n",
      "(1, \"'Having\")\n",
      "(1, \"'I\")\n",
      "(1, \"'Keep\")\n",
      "(1, \"'Lady\")\n",
      "(1, \"'Lately,\")\n",
      "(1, \"'Lydia\")\n",
      "(1, \"'Mr.\")\n",
      "(1, \"'Oh!\")\n",
      "(1, \"'This\")\n",
      "(1, \"'Tis\")\n",
      "(1, \"'Yes,'\")\n",
      "(1, \"'_She_\")\n",
      "(1, \"'had\")\n",
      "(1, \"'violently\")\n",
      "(1, \"'you\")\n",
      "(1, '(Lady')\n",
      "(1, '(an')\n",
      "(1, '(by')\n",
      "(1, '(comparatively')\n",
      "(1, '(glancing')\n",
      "(1, '(if')\n",
      "(1, '(like')\n",
      "(1, '(most')\n",
      "(1, '(my')\n",
      "(1, '(unasked')\n",
      "(1, '(what')\n",
      "(1, '(who,')\n",
      "(1, '----')\n",
      "(1, '----shire,')\n",
      "(1, '1')\n",
      "(1, '10')\n",
      "(1, '11')\n",
      "(1, '12')\n",
      "(1, '13')\n",
      "(1, '14')\n",
      "(1, '15')\n",
      "(1, '15th')\n",
      "(1, '16')\n",
      "(1, '17')\n",
      "(1, '18')\n",
      "(1, '18th,')\n",
      "(1, '19')\n",
      "(1, '2')\n",
      "(1, '2.')\n",
      "(1, '20')\n",
      "(1, '21')\n",
      "(1, '22')\n",
      "(1, '23')\n"
     ]
    }
   ],
   "source": [
    "items_swapped = []\n",
    "items = count_dict.items()\n",
    "for word, count in items:\n",
    "    items_swapped.append((count,word))\n",
    "    \n",
    "sorted_swapped = sorted(items_swapped)\n",
    "\n",
    "for i in range(50):\n",
    "    print(sorted_swapped[i])"
   ]
  },
  {
   "cell_type": "raw",
   "id": "63cfded8",
   "metadata": {},
   "source": [
    "Observation\n",
    "The results we're getting are a bit unsatisfacory because of our casual interpretation of a word as any sequence of non-whitespace characters separated by whitespace."
   ]
  },
  {
   "cell_type": "raw",
   "id": "8dd515fa",
   "metadata": {},
   "source": [
    "CSV Files\n",
    "Consider Section 12.7 in the zyBook.\n",
    "\n",
    "Review https://sharegpt.com/c/iQ771sW\n",
    "\n",
    "Check out Corey Schafer pandas tutorials if you are interested.\n",
    "\n",
    "The complete book on pandas is available free at https://wesmckinney.com/book/"
   ]
  },
  {
   "cell_type": "code",
   "execution_count": null,
   "id": "24db4a48",
   "metadata": {},
   "outputs": [],
   "source": []
  }
 ],
 "metadata": {
  "kernelspec": {
   "display_name": "Python 3 (ipykernel)",
   "language": "python",
   "name": "python3"
  },
  "language_info": {
   "codemirror_mode": {
    "name": "ipython",
    "version": 3
   },
   "file_extension": ".py",
   "mimetype": "text/x-python",
   "name": "python",
   "nbconvert_exporter": "python",
   "pygments_lexer": "ipython3",
   "version": "3.11.7"
  }
 },
 "nbformat": 4,
 "nbformat_minor": 5
}
