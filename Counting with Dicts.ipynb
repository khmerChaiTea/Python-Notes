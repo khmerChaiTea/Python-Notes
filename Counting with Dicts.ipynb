{
 "cells": [
  {
   "cell_type": "markdown",
   "id": "435a42dc",
   "metadata": {},
   "source": [
    "Counting Occurrences"
   ]
  },
  {
   "cell_type": "code",
   "execution_count": 1,
   "id": "61a2db74",
   "metadata": {},
   "outputs": [
    {
     "name": "stdout",
     "output_type": "stream",
     "text": [
      "M 1\n",
      "i 4\n",
      "s 4\n",
      "p 2\n"
     ]
    }
   ],
   "source": [
    "s = 'Mississippi'\n",
    "count_dict = {}\n",
    "for c in s:\n",
    "    if c in count_dict:\n",
    "        count_dict[c] = count_dict[c] + 1\n",
    "    else:\n",
    "        count_dict[c] = 1\n",
    "\n",
    "# Let's look at the results\n",
    "\n",
    "for k in count_dict.keys():\n",
    "    print(k,count_dict[k])"
   ]
  },
  {
   "cell_type": "code",
   "execution_count": 2,
   "id": "4b18d438",
   "metadata": {},
   "outputs": [
    {
     "name": "stdout",
     "output_type": "stream",
     "text": [
      "M 1\n",
      "i 4\n",
      "s 4\n",
      "p 2\n"
     ]
    }
   ],
   "source": [
    "s = 'Mississippi'\n",
    "count_dict = {}\n",
    "for c in s:\n",
    "    count_dict[c] = count_dict.get(c,0) + 1\n",
    "\n",
    "# Let's look at the results\n",
    "\n",
    "for k in count_dict.keys():\n",
    "    print(k,count_dict[k])"
   ]
  },
  {
   "cell_type": "code",
   "execution_count": 3,
   "id": "f717b30e",
   "metadata": {},
   "outputs": [
    {
     "name": "stdout",
     "output_type": "stream",
     "text": [
      "1267650600228229401496703205376\n",
      "1 2\n",
      "2 6\n",
      "6 5\n",
      "7 3\n",
      "5 2\n",
      "0 6\n",
      "8 1\n",
      "9 2\n",
      "4 2\n",
      "3 2\n"
     ]
    }
   ],
   "source": [
    "s_num = 2**100\n",
    "s = str(s_num)\n",
    "print(s)\n",
    "count_dict = {}\n",
    "for c in s:\n",
    "    count_dict[c] = count_dict.get(c,0) + 1\n",
    "\n",
    "# Let's look at the results\n",
    "\n",
    "for k in count_dict.keys():\n",
    "    print(k,count_dict[k])"
   ]
  },
  {
   "cell_type": "code",
   "execution_count": 4,
   "id": "bce586fd",
   "metadata": {},
   "outputs": [
    {
     "name": "stdout",
     "output_type": "stream",
     "text": [
      "T 1 0.02857142857142857\n",
      "h 1 0.02857142857142857\n",
      "i 3 0.08571428571428572\n",
      "s 3 0.08571428571428572\n",
      "  6 0.17142857142857143\n",
      "j 1 0.02857142857142857\n",
      "u 1 0.02857142857142857\n",
      "t 2 0.05714285714285714\n",
      "a 2 0.05714285714285714\n",
      "p 1 0.02857142857142857\n",
      "r 2 0.05714285714285714\n",
      "o 3 0.08571428571428572\n",
      "f 2 0.05714285714285714\n",
      "g 1 0.02857142857142857\n",
      "e 2 0.05714285714285714\n",
      "n 1 0.02857142857142857\n",
      "l 1 0.02857142857142857\n",
      "y 1 0.02857142857142857\n",
      ". 1 0.02857142857142857\n"
     ]
    }
   ],
   "source": [
    "s = 'This is just a proof of generality.' \n",
    "l = list(s)\n",
    "count_dict = {}\n",
    "for c in l:\n",
    "    count_dict[c] = count_dict.get(c,0) + 1\n",
    "\n",
    "# Let's look at the results\n",
    "\n",
    "for k in count_dict.keys():\n",
    "    print(k,count_dict[k],count_dict[k]/len(l))"
   ]
  },
  {
   "cell_type": "code",
   "execution_count": 5,
   "id": "df6bbd49",
   "metadata": {},
   "outputs": [
    {
     "name": "stdout",
     "output_type": "stream",
     "text": [
      "Number of Occurrences for each Item\n",
      "M 1\n",
      "i 4\n",
      "s 4\n",
      "p 2\n"
     ]
    }
   ],
   "source": [
    "s = 'Mississippi'\n",
    "count_dict = {}\n",
    "for c in s:\n",
    "    if c in count_dict:\n",
    "        count_dict[c] = count_dict[c] + 1\n",
    "    else:\n",
    "        count_dict[c] = 1\n",
    "\n",
    "# Let's look at the results\n",
    "\n",
    "print('Number of Occurrences for each Item')\n",
    "for k in count_dict.keys():\n",
    "    print(k,count_dict[k])"
   ]
  },
  {
   "cell_type": "markdown",
   "id": "0811b484",
   "metadata": {},
   "source": [
    "Maxcount and the List"
   ]
  },
  {
   "cell_type": "code",
   "execution_count": 6,
   "id": "6bd41989",
   "metadata": {},
   "outputs": [
    {
     "name": "stdout",
     "output_type": "stream",
     "text": [
      " \n",
      "Maximum Count\n",
      "4\n",
      " \n",
      "Most Frequent Items\n",
      "['i', 's']\n"
     ]
    }
   ],
   "source": [
    "# What is the maximum count?\n",
    "maxcount = max(count_dict.values())\n",
    "print(' ')\n",
    "print('Maximum Count')\n",
    "print(maxcount)\n",
    "\n",
    "Win_list = []\n",
    "for i in count_dict.keys():\n",
    "    if count_dict[i] >= maxcount:\n",
    "        Win_list.append(i)\n",
    "print(' ')\n",
    "print(\"Most Frequent Items\")\n",
    "print(Win_list) "
   ]
  },
  {
   "cell_type": "code",
   "execution_count": null,
   "id": "5e94e549",
   "metadata": {},
   "outputs": [],
   "source": []
  }
 ],
 "metadata": {
  "kernelspec": {
   "display_name": "Python 3 (ipykernel)",
   "language": "python",
   "name": "python3"
  },
  "language_info": {
   "codemirror_mode": {
    "name": "ipython",
    "version": 3
   },
   "file_extension": ".py",
   "mimetype": "text/x-python",
   "name": "python",
   "nbconvert_exporter": "python",
   "pygments_lexer": "ipython3",
   "version": "3.11.7"
  }
 },
 "nbformat": 4,
 "nbformat_minor": 5
}
