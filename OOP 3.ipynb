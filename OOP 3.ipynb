{
 "cells": [
  {
   "cell_type": "raw",
   "id": "60002b1c",
   "metadata": {},
   "source": [
    "Object-Oriented Programming (OOP)\n",
    "\n",
    "Setup\n",
    "Define a class ASet. It has a single attribute, the_set which is initialized to the empty set.\n",
    "\n",
    "It has three methods in addition to init.\n",
    "\n",
    "add adds a value to the set.\n",
    "discard removes a value from the set\n",
    "display prints the contents of the_set"
   ]
  },
  {
   "cell_type": "code",
   "execution_count": 1,
   "id": "7a46baa4",
   "metadata": {},
   "outputs": [],
   "source": [
    "class ASet:\n",
    "    \n",
    "    def __init__(self):\n",
    "        self.the_set = set()\n",
    "        \n",
    "    def add(self,value):\n",
    "        self.the_set.add(value)\n",
    "        \n",
    "    def discard(self,value):\n",
    "        self.the_set.discard(value)\n",
    "        \n",
    "    def display(self):\n",
    "        print(self.the_set)"
   ]
  },
  {
   "cell_type": "raw",
   "id": "6fcfbaa4",
   "metadata": {},
   "source": [
    "Tests\n",
    "Verify that the_set is being initialized properly and that the add() and remove() methods are working"
   ]
  },
  {
   "cell_type": "code",
   "execution_count": 2,
   "id": "2de92b9e",
   "metadata": {},
   "outputs": [
    {
     "name": "stdout",
     "output_type": "stream",
     "text": [
      "set()\n",
      "{'A', 5}\n",
      "{'A'}\n"
     ]
    }
   ],
   "source": [
    "set_1 = ASet()\n",
    "set_1.display()\n",
    "\n",
    "set_1.add(5)\n",
    "set_1.add(\"A\")\n",
    "set_1.display()\n",
    "\n",
    "set_1.discard(5)\n",
    "set_1.display()"
   ]
  },
  {
   "cell_type": "raw",
   "id": "3029013c",
   "metadata": {},
   "source": [
    "Add Many Values\n",
    "Create a list of 10 items and add them to set_1. Verify that you succeeded."
   ]
  },
  {
   "cell_type": "code",
   "execution_count": 3,
   "id": "99c6d9b7",
   "metadata": {},
   "outputs": [
    {
     "name": "stdout",
     "output_type": "stream",
     "text": [
      "{1, 2, 3, 4, 'A', 5, 'C', 'D', 'B', 'E'}\n"
     ]
    }
   ],
   "source": [
    "a_list = [1,2,3,4,5,\"A\",\"B\",\"C\",\"D\",\"E\"]\n",
    "for item in a_list:\n",
    "    set_1.add(item)\n",
    "set_1.display()"
   ]
  },
  {
   "cell_type": "raw",
   "id": "a2d73d3d",
   "metadata": {},
   "source": [
    "A Subclass\n",
    "Create a class IntSet, in which all members must be integers. Do a bit of google research on isinstance()."
   ]
  },
  {
   "cell_type": "code",
   "execution_count": 4,
   "id": "28abe273",
   "metadata": {},
   "outputs": [],
   "source": [
    "class IntSet(ASet):\n",
    "    \n",
    "    def add(self,value):\n",
    "        if isinstance(value,int):\n",
    "            self.the_set.add(value)"
   ]
  },
  {
   "cell_type": "raw",
   "id": "fca28acc",
   "metadata": {},
   "source": [
    "Test\n",
    "çreate the object ints_1 as a member of the class. Try to add a list of integers and other values and verify that it worked."
   ]
  },
  {
   "cell_type": "code",
   "execution_count": 5,
   "id": "594c5797",
   "metadata": {},
   "outputs": [
    {
     "name": "stdout",
     "output_type": "stream",
     "text": [
      "{1, 2, 3, 4, 5}\n"
     ]
    }
   ],
   "source": [
    "ints_1 = IntSet()\n",
    "\n",
    "for item in a_list:\n",
    "    ints_1.add(item)\n",
    "    \n",
    "ints_1.display()"
   ]
  },
  {
   "cell_type": "code",
   "execution_count": null,
   "id": "5247bb43",
   "metadata": {},
   "outputs": [],
   "source": []
  }
 ],
 "metadata": {
  "kernelspec": {
   "display_name": "Python 3 (ipykernel)",
   "language": "python",
   "name": "python3"
  },
  "language_info": {
   "codemirror_mode": {
    "name": "ipython",
    "version": 3
   },
   "file_extension": ".py",
   "mimetype": "text/x-python",
   "name": "python",
   "nbconvert_exporter": "python",
   "pygments_lexer": "ipython3",
   "version": "3.11.7"
  }
 },
 "nbformat": 4,
 "nbformat_minor": 5
}
