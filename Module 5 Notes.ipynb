{
 "cells": [
  {
   "cell_type": "markdown",
   "id": "64804f0e",
   "metadata": {},
   "source": [
    "Iteration"
   ]
  },
  {
   "cell_type": "code",
   "execution_count": 1,
   "id": "ec5d9912",
   "metadata": {},
   "outputs": [
    {
     "name": "stdout",
     "output_type": "stream",
     "text": [
      "1\n",
      "2\n",
      "3\n",
      "4\n",
      "5\n"
     ]
    }
   ],
   "source": [
    "i = 0  \n",
    "while i < 5:  \n",
    "    i = i + 1  \n",
    "    print(i) "
   ]
  },
  {
   "cell_type": "markdown",
   "id": "22323ac1",
   "metadata": {},
   "source": [
    "Exercise\n",
    "Think of this code as one of a number of variations on a theme.\n",
    "\n",
    "The loop variable i could be initialized at either the first value we want or one before that value.\n",
    " \n",
    "The < could have been <=\n",
    " \n",
    "The change in the loop variabe could have been the last statement in the loop instead of the first.\n",
    "There are 3 choices, each with 2 possibilities. How many variations are there?\n",
    "\n",
    "2^\n",
    "3\n",
    "=\n",
    "8"
   ]
  },
  {
   "cell_type": "code",
   "execution_count": 2,
   "id": "d128a125",
   "metadata": {},
   "outputs": [
    {
     "name": "stdout",
     "output_type": "stream",
     "text": [
      "1\n",
      "2\n",
      "3\n",
      "4\n",
      "5\n"
     ]
    }
   ],
   "source": [
    "i = 1\n",
    "while i <= 5:\n",
    "    print(i)\n",
    "    i = i + 1"
   ]
  },
  {
   "cell_type": "markdown",
   "id": "73ce4e91",
   "metadata": {},
   "source": [
    "Comment\n",
    "Indefinite loops are error-prone. I only use them when I can't define ahead of time what values the loop variable should take on. One example of an appropriate usage is when prompting a user for input and checking the user's response for correctness."
   ]
  },
  {
   "cell_type": "markdown",
   "id": "02e957ab",
   "metadata": {},
   "source": [
    "range()\n",
    "The range() function can be the object of iteration. Note that it may not produce exactly what you expected."
   ]
  },
  {
   "cell_type": "code",
   "execution_count": 3,
   "id": "cfbd2d2a",
   "metadata": {},
   "outputs": [
    {
     "name": "stdout",
     "output_type": "stream",
     "text": [
      "0\n",
      "1\n",
      "2\n",
      "3\n",
      "4\n"
     ]
    }
   ],
   "source": [
    "for i in range(5):\n",
    "    print(i)"
   ]
  },
  {
   "cell_type": "code",
   "execution_count": 4,
   "id": "9c6ad7d3",
   "metadata": {},
   "outputs": [
    {
     "name": "stdout",
     "output_type": "stream",
     "text": [
      "1\n",
      "2\n",
      "3\n",
      "4\n",
      "5\n"
     ]
    }
   ],
   "source": [
    "# Solution 1\n",
    "\n",
    "for i in range(5):\n",
    "    print(i + 1)"
   ]
  },
  {
   "cell_type": "code",
   "execution_count": 5,
   "id": "e8c18edb",
   "metadata": {},
   "outputs": [
    {
     "name": "stdout",
     "output_type": "stream",
     "text": [
      "1\n",
      "2\n",
      "3\n",
      "4\n",
      "5\n"
     ]
    }
   ],
   "source": [
    "# Solution 2\n",
    "\n",
    "for i in range(1,6):\n",
    "    print(i)"
   ]
  },
  {
   "cell_type": "markdown",
   "id": "2c8e109a",
   "metadata": {},
   "source": [
    "Break\n",
    "What does the following program print?"
   ]
  },
  {
   "cell_type": "code",
   "execution_count": 6,
   "id": "0cc2f6a3",
   "metadata": {},
   "outputs": [
    {
     "name": "stdout",
     "output_type": "stream",
     "text": [
      "0 0\n",
      "1 1\n",
      "2 4\n"
     ]
    }
   ],
   "source": [
    "for i in range(5):\n",
    "    j = i**2\n",
    "    if i == 3:\n",
    "        break\n",
    "    print(i,j)"
   ]
  },
  {
   "cell_type": "markdown",
   "id": "e0f74b82",
   "metadata": {},
   "source": [
    "Continue\n",
    "What does the following program print?"
   ]
  },
  {
   "cell_type": "code",
   "execution_count": 7,
   "id": "3ec69785",
   "metadata": {},
   "outputs": [
    {
     "name": "stdout",
     "output_type": "stream",
     "text": [
      "0 0\n",
      "1 1\n",
      "2 4\n",
      "4 16\n"
     ]
    }
   ],
   "source": [
    "for i in range(5):\n",
    "    j = i**2\n",
    "    if i == 3:\n",
    "        continue\n",
    "    print(i,j)"
   ]
  },
  {
   "cell_type": "markdown",
   "id": "caa5bcce",
   "metadata": {},
   "source": [
    "Crash Review: Lists\n",
    "A list consists of multiple python objects, separated by commas and enclosed in square brackets.\n",
    "\n",
    "The in operator can be used to test for the presence of a particular value in the list.\n",
    "\n",
    "The members of the list can be referenced by indexing, where the first value has an index of 0.\n",
    "\n",
    "You can iterate over the objects in the list."
   ]
  },
  {
   "cell_type": "code",
   "execution_count": 8,
   "id": "29165ee7",
   "metadata": {},
   "outputs": [
    {
     "name": "stdout",
     "output_type": "stream",
     "text": [
      "Tom\n"
     ]
    }
   ],
   "source": [
    "my_list = [\"Tom\", \"Dick\", 3]\n",
    "print(my_list[0])"
   ]
  },
  {
   "cell_type": "code",
   "execution_count": 9,
   "id": "341e4f1f",
   "metadata": {},
   "outputs": [
    {
     "name": "stdout",
     "output_type": "stream",
     "text": [
      "Tom\n",
      "Dick\n",
      "3\n"
     ]
    }
   ],
   "source": [
    "for i in my_list:\n",
    "    print(i)"
   ]
  },
  {
   "cell_type": "markdown",
   "id": "8b623405",
   "metadata": {},
   "source": [
    "Now: The wrong way."
   ]
  },
  {
   "cell_type": "code",
   "execution_count": 10,
   "id": "e8b843d5",
   "metadata": {},
   "outputs": [
    {
     "name": "stdout",
     "output_type": "stream",
     "text": [
      "Tom\n",
      "Dick\n",
      "3\n"
     ]
    }
   ],
   "source": [
    "for i in range(3):\n",
    "    print(my_list[i])"
   ]
  },
  {
   "cell_type": "markdown",
   "id": "60196768",
   "metadata": {},
   "source": [
    "Exercise\n",
    "Start with list in which all of the members are numbers. Compute and print the mean value of the numbers in the list.\n",
    "\n",
    "Test your program using test_list = [1,2,3,4]"
   ]
  },
  {
   "cell_type": "code",
   "execution_count": 11,
   "id": "a858562a",
   "metadata": {},
   "outputs": [
    {
     "name": "stdout",
     "output_type": "stream",
     "text": [
      "2.5\n"
     ]
    }
   ],
   "source": [
    "n_list = [1,2,3,4]\n",
    "\n",
    "sum = 0\n",
    "n = 0\n",
    "for i in n_list:\n",
    "    sum = sum + i\n",
    "    n = n + 1\n",
    "mean = sum/n\n",
    "print(mean)"
   ]
  },
  {
   "cell_type": "code",
   "execution_count": 12,
   "id": "3e2dccda",
   "metadata": {},
   "outputs": [
    {
     "name": "stdout",
     "output_type": "stream",
     "text": [
      "2.0\n"
     ]
    }
   ],
   "source": [
    "n_list = [1,2,3,4]    \n",
    "sum = 0\n",
    "n = 0\n",
    "for i in n_list:\n",
    "    if i%2 != 0:\n",
    "        sum = sum + i\n",
    "        n = n + 1\n",
    "mean = sum/n\n",
    "print(mean)"
   ]
  },
  {
   "cell_type": "markdown",
   "id": "25002cc4",
   "metadata": {},
   "source": [
    "Exercise\n",
    "Assume that n_list is a list of integers. Write a program to find the largest value in the list. You can't assume anything about the numbers in the list.\n",
    "\n",
    "How would you initialize the largest value?\n",
    "\n",
    "Test your program with n_list = [1,-5,16,76,127,4]"
   ]
  },
  {
   "cell_type": "code",
   "execution_count": 13,
   "id": "d65601db",
   "metadata": {},
   "outputs": [
    {
     "name": "stdout",
     "output_type": "stream",
     "text": [
      "127\n"
     ]
    }
   ],
   "source": [
    "n_list = [1,-5,16,76,127,4]\n",
    "lrgv = n_list[0]\n",
    "for i in n_list:\n",
    "    if i > lrgv:\n",
    "        lrgv = i\n",
    "print(lrgv)"
   ]
  },
  {
   "cell_type": "code",
   "execution_count": 14,
   "id": "01b3f5d9",
   "metadata": {},
   "outputs": [
    {
     "name": "stdout",
     "output_type": "stream",
     "text": [
      "-5\n"
     ]
    }
   ],
   "source": [
    "n_list = [1,-5,16,76,127,4]\n",
    "smlv = n_list[0]\n",
    "for i in n_list:\n",
    "    if i < smlv:\n",
    "        smlv = i\n",
    "print(smlv)"
   ]
  },
  {
   "cell_type": "markdown",
   "id": "aed59922",
   "metadata": {},
   "source": [
    "Enumerate\n",
    "To nail down the idea create a simple list, alist, containing the names Tom, Dick, and Harry. Then print the enumerate of alist."
   ]
  },
  {
   "cell_type": "code",
   "execution_count": 15,
   "id": "4678e443",
   "metadata": {},
   "outputs": [
    {
     "name": "stdout",
     "output_type": "stream",
     "text": [
      "<enumerate object at 0x0000017746669030>\n"
     ]
    }
   ],
   "source": [
    "alist = [\"Tom\", \"Dick\", \"Harry\"]\n",
    "print(enumerate(alist))"
   ]
  },
  {
   "cell_type": "markdown",
   "id": "12e85c3d",
   "metadata": {},
   "source": [
    "Iteration\n",
    "Can you iterate over the enumeration? Try to print the values and the types of the values in the enumeration."
   ]
  },
  {
   "cell_type": "code",
   "execution_count": 16,
   "id": "36872c7f",
   "metadata": {},
   "outputs": [
    {
     "name": "stdout",
     "output_type": "stream",
     "text": [
      "(0, 'Tom') <class 'tuple'>\n",
      "(1, 'Dick') <class 'tuple'>\n",
      "(2, 'Harry') <class 'tuple'>\n"
     ]
    }
   ],
   "source": [
    "for item in enumerate(alist):\n",
    "    print(item, type(item))"
   ]
  },
  {
   "cell_type": "markdown",
   "id": "7e75c08f",
   "metadata": {},
   "source": [
    "A list of Tuples (Essentially)\n",
    "The first value in each tuple is the index of the second entry in the tuple.\n",
    "\n",
    "Iterate over the enumeration again. This time print the tuple and the unpacked tuple. Call the first entry in the tuple index and the second one value."
   ]
  },
  {
   "cell_type": "code",
   "execution_count": 17,
   "id": "573afad8",
   "metadata": {},
   "outputs": [
    {
     "name": "stdout",
     "output_type": "stream",
     "text": [
      "(0, 'Tom') 0 Tom\n",
      "(1, 'Dick') 1 Dick\n",
      "(2, 'Harry') 2 Harry\n"
     ]
    }
   ],
   "source": [
    "for item in enumerate(alist):\n",
    "    index, value = item\n",
    "    print(item, index, value)"
   ]
  },
  {
   "cell_type": "markdown",
   "id": "a2197369",
   "metadata": {},
   "source": [
    "Location of Largest Value\n",
    "Sometimes you want to know not only what the largest value is, but where it occurs in the list. Of course, it could occur in more than one location. Write a program that finds the largest value in a list and also provides at least one index where the value occurs. Use an f string to display the information. Use a list with ties to test your code."
   ]
  },
  {
   "cell_type": "code",
   "execution_count": 18,
   "id": "162221bf",
   "metadata": {},
   "outputs": [
    {
     "name": "stdout",
     "output_type": "stream",
     "text": [
      "The largest value is 127 and it occurs at index 4.\n"
     ]
    }
   ],
   "source": [
    "n_list = [1,-5,16,76,127,4,127]\n",
    "lrgv = n_list[0]\n",
    "loc = 0\n",
    "for index, value in enumerate(n_list):\n",
    "    if value > lrgv:\n",
    "        lrgv = value\n",
    "        loc = index\n",
    "print(f'The largest value is {lrgv} and it occurs at index {loc}.')"
   ]
  },
  {
   "cell_type": "markdown",
   "id": "70027d82",
   "metadata": {},
   "source": [
    "Ties\n",
    "The largest value might occur at more than one location. Write a program to find the largest and all the locations in the list where it occurs. Use f strings to display the result. Hint: You don't need enumeration."
   ]
  },
  {
   "cell_type": "code",
   "execution_count": 19,
   "id": "97bbb0c8",
   "metadata": {},
   "outputs": [
    {
     "name": "stdout",
     "output_type": "stream",
     "text": [
      "The largest value is 127.\n",
      "It occurs at index 4.\n",
      "It occurs at index 6.\n"
     ]
    }
   ],
   "source": [
    "n_list = [1,-5,16,76,127,4,127]\n",
    "lrgv = n_list[0]\n",
    "for i in n_list:\n",
    "    if i > lrgv:\n",
    "        lrgv = i\n",
    "print(f'The largest value is {lrgv}.')\n",
    "\n",
    "loclist = []\n",
    "for index, i in enumerate(n_list):\n",
    "    if i == lrgv:\n",
    "        loclist.append(index)\n",
    "\n",
    "for index in loclist:\n",
    "    print(f'It occurs at index {index}.')"
   ]
  },
  {
   "cell_type": "code",
   "execution_count": null,
   "id": "92b941fc",
   "metadata": {},
   "outputs": [],
   "source": []
  }
 ],
 "metadata": {
  "kernelspec": {
   "display_name": "Python 3 (ipykernel)",
   "language": "python",
   "name": "python3"
  },
  "language_info": {
   "codemirror_mode": {
    "name": "ipython",
    "version": 3
   },
   "file_extension": ".py",
   "mimetype": "text/x-python",
   "name": "python",
   "nbconvert_exporter": "python",
   "pygments_lexer": "ipython3",
   "version": "3.11.7"
  }
 },
 "nbformat": 4,
 "nbformat_minor": 5
}
