{
 "cells": [
  {
   "cell_type": "markdown",
   "id": "0b21b1fb",
   "metadata": {},
   "source": [
    "7.5 LAB: Count characters"
   ]
  },
  {
   "cell_type": "code",
   "execution_count": 3,
   "id": "906ee7c5",
   "metadata": {},
   "outputs": [
    {
     "name": "stdout",
     "output_type": "stream",
     "text": [
      "Enter character and phrase: n Nobody\n",
      "0 n's\n"
     ]
    }
   ],
   "source": [
    "def count_char_occurrences(input_str):\n",
    "    # Splitting the input into character and phrase\n",
    "    char, phrase = input_str.split(maxsplit=1)\n",
    "    \n",
    "    # Counting occurrences of the character in the phrase\n",
    "    count = phrase.count(char)\n",
    "    \n",
    "    # Output formatting based on the count\n",
    "    if count == 1:\n",
    "        output = f\"{count} {char}\"\n",
    "    else:\n",
    "        output = f\"{count} {char}'s\"\n",
    "    \n",
    "    return output\n",
    "\n",
    "# Taking input from the user\n",
    "input_str = input(\"Enter character and phrase: \")\n",
    "\n",
    "# Printing the output\n",
    "print(count_char_occurrences(input_str))"
   ]
  },
  {
   "cell_type": "markdown",
   "id": "5288537e",
   "metadata": {},
   "source": [
    "7.6 LAB: Mad Lib - loops"
   ]
  },
  {
   "cell_type": "code",
   "execution_count": 5,
   "id": "726470c3",
   "metadata": {},
   "outputs": [
    {
     "name": "stdout",
     "output_type": "stream",
     "text": [
      "Enter a string and an integer (or 'quit' to exit): apples 5\n",
      "Eating 5 apples a day keeps you happy and healthy.\n",
      "Enter a string and an integer (or 'quit' to exit): shoes 2\n",
      "Eating 2 shoes a day keeps you happy and healthy.\n",
      "Enter a string and an integer (or 'quit' to exit): quit 0\n"
     ]
    }
   ],
   "source": [
    "while True:\n",
    "    # Taking input from the user\n",
    "    user_input = input(\"Enter a string and an integer (or 'quit' to exit): \")\n",
    "\n",
    "    # Splitting the input into word and number parts\n",
    "    parts = user_input.split()\n",
    "\n",
    "    # Checking if the user wants to quit\n",
    "    if parts[0] == 'quit':\n",
    "        break\n",
    "\n",
    "    # Extracting the word and number\n",
    "    word = parts[0]\n",
    "    number = int(parts[1])\n",
    "\n",
    "    # Constructing and printing the sentence\n",
    "    print(f\"Eating {number} {word} a day keeps you happy and healthy.\")"
   ]
  },
  {
   "cell_type": "markdown",
   "id": "2b36a433",
   "metadata": {},
   "source": [
    "7.7 LAB: Palindrome"
   ]
  },
  {
   "cell_type": "code",
   "execution_count": 7,
   "id": "6a69a9e4",
   "metadata": {},
   "outputs": [
    {
     "name": "stdout",
     "output_type": "stream",
     "text": [
      "Enter a word or phrase: bobbu\n",
      "Not a palindrome\n"
     ]
    }
   ],
   "source": [
    "def is_palindrome(word):\n",
    "    # Removing spaces from the input word and converting it to lowercase\n",
    "    word = word.replace(\" \", \"\").lower()\n",
    "    \n",
    "    # Reversing the word\n",
    "    reversed_word = word[::-1]\n",
    "    \n",
    "    # Checking if the original and reversed words are equal\n",
    "    if word == reversed_word:\n",
    "        return True\n",
    "    else:\n",
    "        return False\n",
    "\n",
    "# Taking input from the user\n",
    "input_word = input(\"Enter a word or phrase: \")\n",
    "\n",
    "# Checking if the input is a palindrome\n",
    "if is_palindrome(input_word):\n",
    "    print(\"palindrome:\", input_word)\n",
    "else:\n",
    "    print(\"Not a palindrome\")"
   ]
  },
  {
   "cell_type": "code",
   "execution_count": 8,
   "id": "00c2b4dc",
   "metadata": {},
   "outputs": [
    {
     "name": "stdout",
     "output_type": "stream",
     "text": [
      "Enter a word or phrase: never odd or even\n",
      "palindrome: never odd or even\n"
     ]
    }
   ],
   "source": [
    "def is_palindrome(word):\n",
    "    # Removing spaces from the input word and converting it to lowercase\n",
    "    word = word.replace(\" \", \"\").lower()\n",
    "    \n",
    "    # Reversing the word\n",
    "    reversed_word = word[::-1]\n",
    "    \n",
    "    # Checking if the original and reversed words are equal\n",
    "    if word == reversed_word:\n",
    "        return True\n",
    "    else:\n",
    "        return False\n",
    "\n",
    "# Taking input from the user\n",
    "input_word = input(\"Enter a word or phrase: \")\n",
    "\n",
    "# Checking if the input is a palindrome\n",
    "if is_palindrome(input_word):\n",
    "    print(\"palindrome:\", input_word)\n",
    "else:\n",
    "    print(\"not a palindrome:\", input_word)"
   ]
  },
  {
   "cell_type": "markdown",
   "id": "4b25d5a1",
   "metadata": {},
   "source": [
    "7.8 LAB: Remove all non-alpha characters"
   ]
  },
  {
   "cell_type": "code",
   "execution_count": 9,
   "id": "876bdeb3",
   "metadata": {},
   "outputs": [
    {
     "name": "stdout",
     "output_type": "stream",
     "text": [
      "Enter a string: -Hello, 1 world$!\n",
      "Output: Helloworld\n"
     ]
    }
   ],
   "source": [
    "def remove_non_alpha(input_str):\n",
    "    # Initialize an empty string to store the result\n",
    "    result = ''\n",
    "    \n",
    "    # Iterate through each character in the input string\n",
    "    for char in input_str:\n",
    "        # Check if the character is alphabetic\n",
    "        if char.isalpha():\n",
    "            # If it's alphabetic, add it to the result string\n",
    "            result += char\n",
    "    \n",
    "    return result\n",
    "\n",
    "# Taking input from the user\n",
    "input_str = input(\"Enter a string: \")\n",
    "\n",
    "# Removing non-alpha characters\n",
    "output_str = remove_non_alpha(input_str)\n",
    "\n",
    "# Printing the result\n",
    "print(\"Output:\", output_str)"
   ]
  },
  {
   "cell_type": "code",
   "execution_count": null,
   "id": "2b99480c",
   "metadata": {},
   "outputs": [],
   "source": []
  }
 ],
 "metadata": {
  "kernelspec": {
   "display_name": "Python 3 (ipykernel)",
   "language": "python",
   "name": "python3"
  },
  "language_info": {
   "codemirror_mode": {
    "name": "ipython",
    "version": 3
   },
   "file_extension": ".py",
   "mimetype": "text/x-python",
   "name": "python",
   "nbconvert_exporter": "python",
   "pygments_lexer": "ipython3",
   "version": "3.11.7"
  }
 },
 "nbformat": 4,
 "nbformat_minor": 5
}
