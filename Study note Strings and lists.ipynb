{
 "cells": [
  {
   "cell_type": "markdown",
   "id": "2f53a7b8",
   "metadata": {},
   "source": [
    "Strings"
   ]
  },
  {
   "cell_type": "markdown",
   "id": "e322db42",
   "metadata": {},
   "source": [
    "Exercise\n",
    "Create a string, my_name, containing your name including your first name and last name separated by a single blank space. Then put the second character of your name in the variable second and print second."
   ]
  },
  {
   "cell_type": "code",
   "execution_count": 1,
   "id": "ee0fb1bd",
   "metadata": {},
   "outputs": [
    {
     "name": "stdout",
     "output_type": "stream",
     "text": [
      "r\n"
     ]
    }
   ],
   "source": [
    "my_name = \"Prem Chhay\"\n",
    "second = my_name[1]\n",
    "print(second)"
   ]
  },
  {
   "cell_type": "code",
   "execution_count": 2,
   "id": "b516a4c2",
   "metadata": {},
   "outputs": [
    {
     "name": "stdout",
     "output_type": "stream",
     "text": [
      "10\n"
     ]
    }
   ],
   "source": [
    "print(len(my_name))"
   ]
  },
  {
   "cell_type": "code",
   "execution_count": 3,
   "id": "02747b27",
   "metadata": {},
   "outputs": [
    {
     "name": "stdout",
     "output_type": "stream",
     "text": [
      "y\n"
     ]
    }
   ],
   "source": [
    "print(my_name[9])"
   ]
  },
  {
   "cell_type": "code",
   "execution_count": 4,
   "id": "bbbe0819",
   "metadata": {},
   "outputs": [
    {
     "name": "stdout",
     "output_type": "stream",
     "text": [
      "P\n",
      "r\n",
      "e\n",
      "m\n",
      " \n",
      "C\n",
      "h\n",
      "h\n",
      "a\n",
      "y\n"
     ]
    }
   ],
   "source": [
    "length = len(my_name)\n",
    "pos = 0\n",
    "while pos <  length:\n",
    "    print(my_name[pos])\n",
    "    pos = pos + 1"
   ]
  },
  {
   "cell_type": "code",
   "execution_count": 5,
   "id": "878132af",
   "metadata": {},
   "outputs": [
    {
     "name": "stdout",
     "output_type": "stream",
     "text": [
      "P\n",
      "r\n",
      "e\n",
      "m\n",
      " \n",
      "C\n",
      "h\n",
      "h\n",
      "a\n",
      "y\n"
     ]
    }
   ],
   "source": [
    "for letter in my_name:\n",
    "     print(letter)"
   ]
  },
  {
   "cell_type": "code",
   "execution_count": 8,
   "id": "1d6d99ba",
   "metadata": {},
   "outputs": [
    {
     "name": "stdout",
     "output_type": "stream",
     "text": [
      "m C\n"
     ]
    }
   ],
   "source": [
    "straddle = my_name[3:6]\n",
    "print(straddle)"
   ]
  },
  {
   "cell_type": "code",
   "execution_count": 9,
   "id": "135e706b",
   "metadata": {},
   "outputs": [
    {
     "name": "stdout",
     "output_type": "stream",
     "text": [
      "4\n",
      "Prem\n",
      "Chhay\n"
     ]
    }
   ],
   "source": [
    "blank_pos = 4\n",
    "first_name = my_name[:blank_pos]\n",
    "last_name = my_name[blank_pos + 1:]\n",
    "print(blank_pos)\n",
    "print(first_name)\n",
    "print(last_name)"
   ]
  },
  {
   "cell_type": "code",
   "execution_count": 10,
   "id": "267ca462",
   "metadata": {},
   "outputs": [
    {
     "name": "stdout",
     "output_type": "stream",
     "text": [
      "True\n"
     ]
    }
   ],
   "source": [
    "blank_pos_2 = my_name.find(' ')\n",
    "print(blank_pos == blank_pos_2)"
   ]
  },
  {
   "cell_type": "code",
   "execution_count": 11,
   "id": "e153b196",
   "metadata": {},
   "outputs": [
    {
     "name": "stdout",
     "output_type": "stream",
     "text": [
      "prem chhay\n",
      "Prem chhay\n",
      "Prem Chhay\n",
      "PREM CHHAY\n",
      "Prxm Chhxy\n"
     ]
    }
   ],
   "source": [
    "lower_name = my_name.lower()\n",
    "print(lower_name)\n",
    "\n",
    "cap_name = lower_name.capitalize()\n",
    "print(cap_name)\n",
    "\n",
    "both_caps = lower_name.title()\n",
    "print(both_caps)\n",
    "\n",
    "upper_name = lower_name.upper()\n",
    "print(upper_name)\n",
    "\n",
    "devoweled = my_name.replace(\"a\",\"x\")\n",
    "devoweled = devoweled.replace(\"e\",\"x\")\n",
    "devoweled = devoweled.replace(\"i\",\"x\")\n",
    "devoweled = devoweled.replace(\"o\",\"x\")\n",
    "devoweled = devoweled.replace(\"u\",\"x\")\n",
    "\n",
    "print(devoweled)"
   ]
  },
  {
   "cell_type": "markdown",
   "id": "8f76ca9f",
   "metadata": {},
   "source": [
    "Append and Concatenate"
   ]
  },
  {
   "cell_type": "code",
   "execution_count": 13,
   "id": "144ecbe7",
   "metadata": {},
   "outputs": [
    {
     "name": "stdout",
     "output_type": "stream",
     "text": [
      "True\n",
      "False\n",
      "True\n"
     ]
    }
   ],
   "source": [
    "\n",
    "def check(name):\n",
    "    return name.endswith('son') or name.endswith('sen')\n",
    "\n",
    "print(check(\"Johnson\"))  \n",
    "print(check(\"Smith\"))\n",
    "print(check(\"Andersen\"))"
   ]
  },
  {
   "cell_type": "code",
   "execution_count": 14,
   "id": "5bd35573",
   "metadata": {},
   "outputs": [
    {
     "ename": "TypeError",
     "evalue": "'str' object does not support item assignment",
     "output_type": "error",
     "traceback": [
      "\u001b[1;31m---------------------------------------------------------------------------\u001b[0m",
      "\u001b[1;31mTypeError\u001b[0m                                 Traceback (most recent call last)",
      "Cell \u001b[1;32mIn[14], line 2\u001b[0m\n\u001b[0;32m      1\u001b[0m s \u001b[38;5;241m=\u001b[39m \u001b[38;5;124m\"\u001b[39m\u001b[38;5;124mabc\u001b[39m\u001b[38;5;124m\"\u001b[39m\n\u001b[1;32m----> 2\u001b[0m s[\u001b[38;5;241m0\u001b[39m] \u001b[38;5;241m=\u001b[39m \u001b[38;5;124m\"\u001b[39m\u001b[38;5;124mA\u001b[39m\u001b[38;5;124m\"\u001b[39m\n\u001b[0;32m      3\u001b[0m \u001b[38;5;28mprint\u001b[39m(s)\n",
      "\u001b[1;31mTypeError\u001b[0m: 'str' object does not support item assignment"
     ]
    }
   ],
   "source": [
    "s = \"abc\"\n",
    "s[0] = \"A\"\n",
    "print(s)"
   ]
  },
  {
   "cell_type": "code",
   "execution_count": 15,
   "id": "68b28c17",
   "metadata": {},
   "outputs": [
    {
     "name": "stdout",
     "output_type": "stream",
     "text": [
      "Abc\n"
     ]
    }
   ],
   "source": [
    "s = \"abc\"\n",
    "s = s.capitalize()\n",
    "print(s)"
   ]
  },
  {
   "cell_type": "code",
   "execution_count": 16,
   "id": "5f8a869e",
   "metadata": {},
   "outputs": [
    {
     "name": "stdout",
     "output_type": "stream",
     "text": [
      "140734794000176\n",
      "140734794000176\n",
      "Abc\n",
      "2576104000112\n",
      "abc\n"
     ]
    }
   ],
   "source": [
    "s = \"abc\"\n",
    "t = s\n",
    "print(id(s))\n",
    "print(id(t))\n",
    "s = s.capitalize()\n",
    "print(s)\n",
    "print(id(s))\n",
    "print(t)"
   ]
  },
  {
   "cell_type": "code",
   "execution_count": 17,
   "id": "26a3f520",
   "metadata": {},
   "outputs": [
    {
     "name": "stdout",
     "output_type": "stream",
     "text": [
      "Ueia\n"
     ]
    }
   ],
   "source": [
    "vowels = \"aeiouAEIOU\"\n",
    "s = \"Use this fact\"\n",
    "res = \"\"\n",
    "for i in s:\n",
    "    if i in vowels:\n",
    "        res = res + i\n",
    "print(res)"
   ]
  },
  {
   "cell_type": "code",
   "execution_count": 18,
   "id": "17fdd52e",
   "metadata": {},
   "outputs": [
    {
     "name": "stdout",
     "output_type": "stream",
     "text": [
      "Ueia\n"
     ]
    }
   ],
   "source": [
    "vowels = \"aeiouAEIOU\"\n",
    "s = \"Use this fact\"\n",
    "res = \"\"\n",
    "for index, character in enumerate(s):\n",
    "    if index % 2 == 0 and character in vowels:\n",
    "        res = res + character\n",
    "print(res)"
   ]
  },
  {
   "cell_type": "code",
   "execution_count": 19,
   "id": "f75a30d5",
   "metadata": {},
   "outputs": [
    {
     "name": "stdout",
     "output_type": "stream",
     "text": [
      "Name of file? y.jpg\n",
      "jpg\n"
     ]
    }
   ],
   "source": [
    "fn = input(\"Name of file? \")\n",
    "dot_loc = fn.find(\".\")\n",
    "ftype = fn[dot_loc +1:]\n",
    "print(ftype)"
   ]
  },
  {
   "cell_type": "code",
   "execution_count": 20,
   "id": "4eaf8404",
   "metadata": {},
   "outputs": [
    {
     "name": "stdout",
     "output_type": "stream",
     "text": [
      "[1, 2, 3, 4, 5, 6]\n",
      "[1, 2, 3, [4, 5, 6]]\n"
     ]
    }
   ],
   "source": [
    "l1 = [1,2,3]\n",
    "l2 = [4,5,6]\n",
    "\n",
    "l3c = l1 + l2\n",
    "print(l3c)\n",
    "\n",
    "l1.append(l2)\n",
    "print(l1)"
   ]
  },
  {
   "cell_type": "code",
   "execution_count": 22,
   "id": "9ef5210e",
   "metadata": {},
   "outputs": [
    {
     "name": "stdout",
     "output_type": "stream",
     "text": [
      "[1, 2, 3, [4, 5, 6]]\n",
      "4\n"
     ]
    }
   ],
   "source": [
    "print(l1)\n",
    "print(len(l1))"
   ]
  },
  {
   "cell_type": "code",
   "execution_count": 23,
   "id": "82d9d0fb",
   "metadata": {},
   "outputs": [
    {
     "name": "stdout",
     "output_type": "stream",
     "text": [
      "[1, 2, 3, 4, 5]\n"
     ]
    }
   ],
   "source": [
    "def undup(l):\n",
    "    res = []\n",
    "    for item in l:\n",
    "        if item not in res:\n",
    "            res.append(item)\n",
    "    return res\n",
    "    \n",
    "test_list = [1,2,3,3,4,1,5,5,5]\n",
    "print(undup(test_list))"
   ]
  },
  {
   "cell_type": "code",
   "execution_count": 24,
   "id": "6d000cec",
   "metadata": {},
   "outputs": [
    {
     "name": "stdout",
     "output_type": "stream",
     "text": [
      "['M', 'a', 'r', 'y', ' ', 'h', 'd', 'l', 'i', 't', 'e', 'm', 'b', '.']\n"
     ]
    }
   ],
   "source": [
    "s = \"Mary had a little lamb.\"\n",
    "\n",
    "print(undup(s))"
   ]
  },
  {
   "cell_type": "code",
   "execution_count": 25,
   "id": "4386effa",
   "metadata": {},
   "outputs": [
    {
     "name": "stdout",
     "output_type": "stream",
     "text": [
      "[5, 15, 3.0]\n"
     ]
    }
   ],
   "source": [
    "def numres(nl):\n",
    "    sum = 0\n",
    "    for n in nl:\n",
    "        sum = sum + n\n",
    "    mean =  sum/len(nl)\n",
    "    return [len(nl),sum, mean]\n",
    "    \n",
    "test_list = [1,2,3,4,5]\n",
    "print(numres(test_list))"
   ]
  },
  {
   "cell_type": "code",
   "execution_count": 26,
   "id": "1f2ce25a",
   "metadata": {},
   "outputs": [
    {
     "name": "stdout",
     "output_type": "stream",
     "text": [
      "[1, ['a', 'b', ['x', 'y']]]\n"
     ]
    }
   ],
   "source": [
    "xlist = [1,[\"a\",\"b\",[\"x\",\"y\"]]]\n",
    "\n",
    "print(xlist)"
   ]
  },
  {
   "cell_type": "code",
   "execution_count": 27,
   "id": "23499e32",
   "metadata": {},
   "outputs": [
    {
     "name": "stdout",
     "output_type": "stream",
     "text": [
      "1\n"
     ]
    }
   ],
   "source": [
    "print(xlist[0])"
   ]
  },
  {
   "cell_type": "code",
   "execution_count": 28,
   "id": "74e12d35",
   "metadata": {},
   "outputs": [
    {
     "name": "stdout",
     "output_type": "stream",
     "text": [
      "[1, ['a', 'b', ['x', 'y']]]\n",
      "b\n"
     ]
    }
   ],
   "source": [
    "print(xlist)\n",
    "print(xlist[1][1])"
   ]
  },
  {
   "cell_type": "code",
   "execution_count": 29,
   "id": "63f08fe2",
   "metadata": {},
   "outputs": [
    {
     "name": "stdout",
     "output_type": "stream",
     "text": [
      "[1, ['a', 'b', ['x', 'y']]]\n",
      "y\n"
     ]
    }
   ],
   "source": [
    "print(xlist)\n",
    "print(xlist[1][2][1])"
   ]
  },
  {
   "cell_type": "code",
   "execution_count": 30,
   "id": "c1880540",
   "metadata": {},
   "outputs": [
    {
     "name": "stdout",
     "output_type": "stream",
     "text": [
      "27\n"
     ]
    }
   ],
   "source": [
    "import random\n",
    "x = random.randint(0,100)\n",
    "print(x)"
   ]
  },
  {
   "cell_type": "code",
   "execution_count": 31,
   "id": "6df50903",
   "metadata": {},
   "outputs": [
    {
     "name": "stdout",
     "output_type": "stream",
     "text": [
      "[66, 17, 26, 93, 52, 100, 55, 44, 81, 44, 90, 86, 24, 18, 72, 45, 19, 1, 92, 0]\n"
     ]
    }
   ],
   "source": [
    "randlist = []\n",
    "for i in range(20):\n",
    "    randlist.append(random.randint(0,100))\n",
    "print(randlist)"
   ]
  },
  {
   "cell_type": "code",
   "execution_count": 32,
   "id": "fc73464a",
   "metadata": {},
   "outputs": [
    {
     "name": "stdout",
     "output_type": "stream",
     "text": [
      "[0, 1, 17, 18, 19, 24, 26, 44, 44, 45, 52, 55, 66, 72, 81, 86, 90, 92, 93, 100]\n"
     ]
    }
   ],
   "source": [
    "randlist.sort()\n",
    "print(randlist)"
   ]
  },
  {
   "cell_type": "code",
   "execution_count": 33,
   "id": "33e22231",
   "metadata": {},
   "outputs": [
    {
     "name": "stdout",
     "output_type": "stream",
     "text": [
      "None\n"
     ]
    }
   ],
   "source": [
    "sorted_list = randlist.sort()\n",
    "print(sorted_list)"
   ]
  },
  {
   "cell_type": "code",
   "execution_count": 34,
   "id": "2508b29c",
   "metadata": {},
   "outputs": [
    {
     "name": "stdout",
     "output_type": "stream",
     "text": [
      "None\n",
      "[0, 1, 17, 18, 19, 24, 26, 44, 44, 45, 52, 55, 66, 72, 81, 86, 90, 92, 93, 100, 150]\n"
     ]
    }
   ],
   "source": [
    "bigger = randlist.append(150)\n",
    "print(bigger)\n",
    "print(randlist)"
   ]
  },
  {
   "cell_type": "code",
   "execution_count": 35,
   "id": "b9e81449",
   "metadata": {},
   "outputs": [],
   "source": [
    "def how_many_a_in_li(a,li):\n",
    "    count = 0\n",
    "    for item in li:\n",
    "        if a == item:\n",
    "            count = count + 1\n",
    "    return count"
   ]
  },
  {
   "cell_type": "code",
   "execution_count": 36,
   "id": "09b7174c",
   "metadata": {},
   "outputs": [
    {
     "data": {
      "text/plain": [
       "3"
      ]
     },
     "execution_count": 36,
     "metadata": {},
     "output_type": "execute_result"
    }
   ],
   "source": [
    "# Test\n",
    "\n",
    "test_list = [1,2,2,3,2,4]\n",
    "look_for = 2\n",
    "\n",
    "how_many_a_in_li(look_for,test_list)"
   ]
  },
  {
   "cell_type": "code",
   "execution_count": 37,
   "id": "7c997c03",
   "metadata": {},
   "outputs": [
    {
     "name": "stdout",
     "output_type": "stream",
     "text": [
      "4\n"
     ]
    }
   ],
   "source": [
    "s = \"Mary had a little lamb\"\n",
    "print(how_many_a_in_li(\"a\",s))"
   ]
  },
  {
   "cell_type": "code",
   "execution_count": 38,
   "id": "d3cdce1b",
   "metadata": {},
   "outputs": [
    {
     "name": "stdout",
     "output_type": "stream",
     "text": [
      "[(1, 1), (2, 4), (3, 9), (4, 16), (5, 25), (6, 36), (7, 49), (8, 64), (9, 81), (10, 100)]\n"
     ]
    }
   ],
   "source": [
    "the_list = []\n",
    "for i in range(10):\n",
    "    the_list.append((i + 1, (i + 1)**2))\n",
    "\n",
    "print(the_list)"
   ]
  },
  {
   "cell_type": "code",
   "execution_count": 39,
   "id": "42c12bed",
   "metadata": {},
   "outputs": [
    {
     "name": "stdout",
     "output_type": "stream",
     "text": [
      "[(1, 1), (2, 4), (3, 9), (4, 16), (5, 25), (6, 36), (7, 49), (8, 64), (9, 81), (10, 100)]\n"
     ]
    }
   ],
   "source": [
    "the_list = [(i + 1, (i + 1)**2) for i in range(10)]\n",
    "print(the_list)"
   ]
  },
  {
   "cell_type": "code",
   "execution_count": 40,
   "id": "692aa70f",
   "metadata": {},
   "outputs": [
    {
     "name": "stdout",
     "output_type": "stream",
     "text": [
      "[(1, 3), (4, 6), (7, 7), (8, 11)]\n"
     ]
    }
   ],
   "source": [
    "lol = [[1,2,3],[4,5,6], [7], [8,9,10,11]]\n",
    "\n",
    "lot = []\n",
    "for li in lol:\n",
    "    lot.append((li[0], li[-1]))\n",
    "    \n",
    "print(lot)"
   ]
  },
  {
   "cell_type": "code",
   "execution_count": 41,
   "id": "001a5266",
   "metadata": {},
   "outputs": [
    {
     "name": "stdout",
     "output_type": "stream",
     "text": [
      "[(1, 3), (4, 6), (7, 7), (8, 11)]\n"
     ]
    }
   ],
   "source": [
    "lot = [(li[0], li[-1]) for li in lol]\n",
    "print(lot)"
   ]
  },
  {
   "cell_type": "code",
   "execution_count": 42,
   "id": "5275834b",
   "metadata": {},
   "outputs": [
    {
     "name": "stdout",
     "output_type": "stream",
     "text": [
      "Mary*had*a*little*lamb\n"
     ]
    }
   ],
   "source": [
    "s = \"Mary had a little lamb\"\n",
    "list_of_words = s.split()\n",
    "new_string = \"*\".join(list_of_words)\n",
    "print(new_string)"
   ]
  },
  {
   "cell_type": "code",
   "execution_count": 43,
   "id": "1e004546",
   "metadata": {},
   "outputs": [
    {
     "name": "stdout",
     "output_type": "stream",
     "text": [
      "Mary*had*a*little*lamb\n"
     ]
    }
   ],
   "source": [
    "new_string = s.replace(\" \",\"*\")\n",
    "print(new_string)"
   ]
  },
  {
   "cell_type": "code",
   "execution_count": 3,
   "id": "2bf1ca5e",
   "metadata": {},
   "outputs": [],
   "source": [
    "my_name = \"Prem Chhay\"\n",
    "pos = my_name.find('')"
   ]
  },
  {
   "cell_type": "code",
   "execution_count": 4,
   "id": "ac73d22c",
   "metadata": {},
   "outputs": [
    {
     "name": "stdout",
     "output_type": "stream",
     "text": [
      "0\n"
     ]
    }
   ],
   "source": [
    "print(pos)"
   ]
  },
  {
   "cell_type": "code",
   "execution_count": null,
   "id": "979dac9d",
   "metadata": {},
   "outputs": [],
   "source": []
  }
 ],
 "metadata": {
  "kernelspec": {
   "display_name": "Python 3 (ipykernel)",
   "language": "python",
   "name": "python3"
  },
  "language_info": {
   "codemirror_mode": {
    "name": "ipython",
    "version": 3
   },
   "file_extension": ".py",
   "mimetype": "text/x-python",
   "name": "python",
   "nbconvert_exporter": "python",
   "pygments_lexer": "ipython3",
   "version": "3.11.7"
  }
 },
 "nbformat": 4,
 "nbformat_minor": 5
}
