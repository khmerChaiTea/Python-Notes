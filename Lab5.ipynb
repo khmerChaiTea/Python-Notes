{
 "cells": [
  {
   "cell_type": "code",
   "execution_count": 1,
   "id": "debbd4fa",
   "metadata": {},
   "outputs": [
    {
     "name": "stdout",
     "output_type": "stream",
     "text": [
      "Enter your password: i1amilkshakebs\n",
      "Your strengthened password is: 11@M1lk$h@keb$!\n"
     ]
    }
   ],
   "source": [
    "# Take input from the user\n",
    "word = input(\"Enter your password: \")\n",
    "\n",
    "# Apply replacements and append \"!\"\n",
    "password = word.replace('i', '1').replace('a', '@').replace('m', 'M').replace('B', '8').replace('s', '$') + \"!\"\n",
    "\n",
    "# Print the strengthened password\n",
    "print(\"Your strengthened password is:\", password)"
   ]
  },
  {
   "cell_type": "code",
   "execution_count": 3,
   "id": "eaa584df",
   "metadata": {},
   "outputs": [
    {
     "name": "stdout",
     "output_type": "stream",
     "text": [
      "-15\n",
      "10\n",
      "-15 -10 -5 0 5 10 \n"
     ]
    }
   ],
   "source": [
    "num1 = int(input())\n",
    "num2 = int(input())\n",
    "\n",
    "if num1 > num2:\n",
    "    print(\"Second integer can't be less than the first.\")\n",
    "else:\n",
    "    while num1 <= num2:\n",
    "        print(num1, end = ' ')\n",
    "        num1 += 5\n",
    "\n",
    "print()"
   ]
  },
  {
   "cell_type": "code",
   "execution_count": 4,
   "id": "651d07b5",
   "metadata": {},
   "outputs": [
    {
     "name": "stdout",
     "output_type": "stream",
     "text": [
      "20\n",
      "5\n",
      "Second integer can't be less than the first.\n",
      "\n"
     ]
    }
   ],
   "source": [
    "num1 = int(input())\n",
    "num2 = int(input())\n",
    "\n",
    "if num1 > num2:\n",
    "    print(\"Second integer can't be less than the first.\")\n",
    "else:\n",
    "    while num1 <= num2:\n",
    "        print(num1, end = ' ')\n",
    "        num1 += 5\n",
    "\n",
    "print()"
   ]
  },
  {
   "cell_type": "code",
   "execution_count": 5,
   "id": "05fbb8b7",
   "metadata": {},
   "outputs": [
    {
     "name": "stdout",
     "output_type": "stream",
     "text": [
      "20\n",
      "5\n",
      "Second integer can't be less than the first.\n"
     ]
    }
   ],
   "source": [
    "num1 = int(input())\n",
    "num2 = int(input())\n",
    "\n",
    "if num1 > num2:\n",
    "    print(\"Second integer can't be less than the first.\")\n",
    "else:\n",
    "    while num1 <= num2:\n",
    "        print(num1, end = ' ')\n",
    "        num1 += 5\n",
    "    print()"
   ]
  },
  {
   "cell_type": "code",
   "execution_count": 6,
   "id": "5e42b3e2",
   "metadata": {},
   "outputs": [
    {
     "name": "stdout",
     "output_type": "stream",
     "text": [
      "Hello There\n",
      "erehT olleH\n",
      "Hey\n",
      "yeH\n",
      "Done\n"
     ]
    }
   ],
   "source": [
    "while True:\n",
    "    # Take input from user\n",
    "    line = input()\n",
    "    \n",
    "    # Check if the user want to exit\n",
    "    if line.lower() == 'Done' or line.lower() == 'done' or line.lower() == 'd':\n",
    "        break\n",
    "    \n",
    "    # Reverse the input text and print it\n",
    "    reversed_line = line [::-1]\n",
    "    print(reversed_line) "
   ]
  },
  {
   "cell_type": "code",
   "execution_count": 7,
   "id": "a71a639c",
   "metadata": {},
   "outputs": [
    {
     "name": "stdout",
     "output_type": "stream",
     "text": [
      "What's Up\n",
      "pU s'tahW\n",
      "Tommy\n",
      "ymmoT\n",
      "d\n"
     ]
    }
   ],
   "source": [
    "while True:\n",
    "    # Take input from user\n",
    "    line = input()\n",
    "    \n",
    "    # Check if the user want to exit\n",
    "    if line.lower() == 'Done' or line.lower() == 'done' or line.lower() == 'd':\n",
    "        break\n",
    "    \n",
    "    # Reverse the input text and print it\n",
    "    reversed_line = line [::-1]\n",
    "    print(reversed_line) "
   ]
  },
  {
   "cell_type": "code",
   "execution_count": 8,
   "id": "082d813f",
   "metadata": {},
   "outputs": [
    {
     "name": "stdout",
     "output_type": "stream",
     "text": [
      "3\n",
      "1.2\n",
      "6.3\n",
      "5.1\n",
      "0.19\n",
      "1.00\n",
      "0.81\n"
     ]
    }
   ],
   "source": [
    "# Read the number of floating-point values to follow\n",
    "num_values = int(input())\n",
    "\n",
    "# Read the floating-point values\n",
    "values = []\n",
    "for _ in range(num_values):\n",
    "    value = float(input())\n",
    "    values.append(value)\n",
    "\n",
    "# Find the maximum value\n",
    "max_value = max(values)\n",
    "\n",
    "# Normalize each value and print with two decimal places\n",
    "for value in values:\n",
    "    normalized_value = value / max_value\n",
    "    print(f'{normalized_value:.2f}')"
   ]
  },
  {
   "cell_type": "code",
   "execution_count": 9,
   "id": "8d86c0b0",
   "metadata": {},
   "outputs": [
    {
     "name": "stdout",
     "output_type": "stream",
     "text": [
      "5\n",
      "30.0\n",
      "50.0\n",
      "10.0\n",
      "100.0\n",
      "65.0\n",
      "0.30\n",
      "0.50\n",
      "0.10\n",
      "1.00\n",
      "0.65\n"
     ]
    }
   ],
   "source": [
    "# Read the number of floating-point values to follow\n",
    "num_values = int(input())\n",
    "\n",
    "# Read the floating-point values\n",
    "values = []\n",
    "for i in range(num_values):\n",
    "    value = float(input())\n",
    "    values.append(value)\n",
    "\n",
    "# Find the maximum value\n",
    "max_value = max(values)\n",
    "\n",
    "# Normalize each value and print with two decimal places\n",
    "for value in values:\n",
    "    normalized_value = value / max_value\n",
    "    print(f'{normalized_value:.2f}')"
   ]
  },
  {
   "cell_type": "code",
   "execution_count": null,
   "id": "58124dad",
   "metadata": {},
   "outputs": [],
   "source": []
  }
 ],
 "metadata": {
  "kernelspec": {
   "display_name": "Python 3 (ipykernel)",
   "language": "python",
   "name": "python3"
  },
  "language_info": {
   "codemirror_mode": {
    "name": "ipython",
    "version": 3
   },
   "file_extension": ".py",
   "mimetype": "text/x-python",
   "name": "python",
   "nbconvert_exporter": "python",
   "pygments_lexer": "ipython3",
   "version": "3.11.7"
  }
 },
 "nbformat": 4,
 "nbformat_minor": 5
}
