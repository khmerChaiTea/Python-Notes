{
 "cells": [
  {
   "cell_type": "code",
   "execution_count": 1,
   "id": "89fd5e26",
   "metadata": {},
   "outputs": [],
   "source": [
    "s = \"I am so tired that I am nodding off. Should I take a nap?\""
   ]
  },
  {
   "cell_type": "markdown",
   "id": "7ac08c71",
   "metadata": {},
   "source": [
    "What are the values of\n",
    "The length of s\n",
    "s[2]\n",
    "s[-1]\n",
    "s[-3]"
   ]
  },
  {
   "cell_type": "code",
   "execution_count": 2,
   "id": "c299b215",
   "metadata": {},
   "outputs": [
    {
     "name": "stdout",
     "output_type": "stream",
     "text": [
      "57\n"
     ]
    }
   ],
   "source": [
    "print(len(s))"
   ]
  },
  {
   "cell_type": "code",
   "execution_count": 3,
   "id": "53d96a88",
   "metadata": {},
   "outputs": [
    {
     "name": "stdout",
     "output_type": "stream",
     "text": [
      "a\n"
     ]
    }
   ],
   "source": [
    "print(s[2])"
   ]
  },
  {
   "cell_type": "code",
   "execution_count": 4,
   "id": "10dce63d",
   "metadata": {},
   "outputs": [
    {
     "name": "stdout",
     "output_type": "stream",
     "text": [
      "?\n"
     ]
    }
   ],
   "source": [
    "print(s[-1])"
   ]
  },
  {
   "cell_type": "code",
   "execution_count": 5,
   "id": "d9e50980",
   "metadata": {},
   "outputs": [
    {
     "name": "stdout",
     "output_type": "stream",
     "text": [
      "a\n"
     ]
    }
   ],
   "source": [
    "print(s[-3])"
   ]
  },
  {
   "cell_type": "markdown",
   "id": "aeb2302b",
   "metadata": {},
   "source": [
    "Question\n",
    "What will the following program print."
   ]
  },
  {
   "cell_type": "code",
   "execution_count": 6,
   "id": "6c57af87",
   "metadata": {},
   "outputs": [
    {
     "ename": "TypeError",
     "evalue": "'str' object does not support item assignment",
     "output_type": "error",
     "traceback": [
      "\u001b[1;31m---------------------------------------------------------------------------\u001b[0m",
      "\u001b[1;31mTypeError\u001b[0m                                 Traceback (most recent call last)",
      "Cell \u001b[1;32mIn[6], line 1\u001b[0m\n\u001b[1;32m----> 1\u001b[0m s[\u001b[38;5;241m0\u001b[39m] \u001b[38;5;241m=\u001b[39m \u001b[38;5;124m'\u001b[39m\u001b[38;5;124mY\u001b[39m\u001b[38;5;124m'\u001b[39m\n\u001b[0;32m      2\u001b[0m \u001b[38;5;28mprint\u001b[39m(s)\n",
      "\u001b[1;31mTypeError\u001b[0m: 'str' object does not support item assignment"
     ]
    }
   ],
   "source": [
    "s[0] = 'Y'\n",
    "print(s)"
   ]
  },
  {
   "cell_type": "markdown",
   "id": "291a4665",
   "metadata": {},
   "source": [
    "Question\n",
    "What will the following program print?"
   ]
  },
  {
   "cell_type": "code",
   "execution_count": 7,
   "id": "fc66c77d",
   "metadata": {},
   "outputs": [
    {
     "name": "stdout",
     "output_type": "stream",
     "text": [
      "111222\n"
     ]
    }
   ],
   "source": [
    "sa = '111'\n",
    "sb = '222'\n",
    "sc = sa + sb\n",
    "print(sc)"
   ]
  },
  {
   "cell_type": "code",
   "execution_count": 8,
   "id": "5494e30a",
   "metadata": {},
   "outputs": [
    {
     "name": "stdout",
     "output_type": "stream",
     "text": [
      "I bought 2 books for 30 eachand paid $60.\n"
     ]
    }
   ],
   "source": [
    "num_books = 2\n",
    "price = 30\n",
    "s = f'I bought {num_books} books for {price} each\\\n",
    "and paid ${num_books * price}.'\n",
    "print(s)"
   ]
  },
  {
   "cell_type": "markdown",
   "id": "69c11870",
   "metadata": {},
   "source": [
    "Task\n",
    "Modify the code to print $60.00 at the end."
   ]
  },
  {
   "cell_type": "code",
   "execution_count": 9,
   "id": "c97457b8",
   "metadata": {},
   "outputs": [
    {
     "name": "stdout",
     "output_type": "stream",
     "text": [
      "I bought 2 books for 30 each and paid $60.00.\n"
     ]
    }
   ],
   "source": [
    "num_books = 2\n",
    "price = 30\n",
    "s = f'I bought {num_books} books for {price} each\\\n",
    " and paid ${num_books * price:.2f}.'\n",
    "print(s)"
   ]
  },
  {
   "cell_type": "markdown",
   "id": "36f73531",
   "metadata": {},
   "source": [
    "Task\n",
    "Construct and print a list called names containing the names Tom, Dick, and Harry"
   ]
  },
  {
   "cell_type": "code",
   "execution_count": 10,
   "id": "d644d83f",
   "metadata": {},
   "outputs": [
    {
     "name": "stdout",
     "output_type": "stream",
     "text": [
      "['Tom', 'Dick', 'Harry']\n"
     ]
    }
   ],
   "source": [
    "names = ['Tom', 'Dick', 'Harry']\n",
    "print(names)"
   ]
  },
  {
   "cell_type": "markdown",
   "id": "91f8991d",
   "metadata": {},
   "source": [
    "Question\n",
    "What is names[1]?"
   ]
  },
  {
   "cell_type": "code",
   "execution_count": 11,
   "id": "68e82576",
   "metadata": {},
   "outputs": [
    {
     "name": "stdout",
     "output_type": "stream",
     "text": [
      "Dick\n"
     ]
    }
   ],
   "source": [
    "print(names[1])"
   ]
  },
  {
   "cell_type": "markdown",
   "id": "f340ba43",
   "metadata": {},
   "source": [
    "Task\n",
    "Construct a list called names2 with the names Susan, Alice, and Beth. Then concatenate this list to the end of the original list calling the result namesb. Print namesb."
   ]
  },
  {
   "cell_type": "code",
   "execution_count": 12,
   "id": "2667182f",
   "metadata": {},
   "outputs": [
    {
     "name": "stdout",
     "output_type": "stream",
     "text": [
      "['Tom', 'Dick', 'Harry', 'Susan', 'Alice', 'Beth']\n"
     ]
    }
   ],
   "source": [
    "names2 = ['Susan','Alice', 'Beth']\n",
    "namesb = names + names2\n",
    "print(namesb)"
   ]
  },
  {
   "cell_type": "markdown",
   "id": "46e20acb",
   "metadata": {},
   "source": [
    "Task\n",
    "Run the following commands and explain what happened."
   ]
  },
  {
   "cell_type": "code",
   "execution_count": 13,
   "id": "769952eb",
   "metadata": {},
   "outputs": [
    {
     "name": "stdout",
     "output_type": "stream",
     "text": [
      "None\n",
      "['Tom', 'Dick', 'Harry', ['Susan', 'Alice', 'Beth']]\n"
     ]
    }
   ],
   "source": [
    "namesc = names.append(names2)\n",
    "print(namesc)\n",
    "print(names)"
   ]
  },
  {
   "cell_type": "markdown",
   "id": "fdc8d12f",
   "metadata": {},
   "source": [
    "The append method worked on names in place. But the method returns the value None."
   ]
  },
  {
   "cell_type": "markdown",
   "id": "cd4d0294",
   "metadata": {},
   "source": [
    "Question\n",
    "What is the length of names now?"
   ]
  },
  {
   "cell_type": "code",
   "execution_count": 14,
   "id": "86c3c667",
   "metadata": {},
   "outputs": [
    {
     "name": "stdout",
     "output_type": "stream",
     "text": [
      "4\n"
     ]
    }
   ],
   "source": [
    "print(len(names))"
   ]
  },
  {
   "cell_type": "markdown",
   "id": "85875982",
   "metadata": {},
   "source": [
    "Tuples\n",
    "A tuple is a sequence of values separated by commas. A tuple may or may not be enclosed in parentheses.\n",
    "\n",
    "Here are some examples."
   ]
  },
  {
   "cell_type": "code",
   "execution_count": 15,
   "id": "676b3f6c",
   "metadata": {},
   "outputs": [
    {
     "name": "stdout",
     "output_type": "stream",
     "text": [
      "(1, 2, 3)\n",
      "(1, 2, 3)\n"
     ]
    }
   ],
   "source": [
    "t1 = 1,2,3\n",
    "t2 = (1,2,3)\n",
    "\n",
    "print(t1)\n",
    "print(t2)"
   ]
  },
  {
   "cell_type": "markdown",
   "id": "dcf8e5ea",
   "metadata": {},
   "source": [
    "Extracting by Index\n",
    "Values of tuple components may be extracted by numerical index in the same way as lists or strings."
   ]
  },
  {
   "cell_type": "code",
   "execution_count": 16,
   "id": "e95798ee",
   "metadata": {},
   "outputs": [
    {
     "name": "stdout",
     "output_type": "stream",
     "text": [
      "1\n",
      "3\n"
     ]
    }
   ],
   "source": [
    "x = t1[0]\n",
    "print(x)\n",
    "\n",
    "z = t1[-1]\n",
    "print(z)"
   ]
  },
  {
   "cell_type": "markdown",
   "id": "39df1ef5",
   "metadata": {},
   "source": [
    "Tuples are Immutable\n",
    "Example\n",
    "\n",
    "The following code will fail."
   ]
  },
  {
   "cell_type": "code",
   "execution_count": 17,
   "id": "5b76f8d4",
   "metadata": {},
   "outputs": [
    {
     "ename": "TypeError",
     "evalue": "'tuple' object does not support item assignment",
     "output_type": "error",
     "traceback": [
      "\u001b[1;31m---------------------------------------------------------------------------\u001b[0m",
      "\u001b[1;31mTypeError\u001b[0m                                 Traceback (most recent call last)",
      "Cell \u001b[1;32mIn[17], line 1\u001b[0m\n\u001b[1;32m----> 1\u001b[0m t1[\u001b[38;5;241m0\u001b[39m] \u001b[38;5;241m=\u001b[39m \u001b[38;5;241m4\u001b[39m\n\u001b[0;32m      2\u001b[0m \u001b[38;5;28mprint\u001b[39m(t1[\u001b[38;5;241m0\u001b[39m])\n",
      "\u001b[1;31mTypeError\u001b[0m: 'tuple' object does not support item assignment"
     ]
    }
   ],
   "source": [
    "t1[0] = 4\n",
    "print(t1[0])"
   ]
  },
  {
   "cell_type": "markdown",
   "id": "a3ad600f",
   "metadata": {},
   "source": [
    "Sets, Lists and Tuples\n",
    "From the Datacamp Tutorial on sets.\n",
    "\n",
    "\"The major difference is that sets, unlike lists or tuples, cannot have multiple occurrences of the same element and store unordered values.\""
   ]
  },
  {
   "cell_type": "markdown",
   "id": "b8817ff2",
   "metadata": {},
   "source": [
    "Exercise\n",
    "Create ASet, AList and ATuple, all of which contain \"cat\", \"dog\" and \"parrot\". Print the type of each."
   ]
  },
  {
   "cell_type": "code",
   "execution_count": 18,
   "id": "3c62fdda",
   "metadata": {},
   "outputs": [
    {
     "name": "stdout",
     "output_type": "stream",
     "text": [
      "<class 'list'>\n",
      "<class 'tuple'>\n",
      "<class 'set'>\n"
     ]
    }
   ],
   "source": [
    "AList = [\"cat\",\"dog\",\"parrot\"]\n",
    "ATuple = (\"cat\",\"dog\",\"parrot\")\n",
    "ASet = {\"cat\",\"dog\",\"parrot\"}\n",
    "\n",
    "print(type(AList))\n",
    "print(type(ATuple))\n",
    "print(type(ASet))"
   ]
  },
  {
   "cell_type": "code",
   "execution_count": 19,
   "id": "ba45a15c",
   "metadata": {},
   "outputs": [
    {
     "name": "stdout",
     "output_type": "stream",
     "text": [
      "cat\n"
     ]
    }
   ],
   "source": [
    "print(AList[0])"
   ]
  },
  {
   "cell_type": "code",
   "execution_count": 20,
   "id": "3aa879b9",
   "metadata": {},
   "outputs": [
    {
     "name": "stdout",
     "output_type": "stream",
     "text": [
      "cat\n"
     ]
    }
   ],
   "source": [
    "print(ATuple[0])"
   ]
  },
  {
   "cell_type": "code",
   "execution_count": 21,
   "id": "59f7a68d",
   "metadata": {},
   "outputs": [
    {
     "ename": "TypeError",
     "evalue": "'set' object is not subscriptable",
     "output_type": "error",
     "traceback": [
      "\u001b[1;31m---------------------------------------------------------------------------\u001b[0m",
      "\u001b[1;31mTypeError\u001b[0m                                 Traceback (most recent call last)",
      "Cell \u001b[1;32mIn[21], line 1\u001b[0m\n\u001b[1;32m----> 1\u001b[0m \u001b[38;5;28mprint\u001b[39m(ASet[\u001b[38;5;241m0\u001b[39m])\n",
      "\u001b[1;31mTypeError\u001b[0m: 'set' object is not subscriptable"
     ]
    }
   ],
   "source": [
    "print(ASet[0])"
   ]
  },
  {
   "cell_type": "markdown",
   "id": "56641172",
   "metadata": {},
   "source": [
    "Exercise\n",
    "Create a dictionary, adict, to record the weights of Joe (175), Tom (190), and Dick (150). Print the dictionary."
   ]
  },
  {
   "cell_type": "code",
   "execution_count": 22,
   "id": "26d1a7ea",
   "metadata": {},
   "outputs": [
    {
     "name": "stdout",
     "output_type": "stream",
     "text": [
      "{'Joe': 175, 'Tom': 190, 'Dick': 150}\n"
     ]
    }
   ],
   "source": [
    "adict = {\"Joe\":175,\"Tom\":190,\"Dick\":150}\n",
    "print(adict)"
   ]
  },
  {
   "cell_type": "markdown",
   "id": "93be2138",
   "metadata": {},
   "source": [
    "Exercise\n",
    "Add Harry, who weighs 180 pounds to the dictionary and print the new dictionary."
   ]
  },
  {
   "cell_type": "code",
   "execution_count": 23,
   "id": "dca661a3",
   "metadata": {},
   "outputs": [
    {
     "name": "stdout",
     "output_type": "stream",
     "text": [
      "{'Joe': 175, 'Tom': 190, 'Dick': 150, 'Harry': 180}\n"
     ]
    }
   ],
   "source": [
    "adict[\"Harry\"] = 180\n",
    "print(adict)"
   ]
  },
  {
   "cell_type": "markdown",
   "id": "27a07f30",
   "metadata": {},
   "source": [
    "Exercise\n",
    "Remove Joe from the dictionary and print the new dictionary."
   ]
  },
  {
   "cell_type": "code",
   "execution_count": 24,
   "id": "b55d56cd",
   "metadata": {},
   "outputs": [
    {
     "name": "stdout",
     "output_type": "stream",
     "text": [
      "{'Tom': 190, 'Dick': 150, 'Harry': 180}\n"
     ]
    }
   ],
   "source": [
    "del adict[\"Joe\"]\n",
    "print(adict)"
   ]
  },
  {
   "cell_type": "code",
   "execution_count": 25,
   "id": "c9f0557a",
   "metadata": {},
   "outputs": [
    {
     "ename": "KeyError",
     "evalue": "0",
     "output_type": "error",
     "traceback": [
      "\u001b[1;31m---------------------------------------------------------------------------\u001b[0m",
      "\u001b[1;31mKeyError\u001b[0m                                  Traceback (most recent call last)",
      "Cell \u001b[1;32mIn[25], line 1\u001b[0m\n\u001b[1;32m----> 1\u001b[0m entry1 \u001b[38;5;241m=\u001b[39m adict[\u001b[38;5;241m0\u001b[39m]\n\u001b[0;32m      2\u001b[0m \u001b[38;5;28mprint\u001b[39m(entry1)\n",
      "\u001b[1;31mKeyError\u001b[0m: 0"
     ]
    }
   ],
   "source": [
    "entry1 = adict[0]\n",
    "print(entry1)"
   ]
  },
  {
   "cell_type": "code",
   "execution_count": 26,
   "id": "0d828259",
   "metadata": {},
   "outputs": [
    {
     "name": "stdout",
     "output_type": "stream",
     "text": [
      "150\n"
     ]
    }
   ],
   "source": [
    "print(adict[\"Dick\"])"
   ]
  },
  {
   "cell_type": "code",
   "execution_count": null,
   "id": "fddac4b7",
   "metadata": {},
   "outputs": [],
   "source": []
  }
 ],
 "metadata": {
  "kernelspec": {
   "display_name": "Python 3 (ipykernel)",
   "language": "python",
   "name": "python3"
  },
  "language_info": {
   "codemirror_mode": {
    "name": "ipython",
    "version": 3
   },
   "file_extension": ".py",
   "mimetype": "text/x-python",
   "name": "python",
   "nbconvert_exporter": "python",
   "pygments_lexer": "ipython3",
   "version": "3.11.7"
  }
 },
 "nbformat": 4,
 "nbformat_minor": 5
}
