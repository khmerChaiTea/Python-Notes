{
 "cells": [
  {
   "cell_type": "code",
   "execution_count": 1,
   "id": "6f3e91b2",
   "metadata": {},
   "outputs": [
    {
     "name": "stdout",
     "output_type": "stream",
     "text": [
      "Enter a past year (neg. for B.C.): 1982\n",
      "\n",
      "Ancestors in 2020: 2\n",
      "Ancestors in 2000: 4\n"
     ]
    }
   ],
   "source": [
    "year_considered = 2020  # Year being considered\n",
    "num_ancestors = 2  # Approx. ancestors in considered year\n",
    "years_per_generation = 20  # Approx. years per generation\n",
    "\n",
    "user_year = int(input('Enter a past year (neg. for B.C.): '))\n",
    "print()\n",
    "\n",
    "while year_considered >= user_year:\n",
    "    print(f'Ancestors in {year_considered}: {num_ancestors}')\n",
    "    \n",
    "    num_ancestors = num_ancestors * 2\n",
    "    year_considered = year_considered - years_per_generation"
   ]
  },
  {
   "cell_type": "code",
   "execution_count": 2,
   "id": "225a3d8a",
   "metadata": {},
   "outputs": [
    {
     "name": "stdout",
     "output_type": "stream",
     "text": [
      "8\n",
      "miss\n",
      "5\n",
      "hit\n",
      "12\n",
      "miss\n",
      "-9\n",
      "Result is 1\n"
     ]
    }
   ],
   "source": [
    "result = 0\n",
    "user_in = int(input())\n",
    "\n",
    "while user_in >= 0:\n",
    "    if user_in % 4 == 0:\n",
    "        print('miss')\n",
    "    else:\n",
    "        print('hit')\n",
    "        result += 1\n",
    "        \n",
    "    user_in = int(input())\n",
    "\n",
    "print(f'Result is {result}')"
   ]
  },
  {
   "cell_type": "code",
   "execution_count": 2,
   "id": "aa95ceda",
   "metadata": {},
   "outputs": [
    {
     "name": "stdout",
     "output_type": "stream",
     "text": [
      "10\n",
      "1\n",
      "6\n",
      "3\n",
      "0\n",
      "Average: 5\n",
      "\n"
     ]
    }
   ],
   "source": [
    "'''\n",
    "Outputs average of list of positive integers\n",
    "List ends with 0 (sentinel)\n",
    "Ex: 10 1 6 3 0  yields (10 + 1 + 6 + 3) / 4, or 5\n",
    "'''\n",
    "\n",
    "values_sum = 0\n",
    "num_values = 0\n",
    "\n",
    "curr_value = int(input())\n",
    "   \n",
    "while curr_value > 0: # Get values until 0 (or less)\n",
    "    values_sum += curr_value\n",
    "    num_values += 1\n",
    "    curr_value = int(input())\n",
    "\n",
    "print(f'Average: {values_sum / num_values:.0f}\\n')"
   ]
  },
  {
   "cell_type": "code",
   "execution_count": 6,
   "id": "0bea8512",
   "metadata": {},
   "outputs": [
    {
     "name": "stdout",
     "output_type": "stream",
     "text": [
      "I'll bid $10!\n",
      "Continue bidding? (y/n) y\n",
      "I'll bid $15!\n",
      "Continue bidding? (y/n) y\n",
      "I'll bid $21!\n",
      "Continue bidding? (y/n) y\n",
      "I'll bid $30!\n",
      "Continue bidding? (y/n) n\n"
     ]
    }
   ],
   "source": [
    "import random\n",
    "random.seed(5)\n",
    "\n",
    "keep_bidding = 'y'\n",
    "next_bid = 0\n",
    "\n",
    "while keep_bidding == 'y':\n",
    "   next_bid = next_bid + random.randint(1, 10)\n",
    "   print(f'I\\'ll bid ${next_bid}!')\n",
    "   print('Continue bidding? (y/n)', end=' ')\n",
    "   keep_bidding = input()"
   ]
  },
  {
   "cell_type": "code",
   "execution_count": 7,
   "id": "1c21c675",
   "metadata": {},
   "outputs": [
    {
     "name": "stdout",
     "output_type": "stream",
     "text": [
      "8\n",
      "8 16 32 64 "
     ]
    }
   ],
   "source": [
    "num_insects = int(input()) # Must be >= 1\n",
    "\n",
    "while num_insects <= 100:\n",
    "    print(num_insects, end= ' ')\n",
    "    num_insects = num_insects * 2\n"
   ]
  },
  {
   "cell_type": "code",
   "execution_count": 5,
   "id": "268dcc93",
   "metadata": {
    "scrolled": true
   },
   "outputs": [
    {
     "name": "stdout",
     "output_type": "stream",
     "text": [
      "3\n",
      "4\n",
      "Sequence starts at 3.\n",
      "4 is greater than or equal to 3. Sequence is not decreasing.\n",
      "8\n",
      "8 is greater than or equal to 4. Sequence is not decreasing.\n",
      "6\n",
      "6 breaks the sequence.\n"
     ]
    }
   ],
   "source": [
    "previous_data = int(input())\n",
    "current_data = int(input())\n",
    "print(f'Sequence starts at {previous_data}.')\n",
    "\n",
    "while current_data >= previous_data:\n",
    "    print(current_data, 'is greater than or equal to', previous_data, end='. Sequence is not decreasing.\\n')\n",
    "    previous_data = current_data\n",
    "    current_data = int(input())\n",
    "\n",
    "print(current_data, 'breaks the sequence.')"
   ]
  },
  {
   "cell_type": "code",
   "execution_count": 9,
   "id": "857c33fe",
   "metadata": {},
   "outputs": [
    {
     "name": "stdout",
     "output_type": "stream",
     "text": [
      "Initial savings of $5000\n",
      "at 3% yearly interest.\n",
      "\n",
      "Enter years: 15\n",
      "\n",
      " Savings at beginning of year 1: $5000.00\n",
      " Savings at beginning of year 2: $5150.00\n",
      " Savings at beginning of year 3: $5304.50\n",
      " Savings at beginning of year 4: $5463.64\n",
      " Savings at beginning of year 5: $5627.54\n",
      " Savings at beginning of year 6: $5796.37\n",
      " Savings at beginning of year 7: $5970.26\n",
      " Savings at beginning of year 8: $6149.37\n",
      " Savings at beginning of year 9: $6333.85\n",
      " Savings at beginning of year 10: $6523.87\n",
      " Savings at beginning of year 11: $6719.58\n",
      " Savings at beginning of year 12: $6921.17\n",
      " Savings at beginning of year 13: $7128.80\n",
      " Savings at beginning of year 14: $7342.67\n",
      " Savings at beginning of year 15: $7562.95\n",
      "\n",
      "\n"
     ]
    }
   ],
   "source": [
    "'''Program that calculates savings and interest'''\n",
    "\n",
    "initial_savings = 5000\n",
    "interest_rate = 0.03\n",
    "\n",
    "print(f'Initial savings of ${initial_savings}')\n",
    "print(f'at {interest_rate*100:.0f}% yearly interest.\\n')\n",
    "\n",
    "years = int(input('Enter years: '))\n",
    "print()\n",
    "\n",
    "savings = initial_savings\n",
    "i = 1  # Loop variable\n",
    "while i <= years:  # Loop condition\n",
    "    print(f' Savings at beginning of year {i}: ${savings:.2f}')\n",
    "    savings = savings + (savings*interest_rate)\n",
    "    i = i + 1  # Increment loop variable\n",
    "\n",
    "print('\\n')\n"
   ]
  },
  {
   "cell_type": "code",
   "execution_count": 10,
   "id": "fe53f6e4",
   "metadata": {},
   "outputs": [
    {
     "name": "stdout",
     "output_type": "stream",
     "text": [
      "1792\n",
      "1796\n",
      "1800\n",
      "1804\n",
      "1808\n",
      "1812\n",
      "1816\n",
      "1820\n",
      "1824\n",
      "1828\n",
      "1832\n",
      "1836\n",
      "1840\n",
      "1844\n",
      "1848\n",
      "1852\n",
      "1856\n",
      "1860\n",
      "1864\n",
      "1868\n",
      "1872\n",
      "1876\n",
      "1880\n",
      "1884\n",
      "1888\n",
      "1892\n",
      "1896\n",
      "1900\n",
      "1904\n",
      "1908\n",
      "1912\n",
      "1916\n",
      "1920\n",
      "1924\n",
      "1928\n",
      "1932\n",
      "1936\n",
      "1940\n",
      "1944\n",
      "1948\n",
      "1952\n",
      "1956\n",
      "1960\n",
      "1964\n",
      "1968\n",
      "1972\n",
      "1976\n",
      "1980\n",
      "1984\n",
      "1988\n",
      "1992\n",
      "1996\n",
      "2000\n",
      "2004\n",
      "2008\n",
      "2012\n",
      "2016\n",
      "2020\n",
      "2024\n"
     ]
    }
   ],
   "source": [
    "year = 1792\n",
    "current_year = 2024\n",
    "\n",
    "while year <= current_year:\n",
    "    # Print the election year\n",
    "    print(year)\n",
    "    year = year + 4"
   ]
  },
  {
   "cell_type": "code",
   "execution_count": 11,
   "id": "3f97e15d",
   "metadata": {},
   "outputs": [
    {
     "name": "stdout",
     "output_type": "stream",
     "text": [
      "5\n",
      "600\n"
     ]
    }
   ],
   "source": [
    "N = int(input())  # Read user-entered number\n",
    "total = N\n",
    "i = N # Initialize the loop variable\n",
    "\n",
    "while i > 1:\n",
    "    total *= i # Set total to total * (i)\n",
    "    i -= 1 # Decrement i\n",
    "    \n",
    "print(total)"
   ]
  },
  {
   "cell_type": "code",
   "execution_count": null,
   "id": "1356a046",
   "metadata": {},
   "outputs": [],
   "source": []
  }
 ],
 "metadata": {
  "kernelspec": {
   "display_name": "Python 3 (ipykernel)",
   "language": "python",
   "name": "python3"
  },
  "language_info": {
   "codemirror_mode": {
    "name": "ipython",
    "version": 3
   },
   "file_extension": ".py",
   "mimetype": "text/x-python",
   "name": "python",
   "nbconvert_exporter": "python",
   "pygments_lexer": "ipython3",
   "version": "3.11.7"
  }
 },
 "nbformat": 4,
 "nbformat_minor": 5
}
