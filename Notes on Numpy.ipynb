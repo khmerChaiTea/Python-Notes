{
 "cells": [
  {
   "cell_type": "markdown",
   "id": "b993ef21",
   "metadata": {},
   "source": [
    "Numpy Arrays"
   ]
  },
  {
   "cell_type": "markdown",
   "id": "63d45999",
   "metadata": {},
   "source": [
    "Begin by importing numpy with the alias np"
   ]
  },
  {
   "cell_type": "code",
   "execution_count": 1,
   "id": "76b6d3af",
   "metadata": {},
   "outputs": [],
   "source": [
    "import numpy as np"
   ]
  },
  {
   "cell_type": "markdown",
   "id": "da9c6048",
   "metadata": {},
   "source": [
    "A numpy array is very similar to a list.\n",
    "\n",
    "You usually create a numpy array by making a list and using the function np.array()"
   ]
  },
  {
   "cell_type": "code",
   "execution_count": 2,
   "id": "3577775a",
   "metadata": {},
   "outputs": [
    {
     "data": {
      "text/plain": [
       "array([1, 2, 3])"
      ]
     },
     "execution_count": 2,
     "metadata": {},
     "output_type": "execute_result"
    }
   ],
   "source": [
    "array_1 = np.array([1,2,3])\n",
    "array_1"
   ]
  },
  {
   "cell_type": "markdown",
   "id": "3c09ac72",
   "metadata": {},
   "source": [
    "Display Format\n",
    "Printing an array shows a list-like structure but without commas. However, you can't use this to create an array."
   ]
  },
  {
   "cell_type": "code",
   "execution_count": 3,
   "id": "9c1157d9",
   "metadata": {},
   "outputs": [
    {
     "name": "stdout",
     "output_type": "stream",
     "text": [
      "[1 2 3]\n"
     ]
    }
   ],
   "source": [
    "print(array_1)"
   ]
  },
  {
   "cell_type": "code",
   "execution_count": 4,
   "id": "1a689d4b",
   "metadata": {},
   "outputs": [
    {
     "ename": "SyntaxError",
     "evalue": "invalid syntax. Perhaps you forgot a comma? (1146416570.py, line 1)",
     "output_type": "error",
     "traceback": [
      "\u001b[1;36m  Cell \u001b[1;32mIn[4], line 1\u001b[1;36m\u001b[0m\n\u001b[1;33m    x = [1 2 3]\u001b[0m\n\u001b[1;37m         ^\u001b[0m\n\u001b[1;31mSyntaxError\u001b[0m\u001b[1;31m:\u001b[0m invalid syntax. Perhaps you forgot a comma?\n"
     ]
    }
   ],
   "source": [
    "x = [1 2 3]"
   ]
  },
  {
   "cell_type": "markdown",
   "id": "79cf2120",
   "metadata": {},
   "source": [
    "Selecting parts of an array.\n",
    "This works the same way as with lists."
   ]
  },
  {
   "cell_type": "code",
   "execution_count": 5,
   "id": "a1ce6b43",
   "metadata": {},
   "outputs": [
    {
     "name": "stdout",
     "output_type": "stream",
     "text": [
      "2\n",
      "<class 'numpy.int32'>\n"
     ]
    }
   ],
   "source": [
    "p1 = array_1[1]\n",
    "print(p1)\n",
    "print(type(p1))"
   ]
  },
  {
   "cell_type": "code",
   "execution_count": 6,
   "id": "b1eb3d95",
   "metadata": {},
   "outputs": [
    {
     "name": "stdout",
     "output_type": "stream",
     "text": [
      "[1 2]\n",
      "<class 'numpy.ndarray'>\n"
     ]
    }
   ],
   "source": [
    "p2 = array_1[:2]\n",
    "print(p2)\n",
    "print(type(p2))"
   ]
  },
  {
   "cell_type": "markdown",
   "id": "9ef0aecf",
   "metadata": {},
   "source": [
    "Elementwise Operation"
   ]
  },
  {
   "cell_type": "code",
   "execution_count": 7,
   "id": "fa5217a7",
   "metadata": {},
   "outputs": [
    {
     "name": "stdout",
     "output_type": "stream",
     "text": [
      "[2 3 5]\n"
     ]
    }
   ],
   "source": [
    "array_2 = np.array([1,1,2])\n",
    "array_3 = array_1 + array_2\n",
    "print(array_3)"
   ]
  },
  {
   "cell_type": "markdown",
   "id": "841182d0",
   "metadata": {},
   "source": [
    "Concatenation\n",
    "Use the concatenate function"
   ]
  },
  {
   "cell_type": "code",
   "execution_count": 8,
   "id": "27617940",
   "metadata": {},
   "outputs": [
    {
     "name": "stdout",
     "output_type": "stream",
     "text": [
      "[1 2 3 1 1 2]\n"
     ]
    }
   ],
   "source": [
    "array_4 = np.concatenate([array_1,array_2])\n",
    "print(array_4)"
   ]
  },
  {
   "cell_type": "markdown",
   "id": "d7378412",
   "metadata": {},
   "source": [
    "Multidimensional Arrays"
   ]
  },
  {
   "cell_type": "code",
   "execution_count": 9,
   "id": "21a22d6f",
   "metadata": {},
   "outputs": [],
   "source": [
    "array_5 = np.array([[1,2,3],[4,5,6]])"
   ]
  },
  {
   "cell_type": "code",
   "execution_count": 10,
   "id": "92b478b6",
   "metadata": {},
   "outputs": [
    {
     "name": "stdout",
     "output_type": "stream",
     "text": [
      "[[1 2 3]\n",
      " [4 5 6]]\n"
     ]
    }
   ],
   "source": [
    "print(array_5)"
   ]
  },
  {
   "cell_type": "code",
   "execution_count": 11,
   "id": "ff75f023",
   "metadata": {},
   "outputs": [
    {
     "data": {
      "text/plain": [
       "6"
      ]
     },
     "execution_count": 11,
     "metadata": {},
     "output_type": "execute_result"
    }
   ],
   "source": [
    "array_5[1,2]"
   ]
  },
  {
   "cell_type": "code",
   "execution_count": 12,
   "id": "568fc113",
   "metadata": {},
   "outputs": [
    {
     "name": "stdout",
     "output_type": "stream",
     "text": [
      "(2, 3)\n"
     ]
    }
   ],
   "source": [
    "print(array_5.shape)"
   ]
  },
  {
   "cell_type": "code",
   "execution_count": 13,
   "id": "bf6f2545",
   "metadata": {},
   "outputs": [
    {
     "name": "stdout",
     "output_type": "stream",
     "text": [
      "2\n"
     ]
    }
   ],
   "source": [
    "print(array_5.ndim)"
   ]
  },
  {
   "cell_type": "code",
   "execution_count": null,
   "id": "6ec22316",
   "metadata": {},
   "outputs": [],
   "source": []
  }
 ],
 "metadata": {
  "kernelspec": {
   "display_name": "Python 3 (ipykernel)",
   "language": "python",
   "name": "python3"
  },
  "language_info": {
   "codemirror_mode": {
    "name": "ipython",
    "version": 3
   },
   "file_extension": ".py",
   "mimetype": "text/x-python",
   "name": "python",
   "nbconvert_exporter": "python",
   "pygments_lexer": "ipython3",
   "version": "3.11.7"
  }
 },
 "nbformat": 4,
 "nbformat_minor": 5
}
