{
 "cells": [
  {
   "cell_type": "markdown",
   "id": "6ca806bb",
   "metadata": {},
   "source": [
    "Conditional Execution"
   ]
  },
  {
   "cell_type": "markdown",
   "id": "aac85ca4",
   "metadata": {},
   "source": [
    "Boolean Expressions\n",
    "Evaluate each of the following expressions in your head before proceeding to the following slide to see the answer."
   ]
  },
  {
   "cell_type": "code",
   "execution_count": 1,
   "id": "8fb89f85",
   "metadata": {},
   "outputs": [
    {
     "data": {
      "text/plain": [
       "True"
      ]
     },
     "execution_count": 1,
     "metadata": {},
     "output_type": "execute_result"
    }
   ],
   "source": [
    "4 == 2 * 2"
   ]
  },
  {
   "cell_type": "code",
   "execution_count": 2,
   "id": "e587b014",
   "metadata": {},
   "outputs": [
    {
     "data": {
      "text/plain": [
       "True"
      ]
     },
     "execution_count": 2,
     "metadata": {},
     "output_type": "execute_result"
    }
   ],
   "source": [
    "3 < 4"
   ]
  },
  {
   "cell_type": "code",
   "execution_count": 3,
   "id": "aeb798ad",
   "metadata": {},
   "outputs": [
    {
     "data": {
      "text/plain": [
       "True"
      ]
     },
     "execution_count": 3,
     "metadata": {},
     "output_type": "execute_result"
    }
   ],
   "source": [
    "3 <= 4"
   ]
  },
  {
   "cell_type": "code",
   "execution_count": 4,
   "id": "6505a4a4",
   "metadata": {},
   "outputs": [
    {
     "data": {
      "text/plain": [
       "True"
      ]
     },
     "execution_count": 4,
     "metadata": {},
     "output_type": "execute_result"
    }
   ],
   "source": [
    "3 != 4"
   ]
  },
  {
   "cell_type": "markdown",
   "id": "08ffcc48",
   "metadata": {},
   "source": [
    "The remainder after dividing 12 by 2 is zero. Say this in python instead of English."
   ]
  },
  {
   "cell_type": "code",
   "execution_count": 5,
   "id": "d761fd9c",
   "metadata": {},
   "outputs": [
    {
     "data": {
      "text/plain": [
       "True"
      ]
     },
     "execution_count": 5,
     "metadata": {},
     "output_type": "execute_result"
    }
   ],
   "source": [
    "12 % 2 == 0"
   ]
  },
  {
   "cell_type": "markdown",
   "id": "aadc8804",
   "metadata": {},
   "source": [
    "Boolean Operators\n",
    "Evaluate each of the following expressions in your head before proceeding to the following slide to see the answer."
   ]
  },
  {
   "cell_type": "code",
   "execution_count": 6,
   "id": "055aa9e3",
   "metadata": {},
   "outputs": [
    {
     "data": {
      "text/plain": [
       "False"
      ]
     },
     "execution_count": 6,
     "metadata": {},
     "output_type": "execute_result"
    }
   ],
   "source": [
    "3 < 4 and 3 >4"
   ]
  },
  {
   "cell_type": "code",
   "execution_count": 7,
   "id": "d77c8afd",
   "metadata": {},
   "outputs": [
    {
     "data": {
      "text/plain": [
       "True"
      ]
     },
     "execution_count": 7,
     "metadata": {},
     "output_type": "execute_result"
    }
   ],
   "source": [
    "3 < 4 or 3 > 4"
   ]
  },
  {
   "cell_type": "code",
   "execution_count": 8,
   "id": "4a731470",
   "metadata": {},
   "outputs": [
    {
     "data": {
      "text/plain": [
       "True"
      ]
     },
     "execution_count": 8,
     "metadata": {},
     "output_type": "execute_result"
    }
   ],
   "source": [
    "3 < 4 or not (3 > 4)"
   ]
  },
  {
   "cell_type": "code",
   "execution_count": 9,
   "id": "739f68fd",
   "metadata": {},
   "outputs": [
    {
     "data": {
      "text/plain": [
       "False"
      ]
     },
     "execution_count": 9,
     "metadata": {},
     "output_type": "execute_result"
    }
   ],
   "source": [
    "not (3 < 4 or not (3 > 4) )"
   ]
  },
  {
   "cell_type": "code",
   "execution_count": 10,
   "id": "8ff7c7ca",
   "metadata": {},
   "outputs": [
    {
     "data": {
      "text/plain": [
       "False"
      ]
     },
     "execution_count": 10,
     "metadata": {},
     "output_type": "execute_result"
    }
   ],
   "source": [
    "x = 5\n",
    "0 < x < 4"
   ]
  },
  {
   "cell_type": "markdown",
   "id": "662e9ec0",
   "metadata": {},
   "source": [
    "Instructions\n",
    "In the exercises that follow, try to predict what the python interpreter would do. Commit yourself on paper to your prediction. Then run the code.\n",
    "\n",
    "Each block begins with one or more logical variables of the form condn, where the n is replaced by an integer. You should try different combinations of these variables to expand the original exercise into multiple exercises. If there are two logical variables, there are four possible combinations. By treeing out the possibilities, you can see that if there are  \n",
    "n\n",
    "  possibilities, there are  \n",
    "2\n",
    "n\n",
    "  possible combinations."
   ]
  },
  {
   "cell_type": "markdown",
   "id": "88bde44b",
   "metadata": {},
   "source": [
    "if alone\n",
    "If the condition after the if is true, the statement(s) in the scope of the if statement are executed. Then the following statements are executed regardless of the value of the condition.\n",
    "\n",
    "If the condition is false, the statement(s) in the scope of the if are not executed. Regardless, the statement following the if is executed.\n",
    "\n",
    "Note that an if nested within this structure follows the same rule.\n",
    "\n",
    "There are two boolean variables in this snippet, so there are four possible combinations. Please do this exercise for all four.\n",
    "\n",
    "cond1 = True and cond2 = True.\n",
    "\n",
    "cond1 = True and cond2 = False.\n",
    "\n",
    "cond1 = False and cond2 = True.\n",
    "\n",
    "cond1 = False and cond2 = False."
   ]
  },
  {
   "cell_type": "code",
   "execution_count": 11,
   "id": "b770d9ac",
   "metadata": {},
   "outputs": [
    {
     "name": "stdout",
     "output_type": "stream",
     "text": [
      "Point A\n",
      "Point B\n",
      "Point C\n",
      "Point D\n"
     ]
    }
   ],
   "source": [
    "# Code Snippet 1\n",
    "\n",
    "cond1 = True\n",
    "cond2 = True\n",
    "\n",
    "if cond1:\n",
    "\n",
    "    print(\"Point A\")\n",
    "    \n",
    "    if cond2:\n",
    "    \n",
    "        print(\"Point B\")\n",
    "        \n",
    "    print(\"Point C\")    \n",
    "        \n",
    "print(\"Point D\")"
   ]
  },
  {
   "cell_type": "code",
   "execution_count": 12,
   "id": "f7837f17",
   "metadata": {},
   "outputs": [
    {
     "name": "stdout",
     "output_type": "stream",
     "text": [
      "Point A\n",
      "Point B\n",
      "Point c\n",
      "Point D\n",
      "Point E\n"
     ]
    }
   ],
   "source": [
    "# Code Snippet 1b\n",
    "\n",
    "cond1 = True\n",
    "cond2 = True\n",
    "cond3 = True\n",
    "\n",
    "if cond1:\n",
    "\n",
    "    print(\"Point A\")\n",
    "    \n",
    "    if cond2:\n",
    "    \n",
    "        print(\"Point B\")\n",
    "        \n",
    "        if cond3:\n",
    "            print(\"Point c\")\n",
    "        \n",
    "    print(\"Point D\")    \n",
    "        \n",
    "print(\"Point E\")"
   ]
  },
  {
   "cell_type": "markdown",
   "id": "325f7879",
   "metadata": {},
   "source": [
    "if + else\n",
    "If the condition after the if is true, the statement(s) in the scope of the if statement are executed; and the statements in the scope of the else are not executed\n",
    "\n",
    "If the condition after the if is false, the stetements in the scope of the else are executed; and the statements in the scope of the if are not executed.\n",
    "\n",
    "Then the following statements are executed regardless of the value of the condition.\n",
    "\n",
    "Use the following code snippet to see the impact of changing the value of cond1."
   ]
  },
  {
   "cell_type": "code",
   "execution_count": 13,
   "id": "b18d45aa",
   "metadata": {},
   "outputs": [
    {
     "name": "stdout",
     "output_type": "stream",
     "text": [
      "Point A\n",
      "Point C\n"
     ]
    }
   ],
   "source": [
    "# Code Snippet 2\n",
    "\n",
    "cond1 = True\n",
    "\n",
    "if cond1:\n",
    "\n",
    "    print(\"Point A\")\n",
    "    \n",
    "else:\n",
    "\n",
    "    print(\"Point B\")\n",
    "    \n",
    "print(\"Point C\")    "
   ]
  },
  {
   "cell_type": "code",
   "execution_count": 14,
   "id": "2306e6dc",
   "metadata": {},
   "outputs": [
    {
     "name": "stdout",
     "output_type": "stream",
     "text": [
      "Point A\n",
      "Point D\n"
     ]
    }
   ],
   "source": [
    "# Code Snippet 2b\n",
    "\n",
    "cond1 = True\n",
    "cond2 = True\n",
    "\n",
    "if cond1:\n",
    "\n",
    "    print(\"Point A\")\n",
    "    \n",
    "else:\n",
    "\n",
    "    print(\"Point B\")\n",
    "    \n",
    "    if cond2:\n",
    "        \n",
    "        print(\"Point C\")\n",
    "    \n",
    "print(\"Point D\")    "
   ]
  },
  {
   "cell_type": "markdown",
   "id": "3d7f3850",
   "metadata": {},
   "source": [
    "if + elif\n",
    "When an if is followed by one or more elif statements, the conditions following each of these are evaluated in order. As soon as one of the conditions is found to be true, the statements in the corresponding scope are executed. Then the statement following all of these is executed.\n",
    "\n",
    "Use the following code snippet to see the impact of the values of cond1, cond2, and cond3. Note that there are eight possibilities. Try at least 4 of them."
   ]
  },
  {
   "cell_type": "code",
   "execution_count": 15,
   "id": "0893e171",
   "metadata": {},
   "outputs": [
    {
     "name": "stdout",
     "output_type": "stream",
     "text": [
      "Point A\n",
      "Point D\n"
     ]
    }
   ],
   "source": [
    "# Code Snippet 3\n",
    "\n",
    "cond1 = True\n",
    "cond2 = True\n",
    "cond3 = True\n",
    "\n",
    "if cond1:\n",
    "\n",
    "    print(\"Point A\")\n",
    "    \n",
    "elif cond2:\n",
    "\n",
    "    print(\"Point B\")\n",
    "    \n",
    "elif cond3:\n",
    "\n",
    "    print(\"Point C\")\n",
    "    \n",
    "print(\"Point D\")  "
   ]
  },
  {
   "cell_type": "markdown",
   "id": "7885d09d",
   "metadata": {},
   "source": [
    "if + elif + else\n",
    "Basically this is the same as if + elif, but if none of the conditions is true, the statements in the scope of the else are executed. Then the following statement is executed.\n",
    "\n",
    "Again, Try at least four of the eight possible combinations."
   ]
  },
  {
   "cell_type": "code",
   "execution_count": 16,
   "id": "97ab1485",
   "metadata": {},
   "outputs": [
    {
     "name": "stdout",
     "output_type": "stream",
     "text": [
      "Point A\n",
      "Point E\n"
     ]
    }
   ],
   "source": [
    "# Code Snippet 4\n",
    "\n",
    "cond1 = True\n",
    "cond2 = True\n",
    "cond3 = True\n",
    "\n",
    "if cond1:\n",
    "\n",
    "    print(\"Point A\")\n",
    "    \n",
    "elif cond2:\n",
    "\n",
    "    print(\"Point B\")\n",
    "    \n",
    "elif cond3:\n",
    "\n",
    "    print(\"Point C\")\n",
    "    \n",
    "else:\n",
    "\n",
    "    print(\"Point D\")\n",
    "    \n",
    "print(\"Point E\")"
   ]
  },
  {
   "cell_type": "code",
   "execution_count": 17,
   "id": "80babbfa",
   "metadata": {},
   "outputs": [
    {
     "name": "stdout",
     "output_type": "stream",
     "text": [
      "3\n",
      "7\n"
     ]
    }
   ],
   "source": [
    "x = 5\n",
    "y = 3 if x < 10 else 4\n",
    "z = 6 if x < 4 else 7\n",
    "print(y)\n",
    "print(z)"
   ]
  },
  {
   "cell_type": "markdown",
   "id": "5f9bacbe",
   "metadata": {},
   "source": [
    "A Practical Problem\n",
    "Look at the table of grades in the syllabus for this course.\n",
    "\n",
    "Construct a program which converts an integer between 0 and 100 inclusive to the correct letter grade. Print the numeric grade and the letter grade using an f string."
   ]
  },
  {
   "cell_type": "code",
   "execution_count": 18,
   "id": "48870b0c",
   "metadata": {},
   "outputs": [
    {
     "name": "stdout",
     "output_type": "stream",
     "text": [
      "The numerical grade is 83 so the letter_grade is B.\n"
     ]
    }
   ],
   "source": [
    "# Test Value\n",
    "numerical_grade = 83\n",
    "if numerical_grade >= 95:\n",
    "    letter_grade = \"A\"\n",
    "elif numerical_grade >= 90:\n",
    "    letter_grade = \"A-\"\n",
    "elif numerical_grade >= 86:\n",
    "    letter_grade = \"B+\"\n",
    "elif numerical_grade >= 83:\n",
    "    letter_grade = \"B\"\n",
    "elif numerical_grade >= 80:\n",
    "    letter_grade = \"B-\"\n",
    "elif numerical_grade >= 76:\n",
    "    letter_grade = \"C+\"\n",
    "elif numerical_grade >= 73:\n",
    "    letter_grade = \"C\"\n",
    "elif numerical_grade >= 70:\n",
    "    letter_grade = \"C-\"\n",
    "elif numerical_grade >= 65:\n",
    "    letter_grade = \"D+\"\n",
    "elif numerical_grade >= 60:\n",
    "    letter_grade = \"D\"\n",
    "else:\n",
    "    letter_grade = \"F\"\n",
    "    \n",
    "result = f'The numerical grade is {numerical_grade} so the letter_grade is {letter_grade}.'\n",
    "\n",
    "print(result)"
   ]
  },
  {
   "cell_type": "code",
   "execution_count": null,
   "id": "2882845c",
   "metadata": {},
   "outputs": [],
   "source": []
  }
 ],
 "metadata": {
  "kernelspec": {
   "display_name": "Python 3 (ipykernel)",
   "language": "python",
   "name": "python3"
  },
  "language_info": {
   "codemirror_mode": {
    "name": "ipython",
    "version": 3
   },
   "file_extension": ".py",
   "mimetype": "text/x-python",
   "name": "python",
   "nbconvert_exporter": "python",
   "pygments_lexer": "ipython3",
   "version": "3.11.7"
  }
 },
 "nbformat": 4,
 "nbformat_minor": 5
}
