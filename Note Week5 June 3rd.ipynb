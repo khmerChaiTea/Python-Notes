{
 "cells": [
  {
   "cell_type": "code",
   "execution_count": 9,
   "id": "f62fcb3f",
   "metadata": {},
   "outputs": [
    {
     "name": "stdout",
     "output_type": "stream",
     "text": [
      "[1,2,3,3,4,1,5,5,5]\n",
      "['[', '1', ',', '2', '3', '4', '5', ']']\n"
     ]
    }
   ],
   "source": [
    "def undup(l):\n",
    "    res = []\n",
    "    for item in l:\n",
    "        if item not in res:\n",
    "            res.append(item)\n",
    "    return res\n",
    "\n",
    "l = input()\n",
    "print(undup(l))"
   ]
  },
  {
   "cell_type": "code",
   "execution_count": 12,
   "id": "3526a4dd",
   "metadata": {},
   "outputs": [
    {
     "name": "stdout",
     "output_type": "stream",
     "text": [
      "1 2 3\n"
     ]
    },
    {
     "ename": "TypeError",
     "evalue": "unsupported operand type(s) for +=: 'int' and 'str'",
     "output_type": "error",
     "traceback": [
      "\u001b[1;31m---------------------------------------------------------------------------\u001b[0m",
      "\u001b[1;31mTypeError\u001b[0m                                 Traceback (most recent call last)",
      "Cell \u001b[1;32mIn[12], line 9\u001b[0m\n\u001b[0;32m      6\u001b[0m     \u001b[38;5;28;01mreturn\u001b[39;00m []\n\u001b[0;32m      8\u001b[0m testlist \u001b[38;5;241m=\u001b[39m \u001b[38;5;28minput\u001b[39m()\n\u001b[1;32m----> 9\u001b[0m \u001b[38;5;28mprint\u001b[39m(numres(testlist))\n",
      "Cell \u001b[1;32mIn[12], line 4\u001b[0m, in \u001b[0;36mnumres\u001b[1;34m(nl)\u001b[0m\n\u001b[0;32m      2\u001b[0m \u001b[38;5;28msum\u001b[39m \u001b[38;5;241m=\u001b[39m \u001b[38;5;241m0\u001b[39m\n\u001b[0;32m      3\u001b[0m \u001b[38;5;28;01mfor\u001b[39;00m n \u001b[38;5;129;01min\u001b[39;00m nl:\n\u001b[1;32m----> 4\u001b[0m     \u001b[38;5;28msum\u001b[39m \u001b[38;5;241m+\u001b[39m\u001b[38;5;241m=\u001b[39m n\n\u001b[0;32m      5\u001b[0m mean \u001b[38;5;241m=\u001b[39m \u001b[38;5;28msum\u001b[39m\u001b[38;5;241m/\u001b[39m\u001b[38;5;28mlen\u001b[39m(nl)\n\u001b[0;32m      6\u001b[0m \u001b[38;5;28;01mreturn\u001b[39;00m []\n",
      "\u001b[1;31mTypeError\u001b[0m: unsupported operand type(s) for +=: 'int' and 'str'"
     ]
    }
   ],
   "source": [
    "def numres(nl):\n",
    "    sum = 0\n",
    "    for n in nl:\n",
    "        sum = sum + n\n",
    "    mean = sum/len(nl)\n",
    "    return []\n",
    "\n",
    "testlist = input()\n",
    "print(numres(testlist))\n"
   ]
  },
  {
   "cell_type": "code",
   "execution_count": 14,
   "id": "1766824c",
   "metadata": {},
   "outputs": [],
   "source": [
    "xlist = [l,['a','b',['x', 'y']]]"
   ]
  },
  {
   "cell_type": "code",
   "execution_count": 16,
   "id": "d4520d10",
   "metadata": {},
   "outputs": [
    {
     "name": "stdout",
     "output_type": "stream",
     "text": [
      "y\n",
      "['[1,2,3,3,4,1,5,5,5]', ['a', 'b', ['x', 'y']]]\n"
     ]
    }
   ],
   "source": [
    "xlist = [l,['a','b',['x', 'y']]]\n",
    "\n",
    "# Accessing 'y' using indexing\n",
    "letter_y = xlist[1][2][1]\n",
    "\n",
    "# Printing the letter 'y'\n",
    "print(letter_y)\n",
    "print(xlist)"
   ]
  },
  {
   "cell_type": "code",
   "execution_count": 18,
   "id": "ab968242",
   "metadata": {},
   "outputs": [
    {
     "name": "stdout",
     "output_type": "stream",
     "text": [
      "42\n"
     ]
    }
   ],
   "source": [
    "import random\n",
    "x = random.randint(0,100)\n",
    "print(x)"
   ]
  },
  {
   "cell_type": "code",
   "execution_count": 21,
   "id": "c6e309c7",
   "metadata": {},
   "outputs": [
    {
     "name": "stdout",
     "output_type": "stream",
     "text": [
      "[25, 61, 72, 96, 60, 36, 20, 70, 27, 97, 59, 51, 90, 45, 40, 95, 3, 0, 46, 65]\n"
     ]
    }
   ],
   "source": [
    "randlist = []\n",
    "for i in range(20):\n",
    "    randlist.append(random.randint(0,100))\n",
    "    \n",
    "print(randlist)"
   ]
  },
  {
   "cell_type": "code",
   "execution_count": 22,
   "id": "9c6cdb9f",
   "metadata": {},
   "outputs": [
    {
     "name": "stdout",
     "output_type": "stream",
     "text": [
      "[0, 3, 20, 25, 27, 36, 40, 45, 46, 51, 59, 60, 61, 65, 70, 72, 90, 95, 96, 97]\n"
     ]
    }
   ],
   "source": [
    "randlist.sort()\n",
    "print(randlist)"
   ]
  },
  {
   "cell_type": "code",
   "execution_count": 23,
   "id": "60727acd",
   "metadata": {},
   "outputs": [
    {
     "name": "stdout",
     "output_type": "stream",
     "text": [
      "None\n"
     ]
    }
   ],
   "source": [
    "sorted_list = randlist.sort()\n",
    "print(sorted_list)"
   ]
  },
  {
   "cell_type": "markdown",
   "id": "9b4b90ae",
   "metadata": {},
   "source": [
    "sort method doesn't return anything so it is void"
   ]
  },
  {
   "cell_type": "code",
   "execution_count": 24,
   "id": "f420048b",
   "metadata": {},
   "outputs": [
    {
     "name": "stdout",
     "output_type": "stream",
     "text": [
      "None\n",
      "[0, 3, 20, 25, 27, 36, 40, 45, 46, 51, 59, 60, 61, 65, 70, 72, 90, 95, 96, 97, 150]\n"
     ]
    }
   ],
   "source": [
    "bigger = randlist.append(150)\n",
    "print(bigger)\n",
    "print(randlist)"
   ]
  },
  {
   "cell_type": "code",
   "execution_count": 26,
   "id": "100c6733",
   "metadata": {},
   "outputs": [],
   "source": [
    "def how_many_a_in_li(a,li):\n",
    "    count = 0\n",
    "    for item in li:\n",
    "        if a == item:\n",
    "            count = count + 1\n",
    "            \n",
    "    return count"
   ]
  },
  {
   "cell_type": "code",
   "execution_count": 30,
   "id": "7fb739d3",
   "metadata": {},
   "outputs": [
    {
     "name": "stdout",
     "output_type": "stream",
     "text": [
      "[(1, 1), (2, 4), (3, 9), (4, 16), (5, 25), (6, 36), (7, 49), (8, 64), (9, 81), (10, 100)]\n"
     ]
    }
   ],
   "source": [
    "list_tuple = []\n",
    "\n",
    "for i in range(10):\n",
    "    list_tuple.append((i+1, (i+1)**2))\n",
    "\n",
    "print(list_tuple)"
   ]
  },
  {
   "cell_type": "code",
   "execution_count": 32,
   "id": "5a21c4c6",
   "metadata": {},
   "outputs": [
    {
     "name": "stdout",
     "output_type": "stream",
     "text": [
      "[(1, 1), (2, 4), (3, 9), (4, 16), (5, 25), (6, 36), (7, 49), (8, 64), (9, 81), (10, 100)]\n"
     ]
    }
   ],
   "source": [
    "the_list = [(i+1, (i+1)**2) for i in range(10)]\n",
    "print(the_list)"
   ]
  },
  {
   "cell_type": "code",
   "execution_count": 36,
   "id": "1e8cae39",
   "metadata": {},
   "outputs": [
    {
     "ename": "TypeError",
     "evalue": "'int' object is not subscriptable",
     "output_type": "error",
     "traceback": [
      "\u001b[1;31m---------------------------------------------------------------------------\u001b[0m",
      "\u001b[1;31mTypeError\u001b[0m                                 Traceback (most recent call last)",
      "Cell \u001b[1;32mIn[36], line 5\u001b[0m\n\u001b[0;32m      3\u001b[0m lot \u001b[38;5;241m=\u001b[39m []\n\u001b[0;32m      4\u001b[0m \u001b[38;5;28;01mfor\u001b[39;00m li \u001b[38;5;129;01min\u001b[39;00m lol:\n\u001b[1;32m----> 5\u001b[0m     lot\u001b[38;5;241m.\u001b[39mappend((li[\u001b[38;5;241m0\u001b[39m], li[\u001b[38;5;241m-\u001b[39m\u001b[38;5;241m1\u001b[39m]))\n\u001b[0;32m      7\u001b[0m \u001b[38;5;28mprint\u001b[39m(lot)\n",
      "\u001b[1;31mTypeError\u001b[0m: 'int' object is not subscriptable"
     ]
    }
   ],
   "source": [
    "lol = [[1,2,3],[4,5,6],7,[8,9,10,11]]\n",
    "\n",
    "lot = []\n",
    "for li in lol:\n",
    "    lot.append((li[0], li[-1]))\n",
    "    \n",
    "print(lot)"
   ]
  },
  {
   "cell_type": "code",
   "execution_count": 37,
   "id": "3ffab45e",
   "metadata": {},
   "outputs": [],
   "source": [
    "lot = []"
   ]
  },
  {
   "cell_type": "code",
   "execution_count": 38,
   "id": "98575d27",
   "metadata": {},
   "outputs": [
    {
     "name": "stdout",
     "output_type": "stream",
     "text": [
      "['Mary', 'had', 'a', 'litle', 'lamb']\n"
     ]
    }
   ],
   "source": [
    "s = \"Mary had a litle lamb\"\n",
    "s_split = s.split()\n",
    "print(s_split)"
   ]
  },
  {
   "cell_type": "code",
   "execution_count": 40,
   "id": "20bf1ddb",
   "metadata": {},
   "outputs": [
    {
     "name": "stdout",
     "output_type": "stream",
     "text": [
      "Mary*had*a*litle*lamb\n"
     ]
    }
   ],
   "source": [
    "s_joint = \"*\".join(s_split)\n",
    "print(s_joint)"
   ]
  },
  {
   "cell_type": "code",
   "execution_count": 41,
   "id": "0152143b",
   "metadata": {},
   "outputs": [
    {
     "name": "stdout",
     "output_type": "stream",
     "text": [
      "Mary*had*a*litle*lamb\n"
     ]
    }
   ],
   "source": [
    "s_replace = s.replace(' ',\"*\")\n",
    "print(s_joint)"
   ]
  },
  {
   "cell_type": "markdown",
   "id": "d88b5efa",
   "metadata": {},
   "source": [
    "Numpy Arrays"
   ]
  },
  {
   "cell_type": "code",
   "execution_count": 42,
   "id": "867adc29",
   "metadata": {},
   "outputs": [],
   "source": [
    "import numpy as np"
   ]
  },
  {
   "cell_type": "code",
   "execution_count": 43,
   "id": "c37bf848",
   "metadata": {},
   "outputs": [
    {
     "data": {
      "text/plain": [
       "array([1, 2, 3])"
      ]
     },
     "execution_count": 43,
     "metadata": {},
     "output_type": "execute_result"
    }
   ],
   "source": [
    "array_1 = np.array([1,2,3])\n",
    "array_1"
   ]
  },
  {
   "cell_type": "code",
   "execution_count": 44,
   "id": "7e28b776",
   "metadata": {},
   "outputs": [
    {
     "name": "stdout",
     "output_type": "stream",
     "text": [
      "[1 2 3]\n"
     ]
    }
   ],
   "source": [
    "print(array_1)"
   ]
  },
  {
   "cell_type": "code",
   "execution_count": 45,
   "id": "7dfc9478",
   "metadata": {},
   "outputs": [
    {
     "ename": "SyntaxError",
     "evalue": "invalid syntax. Perhaps you forgot a comma? (1146416570.py, line 1)",
     "output_type": "error",
     "traceback": [
      "\u001b[1;36m  Cell \u001b[1;32mIn[45], line 1\u001b[1;36m\u001b[0m\n\u001b[1;33m    x = [1 2 3]\u001b[0m\n\u001b[1;37m         ^\u001b[0m\n\u001b[1;31mSyntaxError\u001b[0m\u001b[1;31m:\u001b[0m invalid syntax. Perhaps you forgot a comma?\n"
     ]
    }
   ],
   "source": [
    "x = [1 2 3]"
   ]
  },
  {
   "cell_type": "code",
   "execution_count": 47,
   "id": "97456c5f",
   "metadata": {},
   "outputs": [
    {
     "data": {
      "text/plain": [
       "array([3, 6, 9])"
      ]
     },
     "execution_count": 47,
     "metadata": {},
     "output_type": "execute_result"
    }
   ],
   "source": [
    "my_array1 = np.array([3,6,9])\n",
    "my_array1"
   ]
  },
  {
   "cell_type": "code",
   "execution_count": 48,
   "id": "6dcd57fe",
   "metadata": {},
   "outputs": [
    {
     "name": "stdout",
     "output_type": "stream",
     "text": [
      "[3 6 9]\n"
     ]
    }
   ],
   "source": [
    "print(my_array1)"
   ]
  },
  {
   "cell_type": "code",
   "execution_count": 49,
   "id": "0f03b28e",
   "metadata": {},
   "outputs": [
    {
     "name": "stdout",
     "output_type": "stream",
     "text": [
      "[3, 6, 9]\n"
     ]
    }
   ],
   "source": [
    "x = [3,6,9]\n",
    "print(x)"
   ]
  },
  {
   "cell_type": "code",
   "execution_count": 50,
   "id": "2ddb0939",
   "metadata": {},
   "outputs": [
    {
     "name": "stdout",
     "output_type": "stream",
     "text": [
      "[1 2 3]\n",
      "<class 'numpy.ndarray'>\n"
     ]
    }
   ],
   "source": [
    "p1 = array_1\n",
    "print(p1)\n",
    "print(type(p1))"
   ]
  },
  {
   "cell_type": "code",
   "execution_count": 51,
   "id": "12b553cb",
   "metadata": {},
   "outputs": [
    {
     "name": "stdout",
     "output_type": "stream",
     "text": [
      "2\n",
      "<class 'numpy.int32'>\n"
     ]
    }
   ],
   "source": [
    "p1 = array_1[1]\n",
    "print(p1)\n",
    "print(type(p1))"
   ]
  },
  {
   "cell_type": "code",
   "execution_count": 52,
   "id": "f8887678",
   "metadata": {},
   "outputs": [
    {
     "name": "stdout",
     "output_type": "stream",
     "text": [
      "[1 2]\n",
      "<class 'numpy.ndarray'>\n"
     ]
    }
   ],
   "source": [
    "p1 = array_1[:2]\n",
    "print(p1)\n",
    "print(type(p1))"
   ]
  },
  {
   "cell_type": "code",
   "execution_count": 53,
   "id": "3da2c6a9",
   "metadata": {},
   "outputs": [
    {
     "name": "stdout",
     "output_type": "stream",
     "text": [
      "[2 3 5]\n"
     ]
    }
   ],
   "source": [
    "array_2 = np.array([1,1,2])\n",
    "array_3 = array_1 + array_2\n",
    "print(array_3)"
   ]
  },
  {
   "cell_type": "markdown",
   "id": "ba9502b1",
   "metadata": {},
   "source": [
    "Elementwise Operation"
   ]
  },
  {
   "cell_type": "code",
   "execution_count": 54,
   "id": "b87bc87f",
   "metadata": {},
   "outputs": [
    {
     "ename": "SyntaxError",
     "evalue": "invalid syntax. Perhaps you forgot a comma? (3865231715.py, line 1)",
     "output_type": "error",
     "traceback": [
      "\u001b[1;36m  Cell \u001b[1;32mIn[54], line 1\u001b[1;36m\u001b[0m\n\u001b[1;33m    x = [2 3 5]\u001b[0m\n\u001b[1;37m         ^\u001b[0m\n\u001b[1;31mSyntaxError\u001b[0m\u001b[1;31m:\u001b[0m invalid syntax. Perhaps you forgot a comma?\n"
     ]
    }
   ],
   "source": [
    "x = [2 3 5]\n",
    "print(x)"
   ]
  },
  {
   "cell_type": "code",
   "execution_count": 55,
   "id": "e6dbcc22",
   "metadata": {},
   "outputs": [
    {
     "name": "stdout",
     "output_type": "stream",
     "text": [
      "[1 2 3 1 1 2]\n"
     ]
    }
   ],
   "source": [
    "array_4 = np.concatenate([array_1,array_2])\n",
    "print(array_4)"
   ]
  },
  {
   "cell_type": "code",
   "execution_count": 58,
   "id": "d07c26c6",
   "metadata": {},
   "outputs": [
    {
     "name": "stdout",
     "output_type": "stream",
     "text": [
      "[[1 2 3]\n",
      " [4 5 6]]\n"
     ]
    }
   ],
   "source": [
    "array_5 = np.array([[1,2,3],[4,5,6]])\n",
    "print(array_5)"
   ]
  },
  {
   "cell_type": "code",
   "execution_count": 59,
   "id": "63f2f396",
   "metadata": {},
   "outputs": [
    {
     "data": {
      "text/plain": [
       "6"
      ]
     },
     "execution_count": 59,
     "metadata": {},
     "output_type": "execute_result"
    }
   ],
   "source": [
    "array_5[1,2]"
   ]
  },
  {
   "cell_type": "code",
   "execution_count": 60,
   "id": "af27df25",
   "metadata": {},
   "outputs": [
    {
     "name": "stdout",
     "output_type": "stream",
     "text": [
      "2\n"
     ]
    }
   ],
   "source": [
    "print(array_5.ndim)"
   ]
  },
  {
   "cell_type": "code",
   "execution_count": null,
   "id": "212df386",
   "metadata": {},
   "outputs": [],
   "source": []
  }
 ],
 "metadata": {
  "kernelspec": {
   "display_name": "Python 3 (ipykernel)",
   "language": "python",
   "name": "python3"
  },
  "language_info": {
   "codemirror_mode": {
    "name": "ipython",
    "version": 3
   },
   "file_extension": ".py",
   "mimetype": "text/x-python",
   "name": "python",
   "nbconvert_exporter": "python",
   "pygments_lexer": "ipython3",
   "version": "3.11.7"
  }
 },
 "nbformat": 4,
 "nbformat_minor": 5
}
