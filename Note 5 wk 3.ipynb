{
 "cells": [
  {
   "cell_type": "code",
   "execution_count": 1,
   "id": "10669732",
   "metadata": {},
   "outputs": [
    {
     "name": "stdout",
     "output_type": "stream",
     "text": [
      "1\n",
      "2\n",
      "3\n",
      "4\n",
      "5\n"
     ]
    }
   ],
   "source": [
    "i = 0\n",
    "while i < 5:\n",
    "    i += 1\n",
    "    print(i)"
   ]
  },
  {
   "cell_type": "code",
   "execution_count": 2,
   "id": "a7772c05",
   "metadata": {},
   "outputs": [
    {
     "name": "stdout",
     "output_type": "stream",
     "text": [
      "1\n",
      "2\n",
      "3\n",
      "4\n",
      "5\n"
     ]
    }
   ],
   "source": [
    "i = 1\n",
    "while i <= 5:\n",
    "    print(i)\n",
    "    i = i + 1"
   ]
  },
  {
   "cell_type": "code",
   "execution_count": 6,
   "id": "d7577ba6",
   "metadata": {},
   "outputs": [
    {
     "name": "stdout",
     "output_type": "stream",
     "text": [
      "0\n",
      "1\n",
      "2\n",
      "3\n",
      "4\n"
     ]
    }
   ],
   "source": [
    "for i in range(5):\n",
    "    print(i)"
   ]
  },
  {
   "cell_type": "code",
   "execution_count": 7,
   "id": "5222f889",
   "metadata": {},
   "outputs": [
    {
     "name": "stdout",
     "output_type": "stream",
     "text": [
      "1\n",
      "2\n",
      "3\n",
      "4\n",
      "5\n"
     ]
    }
   ],
   "source": [
    "for i in range(1,6):\n",
    "    print(i)"
   ]
  },
  {
   "cell_type": "code",
   "execution_count": 8,
   "id": "23df5a4b",
   "metadata": {},
   "outputs": [
    {
     "name": "stdout",
     "output_type": "stream",
     "text": [
      "1\n",
      "2\n",
      "3\n",
      "4\n",
      "5\n"
     ]
    }
   ],
   "source": [
    "for i in range(5):\n",
    "    print(i+1)"
   ]
  },
  {
   "cell_type": "code",
   "execution_count": 10,
   "id": "5254c5b4",
   "metadata": {},
   "outputs": [
    {
     "name": "stdout",
     "output_type": "stream",
     "text": [
      "0 0\n",
      "1 1\n",
      "2 4\n"
     ]
    }
   ],
   "source": [
    "for i in range(5):\n",
    "    j = i**2\n",
    "    if i == 3:\n",
    "        break\n",
    "    print (i,j)"
   ]
  },
  {
   "cell_type": "markdown",
   "id": "84dd9bf8",
   "metadata": {},
   "source": [
    "when 3 it breaks or take out of the loop"
   ]
  },
  {
   "cell_type": "code",
   "execution_count": 11,
   "id": "7329d6b5",
   "metadata": {},
   "outputs": [
    {
     "name": "stdout",
     "output_type": "stream",
     "text": [
      "0 0\n",
      "1 1\n",
      "2 4\n",
      "4 16\n"
     ]
    }
   ],
   "source": [
    "for i in range(5):\n",
    "    j = i**2\n",
    "    if i == 3:\n",
    "        continue\n",
    "    print (i,j)"
   ]
  },
  {
   "cell_type": "markdown",
   "id": "7fc72857",
   "metadata": {},
   "source": [
    "it skip 3"
   ]
  },
  {
   "cell_type": "code",
   "execution_count": 13,
   "id": "492847ff",
   "metadata": {},
   "outputs": [
    {
     "name": "stdout",
     "output_type": "stream",
     "text": [
      "['Tom', 'Dick', 7]\n",
      "Tom\n"
     ]
    }
   ],
   "source": [
    "my_list = [\"Tom\", \"Dick\", 7]\n",
    "print(my_list)\n",
    "print(my_list[0])"
   ]
  },
  {
   "cell_type": "code",
   "execution_count": 16,
   "id": "dfd7219a",
   "metadata": {},
   "outputs": [
    {
     "name": "stdout",
     "output_type": "stream",
     "text": [
      "[1, 2, 3, 4]\n",
      "10\n",
      "2.5\n"
     ]
    }
   ],
   "source": [
    "test_list = [1,2,3,4]\n",
    "mean_list = sum(test_list) / len(test_list)\n",
    "print(test_list)\n",
    "print(sum(test_list))\n",
    "print(mean_list)"
   ]
  },
  {
   "cell_type": "code",
   "execution_count": 25,
   "id": "433bfaec",
   "metadata": {},
   "outputs": [
    {
     "name": "stdout",
     "output_type": "stream",
     "text": [
      "2.5\n"
     ]
    }
   ],
   "source": [
    "test_list = [1,2,3,4]\n",
    "\n",
    "sum = 0\n",
    "n = 0\n",
    "\n",
    "for i in test_list:\n",
    "    sum += i\n",
    "    n += 1\n",
    "    \n",
    "print(sum/n)"
   ]
  },
  {
   "cell_type": "code",
   "execution_count": 23,
   "id": "a88ea747",
   "metadata": {},
   "outputs": [
    {
     "name": "stdout",
     "output_type": "stream",
     "text": [
      "2.5\n"
     ]
    }
   ],
   "source": [
    "test_list = [1,2,3,4]\n",
    "\n",
    "sum = 0\n",
    "n = 0\n",
    "\n",
    "for i in test_list:\n",
    "    sum += i\n",
    "    n += 1\n",
    "mean = sum/n\n",
    "print(mean)"
   ]
  },
  {
   "cell_type": "code",
   "execution_count": 26,
   "id": "8359603a",
   "metadata": {},
   "outputs": [
    {
     "name": "stdout",
     "output_type": "stream",
     "text": [
      "2.0\n"
     ]
    }
   ],
   "source": [
    "test_list = [1,2,3,4]\n",
    "\n",
    "sum = 0\n",
    "n = 0\n",
    "\n",
    "for i in test_list:\n",
    "    if i%2 !=0:\n",
    "        sum += i\n",
    "        n += 1\n",
    "mean = sum/n\n",
    "print(mean)"
   ]
  },
  {
   "cell_type": "code",
   "execution_count": 34,
   "id": "43bf667d",
   "metadata": {},
   "outputs": [
    {
     "name": "stdout",
     "output_type": "stream",
     "text": [
      "127\n",
      "127\n"
     ]
    }
   ],
   "source": [
    "n_list = [1,-5,16,76,127,4]\n",
    "\n",
    "large_value = n_list[0]\n",
    "\n",
    "for i in n_list:\n",
    "    if i > large_value:\n",
    "        large_value = i\n",
    "print(large_value)\n",
    "\n",
    "large_num_list = max(n_list)\n",
    "\n",
    "print(large_num_list)"
   ]
  },
  {
   "cell_type": "code",
   "execution_count": 36,
   "id": "1e0bd04d",
   "metadata": {},
   "outputs": [
    {
     "name": "stdout",
     "output_type": "stream",
     "text": [
      "-5\n"
     ]
    }
   ],
   "source": [
    "n_list = [1,-5,16,76,127,4]\n",
    "\n",
    "small_value = n_list[0]\n",
    "\n",
    "for i in n_list:\n",
    "    if i < small_value:\n",
    "        small_value = i\n",
    "print(small_value)"
   ]
  },
  {
   "cell_type": "code",
   "execution_count": 37,
   "id": "8182fc2c",
   "metadata": {},
   "outputs": [
    {
     "name": "stdout",
     "output_type": "stream",
     "text": [
      "<enumerate object at 0x0000026AF650CA90>\n"
     ]
    }
   ],
   "source": [
    "alist = [\"Tom\", \"Dick\", \"Harry\"]\n",
    "\n",
    "print(enumerate(alist))"
   ]
  },
  {
   "cell_type": "code",
   "execution_count": 39,
   "id": "7cfcffc3",
   "metadata": {},
   "outputs": [
    {
     "name": "stdout",
     "output_type": "stream",
     "text": [
      "<class 'enumerate'>\n",
      "<class 'enumerate'>\n",
      "<class 'enumerate'>\n"
     ]
    }
   ],
   "source": [
    "alist = [\"Tom\", \"Dick\", \"Harry\"]\n",
    "\n",
    "for i in alist:\n",
    "    print(type(enumerate(alist)))"
   ]
  },
  {
   "cell_type": "code",
   "execution_count": 40,
   "id": "bafdcfd6",
   "metadata": {},
   "outputs": [
    {
     "name": "stdout",
     "output_type": "stream",
     "text": [
      "(0, 'Tom') <class 'tuple'>\n",
      "(1, 'Dick') <class 'tuple'>\n",
      "(2, 'Harry') <class 'tuple'>\n"
     ]
    }
   ],
   "source": [
    "for item in enumerate(alist):\n",
    "    print(item, type(item))"
   ]
  },
  {
   "cell_type": "code",
   "execution_count": 41,
   "id": "c69aa638",
   "metadata": {},
   "outputs": [
    {
     "name": "stdout",
     "output_type": "stream",
     "text": [
      "(0, 'Tom')\n",
      "0\n",
      "1\n",
      "2\n",
      "(1, 'Dick')\n",
      "0\n",
      "1\n",
      "2\n",
      "(2, 'Harry')\n",
      "0\n",
      "1\n",
      "2\n"
     ]
    }
   ],
   "source": [
    "for item in enumerate(alist):\n",
    "    print(item)\n",
    "    print(0)\n",
    "    print(1)\n",
    "    print(2)\n",
    "    "
   ]
  },
  {
   "cell_type": "code",
   "execution_count": 42,
   "id": "dba4faae",
   "metadata": {},
   "outputs": [
    {
     "name": "stdout",
     "output_type": "stream",
     "text": [
      "(0, 'Tom') 0 Tom\n",
      "(1, 'Dick') 1 Dick\n",
      "(2, 'Harry') 2 Harry\n"
     ]
    }
   ],
   "source": [
    "for item in enumerate(alist):\n",
    "    index, value = item\n",
    "    print(item, index, value)"
   ]
  },
  {
   "cell_type": "code",
   "execution_count": 43,
   "id": "d088c629",
   "metadata": {},
   "outputs": [
    {
     "name": "stdout",
     "output_type": "stream",
     "text": [
      "The largest value is 25 at index 5.\n"
     ]
    }
   ],
   "source": [
    "# Define a list with ties\n",
    "numbers = [5, 10, 15, 20, 15, 25, 15]\n",
    "\n",
    "# Find the largest value and its index/indices\n",
    "max_value = max(numbers)\n",
    "max_indices = [i for i, num in enumerate(numbers) if num == max_value]\n",
    "\n",
    "# Display the information using an f-string\n",
    "if len(max_indices) == 1:\n",
    "    print(f\"The largest value is {max_value} at index {max_indices[0]}.\")\n",
    "else:\n",
    "    print(f\"The largest value is {max_value} at indices {', '.join(map(str, max_indices))}.\")\n"
   ]
  },
  {
   "cell_type": "markdown",
   "id": "05fc5a8c",
   "metadata": {},
   "source": [
    "i = index and num = value"
   ]
  },
  {
   "cell_type": "code",
   "execution_count": 44,
   "id": "12dcabf7",
   "metadata": {},
   "outputs": [
    {
     "name": "stdout",
     "output_type": "stream",
     "text": [
      "The largest value is 127 at index 4.\n"
     ]
    }
   ],
   "source": [
    "n_list = [1, -5, 16, 76, 127, 4]\n",
    "\n",
    "large_value = n_list[0]\n",
    "large_index = 0\n",
    "\n",
    "for i, num in enumerate(n_list):\n",
    "    if num > large_value:\n",
    "        large_value = num\n",
    "        large_index = i\n",
    "\n",
    "print(f\"The largest value is {large_value} at index {large_index}.\")"
   ]
  },
  {
   "cell_type": "code",
   "execution_count": 46,
   "id": "cf7a6c30",
   "metadata": {},
   "outputs": [
    {
     "name": "stdout",
     "output_type": "stream",
     "text": [
      "The largest value is 127 at index 6.\n"
     ]
    }
   ],
   "source": [
    "n_list = [1, -5, 16, 76, 127, 4, 127]\n",
    "\n",
    "large_value = n_list[0]\n",
    "large_index = 0\n",
    "\n",
    "for i, num in enumerate(n_list):\n",
    "    if num >= large_value:\n",
    "        large_value = num\n",
    "        large_index = i\n",
    "\n",
    "print(f\"The largest value is {large_value} at index {large_index}.\")"
   ]
  },
  {
   "cell_type": "code",
   "execution_count": 48,
   "id": "953eba4a",
   "metadata": {},
   "outputs": [
    {
     "name": "stdout",
     "output_type": "stream",
     "text": [
      "The largest value is 127 at index 6.\n"
     ]
    }
   ],
   "source": [
    "n_list = [1, -5, 16, 76, 127, 4, 127]\n",
    "\n",
    "large_value = n_list[0]\n",
    "large_index = 0\n",
    "\n",
    "for i in range(len(n_list)):\n",
    "    if n_list[i] >= large_value:\n",
    "        large_value = n_list[i]\n",
    "        large_index = i\n",
    "\n",
    "print(f\"The largest value is {large_value} at index {large_index}.\")"
   ]
  },
  {
   "cell_type": "code",
   "execution_count": 57,
   "id": "d6634195",
   "metadata": {},
   "outputs": [
    {
     "name": "stdout",
     "output_type": "stream",
     "text": [
      "The largest value is 127.\n",
      "It occurs at index 4.\n",
      "It occurs at index 6.\n"
     ]
    }
   ],
   "source": [
    "n_list = [1, -5, 16, 76, 127, 4, 127]\n",
    "lrgv = n_list[0]\n",
    "for i in n_list:\n",
    "    if i > lrgv:\n",
    "        lrgv = i\n",
    "print(f\"The largest value is {lrgv}.\")\n",
    "\n",
    "loclist = []\n",
    "for index, i in enumerate(n_list):\n",
    "    if i == lrgv:\n",
    "        loclist.append(index)\n",
    "        \n",
    "for index in loclist:\n",
    "    print(f\"It occurs at index {index}.\")"
   ]
  },
  {
   "cell_type": "code",
   "execution_count": 55,
   "id": "fb4a95cf",
   "metadata": {},
   "outputs": [
    {
     "name": "stdout",
     "output_type": "stream",
     "text": [
      "The largest value is 127.\n",
      "It occurs at index 4.\n",
      "It occurs at index 6.\n"
     ]
    }
   ],
   "source": [
    "n_list = [1, -5, 16, 76, 127, 4, 127]\n",
    "\n",
    "# Finding the largest value\n",
    "lrgv = n_list[0]\n",
    "for i in n_list:\n",
    "    if i > lrgv:\n",
    "        lrgv = i\n",
    "\n",
    "# Printing the largest value\n",
    "print(f'The largest value is {lrgv}.')\n",
    "\n",
    "# Finding indices where the largest value occurs\n",
    "loclist = []\n",
    "for index in range(len(n_list)):\n",
    "    if n_list[index] == lrgv:\n",
    "        loclist.append(index)\n",
    "\n",
    "# Printing the indices where the largest value occurs\n",
    "for index in loclist:\n",
    "    print(f'It occurs at index {index}.')"
   ]
  },
  {
   "cell_type": "code",
   "execution_count": 63,
   "id": "e6ef9037",
   "metadata": {},
   "outputs": [
    {
     "name": "stdout",
     "output_type": "stream",
     "text": [
      "(1, 2, 3)\n",
      "(1, 2, 3)\n"
     ]
    }
   ],
   "source": [
    "t1 = 1,2,3\n",
    "t2 = (1,2,3)\n",
    "\n",
    "print(t1)\n",
    "print(t2)"
   ]
  },
  {
   "cell_type": "code",
   "execution_count": 66,
   "id": "58096c14",
   "metadata": {},
   "outputs": [
    {
     "name": "stdout",
     "output_type": "stream",
     "text": [
      "{'Joe': 175, 'Tom': 190, 'Dick': 150}\n",
      "{'Joe': 175, 'Tom': 190, 'Dick': 150, 'Harry': 180}\n",
      "{'Tom': 190, 'Dick': 150, 'Harry': 180}\n",
      "150\n"
     ]
    }
   ],
   "source": [
    "adict = {\"Joe\":175,\"Tom\":190,\"Dick\":150}\n",
    "print(adict)\n",
    "adict[\"Harry\"] = 180\n",
    "print(adict)\n",
    "del adict[\"Joe\"]\n",
    "print(adict)\n",
    "print(adict[\"Dick\"])"
   ]
  },
  {
   "cell_type": "code",
   "execution_count": null,
   "id": "1432b776",
   "metadata": {},
   "outputs": [],
   "source": []
  }
 ],
 "metadata": {
  "kernelspec": {
   "display_name": "Python 3 (ipykernel)",
   "language": "python",
   "name": "python3"
  },
  "language_info": {
   "codemirror_mode": {
    "name": "ipython",
    "version": 3
   },
   "file_extension": ".py",
   "mimetype": "text/x-python",
   "name": "python",
   "nbconvert_exporter": "python",
   "pygments_lexer": "ipython3",
   "version": "3.11.7"
  }
 },
 "nbformat": 4,
 "nbformat_minor": 5
}
