{
 "cells": [
  {
   "cell_type": "raw",
   "id": "bac844f1",
   "metadata": {},
   "source": [
    "Sum of a List\n",
    "The following function returns the sum of a list of numbers using the accumulation pattern.\n",
    "The test uses the function to sum the list [1,3,5,7,9]"
   ]
  },
  {
   "cell_type": "code",
   "execution_count": 1,
   "id": "d1061f4e",
   "metadata": {},
   "outputs": [
    {
     "name": "stdout",
     "output_type": "stream",
     "text": [
      "Sum of the list: 25\n"
     ]
    }
   ],
   "source": [
    "def sum_list(numbers):\n",
    "    total = 0  # Initialize the accumulator\n",
    "    for number in numbers:\n",
    "        total += number  # Accumulate each number to the total\n",
    "    return total\n",
    "\n",
    "# Test the function with the list [1, 3, 5, 7, 9]\n",
    "numbers = [1, 3, 5, 7, 9]\n",
    "result = sum_list(numbers)\n",
    "print(\"Sum of the list:\", result)"
   ]
  },
  {
   "cell_type": "code",
   "execution_count": 2,
   "id": "6b4d33f2",
   "metadata": {},
   "outputs": [
    {
     "name": "stdout",
     "output_type": "stream",
     "text": [
      "Sum of the list: 25\n"
     ]
    }
   ],
   "source": [
    "def list_sum(num_list):\n",
    "    the_sum = 0\n",
    "    for i in num_list:\n",
    "        the_sum += i\n",
    "    return the_sum\n",
    "\n",
    "# Test the function with the list [1, 3, 5, 7, 9]\n",
    "num_list = [1, 3, 5, 7, 9]\n",
    "result = list_sum(num_list)\n",
    "print(\"Sum of the list:\", result)"
   ]
  },
  {
   "cell_type": "raw",
   "id": "1c649a2a",
   "metadata": {},
   "source": [
    "A Recursive Solution\n",
    "Do this without a for or while loop."
   ]
  },
  {
   "cell_type": "code",
   "execution_count": 3,
   "id": "16f4f7bf",
   "metadata": {},
   "outputs": [
    {
     "name": "stdout",
     "output_type": "stream",
     "text": [
      "Sum of the list: 25\n"
     ]
    }
   ],
   "source": [
    "def sum_list_recursive(numbers):\n",
    "    # Base case: if the list is empty, sum is 0\n",
    "    if not numbers:\n",
    "        return 0\n",
    "    else:\n",
    "        # Recursive case: sum the first element with the sum of the rest of the list\n",
    "        return numbers[0] + sum_list_recursive(numbers[1:])\n",
    "\n",
    "# Test the function with the list [1, 3, 5, 7, 9]\n",
    "numbers = [1, 3, 5, 7, 9]\n",
    "result = sum_list_recursive(numbers)\n",
    "print(\"Sum of the list:\", result)"
   ]
  },
  {
   "cell_type": "code",
   "execution_count": 4,
   "id": "c4000a79",
   "metadata": {},
   "outputs": [
    {
     "name": "stdout",
     "output_type": "stream",
     "text": [
      "Sum of the list: 25\n"
     ]
    }
   ],
   "source": [
    "def list_sum_recursive(num_list):\n",
    "    # Base case: if the list is empty, return 0\n",
    "    if not num_list:\n",
    "        return 0\n",
    "    else:\n",
    "        # Recursive case: return the first element plus the sum of the rest of the list\n",
    "        return num_list[0] + list_sum_recursive(num_list[1:])\n",
    "\n",
    "# Test the function with the list [1, 3, 5, 7, 9]\n",
    "num_list = [1, 3, 5, 7, 9]\n",
    "result = list_sum_recursive(num_list)\n",
    "print(\"Sum of the list:\", result)"
   ]
  },
  {
   "cell_type": "code",
   "execution_count": 5,
   "id": "bc96ce28",
   "metadata": {},
   "outputs": [
    {
     "name": "stdout",
     "output_type": "stream",
     "text": [
      "25\n"
     ]
    }
   ],
   "source": [
    "def list_sum(num_list):\n",
    "    if len(num_list) == 1:\n",
    "        return num_list[0]\n",
    "    else:\n",
    "        # Recursive case: return the first element plus the sum of the rest of the list\n",
    "        return num_list[0] + list_sum(num_list[1:])\n",
    "\n",
    "print(list_sum([1,3,5,7,9]))"
   ]
  },
  {
   "cell_type": "raw",
   "id": "44d46640",
   "metadata": {},
   "source": [
    "Problem: Flatten a List\n",
    "Write a python function flatten(in_list). The parameter in_list is a potentially nested list,\n",
    "such as [1,[2,3,[4,5,6]]]. in this case, the function would return [1,2,3,4,5,6].\n",
    "\n",
    "Note: you need to be able to determine if the object is a list.\n",
    "    \n",
    "isinstance(x,list) returns true if the object x is a list and false otherwise."
   ]
  },
  {
   "cell_type": "code",
   "execution_count": 6,
   "id": "3274e1d6",
   "metadata": {},
   "outputs": [
    {
     "name": "stdout",
     "output_type": "stream",
     "text": [
      "Flattened list: [1, 2, 3, 4, 5, 6]\n"
     ]
    }
   ],
   "source": [
    "def flatten(in_list):\n",
    "    # Initialize an empty list to store flattened elements\n",
    "    flattened_list = []\n",
    "    \n",
    "    # Iterate through each element in the input list\n",
    "    for item in in_list:\n",
    "        # Check if the current item is a list\n",
    "        if isinstance(item, list):\n",
    "            # Recursively flatten the nested list and extend the result to flattened_list\n",
    "            flattened_list.extend(flatten(item))\n",
    "        else:\n",
    "            # If the item is not a list, append it directly to flattened_list\n",
    "            flattened_list.append(item)\n",
    "    \n",
    "    return flattened_list\n",
    "\n",
    "# Test the function with a potentially nested list\n",
    "nested_list = [1, [2, 3, [4, 5, 6]]]\n",
    "result = flatten(nested_list)\n",
    "print(\"Flattened list:\", result)"
   ]
  },
  {
   "cell_type": "code",
   "execution_count": 7,
   "id": "7f0a8cca",
   "metadata": {},
   "outputs": [
    {
     "name": "stdout",
     "output_type": "stream",
     "text": [
      "Flattened list: [1, 2, 3, 4, 5, 6]\n"
     ]
    }
   ],
   "source": [
    "def flatten(in_list):\n",
    "    # Base case: if in_list is not a list, return a list containing in_list\n",
    "    if not isinstance(in_list, list):\n",
    "        return [in_list]\n",
    "    \n",
    "    # Recursive case: flatten each element in in_list and concatenate the results\n",
    "    return sum((flatten(item) for item in in_list), [])\n",
    "\n",
    "# Test the function with a potentially nested list\n",
    "nested_list = [1, [2, 3, [4, 5, 6]]]\n",
    "result = flatten(nested_list)\n",
    "print(\"Flattened list:\", result)"
   ]
  },
  {
   "cell_type": "code",
   "execution_count": 8,
   "id": "de737f96",
   "metadata": {},
   "outputs": [
    {
     "name": "stdout",
     "output_type": "stream",
     "text": [
      "[1, 2, 3, 4, 5, 6]\n"
     ]
    }
   ],
   "source": [
    "def flatten(in_list):\n",
    "    out_list = []\n",
    "    for i in in_list:\n",
    "        if isinstance(i, list):\n",
    "            out_list.extend(flatten(i))\n",
    "        else:\n",
    "            out_list.append(i)\n",
    "    return out_list\n",
    "        \n",
    "print(flatten([1,[2,3,[4,5,6]]]))"
   ]
  },
  {
   "cell_type": "code",
   "execution_count": 9,
   "id": "017fe331",
   "metadata": {},
   "outputs": [],
   "source": [
    "def quicksort(arr):\n",
    "    if len(arr) <= 1:\n",
    "        return arr\n",
    "    pivot = arr[len(arr) // 2]\n",
    "    left, right, equal = [], [], []\n",
    "    for x in arr:\n",
    "        if x < pivot:\n",
    "            left.append(x)\n",
    "        elif x > pivot:\n",
    "            right.append(x)\n",
    "        else:\n",
    "            equal.append(x)\n",
    "    print(left, equal, right)  #Added to follow      \n",
    "    return quicksort(left) + equal + quicksort(right)"
   ]
  },
  {
   "cell_type": "code",
   "execution_count": 10,
   "id": "b3ebef48",
   "metadata": {},
   "outputs": [
    {
     "name": "stdout",
     "output_type": "stream",
     "text": [
      "[1, 2, 6, 5, 4] [7] [9, 8]\n",
      "[1, 2, 5, 4] [6] []\n",
      "[1, 2, 4] [5] []\n",
      "[1] [2] [4]\n",
      "[] [8] [9]\n",
      "[1, 2, 4, 5, 6, 7, 8, 9]\n"
     ]
    }
   ],
   "source": [
    "print(quicksort([1,2,6,5,7,4,9,8]))"
   ]
  },
  {
   "cell_type": "code",
   "execution_count": 11,
   "id": "e6334eb8",
   "metadata": {},
   "outputs": [
    {
     "name": "stdout",
     "output_type": "stream",
     "text": [
      "Fibonacci(0) = 0\n",
      "Fibonacci(1) = 1\n",
      "Fibonacci(2) = 1\n",
      "Fibonacci(3) = 2\n",
      "Fibonacci(4) = 3\n",
      "Fibonacci(5) = 5\n",
      "Fibonacci(6) = 8\n",
      "Fibonacci(7) = 13\n",
      "Fibonacci(8) = 21\n",
      "Fibonacci(9) = 34\n"
     ]
    }
   ],
   "source": [
    "def fibonacci_iterative(n):\n",
    "    # Base cases:\n",
    "    if n == 0:\n",
    "        return 0\n",
    "    elif n == 1:\n",
    "        return 1\n",
    "    \n",
    "    # Intialize variables to store Fibonacci numbers\n",
    "    prev1 = 0 # Fibonacci(0)\n",
    "    prev2 = 1 # Fibonacci(1)\n",
    "    current = 0 # Fibonacci(n)\n",
    "    \n",
    "    # Compute Fibonacci number iteratively\n",
    "    for i in range(2, n + 1):\n",
    "        current = prev1 + prev2\n",
    "        prev1 = prev2 \n",
    "        prev2 = current\n",
    "        \n",
    "    return current\n",
    "\n",
    "# Test the function for the first 10 Fibonacci numbers\n",
    "for i in range(10):\n",
    "    print(f\"Fibonacci({i}) =\", fibonacci_iterative(i))"
   ]
  },
  {
   "cell_type": "code",
   "execution_count": 12,
   "id": "48a75415",
   "metadata": {},
   "outputs": [
    {
     "name": "stdout",
     "output_type": "stream",
     "text": [
      "Fibonacci(0) = 0\n",
      "Fibonacci(1) = 1\n",
      "Fibonacci(2) = 1\n",
      "Fibonacci(3) = 2\n",
      "Fibonacci(4) = 3\n",
      "Fibonacci(5) = 5\n",
      "Fibonacci(6) = 8\n",
      "Fibonacci(7) = 13\n",
      "Fibonacci(8) = 21\n",
      "Fibonacci(9) = 34\n"
     ]
    }
   ],
   "source": [
    "def fibonacci(n):\n",
    "    # Base cases:\n",
    "    if n == 0:\n",
    "        return 0\n",
    "    elif n == 1:\n",
    "        return 1\n",
    "    # Recursive case:\n",
    "    else:\n",
    "        return fibonacci(n-1) + fibonacci(n-2)\n",
    "\n",
    "# Test the function for the first 10 Fibonacci numbers\n",
    "for i in range(10):\n",
    "    print(f\"Fibonacci({i}) =\", fibonacci(i))"
   ]
  },
  {
   "cell_type": "raw",
   "id": "c2274819",
   "metadata": {},
   "source": [
    "re·cur·sive\n",
    "/rəˈkərsiv/\n",
    "adjective\n",
    "adjective: recursive\n",
    "characterized by recurrence or repetition.\n",
    "MATHEMATICS•LINGUISTICS\n",
    "relating to or involving the repeated application of a rule, definition, or procedure to successive results.\n",
    "\"this restriction ensures that the grammar is recursive\"\n",
    "COMPUTING\n",
    "relating to or involving a program or routine of which a part requires the application of the whole, so that its explicit interpretation requires in general many successive executions.\n",
    "\"a recursive subroutine\""
   ]
  },
  {
   "cell_type": "code",
   "execution_count": 13,
   "id": "c70e2c43",
   "metadata": {},
   "outputs": [
    {
     "name": "stdout",
     "output_type": "stream",
     "text": [
      "Fibonacci(0) = 0\n",
      "Fibonacci(1) = 1\n",
      "Fibonacci(2) = 1\n",
      "Fibonacci(3) = 2\n",
      "Fibonacci(4) = 3\n",
      "Fibonacci(5) = 5\n",
      "Fibonacci(6) = 8\n",
      "Fibonacci(7) = 13\n",
      "Fibonacci(8) = 21\n",
      "Fibonacci(9) = 34\n"
     ]
    }
   ],
   "source": [
    "def f(n):\n",
    "    if n <= 1:\n",
    "        return n\n",
    "    else:\n",
    "        n2, n1 = 0, 1\n",
    "        for i in range (2, n + 1):\n",
    "            fib = n2 + n1\n",
    "            n2 = n1\n",
    "            n1 = fib\n",
    "        return n1\n",
    "\n",
    "# Test the function for the first 10 Fibonacci numbers\n",
    "for i in range(10):\n",
    "    print(f\"Fibonacci({i}) =\", f(i))"
   ]
  },
  {
   "cell_type": "code",
   "execution_count": null,
   "id": "60b98d40",
   "metadata": {},
   "outputs": [],
   "source": []
  }
 ],
 "metadata": {
  "kernelspec": {
   "display_name": "Python 3 (ipykernel)",
   "language": "python",
   "name": "python3"
  },
  "language_info": {
   "codemirror_mode": {
    "name": "ipython",
    "version": 3
   },
   "file_extension": ".py",
   "mimetype": "text/x-python",
   "name": "python",
   "nbconvert_exporter": "python",
   "pygments_lexer": "ipython3",
   "version": "3.11.7"
  }
 },
 "nbformat": 4,
 "nbformat_minor": 5
}
