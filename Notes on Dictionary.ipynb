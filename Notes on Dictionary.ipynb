{
 "cells": [
  {
   "cell_type": "markdown",
   "id": "4bf40479",
   "metadata": {},
   "source": [
    "Dictionary"
   ]
  },
  {
   "cell_type": "code",
   "execution_count": 2,
   "id": "433d9df9",
   "metadata": {},
   "outputs": [
    {
     "name": "stdout",
     "output_type": "stream",
     "text": [
      "{'Tom': 120, 'Dick': 150, 'Harry': 135}\n"
     ]
    }
   ],
   "source": [
    "adict = {\"Tom\": 120, \"Dick\": 150 , \"Harry\":135}\n",
    "print(adict)"
   ]
  },
  {
   "cell_type": "code",
   "execution_count": 7,
   "id": "cab4ea32",
   "metadata": {},
   "outputs": [
    {
     "name": "stdout",
     "output_type": "stream",
     "text": [
      "{'Tom': 120, 'Dick': 150, 'Harry': 135}\n",
      "405\n"
     ]
    }
   ],
   "source": [
    "adict = {\"Tom\": 120, \"Dick\": 150 , \"Harry\":135}\n",
    "print(adict)\n",
    "sum = 0\n",
    "for v in adict.values():\n",
    "    sum = sum + v\n",
    "    \n",
    "print(sum)"
   ]
  },
  {
   "cell_type": "markdown",
   "id": "497076c4",
   "metadata": {},
   "source": [
    "can use keys, items, values"
   ]
  },
  {
   "cell_type": "code",
   "execution_count": 9,
   "id": "12789530",
   "metadata": {},
   "outputs": [
    {
     "name": "stdout",
     "output_type": "stream",
     "text": [
      "dict_items([('Tom', 120), ('Dick', 150), ('Harry', 135)])\n",
      "<class 'dict_items'>\n"
     ]
    }
   ],
   "source": [
    "returned_items = adict.items()\n",
    "print(returned_items)\n",
    "print(type(returned_items))"
   ]
  },
  {
   "cell_type": "code",
   "execution_count": 11,
   "id": "d205dcc9",
   "metadata": {},
   "outputs": [
    {
     "name": "stdout",
     "output_type": "stream",
     "text": [
      "('Tom', 120)\n",
      "<class 'tuple'>\n",
      "('Dick', 150)\n",
      "<class 'tuple'>\n",
      "('Harry', 135)\n",
      "<class 'tuple'>\n"
     ]
    }
   ],
   "source": [
    "for i in returned_items:\n",
    "    print(i)\n",
    "    print(type(i))"
   ]
  },
  {
   "cell_type": "code",
   "execution_count": 12,
   "id": "601e87b2",
   "metadata": {},
   "outputs": [
    {
     "ename": "TypeError",
     "evalue": "'dict_items' object is not subscriptable",
     "output_type": "error",
     "traceback": [
      "\u001b[1;31m---------------------------------------------------------------------------\u001b[0m",
      "\u001b[1;31mTypeError\u001b[0m                                 Traceback (most recent call last)",
      "Cell \u001b[1;32mIn[12], line 1\u001b[0m\n\u001b[1;32m----> 1\u001b[0m \u001b[38;5;28mprint\u001b[39m(returned_items[\u001b[38;5;241m0\u001b[39m])\n",
      "\u001b[1;31mTypeError\u001b[0m: 'dict_items' object is not subscriptable"
     ]
    }
   ],
   "source": [
    "print(returned_items[0])"
   ]
  },
  {
   "cell_type": "markdown",
   "id": "93db4e61",
   "metadata": {},
   "source": [
    "can't rely on the order of dictory to index"
   ]
  },
  {
   "cell_type": "code",
   "execution_count": 29,
   "id": "08b00747",
   "metadata": {},
   "outputs": [
    {
     "name": "stdout",
     "output_type": "stream",
     "text": [
      "[('Tom', 120), ('Dick', 150), ('Harry', 135), ('Jerry', 150)]\n"
     ]
    }
   ],
   "source": [
    "print(list(returned_items))"
   ]
  },
  {
   "cell_type": "code",
   "execution_count": 16,
   "id": "952220f6",
   "metadata": {},
   "outputs": [
    {
     "name": "stdout",
     "output_type": "stream",
     "text": [
      "[('Dick', 150), ('Harry', 135), ('Tom', 120)]\n"
     ]
    }
   ],
   "source": [
    "sorted_items = (sorted(returned_items))\n",
    "print(sorted_items)"
   ]
  },
  {
   "cell_type": "code",
   "execution_count": 18,
   "id": "918b2e2b",
   "metadata": {},
   "outputs": [
    {
     "name": "stdout",
     "output_type": "stream",
     "text": [
      "{120: 'Tom', 150: 'Dick', 135: 'Harry'}\n"
     ]
    }
   ],
   "source": [
    "reverse_adict = dict((v,k) for k,v in adict.items())\n",
    "print(reverse_adict)"
   ]
  },
  {
   "cell_type": "code",
   "execution_count": 19,
   "id": "d44512ca",
   "metadata": {},
   "outputs": [
    {
     "name": "stdout",
     "output_type": "stream",
     "text": [
      "{150: 'Dick', 135: 'Harry', 120: 'Tom'}\n"
     ]
    }
   ],
   "source": [
    "new_dict = {}\n",
    "for key, value in sorted(adict.items()):\n",
    "    new_dict[value] = key\n",
    "\n",
    "print(new_dict)"
   ]
  },
  {
   "cell_type": "code",
   "execution_count": 20,
   "id": "f48c08c2",
   "metadata": {},
   "outputs": [
    {
     "name": "stdout",
     "output_type": "stream",
     "text": [
      "{150: 'Jerry', 135: 'Harry', 120: 'Tom'}\n"
     ]
    }
   ],
   "source": [
    "adict[\"Jerry\"] = 150\n",
    "new_dict = {}\n",
    "for key, value in sorted(adict.items()):\n",
    "    new_dict[value] = key\n",
    "\n",
    "print(new_dict)"
   ]
  },
  {
   "cell_type": "code",
   "execution_count": 21,
   "id": "84568b38",
   "metadata": {},
   "outputs": [
    {
     "name": "stdout",
     "output_type": "stream",
     "text": [
      "{'M': 1, 'i': 4, 's': 4, 'p': 2}\n"
     ]
    }
   ],
   "source": [
    "s = \"Mississippi\"\n",
    "count_dict = {}\n",
    "for c in s:\n",
    "    if c in count_dict:\n",
    "        count_dict[c] = count_dict[c] + 1\n",
    "    else:\n",
    "        count_dict[c] = 1\n",
    "    \n",
    "print(count_dict)"
   ]
  },
  {
   "cell_type": "code",
   "execution_count": 24,
   "id": "2c5effd5",
   "metadata": {},
   "outputs": [
    {
     "name": "stdout",
     "output_type": "stream",
     "text": [
      "M 1\n",
      "i 4\n",
      "s 4\n",
      "p 2\n"
     ]
    }
   ],
   "source": [
    "s = \"Mississippi\"\n",
    "count_dict = {}\n",
    "for c in s:\n",
    "    count_dict[c] = count_dict.get(c,0) + 1\n",
    "    \n",
    "for k in count_dict.keys():\n",
    "    print(k,count_dict[k])"
   ]
  },
  {
   "cell_type": "code",
   "execution_count": 26,
   "id": "c8a44894",
   "metadata": {},
   "outputs": [
    {
     "name": "stdout",
     "output_type": "stream",
     "text": [
      "31\n"
     ]
    }
   ],
   "source": [
    "num = 2**100\n",
    "count = 0\n",
    "\n",
    "for digit in str(num):\n",
    "    count = count + 1\n",
    "    \n",
    "print(count)"
   ]
  },
  {
   "cell_type": "code",
   "execution_count": 28,
   "id": "f75ac0e8",
   "metadata": {},
   "outputs": [
    {
     "name": "stdout",
     "output_type": "stream",
     "text": [
      "1267650600228229401496703205376\n",
      "1 2\n",
      "2 6\n",
      "6 5\n",
      "7 3\n",
      "5 2\n",
      "0 6\n",
      "8 1\n",
      "9 2\n",
      "4 2\n",
      "3 2\n"
     ]
    }
   ],
   "source": [
    "s_num = 2**100\n",
    "s = str(s_num)\n",
    "print(s)\n",
    "count_dict = {}\n",
    "\n",
    "for c in s:\n",
    "    count_dict[c] = count_dict.get(c,0) + 1\n",
    "    \n",
    "for k in count_dict.keys():\n",
    "    print(k,count_dict[k])"
   ]
  },
  {
   "cell_type": "code",
   "execution_count": 35,
   "id": "359f9330",
   "metadata": {},
   "outputs": [
    {
     "name": "stdout",
     "output_type": "stream",
     "text": [
      "T 1\n",
      "h 1\n",
      "i 3\n",
      "s 3\n",
      "  6\n",
      "j 1\n",
      "u 1\n",
      "t 2\n",
      "a 2\n",
      "p 1\n",
      "r 2\n",
      "o 3\n",
      "f 2\n",
      "g 1\n",
      "e 2\n",
      "n 1\n",
      "l 1\n",
      "y 1\n"
     ]
    }
   ],
   "source": [
    "s = \"This is just a proof of generality\"\n",
    "l = list(s)\n",
    "count_dict = {}\n",
    "\n",
    "for c in l:\n",
    "    count_dict[c] = count_dict.get(c, 0) + 1\n",
    "    \n",
    "for k in count_dict.keys():\n",
    "    print(k, count_dict[k])"
   ]
  },
  {
   "cell_type": "code",
   "execution_count": 36,
   "id": "0a8b7fdb",
   "metadata": {},
   "outputs": [
    {
     "name": "stdout",
     "output_type": "stream",
     "text": [
      "Most common character(s): ['i', 's']\n",
      "Frequency: 4\n"
     ]
    }
   ],
   "source": [
    "s = \"Mississippi\"\n",
    "count_dict = {}\n",
    "\n",
    "# Count occurrences of each character\n",
    "for c in s:\n",
    "    count_dict[c] = count_dict.get(c, 0) + 1\n",
    "\n",
    "# Find the maximum count\n",
    "max_count = max(count_dict.values())\n",
    "\n",
    "# Find all characters with maximum count\n",
    "most_common = [char for char, count in count_dict.items() if count == max_count]\n",
    "\n",
    "print(\"Most common character(s):\", most_common)\n",
    "print(\"Frequency:\", max_count)\n"
   ]
  },
  {
   "cell_type": "code",
   "execution_count": 40,
   "id": "7f5caee1",
   "metadata": {},
   "outputs": [
    {
     "name": "stdout",
     "output_type": "stream",
     "text": [
      "{'0': 0, '1': 1, '2': 2, '3': 3, '4': 4, '5': 5, '6': 6, '7': 7, '8': 8, '9': 9, 'A': 10, 'B': 11, 'C': 12, 'D': 13, 'E': 14, 'F': 15}\n"
     ]
    }
   ],
   "source": [
    "hex_values = \"0123456789ABCDEF\"\n",
    "hex_dict = {}\n",
    "dec = 0\n",
    "for char in hex_values:\n",
    "    hex_dict[char] = dec\n",
    "    dec += 1\n",
    "print(hex_dict)"
   ]
  },
  {
   "cell_type": "code",
   "execution_count": 45,
   "id": "c804ccf6",
   "metadata": {},
   "outputs": [
    {
     "name": "stdout",
     "output_type": "stream",
     "text": [
      "Hexadecimal: FA2C\n",
      "Decimal: 291\n"
     ]
    }
   ],
   "source": [
    "# Function to convert hexadecimal string to decimal\n",
    "def hex_to_decimal(hex_str):\n",
    "    decimal = 0\n",
    "    power = len(hex_str) - 1\n",
    "    for char in hex_str:\n",
    "        decimal += hex_dict[char] * (16 ** power)\n",
    "        power -= 1\n",
    "    return decimal\n",
    "\n",
    "# Test case: Convert \"FA2C\" to decimal\n",
    "hex_value = \"FA2C\"\n",
    "decimal_value = hex_to_decimal(hex_value)\n",
    "print(\"Hexadecimal:\", hex_value)\n",
    "print(\"Decimal:\", decimal_value)"
   ]
  },
  {
   "cell_type": "code",
   "execution_count": 46,
   "id": "9bb65454",
   "metadata": {},
   "outputs": [
    {
     "name": "stdout",
     "output_type": "stream",
     "text": [
      "291\n"
     ]
    }
   ],
   "source": [
    "hex = \"FA2C\"\n",
    "power = len(hex) - 1\n",
    "dec = 0\n",
    "for char in hex:\n",
    "    dec += hex_dict[char] * 16**power\n",
    "    power -= 1\n",
    "print(dec)"
   ]
  },
  {
   "cell_type": "code",
   "execution_count": null,
   "id": "7f4d840e",
   "metadata": {},
   "outputs": [],
   "source": []
  }
 ],
 "metadata": {
  "kernelspec": {
   "display_name": "Python 3 (ipykernel)",
   "language": "python",
   "name": "python3"
  },
  "language_info": {
   "codemirror_mode": {
    "name": "ipython",
    "version": 3
   },
   "file_extension": ".py",
   "mimetype": "text/x-python",
   "name": "python",
   "nbconvert_exporter": "python",
   "pygments_lexer": "ipython3",
   "version": "3.11.7"
  }
 },
 "nbformat": 4,
 "nbformat_minor": 5
}
