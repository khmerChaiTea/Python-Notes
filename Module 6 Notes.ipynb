{
 "cells": [
  {
   "cell_type": "markdown",
   "id": "3b98c943",
   "metadata": {},
   "source": [
    "Basic Builtin Functions\n",
    "There are many functions available to you as soon as you start python. You have used the following and perhaps others:\n",
    "\n",
    "int()\n",
    "float()\n",
    "str()\n",
    "type()\n",
    "\n",
    "These all have the fundamental property that mathematicians require a function. If you put in the same input, the output of the function will be the same every time."
   ]
  },
  {
   "cell_type": "markdown",
   "id": "b220c5ff",
   "metadata": {},
   "source": [
    "Experiment\n",
    "Run the code in the cell below. It defines the function print_lyrics(). Did you see anything happen?"
   ]
  },
  {
   "cell_type": "code",
   "execution_count": 2,
   "id": "48a137f2",
   "metadata": {},
   "outputs": [],
   "source": [
    "def print_lyrics():\n",
    "    print(\"I'm a lumberjack, and I'm okay.\")\n",
    "    print('I sleep all night and I work all day.')"
   ]
  },
  {
   "cell_type": "markdown",
   "id": "e5c7bf58",
   "metadata": {},
   "source": [
    "Nothing is showing"
   ]
  },
  {
   "cell_type": "markdown",
   "id": "adcff768",
   "metadata": {},
   "source": [
    "Now Run it Twice."
   ]
  },
  {
   "cell_type": "code",
   "execution_count": 4,
   "id": "09383438",
   "metadata": {},
   "outputs": [],
   "source": [
    "def print_lyrics():\n",
    "    print(\"I'm a lumberjack, and I'm okay.\")\n",
    "    print('I sleep all night and I work all day.')"
   ]
  },
  {
   "cell_type": "markdown",
   "id": "e233a66d",
   "metadata": {},
   "source": [
    "Nothing is showing"
   ]
  },
  {
   "cell_type": "code",
   "execution_count": 5,
   "id": "04b3a3ea",
   "metadata": {},
   "outputs": [
    {
     "name": "stdout",
     "output_type": "stream",
     "text": [
      "I'm a lumberjack, and I'm okay.\n",
      "I sleep all night and I work all day.\n",
      "I'm a lumberjack, and I'm okay.\n",
      "I sleep all night and I work all day.\n"
     ]
    }
   ],
   "source": [
    "print_lyrics()\n",
    "print_lyrics()"
   ]
  },
  {
   "cell_type": "markdown",
   "id": "d961d550",
   "metadata": {},
   "source": [
    "Defining a Function\n",
    "There are several things to observe about defining functions.\n",
    "\n",
    "You always begin with “def”.\n",
    "Next is a name followed by parentheses, which may contain nothing.\n",
    "The line ends with a colon.\n",
    "The following lines are indented and define the action performed by the function when it is called.\n",
    "Please experiment by breaking each of these rules and observing the response of the interpreter."
   ]
  },
  {
   "cell_type": "markdown",
   "id": "52e6aa0f",
   "metadata": {},
   "source": [
    "Parameters and Arguments\n",
    "Most functions are created with parameters, which allow their behavior to change depending on the needs of the user.\n",
    "\n",
    "Here is an example of a function which computes the area of a circle with a given radius.\n",
    "\n",
    "def circle_area(r):\n",
    "    area = math.pi * r**2\n",
    "    return area\n",
    "\n",
    "We can use this function to calculate the area of a circle with radius 2. The value 2 is referred to as an argument. When the function is called with an argument, the body of the function is executed with the argument replacing the parameter."
   ]
  },
  {
   "cell_type": "code",
   "execution_count": 6,
   "id": "4db3c3f3",
   "metadata": {},
   "outputs": [
    {
     "name": "stdout",
     "output_type": "stream",
     "text": [
      "12.566370614359172\n"
     ]
    }
   ],
   "source": [
    "import math\n",
    "\n",
    "def circle_area(r):\n",
    "    area = math.pi * r**2\n",
    "    return area\n",
    "\n",
    "print(circle_area(2))"
   ]
  },
  {
   "cell_type": "markdown",
   "id": "7a9a0ee3",
   "metadata": {},
   "source": [
    "Experiment\n",
    "Call this function in two ways.\n",
    "\n",
    "1. Just use the function as a command.\n",
    "\n",
    "2. Store the value computed by the function. Put the call to the function on the right side of an assignment statement."
   ]
  },
  {
   "cell_type": "code",
   "execution_count": 7,
   "id": "f78886b8",
   "metadata": {},
   "outputs": [
    {
     "data": {
      "text/plain": [
       "12.566370614359172"
      ]
     },
     "execution_count": 7,
     "metadata": {},
     "output_type": "execute_result"
    }
   ],
   "source": [
    "circle_area(2)"
   ]
  },
  {
   "cell_type": "code",
   "execution_count": 8,
   "id": "c0bb6051",
   "metadata": {},
   "outputs": [],
   "source": [
    "area_2 = circle_area(2)\n",
    "\n",
    "# Note that the result is not displayed."
   ]
  },
  {
   "cell_type": "markdown",
   "id": "07c5f838",
   "metadata": {},
   "source": [
    "Fruitful and Void\n",
    "A function which returns a value, like the example above, is called fruitful. Some functions return no value (Actually they return the special value None). An example is the builtin funtion print(). If a function does not return a value it is called void. Void functions can be useful.\n",
    "\n",
    "Take the circle_area function above delete the retun statement. Replace it with a print statement. Test it with an input of 2."
   ]
  },
  {
   "cell_type": "code",
   "execution_count": 9,
   "id": "3daf48cc",
   "metadata": {},
   "outputs": [
    {
     "name": "stdout",
     "output_type": "stream",
     "text": [
      "12.566370614359172\n"
     ]
    }
   ],
   "source": [
    "def circle_area(r):\n",
    "    area = math.pi * r**2\n",
    "    print(area)\n",
    "    \n",
    "circle_area(2)"
   ]
  },
  {
   "cell_type": "markdown",
   "id": "637370ea",
   "metadata": {},
   "source": [
    "The Value Returned by a Void Function\n",
    "Use the new version of our function on the right side of an assignment statement. Print the value and type of the result."
   ]
  },
  {
   "cell_type": "code",
   "execution_count": 10,
   "id": "4b3bacb0",
   "metadata": {},
   "outputs": [
    {
     "name": "stdout",
     "output_type": "stream",
     "text": [
      "12.566370614359172\n",
      "None\n",
      "<class 'NoneType'>\n"
     ]
    }
   ],
   "source": [
    "x = circle_area(2)\n",
    "\n",
    "print(x)\n",
    "print(type(x))"
   ]
  },
  {
   "cell_type": "markdown",
   "id": "1e776499",
   "metadata": {},
   "source": [
    "Ex 1\n",
    "Create a function, quad(a,b,c,x), to evaluate a quadratic polynomial at a given value of x. The parameters of the function are, in order:\n",
    "\n",
    "1. a, the coefficient of the quadratic term.\n",
    "\n",
    "2. b, the coefficient of the linear term.\n",
    "\n",
    "3. c, the constant term.\n",
    "\n",
    "4. x, the value at which the polynomial is to be evaluated. This polynomial in standard form is written as:\n",
    "\n",
    "a\n",
    "x\n",
    "2\n",
    "+\n",
    "b\n",
    "x\n",
    "+\n",
    "c\n",
    "\n",
    "Your function should be fruitful. Test it with a = 1, b = -7, c = 12.\n",
    "\n",
    "Use the following values of x: 1,2,3,4,5 for testing.\n",
    "\n",
    "The results should be 6, 2, 0, 0, 2."
   ]
  },
  {
   "cell_type": "code",
   "execution_count": 11,
   "id": "23ab618c",
   "metadata": {},
   "outputs": [
    {
     "name": "stdout",
     "output_type": "stream",
     "text": [
      "6\n",
      "2\n",
      "0\n",
      "0\n",
      "2\n"
     ]
    }
   ],
   "source": [
    "def quad(a,b,c,x):\n",
    "    result = a*x**2 + b*x + c\n",
    "    return result\n",
    "\n",
    "res = quad(1, -7, 12, 1)  \n",
    "print(res)\n",
    "\n",
    "res = quad(1, -7, 12, 2)  \n",
    "print(res)\n",
    "\n",
    "res = quad(1, -7, 12, 3)  \n",
    "print(res)\n",
    "\n",
    "\n",
    "res = quad(1, -7, 12, 4)  \n",
    "print(res)\n",
    "\n",
    "\n",
    "res = quad(1, -7, 12, 5)  \n",
    "print(res)"
   ]
  },
  {
   "cell_type": "markdown",
   "id": "7c6d726e",
   "metadata": {},
   "source": [
    "Ex 2\n",
    "Repeat the exercise above, but make your function, quadv(a,b,c,x), void. Within the function print out the values of all of the variables with identifying text."
   ]
  },
  {
   "cell_type": "code",
   "execution_count": 12,
   "id": "8f0e299f",
   "metadata": {},
   "outputs": [
    {
     "name": "stdout",
     "output_type": "stream",
     "text": [
      "a is 1\n",
      "b is -7\n",
      "c is 12\n",
      "x is 1\n",
      "\n",
      "The result is 6\n"
     ]
    }
   ],
   "source": [
    "def quadv(a,b,c,x):\n",
    "    result = a*x**2 + b*x + c\n",
    "    print(\"a is\",a)\n",
    "    print(\"b is\",b)\n",
    "    print(\"c is\",c)\n",
    "    print(\"x is\",x)\n",
    "    print(\"\")\n",
    "    print(\"The result is\",result)\n",
    "    \n",
    "quadv(1,-7,12,1) "
   ]
  },
  {
   "cell_type": "markdown",
   "id": "3b9336b5",
   "metadata": {},
   "source": [
    "Ex 3\n",
    "Create a fruitful function divisible(m,n). It returns True if m is divisible by n. Otherwise, it returns False. Test it with (4,2) and (5,3)."
   ]
  },
  {
   "cell_type": "code",
   "execution_count": 13,
   "id": "62f48449",
   "metadata": {},
   "outputs": [
    {
     "name": "stdout",
     "output_type": "stream",
     "text": [
      "True\n",
      "False\n"
     ]
    }
   ],
   "source": [
    "def divisible(m,n):\n",
    "  return m % n == 0\n",
    "\n",
    "print(divisible(4,2))\n",
    "print(divisible(5,3))"
   ]
  },
  {
   "cell_type": "markdown",
   "id": "bf92a1e7",
   "metadata": {},
   "source": [
    "Ex 4\n",
    "Create a fruitful function fb(n).\n",
    "\n",
    "It returns \"fizz\" if n is divisible by 3, but not by 5.\n",
    "\n",
    "It returns \"buzz\" if n is divisible by 5, but not by 3.\n",
    "\n",
    "It returns \"fizzbuzz\" if n is divisible by both.\n",
    "\n",
    "If n is not divisible by either, it returns \"shucks\".\n",
    "\n",
    "Test it with 6, 7, 10, and 15"
   ]
  },
  {
   "cell_type": "code",
   "execution_count": 14,
   "id": "1d5a1906",
   "metadata": {},
   "outputs": [
    {
     "name": "stdout",
     "output_type": "stream",
     "text": [
      "fizz\n",
      "shucks\n",
      "buzz\n",
      "fizzbuzz\n"
     ]
    }
   ],
   "source": [
    "def fb(n):\n",
    "  if divisible(n,3) and divisible(n,5):\n",
    "    return(\"fizzbuzz\")\n",
    "  elif divisible(n,3):\n",
    "    return(\"fizz\")\n",
    "  elif divisible(n,5):\n",
    "    return(\"buzz\")\n",
    "  else:\n",
    "    return(\"shucks\")\n",
    "  \n",
    "print(fb(6))\n",
    "print(fb(7))\n",
    "print(fb(10))\n",
    "print(fb(15))"
   ]
  },
  {
   "cell_type": "markdown",
   "id": "176a48fa",
   "metadata": {},
   "source": [
    "Ex 4a\n",
    "Repeat Ex 4, but use no elif or else statement, just if."
   ]
  },
  {
   "cell_type": "code",
   "execution_count": 15,
   "id": "be94eb04",
   "metadata": {},
   "outputs": [
    {
     "name": "stdout",
     "output_type": "stream",
     "text": [
      "fizz\n",
      "shucks\n",
      "buzz\n",
      "fizzbuzz\n"
     ]
    }
   ],
   "source": [
    "def fba(n):\n",
    "  if divisible(n,3) and not divisible(n,5):\n",
    "    return(\"fizz\")\n",
    "  \n",
    "  if divisible(n,5) and not divisible(n,3):\n",
    "    return(\"buzz\")\n",
    "  \n",
    "  if divisible(n,3) and divisible(n,5):\n",
    "    return(\"fizzbuzz\")\n",
    "  \n",
    "  if not divisible(n,3) and not divisible(n,5):\n",
    "    return(\"shucks\")\n",
    "\n",
    "print(fba(6))\n",
    "print(fba(7))\n",
    "print(fba(10))\n",
    "print(fba(15))"
   ]
  },
  {
   "cell_type": "markdown",
   "id": "fd2b2ca9",
   "metadata": {},
   "source": [
    "Ex 5\n",
    "The parameter weekday is True if it is a weekday, and the parameter vacation is True if we are on vacation. We sleep in if it is not a weekday or we're on vacation. Return True if we sleep in.\n",
    "\n",
    "def sleep_in(weekday,vacation:\n",
    "\n",
    "Complete the function and test it to verify the folllowing results.\n",
    "\n",
    "sleep_in(True, True) should be True\n",
    "sleep_in(True, False) should be False\n",
    "sleep_in(False, True) should be True\n",
    "sleep_in(False, False) should be True"
   ]
  },
  {
   "cell_type": "code",
   "execution_count": 16,
   "id": "3e1ce27b",
   "metadata": {},
   "outputs": [
    {
     "name": "stdout",
     "output_type": "stream",
     "text": [
      "True\n",
      "False\n",
      "True\n",
      "True\n"
     ]
    }
   ],
   "source": [
    "def sleep_in(weekday, vacation):\n",
    "  if (not weekday) or vacation:\n",
    "    return True\n",
    "  else:\n",
    "    return False\n",
    "\n",
    "print(sleep_in(True, True)) \n",
    "print(sleep_in(True, False)) \n",
    "print(sleep_in(False, True))\n",
    "print(sleep_in(False, False))"
   ]
  },
  {
   "cell_type": "markdown",
   "id": "65284c42",
   "metadata": {},
   "source": [
    "Ex 5a\n",
    "That worked, but can you do it with one line of code?"
   ]
  },
  {
   "cell_type": "code",
   "execution_count": 17,
   "id": "2b99c523",
   "metadata": {},
   "outputs": [
    {
     "name": "stdout",
     "output_type": "stream",
     "text": [
      "True\n",
      "False\n",
      "True\n",
      "True\n"
     ]
    }
   ],
   "source": [
    "def sleep_in(weekday, vacation):\n",
    "  return(not weekday) or vacation\n",
    "  \n",
    "\n",
    "print(sleep_in(True, True)) \n",
    "print(sleep_in(True, False)) \n",
    "print(sleep_in(False, True))\n",
    "print(sleep_in(False, False))"
   ]
  },
  {
   "cell_type": "markdown",
   "id": "ec166993",
   "metadata": {},
   "source": [
    "Ex 6\n",
    "We have two monkeys, a and b, and the parameters a_smile and b_smile indicate if each is smiling. We are in trouble if they are both smiling or if neither of them is smiling. Return True if we are in trouble.\n",
    "\n",
    "def monkey_trouble(a_smile,b_smile):\n",
    "\n",
    "monkey_trouble(True, True) → True\n",
    "monkey_trouble(True, False) → False\n",
    "monkey_trouble(False, True) → False\n",
    "monkey_trouble(False, False) → True"
   ]
  },
  {
   "cell_type": "code",
   "execution_count": 18,
   "id": "64e1cdc2",
   "metadata": {},
   "outputs": [
    {
     "name": "stdout",
     "output_type": "stream",
     "text": [
      "True\n",
      "False\n",
      "False\n",
      "True\n"
     ]
    }
   ],
   "source": [
    "def monkey_trouble(a_smile, b_smile):\n",
    "  if a_smile and b_smile:\n",
    "    return True\n",
    "  if not a_smile and not b_smile:\n",
    "    return True\n",
    "  return False\n",
    "\n",
    "print(monkey_trouble(True, True))\n",
    "print(monkey_trouble(True, False))\n",
    "print(monkey_trouble(False, True))\n",
    "print(monkey_trouble(False, False))"
   ]
  },
  {
   "cell_type": "markdown",
   "id": "21770d6d",
   "metadata": {},
   "source": [
    "Ex 6a\n",
    "Do this in one line of code."
   ]
  },
  {
   "cell_type": "code",
   "execution_count": 19,
   "id": "97d66f85",
   "metadata": {},
   "outputs": [
    {
     "name": "stdout",
     "output_type": "stream",
     "text": [
      "True\n",
      "False\n",
      "False\n",
      "True\n"
     ]
    }
   ],
   "source": [
    "def monkey_trouble(a_smile, b_smile):\n",
    "    return((a_smile and b_smile)or (not a_smile and not b_smile))\n",
    "\n",
    "\n",
    "print(monkey_trouble(True, True))\n",
    "print(monkey_trouble(True, False))\n",
    "print(monkey_trouble(False, True))\n",
    "print(monkey_trouble(False, False))"
   ]
  },
  {
   "cell_type": "markdown",
   "id": "ec7f3013",
   "metadata": {},
   "source": [
    "Ex 6b\n",
    "Do it without an and or an or."
   ]
  },
  {
   "cell_type": "code",
   "execution_count": 20,
   "id": "ee2e4c79",
   "metadata": {},
   "outputs": [
    {
     "name": "stdout",
     "output_type": "stream",
     "text": [
      "True\n",
      "False\n",
      "False\n",
      "True\n"
     ]
    }
   ],
   "source": [
    "def monkey_trouble(a_smile, b_smile):\n",
    "    return a_smile == b_smile\n",
    "\n",
    "print(monkey_trouble(True, True))\n",
    "print(monkey_trouble(True, False))\n",
    "print(monkey_trouble(False, True))\n",
    "print(monkey_trouble(False, False))"
   ]
  },
  {
   "cell_type": "markdown",
   "id": "6b5b8a8d",
   "metadata": {},
   "source": [
    "Ex 7\n",
    "Given two int values, return their sum. Unless the two values are the same, then return double their sum.\n",
    "\n",
    "def sum_double(a,b):\n",
    "\n",
    "sum_double(1, 2) → 3\n",
    "sum_double(3, 2) → 5\n",
    "sum_double(2, 2) → 8"
   ]
  },
  {
   "cell_type": "code",
   "execution_count": 21,
   "id": "5ef6e3fd",
   "metadata": {},
   "outputs": [
    {
     "name": "stdout",
     "output_type": "stream",
     "text": [
      "3\n",
      "5\n",
      "8\n"
     ]
    }
   ],
   "source": [
    "def sum_double(a, b):\n",
    "  # Store the sum in a local variable\n",
    "  sum = a + b\n",
    "  \n",
    "  # Double it if a and b are the same\n",
    "  if a == b:\n",
    "    sum = sum * 2\n",
    "  return sum\n",
    "\n",
    "print(sum_double(1,2))\n",
    "print(sum_double(3,2))\n",
    "print(sum_double(2,2))"
   ]
  },
  {
   "cell_type": "markdown",
   "id": "1ad8ea98",
   "metadata": {},
   "source": [
    "Ex 8\n",
    "Given an int n, return the absolute difference between n and 21, except return double the absolute difference if n is over 21.\n",
    "\n",
    "def diff21(n):\n",
    "\n",
    "diff21(19) → 2\n",
    "diff21(10) → 11\n",
    "diff21(21) → 0\n",
    "diff21(24) → 6"
   ]
  },
  {
   "cell_type": "code",
   "execution_count": 22,
   "id": "24949634",
   "metadata": {},
   "outputs": [
    {
     "name": "stdout",
     "output_type": "stream",
     "text": [
      "2\n",
      "11\n",
      "0\n",
      "6\n"
     ]
    }
   ],
   "source": [
    "def diff21(n):\n",
    "  if n <= 21:\n",
    "    return 21 - n\n",
    "  else:\n",
    "    return (n - 21) * 2\n",
    "\n",
    "print(diff21(19))\n",
    "print(diff21(10))\n",
    "print(diff21(21))\n",
    "print(diff21(24))"
   ]
  },
  {
   "cell_type": "markdown",
   "id": "a7c14af1",
   "metadata": {},
   "source": [
    "Ex 9\n",
    "We have a loud talking parrot. The \"hour\" parameter is the current hour time in the range 0..23. We are in trouble if the parrot is talking and the hour is before 7 or after 20. Return True if we are in trouble.\n",
    "\n",
    "def parrot_trouble(talking, hour):\n",
    "\n",
    "parrot_trouble(True, 6) → True\n",
    "parrot_trouble(True, 7) → False\n",
    "parrot_trouble(False, 6) → False\n",
    "parrot_trouble(True, 22) → True"
   ]
  },
  {
   "cell_type": "code",
   "execution_count": 23,
   "id": "5919b8e5",
   "metadata": {},
   "outputs": [
    {
     "name": "stdout",
     "output_type": "stream",
     "text": [
      "True\n",
      "False\n",
      "False\n",
      "True\n"
     ]
    }
   ],
   "source": [
    "def parrot_trouble(talking, hour):\n",
    "  return (talking and (hour < 7 or hour > 20))\n",
    "  # Need extra parenthesis around the or clause\n",
    "  # since and binds more tightly than or.\n",
    "  # and is like arithmetic *, or is like arithmetic +\n",
    "    \n",
    "print(parrot_trouble(True, 6)) \n",
    "print(parrot_trouble(True, 7)) \n",
    "print(parrot_trouble(False, 6)) \n",
    "print(parrot_trouble(True, 22)) "
   ]
  },
  {
   "cell_type": "code",
   "execution_count": null,
   "id": "675351ef",
   "metadata": {},
   "outputs": [],
   "source": []
  }
 ],
 "metadata": {
  "kernelspec": {
   "display_name": "Python 3 (ipykernel)",
   "language": "python",
   "name": "python3"
  },
  "language_info": {
   "codemirror_mode": {
    "name": "ipython",
    "version": 3
   },
   "file_extension": ".py",
   "mimetype": "text/x-python",
   "name": "python",
   "nbconvert_exporter": "python",
   "pygments_lexer": "ipython3",
   "version": "3.11.7"
  }
 },
 "nbformat": 4,
 "nbformat_minor": 5
}
