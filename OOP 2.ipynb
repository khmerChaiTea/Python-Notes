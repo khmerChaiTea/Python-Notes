{
 "cells": [
  {
   "cell_type": "raw",
   "id": "32200478",
   "metadata": {},
   "source": [
    "Object-Oriented Programming (OOP)\n",
    "\n",
    "Setup\n",
    "Write the definition of a class WeatherForecast that provides the following behavior (methods):\n",
    "\n",
    "A method called set_skies that has one parameter, a String.\n",
    "A method called set_high that has one parameter, an int.\n",
    "A method called set_low that has one parameter, an int.\n",
    "A method called get_skies that has no parameters and that returns the value that was last used as an argument in set_skies.\n",
    "A method called get_high that has no parameters and that returns the value that was last used as an argument in set_high.\n",
    "A method called get_low that has no parameters and that returns the value that was last used as an argument in set_low.\n",
    "Be sure to define instance variables as needed by your \"get\"/\"set\" methods, and write a constructor to properly initialize them"
   ]
  },
  {
   "cell_type": "code",
   "execution_count": 1,
   "id": "4c16ce18",
   "metadata": {},
   "outputs": [],
   "source": [
    "class WeatherForecast:\n",
    "    \n",
    "    def __init__(self, skies, high, low):\n",
    "        self.skies = skies\n",
    "        self.high = high\n",
    "        self.low = low\n",
    "        \n",
    "    def set_skies(self,skies):\n",
    "        self.skies = skies\n",
    "        \n",
    "    def set_high(self,high):\n",
    "        self.high = high\n",
    "        \n",
    "    def set_low(self,low):\n",
    "        self.low = low\n",
    "        \n",
    "    def get_skies(self):\n",
    "        return self.skies\n",
    "    \n",
    "    def get_high(self):\n",
    "        return self.high\n",
    "    \n",
    "    def get_low(self):\n",
    "        return self.low"
   ]
  },
  {
   "cell_type": "raw",
   "id": "85cb5290",
   "metadata": {},
   "source": [
    "Example\n",
    "Instantiate a member of this class, june_22. Set the skies to Clear, the high to 75 and the low to 45."
   ]
  },
  {
   "cell_type": "code",
   "execution_count": 2,
   "id": "f857e439",
   "metadata": {},
   "outputs": [],
   "source": [
    "june_22 = WeatherForecast(\"Clear\",75,45)"
   ]
  },
  {
   "cell_type": "raw",
   "id": "47ddcd3e",
   "metadata": {},
   "source": [
    "Test get methods\n",
    "Test the three methods that get values."
   ]
  },
  {
   "cell_type": "code",
   "execution_count": 3,
   "id": "1d7da29d",
   "metadata": {},
   "outputs": [
    {
     "data": {
      "text/plain": [
       "'Clear'"
      ]
     },
     "execution_count": 3,
     "metadata": {},
     "output_type": "execute_result"
    }
   ],
   "source": [
    "june_22.get_skies()"
   ]
  },
  {
   "cell_type": "code",
   "execution_count": 4,
   "id": "c051b893",
   "metadata": {},
   "outputs": [
    {
     "data": {
      "text/plain": [
       "75"
      ]
     },
     "execution_count": 4,
     "metadata": {},
     "output_type": "execute_result"
    }
   ],
   "source": [
    "june_22.get_high()"
   ]
  },
  {
   "cell_type": "code",
   "execution_count": 5,
   "id": "ac2f0b95",
   "metadata": {},
   "outputs": [
    {
     "data": {
      "text/plain": [
       "45"
      ]
     },
     "execution_count": 5,
     "metadata": {},
     "output_type": "execute_result"
    }
   ],
   "source": [
    "june_22.get_low()"
   ]
  },
  {
   "cell_type": "raw",
   "id": "d54a34be",
   "metadata": {},
   "source": [
    "Test Set Methods\n",
    "Test each of the three set methods. Use each set method to change a value. Then use the corresponding get method to verify the work."
   ]
  },
  {
   "cell_type": "code",
   "execution_count": 6,
   "id": "817826a4",
   "metadata": {},
   "outputs": [
    {
     "data": {
      "text/plain": [
       "'Cloudy'"
      ]
     },
     "execution_count": 6,
     "metadata": {},
     "output_type": "execute_result"
    }
   ],
   "source": [
    "june_22.set_skies(\"Cloudy\")\n",
    "june_22.get_skies()"
   ]
  },
  {
   "cell_type": "code",
   "execution_count": 7,
   "id": "42a76339",
   "metadata": {},
   "outputs": [
    {
     "data": {
      "text/plain": [
       "65"
      ]
     },
     "execution_count": 7,
     "metadata": {},
     "output_type": "execute_result"
    }
   ],
   "source": [
    "june_22.set_high(65)\n",
    "june_22.get_high()"
   ]
  },
  {
   "cell_type": "code",
   "execution_count": 8,
   "id": "71702abc",
   "metadata": {},
   "outputs": [
    {
     "data": {
      "text/plain": [
       "39"
      ]
     },
     "execution_count": 8,
     "metadata": {},
     "output_type": "execute_result"
    }
   ],
   "source": [
    "june_22.set_low(39)\n",
    "june_22.get_low()"
   ]
  },
  {
   "cell_type": "raw",
   "id": "be52739e",
   "metadata": {},
   "source": [
    "Without Methods\n",
    "Change the values of all of the attributes of june_22 and display the results without using methods."
   ]
  },
  {
   "cell_type": "code",
   "execution_count": 9,
   "id": "d5382ad0",
   "metadata": {},
   "outputs": [
    {
     "name": "stdout",
     "output_type": "stream",
     "text": [
      "Hazy\n"
     ]
    }
   ],
   "source": [
    "june_22.skies = \"Hazy\"\n",
    "print(june_22.skies)"
   ]
  },
  {
   "cell_type": "code",
   "execution_count": 10,
   "id": "e61d6cab",
   "metadata": {},
   "outputs": [
    {
     "name": "stdout",
     "output_type": "stream",
     "text": [
      "80\n"
     ]
    }
   ],
   "source": [
    "june_22.high = 80\n",
    "print(june_22.high)"
   ]
  },
  {
   "cell_type": "code",
   "execution_count": 11,
   "id": "c0989e39",
   "metadata": {},
   "outputs": [
    {
     "name": "stdout",
     "output_type": "stream",
     "text": [
      "50\n"
     ]
    }
   ],
   "source": [
    "june_22.low = 50\n",
    "print(june_22.low)"
   ]
  },
  {
   "cell_type": "raw",
   "id": "b89c1cec",
   "metadata": {},
   "source": [
    "A Subclass\n",
    "Create a subclass LocalWeatherForecast. It has a string parameter loc, which is first in the parameter list. Add get and set methods for this parameter.\n",
    "\n",
    "Note that since you are adding a parameter, you must provide an init method. However, you can use the init for the super class."
   ]
  },
  {
   "cell_type": "code",
   "execution_count": 12,
   "id": "667e1fe1",
   "metadata": {},
   "outputs": [],
   "source": [
    "class LocalWeatherForecast(WeatherForecast):\n",
    "    \n",
    "    def __init__(self,loc,skies,high,low):\n",
    "        WeatherForecast.__init__(self,skies,high,low)\n",
    "        self.loc = loc\n",
    "        \n",
    "    def set_loc(self,loc):\n",
    "            self.loc = loc\n",
    "            \n",
    "    def get_loc(self):\n",
    "            return self.loc"
   ]
  },
  {
   "cell_type": "raw",
   "id": "c7a3c19b",
   "metadata": {},
   "source": [
    "Instantiate\n",
    "Creat a local weather forecast for Olympia on June 23. Pick whatever values you want."
   ]
  },
  {
   "cell_type": "code",
   "execution_count": 13,
   "id": "f8a0613e",
   "metadata": {},
   "outputs": [],
   "source": [
    "june_23_oly = LocalWeatherForecast(\"Olympia\",\"Clear Blue\",90,60)"
   ]
  },
  {
   "cell_type": "raw",
   "id": "d97e18c2",
   "metadata": {},
   "source": [
    "Test Inheritance\n",
    "Use the get method defined in the superclass to get the current value of skies."
   ]
  },
  {
   "cell_type": "code",
   "execution_count": 14,
   "id": "f981995b",
   "metadata": {},
   "outputs": [
    {
     "data": {
      "text/plain": [
       "'Clear Blue'"
      ]
     },
     "execution_count": 14,
     "metadata": {},
     "output_type": "execute_result"
    }
   ],
   "source": [
    "june_23_oly.get_skies()"
   ]
  },
  {
   "cell_type": "raw",
   "id": "2f63f30e",
   "metadata": {},
   "source": [
    "Note that the method get_skies() was not defined for the class LocalWeatherForecast. It was inherited from the class WeatherForecast"
   ]
  },
  {
   "cell_type": "raw",
   "id": "1094589f",
   "metadata": {},
   "source": [
    "Polymorphism\n",
    "Redefine the get_skies() method for the class LocalWeatherForecast. It should be a string referring to both the location and the value of skies."
   ]
  },
  {
   "cell_type": "code",
   "execution_count": 15,
   "id": "31a9f281",
   "metadata": {},
   "outputs": [],
   "source": [
    "class LocalWeatherForecast(WeatherForecast):\n",
    "    \n",
    "    def __init__(self,loc,skies,high,low):\n",
    "        WeatherForecast.__init__(self,skies,high,low)\n",
    "        self.loc = loc\n",
    "        \n",
    "    def set_loc(self,loc):\n",
    "            self.loc = loc\n",
    "            \n",
    "    def get_loc(self):\n",
    "            return self.loc\n",
    "        \n",
    "    def get_skies(self):\n",
    "            s = \"The skies on this day in \" + self.loc + \" are \" + self.skies + \".\"\n",
    "            return s"
   ]
  },
  {
   "cell_type": "code",
   "execution_count": 16,
   "id": "007e0b66",
   "metadata": {},
   "outputs": [
    {
     "data": {
      "text/plain": [
       "'The skies on this day in Olympia are Clear Blue.'"
      ]
     },
     "execution_count": 16,
     "metadata": {},
     "output_type": "execute_result"
    }
   ],
   "source": [
    "june_23_oly = LocalWeatherForecast(\"Olympia\",\"Clear Blue\",90,60)\n",
    "june_23_oly.get_skies()"
   ]
  },
  {
   "cell_type": "code",
   "execution_count": null,
   "id": "1ba3f841",
   "metadata": {},
   "outputs": [],
   "source": []
  }
 ],
 "metadata": {
  "kernelspec": {
   "display_name": "Python 3 (ipykernel)",
   "language": "python",
   "name": "python3"
  },
  "language_info": {
   "codemirror_mode": {
    "name": "ipython",
    "version": 3
   },
   "file_extension": ".py",
   "mimetype": "text/x-python",
   "name": "python",
   "nbconvert_exporter": "python",
   "pygments_lexer": "ipython3",
   "version": "3.11.7"
  }
 },
 "nbformat": 4,
 "nbformat_minor": 5
}
