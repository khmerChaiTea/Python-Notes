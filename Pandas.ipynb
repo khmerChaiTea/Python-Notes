{
 "cells": [
  {
   "cell_type": "raw",
   "id": "3c413f69",
   "metadata": {},
   "source": [
    "Task 1 - Setup\n",
    "Make pandas available as pd\n",
    "\n",
    "Make numpy avaialable as np"
   ]
  },
  {
   "cell_type": "code",
   "execution_count": 1,
   "id": "c820673e",
   "metadata": {},
   "outputs": [],
   "source": [
    "import pandas as pd\n",
    "import numpy as np"
   ]
  },
  {
   "cell_type": "raw",
   "id": "79e907f2",
   "metadata": {},
   "source": [
    "Task 2\n",
    "Get the Data.\n",
    "\n",
    "Using pd.read_csv create the dataframe OAW2 from the csv file. Set the index column to 0."
   ]
  },
  {
   "cell_type": "code",
   "execution_count": 2,
   "id": "195a3bdc",
   "metadata": {},
   "outputs": [],
   "source": [
    "OAW2 = pd.read_csv(\"OAW2.csv\", index_col=0)"
   ]
  },
  {
   "cell_type": "raw",
   "id": "a6ad6d6b",
   "metadata": {},
   "source": [
    "Task 3\n",
    "What is it?\n",
    "\n",
    "Use the method info() to get some basic information about the dataframe."
   ]
  },
  {
   "cell_type": "code",
   "execution_count": 3,
   "id": "03a04465",
   "metadata": {},
   "outputs": [
    {
     "name": "stdout",
     "output_type": "stream",
     "text": [
      "<class 'pandas.core.frame.DataFrame'>\n",
      "Index: 28708 entries, 1 to 28708\n",
      "Data columns (total 8 columns):\n",
      " #   Column   Non-Null Count  Dtype  \n",
      "---  ------   --------------  -----  \n",
      " 0   PRCP     28708 non-null  float64\n",
      " 1   TMAX     28708 non-null  float64\n",
      " 2   TMIN     28708 non-null  float64\n",
      " 3   yr       28708 non-null  int64  \n",
      " 4   mo       28708 non-null  int64  \n",
      " 5   dy       28708 non-null  int64  \n",
      " 6   warmth   28708 non-null  object \n",
      " 7   wetness  28708 non-null  object \n",
      "dtypes: float64(3), int64(3), object(2)\n",
      "memory usage: 2.0+ MB\n"
     ]
    }
   ],
   "source": [
    "OAW2.info()"
   ]
  },
  {
   "cell_type": "raw",
   "id": "34046afb",
   "metadata": {},
   "source": [
    "Task 4\n",
    "Get some statistical information on the contents.\n",
    "\n",
    "Use the methods describe() and value_counts()."
   ]
  },
  {
   "cell_type": "code",
   "execution_count": 4,
   "id": "5a5d806c",
   "metadata": {},
   "outputs": [
    {
     "data": {
      "text/html": [
       "<div>\n",
       "<style scoped>\n",
       "    .dataframe tbody tr th:only-of-type {\n",
       "        vertical-align: middle;\n",
       "    }\n",
       "\n",
       "    .dataframe tbody tr th {\n",
       "        vertical-align: top;\n",
       "    }\n",
       "\n",
       "    .dataframe thead th {\n",
       "        text-align: right;\n",
       "    }\n",
       "</style>\n",
       "<table border=\"1\" class=\"dataframe\">\n",
       "  <thead>\n",
       "    <tr style=\"text-align: right;\">\n",
       "      <th></th>\n",
       "      <th>PRCP</th>\n",
       "      <th>TMAX</th>\n",
       "      <th>TMIN</th>\n",
       "      <th>yr</th>\n",
       "      <th>mo</th>\n",
       "      <th>dy</th>\n",
       "    </tr>\n",
       "  </thead>\n",
       "  <tbody>\n",
       "    <tr>\n",
       "      <th>count</th>\n",
       "      <td>28708.000000</td>\n",
       "      <td>28708.000000</td>\n",
       "      <td>28708.000000</td>\n",
       "      <td>28708.000000</td>\n",
       "      <td>28708.000000</td>\n",
       "      <td>28708.00000</td>\n",
       "    </tr>\n",
       "    <tr>\n",
       "      <th>mean</th>\n",
       "      <td>0.136342</td>\n",
       "      <td>60.537656</td>\n",
       "      <td>39.808118</td>\n",
       "      <td>1980.171172</td>\n",
       "      <td>6.540999</td>\n",
       "      <td>15.73530</td>\n",
       "    </tr>\n",
       "    <tr>\n",
       "      <th>std</th>\n",
       "      <td>0.300729</td>\n",
       "      <td>13.683659</td>\n",
       "      <td>9.251931</td>\n",
       "      <td>22.704114</td>\n",
       "      <td>3.446058</td>\n",
       "      <td>8.80051</td>\n",
       "    </tr>\n",
       "    <tr>\n",
       "      <th>min</th>\n",
       "      <td>0.000000</td>\n",
       "      <td>17.960000</td>\n",
       "      <td>-7.960000</td>\n",
       "      <td>1941.000000</td>\n",
       "      <td>1.000000</td>\n",
       "      <td>1.00000</td>\n",
       "    </tr>\n",
       "    <tr>\n",
       "      <th>25%</th>\n",
       "      <td>0.000000</td>\n",
       "      <td>50.000000</td>\n",
       "      <td>33.080000</td>\n",
       "      <td>1961.000000</td>\n",
       "      <td>4.000000</td>\n",
       "      <td>8.00000</td>\n",
       "    </tr>\n",
       "    <tr>\n",
       "      <th>50%</th>\n",
       "      <td>0.000000</td>\n",
       "      <td>59.000000</td>\n",
       "      <td>39.920000</td>\n",
       "      <td>1980.000000</td>\n",
       "      <td>7.000000</td>\n",
       "      <td>16.00000</td>\n",
       "    </tr>\n",
       "    <tr>\n",
       "      <th>75%</th>\n",
       "      <td>0.141732</td>\n",
       "      <td>71.060000</td>\n",
       "      <td>46.940000</td>\n",
       "      <td>2000.000000</td>\n",
       "      <td>10.000000</td>\n",
       "      <td>23.00000</td>\n",
       "    </tr>\n",
       "    <tr>\n",
       "      <th>max</th>\n",
       "      <td>4.818898</td>\n",
       "      <td>104.000000</td>\n",
       "      <td>69.080000</td>\n",
       "      <td>2019.000000</td>\n",
       "      <td>12.000000</td>\n",
       "      <td>31.00000</td>\n",
       "    </tr>\n",
       "  </tbody>\n",
       "</table>\n",
       "</div>"
      ],
      "text/plain": [
       "               PRCP          TMAX          TMIN            yr            mo  \\\n",
       "count  28708.000000  28708.000000  28708.000000  28708.000000  28708.000000   \n",
       "mean       0.136342     60.537656     39.808118   1980.171172      6.540999   \n",
       "std        0.300729     13.683659      9.251931     22.704114      3.446058   \n",
       "min        0.000000     17.960000     -7.960000   1941.000000      1.000000   \n",
       "25%        0.000000     50.000000     33.080000   1961.000000      4.000000   \n",
       "50%        0.000000     59.000000     39.920000   1980.000000      7.000000   \n",
       "75%        0.141732     71.060000     46.940000   2000.000000     10.000000   \n",
       "max        4.818898    104.000000     69.080000   2019.000000     12.000000   \n",
       "\n",
       "                dy  \n",
       "count  28708.00000  \n",
       "mean      15.73530  \n",
       "std        8.80051  \n",
       "min        1.00000  \n",
       "25%        8.00000  \n",
       "50%       16.00000  \n",
       "75%       23.00000  \n",
       "max       31.00000  "
      ]
     },
     "execution_count": 4,
     "metadata": {},
     "output_type": "execute_result"
    }
   ],
   "source": [
    "OAW2.describe()"
   ]
  },
  {
   "cell_type": "code",
   "execution_count": 5,
   "id": "4a15eb3e",
   "metadata": {},
   "outputs": [
    {
     "data": {
      "text/plain": [
       "PRCP      TMAX   TMIN   yr    mo  dy  warmth  wetness   \n",
       "0.000000  19.04  8.06   1989  2   3   Cold    Dry           1\n",
       "0.059055  57.02  44.96  1973  10  21  Cold    Damp          1\n",
       "          46.04  37.04  1968  12  1   Cold    Damp          1\n",
       "                        1950  2   21  Cold    Damp          1\n",
       "                 35.96  1994  11  1   Cold    Damp          1\n",
       "                                                           ..\n",
       "0.000000  71.06  48.92  1997  7   11  Warm    Dry           1\n",
       "                        1996  8   16  Warm    Dry           1\n",
       "                        1993  7   17  Warm    Dry           1\n",
       "                        1992  9   25  Warm    Dry           1\n",
       "4.818898  51.98  51.08  2009  1   7   Cold    Really Wet    1\n",
       "Name: count, Length: 28708, dtype: int64"
      ]
     },
     "execution_count": 5,
     "metadata": {},
     "output_type": "execute_result"
    }
   ],
   "source": [
    "OAW2.value_counts()"
   ]
  },
  {
   "cell_type": "code",
   "execution_count": 6,
   "id": "49075dd6",
   "metadata": {},
   "outputs": [
    {
     "data": {
      "text/plain": [
       "warmth\n",
       "Cold    15233\n",
       "Warm    13475\n",
       "Name: count, dtype: int64"
      ]
     },
     "execution_count": 6,
     "metadata": {},
     "output_type": "execute_result"
    }
   ],
   "source": [
    "OAW2['warmth'].value_counts()"
   ]
  },
  {
   "cell_type": "raw",
   "id": "dd5a7240",
   "metadata": {},
   "source": [
    "Task 5\n",
    "Use the methods head() and tail() to see the beginning and end of the dataframe."
   ]
  },
  {
   "cell_type": "code",
   "execution_count": 7,
   "id": "23bb087c",
   "metadata": {},
   "outputs": [
    {
     "data": {
      "text/html": [
       "<div>\n",
       "<style scoped>\n",
       "    .dataframe tbody tr th:only-of-type {\n",
       "        vertical-align: middle;\n",
       "    }\n",
       "\n",
       "    .dataframe tbody tr th {\n",
       "        vertical-align: top;\n",
       "    }\n",
       "\n",
       "    .dataframe thead th {\n",
       "        text-align: right;\n",
       "    }\n",
       "</style>\n",
       "<table border=\"1\" class=\"dataframe\">\n",
       "  <thead>\n",
       "    <tr style=\"text-align: right;\">\n",
       "      <th></th>\n",
       "      <th>PRCP</th>\n",
       "      <th>TMAX</th>\n",
       "      <th>TMIN</th>\n",
       "      <th>yr</th>\n",
       "      <th>mo</th>\n",
       "      <th>dy</th>\n",
       "      <th>warmth</th>\n",
       "      <th>wetness</th>\n",
       "    </tr>\n",
       "  </thead>\n",
       "  <tbody>\n",
       "    <tr>\n",
       "      <th>1</th>\n",
       "      <td>0.000000</td>\n",
       "      <td>66.02</td>\n",
       "      <td>50.00</td>\n",
       "      <td>1941</td>\n",
       "      <td>5</td>\n",
       "      <td>13</td>\n",
       "      <td>Warm</td>\n",
       "      <td>Dry</td>\n",
       "    </tr>\n",
       "    <tr>\n",
       "      <th>2</th>\n",
       "      <td>0.000000</td>\n",
       "      <td>62.96</td>\n",
       "      <td>46.94</td>\n",
       "      <td>1941</td>\n",
       "      <td>5</td>\n",
       "      <td>14</td>\n",
       "      <td>Warm</td>\n",
       "      <td>Dry</td>\n",
       "    </tr>\n",
       "    <tr>\n",
       "      <th>3</th>\n",
       "      <td>0.299213</td>\n",
       "      <td>57.92</td>\n",
       "      <td>44.06</td>\n",
       "      <td>1941</td>\n",
       "      <td>5</td>\n",
       "      <td>15</td>\n",
       "      <td>Cold</td>\n",
       "      <td>Really Wet</td>\n",
       "    </tr>\n",
       "    <tr>\n",
       "      <th>4</th>\n",
       "      <td>1.078740</td>\n",
       "      <td>55.04</td>\n",
       "      <td>44.96</td>\n",
       "      <td>1941</td>\n",
       "      <td>5</td>\n",
       "      <td>16</td>\n",
       "      <td>Cold</td>\n",
       "      <td>Really Wet</td>\n",
       "    </tr>\n",
       "    <tr>\n",
       "      <th>5</th>\n",
       "      <td>0.059055</td>\n",
       "      <td>57.02</td>\n",
       "      <td>46.04</td>\n",
       "      <td>1941</td>\n",
       "      <td>5</td>\n",
       "      <td>17</td>\n",
       "      <td>Cold</td>\n",
       "      <td>Damp</td>\n",
       "    </tr>\n",
       "  </tbody>\n",
       "</table>\n",
       "</div>"
      ],
      "text/plain": [
       "       PRCP   TMAX   TMIN    yr  mo  dy warmth     wetness\n",
       "1  0.000000  66.02  50.00  1941   5  13   Warm         Dry\n",
       "2  0.000000  62.96  46.94  1941   5  14   Warm         Dry\n",
       "3  0.299213  57.92  44.06  1941   5  15   Cold  Really Wet\n",
       "4  1.078740  55.04  44.96  1941   5  16   Cold  Really Wet\n",
       "5  0.059055  57.02  46.04  1941   5  17   Cold        Damp"
      ]
     },
     "execution_count": 7,
     "metadata": {},
     "output_type": "execute_result"
    }
   ],
   "source": [
    "OAW2.head()"
   ]
  },
  {
   "cell_type": "code",
   "execution_count": 8,
   "id": "80b6ca0f",
   "metadata": {},
   "outputs": [
    {
     "data": {
      "text/html": [
       "<div>\n",
       "<style scoped>\n",
       "    .dataframe tbody tr th:only-of-type {\n",
       "        vertical-align: middle;\n",
       "    }\n",
       "\n",
       "    .dataframe tbody tr th {\n",
       "        vertical-align: top;\n",
       "    }\n",
       "\n",
       "    .dataframe thead th {\n",
       "        text-align: right;\n",
       "    }\n",
       "</style>\n",
       "<table border=\"1\" class=\"dataframe\">\n",
       "  <thead>\n",
       "    <tr style=\"text-align: right;\">\n",
       "      <th></th>\n",
       "      <th>PRCP</th>\n",
       "      <th>TMAX</th>\n",
       "      <th>TMIN</th>\n",
       "      <th>yr</th>\n",
       "      <th>mo</th>\n",
       "      <th>dy</th>\n",
       "      <th>warmth</th>\n",
       "      <th>wetness</th>\n",
       "    </tr>\n",
       "  </thead>\n",
       "  <tbody>\n",
       "    <tr>\n",
       "      <th>28704</th>\n",
       "      <td>0.011811</td>\n",
       "      <td>44.06</td>\n",
       "      <td>35.06</td>\n",
       "      <td>2019</td>\n",
       "      <td>12</td>\n",
       "      <td>27</td>\n",
       "      <td>Cold</td>\n",
       "      <td>Damp</td>\n",
       "    </tr>\n",
       "    <tr>\n",
       "      <th>28705</th>\n",
       "      <td>0.019685</td>\n",
       "      <td>44.06</td>\n",
       "      <td>33.08</td>\n",
       "      <td>2019</td>\n",
       "      <td>12</td>\n",
       "      <td>28</td>\n",
       "      <td>Cold</td>\n",
       "      <td>Damp</td>\n",
       "    </tr>\n",
       "    <tr>\n",
       "      <th>28706</th>\n",
       "      <td>0.039370</td>\n",
       "      <td>46.94</td>\n",
       "      <td>35.96</td>\n",
       "      <td>2019</td>\n",
       "      <td>12</td>\n",
       "      <td>29</td>\n",
       "      <td>Cold</td>\n",
       "      <td>Damp</td>\n",
       "    </tr>\n",
       "    <tr>\n",
       "      <th>28707</th>\n",
       "      <td>0.000000</td>\n",
       "      <td>46.94</td>\n",
       "      <td>42.08</td>\n",
       "      <td>2019</td>\n",
       "      <td>12</td>\n",
       "      <td>30</td>\n",
       "      <td>Cold</td>\n",
       "      <td>Dry</td>\n",
       "    </tr>\n",
       "    <tr>\n",
       "      <th>28708</th>\n",
       "      <td>1.559055</td>\n",
       "      <td>51.98</td>\n",
       "      <td>44.06</td>\n",
       "      <td>2019</td>\n",
       "      <td>12</td>\n",
       "      <td>31</td>\n",
       "      <td>Cold</td>\n",
       "      <td>Really Wet</td>\n",
       "    </tr>\n",
       "  </tbody>\n",
       "</table>\n",
       "</div>"
      ],
      "text/plain": [
       "           PRCP   TMAX   TMIN    yr  mo  dy warmth     wetness\n",
       "28704  0.011811  44.06  35.06  2019  12  27   Cold        Damp\n",
       "28705  0.019685  44.06  33.08  2019  12  28   Cold        Damp\n",
       "28706  0.039370  46.94  35.96  2019  12  29   Cold        Damp\n",
       "28707  0.000000  46.94  42.08  2019  12  30   Cold         Dry\n",
       "28708  1.559055  51.98  44.06  2019  12  31   Cold  Really Wet"
      ]
     },
     "execution_count": 8,
     "metadata": {},
     "output_type": "execute_result"
    }
   ],
   "source": [
    "OAW2.tail()"
   ]
  },
  {
   "cell_type": "raw",
   "id": "7b6fdb80",
   "metadata": {},
   "source": [
    "Task 6\n",
    "Create a boolean variable, may19_bool. This variable is true if the value of mo is 5 and the value of dy is 19 in the dataframe."
   ]
  },
  {
   "cell_type": "code",
   "execution_count": 9,
   "id": "4c1600b5",
   "metadata": {},
   "outputs": [],
   "source": [
    "may19_bool = (OAW2['mo'] == 5) & (OAW2['dy'] == 19)"
   ]
  },
  {
   "cell_type": "raw",
   "id": "4822ed69",
   "metadata": {},
   "source": [
    "Task 7\n",
    "Use the boolean variable you just created to make a new dataframe may19_df by taking the correct days from OAW2. Use the method info() to verify your success. Is the number of rows correct? Do you still have all of the variables from the original dataframe?"
   ]
  },
  {
   "cell_type": "code",
   "execution_count": 10,
   "id": "121e8404",
   "metadata": {},
   "outputs": [
    {
     "name": "stdout",
     "output_type": "stream",
     "text": [
      "<class 'pandas.core.frame.DataFrame'>\n",
      "Index: 79 entries, 7 to 28482\n",
      "Data columns (total 8 columns):\n",
      " #   Column   Non-Null Count  Dtype  \n",
      "---  ------   --------------  -----  \n",
      " 0   PRCP     79 non-null     float64\n",
      " 1   TMAX     79 non-null     float64\n",
      " 2   TMIN     79 non-null     float64\n",
      " 3   yr       79 non-null     int64  \n",
      " 4   mo       79 non-null     int64  \n",
      " 5   dy       79 non-null     int64  \n",
      " 6   warmth   79 non-null     object \n",
      " 7   wetness  79 non-null     object \n",
      "dtypes: float64(3), int64(3), object(2)\n",
      "memory usage: 5.6+ KB\n"
     ]
    }
   ],
   "source": [
    "may19_df = OAW2[may19_bool]\n",
    "may19_df.info()"
   ]
  },
  {
   "cell_type": "raw",
   "id": "ff8e9d78",
   "metadata": {},
   "source": [
    "Task 8\n",
    "Use head() and tail() to examine the dataframe."
   ]
  },
  {
   "cell_type": "code",
   "execution_count": 11,
   "id": "3ee8f6fd",
   "metadata": {},
   "outputs": [
    {
     "data": {
      "text/html": [
       "<div>\n",
       "<style scoped>\n",
       "    .dataframe tbody tr th:only-of-type {\n",
       "        vertical-align: middle;\n",
       "    }\n",
       "\n",
       "    .dataframe tbody tr th {\n",
       "        vertical-align: top;\n",
       "    }\n",
       "\n",
       "    .dataframe thead th {\n",
       "        text-align: right;\n",
       "    }\n",
       "</style>\n",
       "<table border=\"1\" class=\"dataframe\">\n",
       "  <thead>\n",
       "    <tr style=\"text-align: right;\">\n",
       "      <th></th>\n",
       "      <th>PRCP</th>\n",
       "      <th>TMAX</th>\n",
       "      <th>TMIN</th>\n",
       "      <th>yr</th>\n",
       "      <th>mo</th>\n",
       "      <th>dy</th>\n",
       "      <th>warmth</th>\n",
       "      <th>wetness</th>\n",
       "    </tr>\n",
       "  </thead>\n",
       "  <tbody>\n",
       "    <tr>\n",
       "      <th>7</th>\n",
       "      <td>0.000000</td>\n",
       "      <td>57.92</td>\n",
       "      <td>39.92</td>\n",
       "      <td>1941</td>\n",
       "      <td>5</td>\n",
       "      <td>19</td>\n",
       "      <td>Cold</td>\n",
       "      <td>Dry</td>\n",
       "    </tr>\n",
       "    <tr>\n",
       "      <th>372</th>\n",
       "      <td>0.200787</td>\n",
       "      <td>64.04</td>\n",
       "      <td>51.08</td>\n",
       "      <td>1942</td>\n",
       "      <td>5</td>\n",
       "      <td>19</td>\n",
       "      <td>Warm</td>\n",
       "      <td>Really Wet</td>\n",
       "    </tr>\n",
       "    <tr>\n",
       "      <th>737</th>\n",
       "      <td>0.000000</td>\n",
       "      <td>75.92</td>\n",
       "      <td>39.92</td>\n",
       "      <td>1943</td>\n",
       "      <td>5</td>\n",
       "      <td>19</td>\n",
       "      <td>Warm</td>\n",
       "      <td>Dry</td>\n",
       "    </tr>\n",
       "    <tr>\n",
       "      <th>1103</th>\n",
       "      <td>0.011811</td>\n",
       "      <td>64.94</td>\n",
       "      <td>42.08</td>\n",
       "      <td>1944</td>\n",
       "      <td>5</td>\n",
       "      <td>19</td>\n",
       "      <td>Warm</td>\n",
       "      <td>Damp</td>\n",
       "    </tr>\n",
       "    <tr>\n",
       "      <th>1468</th>\n",
       "      <td>0.090551</td>\n",
       "      <td>62.06</td>\n",
       "      <td>44.96</td>\n",
       "      <td>1945</td>\n",
       "      <td>5</td>\n",
       "      <td>19</td>\n",
       "      <td>Warm</td>\n",
       "      <td>Damp</td>\n",
       "    </tr>\n",
       "  </tbody>\n",
       "</table>\n",
       "</div>"
      ],
      "text/plain": [
       "          PRCP   TMAX   TMIN    yr  mo  dy warmth     wetness\n",
       "7     0.000000  57.92  39.92  1941   5  19   Cold         Dry\n",
       "372   0.200787  64.04  51.08  1942   5  19   Warm  Really Wet\n",
       "737   0.000000  75.92  39.92  1943   5  19   Warm         Dry\n",
       "1103  0.011811  64.94  42.08  1944   5  19   Warm        Damp\n",
       "1468  0.090551  62.06  44.96  1945   5  19   Warm        Damp"
      ]
     },
     "execution_count": 11,
     "metadata": {},
     "output_type": "execute_result"
    }
   ],
   "source": [
    "may19_df.head()"
   ]
  },
  {
   "cell_type": "code",
   "execution_count": 12,
   "id": "7363d3c5",
   "metadata": {},
   "outputs": [
    {
     "data": {
      "text/html": [
       "<div>\n",
       "<style scoped>\n",
       "    .dataframe tbody tr th:only-of-type {\n",
       "        vertical-align: middle;\n",
       "    }\n",
       "\n",
       "    .dataframe tbody tr th {\n",
       "        vertical-align: top;\n",
       "    }\n",
       "\n",
       "    .dataframe thead th {\n",
       "        text-align: right;\n",
       "    }\n",
       "</style>\n",
       "<table border=\"1\" class=\"dataframe\">\n",
       "  <thead>\n",
       "    <tr style=\"text-align: right;\">\n",
       "      <th></th>\n",
       "      <th>PRCP</th>\n",
       "      <th>TMAX</th>\n",
       "      <th>TMIN</th>\n",
       "      <th>yr</th>\n",
       "      <th>mo</th>\n",
       "      <th>dy</th>\n",
       "      <th>warmth</th>\n",
       "      <th>wetness</th>\n",
       "    </tr>\n",
       "  </thead>\n",
       "  <tbody>\n",
       "    <tr>\n",
       "      <th>27021</th>\n",
       "      <td>0.000000</td>\n",
       "      <td>69.08</td>\n",
       "      <td>50.00</td>\n",
       "      <td>2015</td>\n",
       "      <td>5</td>\n",
       "      <td>19</td>\n",
       "      <td>Warm</td>\n",
       "      <td>Dry</td>\n",
       "    </tr>\n",
       "    <tr>\n",
       "      <th>27387</th>\n",
       "      <td>0.031496</td>\n",
       "      <td>57.92</td>\n",
       "      <td>44.96</td>\n",
       "      <td>2016</td>\n",
       "      <td>5</td>\n",
       "      <td>19</td>\n",
       "      <td>Cold</td>\n",
       "      <td>Damp</td>\n",
       "    </tr>\n",
       "    <tr>\n",
       "      <th>27752</th>\n",
       "      <td>0.000000</td>\n",
       "      <td>69.08</td>\n",
       "      <td>51.08</td>\n",
       "      <td>2017</td>\n",
       "      <td>5</td>\n",
       "      <td>19</td>\n",
       "      <td>Warm</td>\n",
       "      <td>Dry</td>\n",
       "    </tr>\n",
       "    <tr>\n",
       "      <th>28117</th>\n",
       "      <td>0.000000</td>\n",
       "      <td>69.98</td>\n",
       "      <td>53.06</td>\n",
       "      <td>2018</td>\n",
       "      <td>5</td>\n",
       "      <td>19</td>\n",
       "      <td>Warm</td>\n",
       "      <td>Dry</td>\n",
       "    </tr>\n",
       "    <tr>\n",
       "      <th>28482</th>\n",
       "      <td>0.228346</td>\n",
       "      <td>64.94</td>\n",
       "      <td>51.98</td>\n",
       "      <td>2019</td>\n",
       "      <td>5</td>\n",
       "      <td>19</td>\n",
       "      <td>Warm</td>\n",
       "      <td>Really Wet</td>\n",
       "    </tr>\n",
       "  </tbody>\n",
       "</table>\n",
       "</div>"
      ],
      "text/plain": [
       "           PRCP   TMAX   TMIN    yr  mo  dy warmth     wetness\n",
       "27021  0.000000  69.08  50.00  2015   5  19   Warm         Dry\n",
       "27387  0.031496  57.92  44.96  2016   5  19   Cold        Damp\n",
       "27752  0.000000  69.08  51.08  2017   5  19   Warm         Dry\n",
       "28117  0.000000  69.98  53.06  2018   5  19   Warm         Dry\n",
       "28482  0.228346  64.94  51.98  2019   5  19   Warm  Really Wet"
      ]
     },
     "execution_count": 12,
     "metadata": {},
     "output_type": "execute_result"
    }
   ],
   "source": [
    "may19_df.tail()"
   ]
  },
  {
   "cell_type": "raw",
   "id": "650faf24",
   "metadata": {},
   "source": [
    "Task 9\n",
    "Use the method decribe() to create a \"statistical weather report\" for May 19."
   ]
  },
  {
   "cell_type": "code",
   "execution_count": 13,
   "id": "a79e669c",
   "metadata": {},
   "outputs": [
    {
     "data": {
      "text/html": [
       "<div>\n",
       "<style scoped>\n",
       "    .dataframe tbody tr th:only-of-type {\n",
       "        vertical-align: middle;\n",
       "    }\n",
       "\n",
       "    .dataframe tbody tr th {\n",
       "        vertical-align: top;\n",
       "    }\n",
       "\n",
       "    .dataframe thead th {\n",
       "        text-align: right;\n",
       "    }\n",
       "</style>\n",
       "<table border=\"1\" class=\"dataframe\">\n",
       "  <thead>\n",
       "    <tr style=\"text-align: right;\">\n",
       "      <th></th>\n",
       "      <th>PRCP</th>\n",
       "      <th>TMAX</th>\n",
       "      <th>TMIN</th>\n",
       "      <th>yr</th>\n",
       "      <th>mo</th>\n",
       "      <th>dy</th>\n",
       "    </tr>\n",
       "  </thead>\n",
       "  <tbody>\n",
       "    <tr>\n",
       "      <th>count</th>\n",
       "      <td>79.000000</td>\n",
       "      <td>79.000000</td>\n",
       "      <td>79.000000</td>\n",
       "      <td>79.000000</td>\n",
       "      <td>79.0</td>\n",
       "      <td>79.0</td>\n",
       "    </tr>\n",
       "    <tr>\n",
       "      <th>mean</th>\n",
       "      <td>0.091498</td>\n",
       "      <td>66.462025</td>\n",
       "      <td>43.084810</td>\n",
       "      <td>1980.000000</td>\n",
       "      <td>5.0</td>\n",
       "      <td>19.0</td>\n",
       "    </tr>\n",
       "    <tr>\n",
       "      <th>std</th>\n",
       "      <td>0.193355</td>\n",
       "      <td>7.331140</td>\n",
       "      <td>5.877334</td>\n",
       "      <td>22.949219</td>\n",
       "      <td>0.0</td>\n",
       "      <td>0.0</td>\n",
       "    </tr>\n",
       "    <tr>\n",
       "      <th>min</th>\n",
       "      <td>0.000000</td>\n",
       "      <td>53.060000</td>\n",
       "      <td>30.920000</td>\n",
       "      <td>1941.000000</td>\n",
       "      <td>5.0</td>\n",
       "      <td>19.0</td>\n",
       "    </tr>\n",
       "    <tr>\n",
       "      <th>25%</th>\n",
       "      <td>0.000000</td>\n",
       "      <td>61.520000</td>\n",
       "      <td>39.470000</td>\n",
       "      <td>1960.500000</td>\n",
       "      <td>5.0</td>\n",
       "      <td>19.0</td>\n",
       "    </tr>\n",
       "    <tr>\n",
       "      <th>50%</th>\n",
       "      <td>0.000000</td>\n",
       "      <td>66.020000</td>\n",
       "      <td>42.980000</td>\n",
       "      <td>1980.000000</td>\n",
       "      <td>5.0</td>\n",
       "      <td>19.0</td>\n",
       "    </tr>\n",
       "    <tr>\n",
       "      <th>75%</th>\n",
       "      <td>0.090551</td>\n",
       "      <td>71.060000</td>\n",
       "      <td>46.940000</td>\n",
       "      <td>1999.500000</td>\n",
       "      <td>5.0</td>\n",
       "      <td>19.0</td>\n",
       "    </tr>\n",
       "    <tr>\n",
       "      <th>max</th>\n",
       "      <td>0.811024</td>\n",
       "      <td>86.000000</td>\n",
       "      <td>55.040000</td>\n",
       "      <td>2019.000000</td>\n",
       "      <td>5.0</td>\n",
       "      <td>19.0</td>\n",
       "    </tr>\n",
       "  </tbody>\n",
       "</table>\n",
       "</div>"
      ],
      "text/plain": [
       "            PRCP       TMAX       TMIN           yr    mo    dy\n",
       "count  79.000000  79.000000  79.000000    79.000000  79.0  79.0\n",
       "mean    0.091498  66.462025  43.084810  1980.000000   5.0  19.0\n",
       "std     0.193355   7.331140   5.877334    22.949219   0.0   0.0\n",
       "min     0.000000  53.060000  30.920000  1941.000000   5.0  19.0\n",
       "25%     0.000000  61.520000  39.470000  1960.500000   5.0  19.0\n",
       "50%     0.000000  66.020000  42.980000  1980.000000   5.0  19.0\n",
       "75%     0.090551  71.060000  46.940000  1999.500000   5.0  19.0\n",
       "max     0.811024  86.000000  55.040000  2019.000000   5.0  19.0"
      ]
     },
     "execution_count": 13,
     "metadata": {},
     "output_type": "execute_result"
    }
   ],
   "source": [
    "may19_df.describe()"
   ]
  },
  {
   "cell_type": "code",
   "execution_count": 14,
   "id": "450cd674",
   "metadata": {},
   "outputs": [
    {
     "data": {
      "text/html": [
       "<div>\n",
       "<style scoped>\n",
       "    .dataframe tbody tr th:only-of-type {\n",
       "        vertical-align: middle;\n",
       "    }\n",
       "\n",
       "    .dataframe tbody tr th {\n",
       "        vertical-align: top;\n",
       "    }\n",
       "\n",
       "    .dataframe thead th {\n",
       "        text-align: right;\n",
       "    }\n",
       "</style>\n",
       "<table border=\"1\" class=\"dataframe\">\n",
       "  <thead>\n",
       "    <tr style=\"text-align: right;\">\n",
       "      <th></th>\n",
       "      <th>PRCP</th>\n",
       "      <th>TMAX</th>\n",
       "      <th>TMIN</th>\n",
       "    </tr>\n",
       "  </thead>\n",
       "  <tbody>\n",
       "    <tr>\n",
       "      <th>count</th>\n",
       "      <td>79.000000</td>\n",
       "      <td>79.000000</td>\n",
       "      <td>79.000000</td>\n",
       "    </tr>\n",
       "    <tr>\n",
       "      <th>mean</th>\n",
       "      <td>0.091498</td>\n",
       "      <td>66.462025</td>\n",
       "      <td>43.084810</td>\n",
       "    </tr>\n",
       "    <tr>\n",
       "      <th>std</th>\n",
       "      <td>0.193355</td>\n",
       "      <td>7.331140</td>\n",
       "      <td>5.877334</td>\n",
       "    </tr>\n",
       "    <tr>\n",
       "      <th>min</th>\n",
       "      <td>0.000000</td>\n",
       "      <td>53.060000</td>\n",
       "      <td>30.920000</td>\n",
       "    </tr>\n",
       "    <tr>\n",
       "      <th>25%</th>\n",
       "      <td>0.000000</td>\n",
       "      <td>61.520000</td>\n",
       "      <td>39.470000</td>\n",
       "    </tr>\n",
       "    <tr>\n",
       "      <th>50%</th>\n",
       "      <td>0.000000</td>\n",
       "      <td>66.020000</td>\n",
       "      <td>42.980000</td>\n",
       "    </tr>\n",
       "    <tr>\n",
       "      <th>75%</th>\n",
       "      <td>0.090551</td>\n",
       "      <td>71.060000</td>\n",
       "      <td>46.940000</td>\n",
       "    </tr>\n",
       "    <tr>\n",
       "      <th>max</th>\n",
       "      <td>0.811024</td>\n",
       "      <td>86.000000</td>\n",
       "      <td>55.040000</td>\n",
       "    </tr>\n",
       "  </tbody>\n",
       "</table>\n",
       "</div>"
      ],
      "text/plain": [
       "            PRCP       TMAX       TMIN\n",
       "count  79.000000  79.000000  79.000000\n",
       "mean    0.091498  66.462025  43.084810\n",
       "std     0.193355   7.331140   5.877334\n",
       "min     0.000000  53.060000  30.920000\n",
       "25%     0.000000  61.520000  39.470000\n",
       "50%     0.000000  66.020000  42.980000\n",
       "75%     0.090551  71.060000  46.940000\n",
       "max     0.811024  86.000000  55.040000"
      ]
     },
     "execution_count": 14,
     "metadata": {},
     "output_type": "execute_result"
    }
   ],
   "source": [
    "may19_df[[\"PRCP\", \"TMAX\", \"TMIN\"]].describe()"
   ]
  },
  {
   "cell_type": "raw",
   "id": "591f0107",
   "metadata": {},
   "source": [
    "Task 11\n",
    "Encapsulate the code above into a function weather_report(mo, dy). This function is void. It's parameters give a month and a day. The function prints the results of the describe() method for the given date. Test your function with the fourth of July."
   ]
  },
  {
   "cell_type": "code",
   "execution_count": 15,
   "id": "851b4663",
   "metadata": {},
   "outputs": [
    {
     "name": "stdout",
     "output_type": "stream",
     "text": [
      "Weather Report for  7 / 4\n",
      " \n",
      "            PRCP       TMAX       TMIN\n",
      "count  79.000000  79.000000  79.000000\n",
      "mean    0.023722  74.760253  49.223038\n",
      "std     0.064544   7.931412   4.077679\n",
      "min     0.000000  60.980000  39.920000\n",
      "25%     0.000000  68.540000  46.040000\n",
      "50%     0.000000  73.940000  50.000000\n",
      "75%     0.000000  80.060000  51.980000\n",
      "max     0.381890  93.020000  57.920000\n"
     ]
    }
   ],
   "source": [
    "def weather_report(mo, dy):\n",
    "    the_bool = (OAW2[\"mo\"] == mo) & (OAW2[\"dy\"] == dy)\n",
    "    df = OAW2[the_bool]\n",
    "    print(\"Weather Report for \", str(mo),'/',str(dy))\n",
    "    print(\" \")\n",
    "    print(df[[\"PRCP\",\"TMAX\",\"TMIN\"]].describe())\n",
    "    \n",
    "weather_report(7,4)"
   ]
  },
  {
   "cell_type": "raw",
   "id": "10cb537e",
   "metadata": {},
   "source": [
    "Graphics\n",
    "We can use the seaborn and matplolib modules to produce graphical distributions of a selected variable as an alternative to the numerical forecast."
   ]
  },
  {
   "cell_type": "code",
   "execution_count": 16,
   "id": "aec98401",
   "metadata": {},
   "outputs": [
    {
     "data": {
      "image/png": "[encoded data removed]",
      "text/plain": [
       "<Figure size 640x480 with 1 Axes>"
      ]
     },
     "metadata": {},
     "output_type": "display_data"
    },
    {
     "data": {
      "image/png": "[encoded data removed]",
      "text/plain": [
       "<Figure size 640x480 with 1 Axes>"
      ]
     },
     "metadata": {},
     "output_type": "display_data"
    }
   ],
   "source": [
    "# Get basic graphics\n",
    "import matplotlib.pyplot as plt\n",
    "\n",
    "# Get better graphics\n",
    "import seaborn as sns\n",
    "\n",
    "def graphical_report(mo, dy,var):\n",
    "    the_bool = (OAW2[\"mo\"] == mo) & (OAW2[\"dy\"] == dy)\n",
    "    df = OAW2[the_bool]\n",
    "    label = \"Histogram of \" + var + \" for \" +str(mo)+'/'+ str(dy)\n",
    "    plt.hist(df[var])\n",
    "    plt.title(label)\n",
    "    # The seaborn\n",
    "    #sns.histplot(data=df, x=var).set(title = label)\n",
    "    plt.show()\n",
    "\n",
    "graphical_report(6,25,\"PRCP\")\n",
    "graphical_report(6,25,\"TMAX\")"
   ]
  },
  {
   "cell_type": "raw",
   "id": "3e0560b9",
   "metadata": {},
   "source": [
    "A Trellis Graph\n",
    "Seaborn can produce a graph showing the distribution of a quantitative variable like TMAX for each value of a categorical variable like mo."
   ]
  },
  {
   "cell_type": "raw",
   "id": "d2f04321",
   "metadata": {},
   "source": [
    "g = sns.FacetGrid(OAW2, col=\"mo\", height=3, aspect=1.2,col_wrap=3)\n",
    "g.map(sns.histplot, \"TMAX\",bins=10)"
   ]
  },
  {
   "cell_type": "code",
   "execution_count": null,
   "id": "d114aa21",
   "metadata": {},
   "outputs": [],
   "source": []
  }
 ],
 "metadata": {
  "kernelspec": {
   "display_name": "Python 3 (ipykernel)",
   "language": "python",
   "name": "python3"
  },
  "language_info": {
   "codemirror_mode": {
    "name": "ipython",
    "version": 3
   },
   "file_extension": ".py",
   "mimetype": "text/x-python",
   "name": "python",
   "nbconvert_exporter": "python",
   "pygments_lexer": "ipython3",
   "version": "3.11.7"
  }
 },
 "nbformat": 4,
 "nbformat_minor": 5
}
