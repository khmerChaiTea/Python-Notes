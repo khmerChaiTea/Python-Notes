{
 "cells": [
  {
   "cell_type": "markdown",
   "id": "1ba93083",
   "metadata": {},
   "source": [
    "The Assignment Statement\n",
    "An assignment statement has the name of a single variable (until we introduce tuples) on the left-hand side, an \"=\" in the middle and a valid expression on the right-hand side. The expression may be a single constant.\n",
    "\n",
    "The expression is evaluated and the resulting value is assigned to the named variable. The variable has this value until it is explicitly changed."
   ]
  },
  {
   "cell_type": "code",
   "execution_count": 1,
   "id": "3cea0220",
   "metadata": {},
   "outputs": [
    {
     "name": "stdout",
     "output_type": "stream",
     "text": [
      "3\n",
      "4\n"
     ]
    }
   ],
   "source": [
    "# Example\n",
    "x = 3 \n",
    "print(x)\n",
    "x = 4\n",
    "print(x)"
   ]
  },
  {
   "cell_type": "code",
   "execution_count": 2,
   "id": "b60343ff",
   "metadata": {},
   "outputs": [
    {
     "ename": "SyntaxError",
     "evalue": "cannot assign to expression here. Maybe you meant '==' instead of '='? (4234773355.py, line 2)",
     "output_type": "error",
     "traceback": [
      "\u001b[1;36m  Cell \u001b[1;32mIn[2], line 2\u001b[1;36m\u001b[0m\n\u001b[1;33m    x + 1 = 3\u001b[0m\n\u001b[1;37m    ^\u001b[0m\n\u001b[1;31mSyntaxError\u001b[0m\u001b[1;31m:\u001b[0m cannot assign to expression here. Maybe you meant '==' instead of '='?\n"
     ]
    }
   ],
   "source": [
    "# Example: A failure\n",
    "x + 1 = 3"
   ]
  },
  {
   "cell_type": "code",
   "execution_count": 3,
   "id": "6497c167",
   "metadata": {},
   "outputs": [
    {
     "name": "stdout",
     "output_type": "stream",
     "text": [
      "5\n"
     ]
    }
   ],
   "source": [
    "# Example: Increment\n",
    "x = x + 1\n",
    "print(x)"
   ]
  },
  {
   "cell_type": "code",
   "execution_count": 4,
   "id": "d9245ff3",
   "metadata": {},
   "outputs": [
    {
     "name": "stdout",
     "output_type": "stream",
     "text": [
      "25\n",
      "25\n"
     ]
    }
   ],
   "source": [
    "# Example: Not a permanent relationship\n",
    "y = x * x\n",
    "print(y)\n",
    "x = 1\n",
    "print(y)"
   ]
  },
  {
   "cell_type": "markdown",
   "id": "6ae4562c",
   "metadata": {},
   "source": [
    "Distinctions\n",
    "There are three kinds of things we are talking about.\n",
    "\n",
    "1. A name\n",
    "2. An object\n",
    "3. A value\n",
    "A name points to an object and is the only way you can access an object.\n",
    "\n",
    "An object has a value. It also has a type and an identity (location).\n",
    "\n",
    "When we say \"variable\", we are casually combining the ideas of name and object."
   ]
  },
  {
   "cell_type": "code",
   "execution_count": 5,
   "id": "477507ad",
   "metadata": {},
   "outputs": [
    {
     "name": "stdout",
     "output_type": "stream",
     "text": [
      "3\n",
      "<class 'int'>\n",
      "140717667435368\n"
     ]
    }
   ],
   "source": [
    "x = 3\n",
    "\n",
    "print(x)       # The value\n",
    "print(type(x)) # The type\n",
    "print(id(x))   # The identity"
   ]
  },
  {
   "cell_type": "code",
   "execution_count": 6,
   "id": "d9c8bcb5",
   "metadata": {},
   "outputs": [
    {
     "name": "stdout",
     "output_type": "stream",
     "text": [
      "4\n",
      "<class 'int'>\n",
      "140717667435400\n"
     ]
    }
   ],
   "source": [
    "x = x + 1\n",
    "\n",
    "print(x)       # The value\n",
    "print(type(x)) # The type\n",
    "print(id(x))   # The identity"
   ]
  },
  {
   "cell_type": "markdown",
   "id": "d324227a",
   "metadata": {},
   "source": [
    "What Happened?\n",
    "1. A new object was created.\n",
    "2. The old object was not given a new value.\n",
    "3. Access to the old object was lost and it became subject to garbage collection.\n",
    "4. The name was reused."
   ]
  },
  {
   "cell_type": "markdown",
   "id": "0c15dff9",
   "metadata": {},
   "source": [
    "Valid Numeric Constants\n",
    "Which of the following are valid? What is the type of each.\n",
    "\n",
    "2e12\n",
    "        2.\n",
    ".2\n",
    "9\n",
    "09"
   ]
  },
  {
   "cell_type": "code",
   "execution_count": 7,
   "id": "1c2bbadc",
   "metadata": {},
   "outputs": [
    {
     "name": "stdout",
     "output_type": "stream",
     "text": [
      "2000000000000.0\n",
      "<class 'float'>\n"
     ]
    }
   ],
   "source": [
    "x = 2e12\n",
    "print(x)\n",
    "print(type(x))"
   ]
  },
  {
   "cell_type": "code",
   "execution_count": 8,
   "id": "e92b2eea",
   "metadata": {},
   "outputs": [
    {
     "name": "stdout",
     "output_type": "stream",
     "text": [
      "2.0\n",
      "<class 'float'>\n"
     ]
    }
   ],
   "source": [
    "x = 2.\n",
    "print(x)\n",
    "print(type(x))"
   ]
  },
  {
   "cell_type": "code",
   "execution_count": 9,
   "id": "6493ac99",
   "metadata": {},
   "outputs": [
    {
     "name": "stdout",
     "output_type": "stream",
     "text": [
      "0.2\n",
      "<class 'float'>\n"
     ]
    }
   ],
   "source": [
    "x = .2\n",
    "print(x)\n",
    "print(type(x))"
   ]
  },
  {
   "cell_type": "code",
   "execution_count": 10,
   "id": "ddbe2a69",
   "metadata": {},
   "outputs": [
    {
     "name": "stdout",
     "output_type": "stream",
     "text": [
      "9\n",
      "<class 'int'>\n"
     ]
    }
   ],
   "source": [
    "x = 9\n",
    "print(x)\n",
    "print(type(x))"
   ]
  },
  {
   "cell_type": "code",
   "execution_count": 11,
   "id": "1e7a2890",
   "metadata": {},
   "outputs": [
    {
     "ename": "SyntaxError",
     "evalue": "leading zeros in decimal integer literals are not permitted; use an 0o prefix for octal integers (646741153.py, line 1)",
     "output_type": "error",
     "traceback": [
      "\u001b[1;36m  Cell \u001b[1;32mIn[11], line 1\u001b[1;36m\u001b[0m\n\u001b[1;33m    x = 09\u001b[0m\n\u001b[1;37m        ^\u001b[0m\n\u001b[1;31mSyntaxError\u001b[0m\u001b[1;31m:\u001b[0m leading zeros in decimal integer literals are not permitted; use an 0o prefix for octal integers\n"
     ]
    }
   ],
   "source": [
    "x = 09\n",
    "print(x)\n",
    "print(type(x))"
   ]
  },
  {
   "cell_type": "markdown",
   "id": "26c3bdbd",
   "metadata": {},
   "source": [
    "Task\n",
    "You want to write a mathematical expression to add 3 and 4 to get 7 and then multiply the result by 2 to get 14.\n",
    "\n",
    "Which of the following would work?\n",
    "\n",
    "3\n",
    "+\n",
    "4\n",
    "∗\n",
    "2\n",
    " \n",
    "or\n",
    "\n",
    "2\n",
    "∗\n",
    "(\n",
    "3\n",
    "+\n",
    "4\n",
    ")"
   ]
  },
  {
   "cell_type": "code",
   "execution_count": 12,
   "id": "8f87e4ca",
   "metadata": {},
   "outputs": [
    {
     "name": "stdout",
     "output_type": "stream",
     "text": [
      "11\n",
      "14\n"
     ]
    }
   ],
   "source": [
    "print(3 + 4 * 2)\n",
    "print(2 * (3 + 4))"
   ]
  },
  {
   "cell_type": "markdown",
   "id": "0bb0be66",
   "metadata": {},
   "source": [
    "Task\n",
    "Which two of the three following expressions are equal?\n",
    "\n",
    "5\n",
    "−\n",
    "3\n",
    "−\n",
    "2\n",
    " \n",
    "(\n",
    "5\n",
    "−\n",
    "3\n",
    ")\n",
    "−\n",
    "2\n",
    " \n",
    "5\n",
    "−\n",
    "(\n",
    "3\n",
    "−\n",
    "2\n",
    ")"
   ]
  },
  {
   "cell_type": "code",
   "execution_count": 13,
   "id": "5816fea7",
   "metadata": {},
   "outputs": [
    {
     "name": "stdout",
     "output_type": "stream",
     "text": [
      "0\n",
      "0\n",
      "4\n"
     ]
    }
   ],
   "source": [
    "print(5 - 3 - 2)\n",
    "print((5 - 3) - 2)\n",
    "print(5 - (3 - 2))"
   ]
  },
  {
   "cell_type": "markdown",
   "id": "36d304a6",
   "metadata": {},
   "source": [
    "Task\n",
    "Which two of the three following expressions are equal?\n",
    "\n",
    "5\n",
    "∗\n",
    "∗\n",
    "3\n",
    "∗\n",
    "∗\n",
    "2\n",
    " \n",
    "(\n",
    "5\n",
    "∗\n",
    "∗\n",
    "3\n",
    ")\n",
    "∗\n",
    "∗\n",
    "2\n",
    " \n",
    "5\n",
    "∗\n",
    "∗\n",
    "(\n",
    "3\n",
    "∗\n",
    "∗\n",
    "2\n",
    ")"
   ]
  },
  {
   "cell_type": "code",
   "execution_count": 14,
   "id": "689875a3",
   "metadata": {},
   "outputs": [
    {
     "name": "stdout",
     "output_type": "stream",
     "text": [
      "1953125\n",
      "15625\n",
      "1953125\n"
     ]
    }
   ],
   "source": [
    "print(5**3**2)\n",
    " \n",
    "print((5**3)**2)\n",
    " \n",
    "print(5**(3**2))"
   ]
  },
  {
   "cell_type": "markdown",
   "id": "730ef7b1",
   "metadata": {},
   "source": [
    "Task\n",
    "Is  \n",
    "−\n",
    "1\n",
    "2\n",
    "  the same as  \n",
    "(\n",
    "−\n",
    "1\n",
    ")\n",
    "∗\n",
    "(\n",
    "−\n",
    "1\n",
    ")\n",
    " ?"
   ]
  },
  {
   "cell_type": "code",
   "execution_count": 15,
   "id": "ea28387e",
   "metadata": {},
   "outputs": [
    {
     "name": "stdout",
     "output_type": "stream",
     "text": [
      "1\n",
      "-1\n"
     ]
    }
   ],
   "source": [
    "print((-1)*(-1))\n",
    "print(-1**2)"
   ]
  },
  {
   "cell_type": "markdown",
   "id": "ac4f2124",
   "metadata": {},
   "source": [
    "Question\n",
    "You've seen many examples of int(input()) because you want and expect a number as the result of the input() function, but it always returns a string.\n",
    "\n",
    "What happens if your user enters a number with a decimal point?"
   ]
  },
  {
   "cell_type": "code",
   "execution_count": 16,
   "id": "0b32c079",
   "metadata": {},
   "outputs": [
    {
     "name": "stdout",
     "output_type": "stream",
     "text": [
      "Give me a number 300.0\n"
     ]
    },
    {
     "ename": "ValueError",
     "evalue": "invalid literal for int() with base 10: '300.0'",
     "output_type": "error",
     "traceback": [
      "\u001b[1;31m---------------------------------------------------------------------------\u001b[0m",
      "\u001b[1;31mValueError\u001b[0m                                Traceback (most recent call last)",
      "Cell \u001b[1;32mIn[16], line 1\u001b[0m\n\u001b[1;32m----> 1\u001b[0m x \u001b[38;5;241m=\u001b[39m \u001b[38;5;28mint\u001b[39m(\u001b[38;5;28minput\u001b[39m(\u001b[38;5;124m\"\u001b[39m\u001b[38;5;124mGive me a number \u001b[39m\u001b[38;5;124m\"\u001b[39m))\n\u001b[0;32m      2\u001b[0m \u001b[38;5;28mprint\u001b[39m(x)\n",
      "\u001b[1;31mValueError\u001b[0m: invalid literal for int() with base 10: '300.0'"
     ]
    }
   ],
   "source": [
    "x = int(input(\"Give me a number \"))\n",
    "print(x)"
   ]
  },
  {
   "cell_type": "markdown",
   "id": "f2c2fb41",
   "metadata": {},
   "source": [
    "Follow Up\n",
    "In this case, you needed float(input()) instead of int(input()). Let's make sure that it works."
   ]
  },
  {
   "cell_type": "code",
   "execution_count": 17,
   "id": "2d630eb4",
   "metadata": {},
   "outputs": [
    {
     "name": "stdout",
     "output_type": "stream",
     "text": [
      "Give me a number 300.0\n",
      "300.0\n"
     ]
    }
   ],
   "source": [
    "x = float(input(\"Give me a number \"))\n",
    "print(x)"
   ]
  },
  {
   "cell_type": "markdown",
   "id": "64da086c",
   "metadata": {},
   "source": [
    "Hmmmm?\n",
    "Suppose you used float(input()) and your user gave you an int. What would happen?"
   ]
  },
  {
   "cell_type": "code",
   "execution_count": 18,
   "id": "0999413f",
   "metadata": {},
   "outputs": [
    {
     "name": "stdout",
     "output_type": "stream",
     "text": [
      "Give me a number 300\n",
      "300.0\n"
     ]
    }
   ],
   "source": [
    "x = float(input(\"Give me a number \"))\n",
    "print(x)"
   ]
  },
  {
   "cell_type": "markdown",
   "id": "0edd11b6",
   "metadata": {},
   "source": [
    "Compound Operators\n",
    "Use compound operators to carry out the following operations on a variable x, which is initially set to 1.0.\n",
    "\n",
    "Print the result after each step.\n",
    "\n",
    "1. Multiply x by 100\n",
    "2. Add 10 to x\n",
    "3. Subtract 20 from x\n",
    "4. Divide x by 2\n",
    "5. Raise x to the power .5"
   ]
  },
  {
   "cell_type": "code",
   "execution_count": 19,
   "id": "1a8526af",
   "metadata": {},
   "outputs": [
    {
     "name": "stdout",
     "output_type": "stream",
     "text": [
      "100.0\n",
      "110.0\n",
      "90.0\n",
      "45.0\n",
      "6.708203932499369\n"
     ]
    }
   ],
   "source": [
    "x = 1.0\n",
    "x *= 100\n",
    "print(x)\n",
    "x += 10\n",
    "print(x)\n",
    "x -= 20\n",
    "print(x)\n",
    "x /= 2\n",
    "print(x)\n",
    "x **= .5\n",
    "print(x)"
   ]
  },
  {
   "cell_type": "markdown",
   "id": "d4f498ae",
   "metadata": {},
   "source": [
    "Division of Integers.\n",
    "What will the following python program print?"
   ]
  },
  {
   "cell_type": "code",
   "execution_count": 20,
   "id": "bb3be018",
   "metadata": {},
   "outputs": [
    {
     "name": "stdout",
     "output_type": "stream",
     "text": [
      "1.6666666666666667\n",
      "1\n",
      "2\n"
     ]
    }
   ],
   "source": [
    "x = 5 / 3\n",
    "print(x)\n",
    "\n",
    "x = 5 // 3\n",
    "print(x)\n",
    "\n",
    "x = 5 % 3\n",
    "print(x)"
   ]
  },
  {
   "cell_type": "markdown",
   "id": "e95978d6",
   "metadata": {},
   "source": [
    "The math Module\n",
    "To access functions or constants in the math module, you must do two things.\n",
    "\n",
    "1. Import the math module.\n",
    "2. precede the item with math."
   ]
  },
  {
   "cell_type": "markdown",
   "id": "07d9b219",
   "metadata": {},
   "source": [
    "Will this work?"
   ]
  },
  {
   "cell_type": "code",
   "execution_count": 21,
   "id": "5ae874aa",
   "metadata": {},
   "outputs": [
    {
     "ename": "NameError",
     "evalue": "name 'sqrt' is not defined",
     "output_type": "error",
     "traceback": [
      "\u001b[1;31m---------------------------------------------------------------------------\u001b[0m",
      "\u001b[1;31mNameError\u001b[0m                                 Traceback (most recent call last)",
      "Cell \u001b[1;32mIn[21], line 1\u001b[0m\n\u001b[1;32m----> 1\u001b[0m x \u001b[38;5;241m=\u001b[39m sqrt(\u001b[38;5;241m2\u001b[39m)\n\u001b[0;32m      2\u001b[0m \u001b[38;5;28mprint\u001b[39m(x)\n",
      "\u001b[1;31mNameError\u001b[0m: name 'sqrt' is not defined"
     ]
    }
   ],
   "source": [
    "x = sqrt(2)\n",
    "print(x)"
   ]
  },
  {
   "cell_type": "markdown",
   "id": "4937dee0",
   "metadata": {},
   "source": [
    "Will this work?"
   ]
  },
  {
   "cell_type": "code",
   "execution_count": 22,
   "id": "406212b1",
   "metadata": {},
   "outputs": [
    {
     "ename": "NameError",
     "evalue": "name 'sqrt' is not defined",
     "output_type": "error",
     "traceback": [
      "\u001b[1;31m---------------------------------------------------------------------------\u001b[0m",
      "\u001b[1;31mNameError\u001b[0m                                 Traceback (most recent call last)",
      "Cell \u001b[1;32mIn[22], line 2\u001b[0m\n\u001b[0;32m      1\u001b[0m \u001b[38;5;28;01mimport\u001b[39;00m \u001b[38;5;21;01mmath\u001b[39;00m\n\u001b[1;32m----> 2\u001b[0m x \u001b[38;5;241m=\u001b[39m sqrt(\u001b[38;5;241m2\u001b[39m)\n\u001b[0;32m      3\u001b[0m \u001b[38;5;28mprint\u001b[39m(x)\n",
      "\u001b[1;31mNameError\u001b[0m: name 'sqrt' is not defined"
     ]
    }
   ],
   "source": [
    "import math\n",
    "x = sqrt(2)\n",
    "print(x)"
   ]
  },
  {
   "cell_type": "markdown",
   "id": "057310ca",
   "metadata": {},
   "source": [
    "Will this work?"
   ]
  },
  {
   "cell_type": "code",
   "execution_count": 23,
   "id": "4f372f3b",
   "metadata": {},
   "outputs": [
    {
     "name": "stdout",
     "output_type": "stream",
     "text": [
      "1.4142135623730951\n"
     ]
    }
   ],
   "source": [
    "import math\n",
    "x = math.sqrt(2)\n",
    "print(x)"
   ]
  },
  {
   "cell_type": "markdown",
   "id": "e6f190b7",
   "metadata": {},
   "source": [
    "Mysteries of Backslash\n",
    "What will the following lines of code print?"
   ]
  },
  {
   "cell_type": "code",
   "execution_count": 24,
   "id": "29d5671b",
   "metadata": {},
   "outputs": [
    {
     "name": "stdout",
     "output_type": "stream",
     "text": [
      "TomDickHarry\n",
      "Tom\n",
      "Dick\n",
      "Harry\n",
      "Tom\\nDick\\nHarry\n",
      "Tom\\\n",
      "Dick\\\n",
      "Harry\n"
     ]
    }
   ],
   "source": [
    "print(\"TomDickHarry\")\n",
    "print(\"Tom\\nDick\\nHarry\")\n",
    "print(\"Tom\\\\nDick\\\\nHarry\")\n",
    "print(\"Tom\\\\\\nDick\\\\\\nHarry\")"
   ]
  },
  {
   "cell_type": "code",
   "execution_count": null,
   "id": "4a94aab4",
   "metadata": {},
   "outputs": [],
   "source": []
  }
 ],
 "metadata": {
  "kernelspec": {
   "display_name": "Python 3 (ipykernel)",
   "language": "python",
   "name": "python3"
  },
  "language_info": {
   "codemirror_mode": {
    "name": "ipython",
    "version": 3
   },
   "file_extension": ".py",
   "mimetype": "text/x-python",
   "name": "python",
   "nbconvert_exporter": "python",
   "pygments_lexer": "ipython3",
   "version": "3.11.7"
  }
 },
 "nbformat": 4,
 "nbformat_minor": 5
}
